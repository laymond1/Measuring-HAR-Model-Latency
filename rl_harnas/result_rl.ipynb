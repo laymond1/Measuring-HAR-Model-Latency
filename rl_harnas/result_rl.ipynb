{
 "cells": [
  {
   "cell_type": "code",
   "execution_count": 1,
   "metadata": {},
   "outputs": [],
   "source": [
    "import os\n",
    "import sys\n",
    "import glob\n",
    "import numpy as np\n",
    "import pandas as pd\n",
    "import pickle"
   ]
  },
  {
   "attachments": {},
   "cell_type": "markdown",
   "metadata": {},
   "source": [
    "# RL HARNAS Results"
   ]
  },
  {
   "attachments": {},
   "cell_type": "markdown",
   "metadata": {},
   "source": [
    "## UCI"
   ]
  },
  {
   "cell_type": "code",
   "execution_count": 2,
   "metadata": {},
   "outputs": [],
   "source": [
    "uci_result_list = glob.glob('../result_rl/RLNAS/uci/test_*/ckpt_best.pkl')"
   ]
  },
  {
   "cell_type": "code",
   "execution_count": 3,
   "metadata": {},
   "outputs": [
    {
     "data": {
      "text/plain": [
       "['../result_rl/RLNAS/uci/test_rlnas_4/ckpt_best.pkl',\n",
       " '../result_rl/RLNAS/uci/test_rlnas_5/ckpt_best.pkl',\n",
       " '../result_rl/RLNAS/uci/test_rlnas_1/ckpt_best.pkl',\n",
       " '../result_rl/RLNAS/uci/test_rlnas_2/ckpt_best.pkl',\n",
       " '../result_rl/RLNAS/uci/test_rlnas_3/ckpt_best.pkl']"
      ]
     },
     "execution_count": 3,
     "metadata": {},
     "output_type": "execute_result"
    }
   ],
   "source": [
    "uci_result_list"
   ]
  },
  {
   "cell_type": "code",
   "execution_count": 4,
   "metadata": {},
   "outputs": [],
   "source": [
    "f1scores = []\n",
    "accuracies = []\n",
    "flops = []\n",
    "params = []\n",
    "\n",
    "for path in uci_result_list:\n",
    "    result = pd.read_pickle(path)\n",
    "    f1scores.append(result['f1score'])\n",
    "    accuracies.append(result['accuracy'])\n",
    "    flops.append(result['flops'])\n",
    "    params.append(result['params'])"
   ]
  },
  {
   "cell_type": "code",
   "execution_count": 5,
   "metadata": {},
   "outputs": [
    {
     "data": {
      "text/plain": [
       "354.363776"
      ]
     },
     "execution_count": 5,
     "metadata": {},
     "output_type": "execute_result"
    }
   ],
   "source": [
    "result['flops']"
   ]
  },
  {
   "cell_type": "code",
   "execution_count": 6,
   "metadata": {},
   "outputs": [
    {
     "name": "stdout",
     "output_type": "stream",
     "text": [
      "Average of 5 train/test runs\n",
      "RLNAS \n",
      "F1 score: 0.932 +/- 0.005\n",
      "Accuracy score: 0.932 +/- 0.005\n",
      "n. FLOPs: 354.364\n",
      "n. Params: 2.746\n"
     ]
    }
   ],
   "source": [
    "print('Average of {} train/test runs'.format(len(f1scores)))\n",
    "print('RLNAS ')\n",
    "print('F1 score: {:.3f} +/- {:.3f}'.format(np.mean(f1scores),np.std(f1scores)))\n",
    "print('Accuracy score: {:.3f} +/- {:.3f}'.format(np.mean(accuracies),np.std(accuracies)))\n",
    "print('n. FLOPs: {:.3f}'.format(np.mean(flops)))\n",
    "print('n. Params: {:.3f}'.format(np.mean(params)))"
   ]
  },
  {
   "cell_type": "code",
   "execution_count": 7,
   "metadata": {},
   "outputs": [
    {
     "name": "stdout",
     "output_type": "stream",
     "text": [
      "0th confusion matrix \n",
      "                    precision    recall  f1-score   support\n",
      "\n",
      "           WALKING     0.9800    0.9879    0.9839       496\n",
      "  WALKING_UPSTAIRS     0.9698    0.9533    0.9615       471\n",
      "WALKING_DOWNSTAIRS     0.9576    0.9690    0.9633       420\n",
      "           SITTING     0.8812    0.9063    0.8936       491\n",
      "          STANDING     0.8927    0.9380    0.9148       532\n",
      "            LAYING     0.9455    0.8715    0.9070       537\n",
      "\n",
      "          accuracy                         0.9359      2947\n",
      "         macro avg     0.9378    0.9377    0.9373      2947\n",
      "      weighted avg     0.9367    0.9359    0.9358      2947\n",
      "\n",
      "1th confusion matrix \n",
      "                    precision    recall  f1-score   support\n",
      "\n",
      "           WALKING     0.9854    0.9516    0.9682       496\n",
      "  WALKING_UPSTAIRS     0.9398    0.9618    0.9507       471\n",
      "WALKING_DOWNSTAIRS     0.9720    0.9905    0.9811       420\n",
      "           SITTING     0.8745    0.8941    0.8842       491\n",
      "          STANDING     0.8711    0.9398    0.9042       532\n",
      "            LAYING     0.9502    0.8529    0.8989       537\n",
      "\n",
      "          accuracy                         0.9291      2947\n",
      "         macro avg     0.9322    0.9318    0.9312      2947\n",
      "      weighted avg     0.9307    0.9291    0.9291      2947\n",
      "\n",
      "2th confusion matrix \n",
      "                    precision    recall  f1-score   support\n",
      "\n",
      "           WALKING     0.9876    0.9617    0.9745       496\n",
      "  WALKING_UPSTAIRS     0.9306    0.9682    0.9490       471\n",
      "WALKING_DOWNSTAIRS     0.9712    0.9619    0.9665       420\n",
      "           SITTING     0.8738    0.9022    0.8878       491\n",
      "          STANDING     0.8945    0.9248    0.9094       532\n",
      "            LAYING     0.9401    0.8771    0.9075       537\n",
      "\n",
      "          accuracy                         0.9308      2947\n",
      "         macro avg     0.9330    0.9326    0.9324      2947\n",
      "      weighted avg     0.9317    0.9308    0.9309      2947\n",
      "\n",
      "3th confusion matrix \n",
      "                    precision    recall  f1-score   support\n",
      "\n",
      "           WALKING     0.9938    0.9738    0.9837       496\n",
      "  WALKING_UPSTAIRS     0.9684    0.9745    0.9714       471\n",
      "WALKING_DOWNSTAIRS     0.9744    0.9976    0.9859       420\n",
      "           SITTING     0.8767    0.8982    0.8873       491\n",
      "          STANDING     0.8767    0.9492    0.9116       532\n",
      "            LAYING     0.9603    0.8547    0.9044       537\n",
      "\n",
      "          accuracy                         0.9386      2947\n",
      "         macro avg     0.9417    0.9413    0.9407      2947\n",
      "      weighted avg     0.9402    0.9386    0.9385      2947\n",
      "\n",
      "4th confusion matrix \n",
      "                    precision    recall  f1-score   support\n",
      "\n",
      "           WALKING     0.9873    0.9375    0.9617       496\n",
      "  WALKING_UPSTAIRS     0.9222    0.9809    0.9506       471\n",
      "WALKING_DOWNSTAIRS     0.9832    0.9738    0.9785       420\n",
      "           SITTING     0.8832    0.8473    0.8649       491\n",
      "          STANDING     0.8816    0.9380    0.9089       532\n",
      "            LAYING     0.9100    0.8845    0.8971       537\n",
      "\n",
      "          accuracy                         0.9250      2947\n",
      "         macro avg     0.9279    0.9270    0.9269      2947\n",
      "      weighted avg     0.9258    0.9250    0.9249      2947\n",
      "\n"
     ]
    }
   ],
   "source": [
    "for i, path in enumerate(uci_result_list):\n",
    "    result = pd.read_pickle(path)\n",
    "    conf_mat = result['conf_mat']\n",
    "    print(f'{i}th confusion matrix \\n{conf_mat}')"
   ]
  },
  {
   "attachments": {},
   "cell_type": "markdown",
   "metadata": {},
   "source": [
    "## UNI"
   ]
  },
  {
   "cell_type": "code",
   "execution_count": 10,
   "metadata": {},
   "outputs": [],
   "source": [
    "uni_result_list = glob.glob('../result_rl/RLNAS/uni/test_*/ckpt_best.pkl')"
   ]
  },
  {
   "cell_type": "code",
   "execution_count": 11,
   "metadata": {},
   "outputs": [
    {
     "data": {
      "text/plain": [
       "['../result_rl/RLNAS/uni/test_rlnas_4/ckpt_best.pkl',\n",
       " '../result_rl/RLNAS/uni/test_rlnas_5/ckpt_best.pkl',\n",
       " '../result_rl/RLNAS/uni/test_rlnas_1/ckpt_best.pkl',\n",
       " '../result_rl/RLNAS/uni/test_rlnas_2/ckpt_best.pkl',\n",
       " '../result_rl/RLNAS/uni/test_rlnas_3/ckpt_best.pkl']"
      ]
     },
     "execution_count": 11,
     "metadata": {},
     "output_type": "execute_result"
    }
   ],
   "source": [
    "uni_result_list"
   ]
  },
  {
   "cell_type": "code",
   "execution_count": 12,
   "metadata": {},
   "outputs": [],
   "source": [
    "f1scores = []\n",
    "accuracies = []\n",
    "flops = []\n",
    "params = []\n",
    "\n",
    "for path in uni_result_list:\n",
    "    result = pd.read_pickle(path)\n",
    "    f1scores.append(result['f1score'])\n",
    "    accuracies.append(result['accuracy'])\n",
    "    flops.append(result['flops'])\n",
    "    params.append(result['params'])"
   ]
  },
  {
   "cell_type": "code",
   "execution_count": 13,
   "metadata": {},
   "outputs": [
    {
     "data": {
      "text/plain": [
       "417.401088"
      ]
     },
     "execution_count": 13,
     "metadata": {},
     "output_type": "execute_result"
    }
   ],
   "source": [
    "result['flops']"
   ]
  },
  {
   "cell_type": "code",
   "execution_count": 14,
   "metadata": {},
   "outputs": [
    {
     "name": "stdout",
     "output_type": "stream",
     "text": [
      "Average of 5 train/test runs\n",
      "RLNAS \n",
      "F1 score: 0.898 +/- 0.004\n",
      "Accuracy score: 0.898 +/- 0.004\n",
      "n. FLOPs: 417.401\n",
      "n. Params: 2.746\n"
     ]
    }
   ],
   "source": [
    "print('Average of {} train/test runs'.format(len(f1scores)))\n",
    "print('RLNAS ')\n",
    "print('F1 score: {:.3f} +/- {:.3f}'.format(np.mean(f1scores),np.std(f1scores)))\n",
    "print('Accuracy score: {:.3f} +/- {:.3f}'.format(np.mean(accuracies),np.std(accuracies)))\n",
    "print('n. FLOPs: {:.3f}'.format(np.mean(flops)))\n",
    "print('n. Params: {:.3f}'.format(np.mean(params)))"
   ]
  },
  {
   "cell_type": "code",
   "execution_count": 15,
   "metadata": {},
   "outputs": [
    {
     "name": "stdout",
     "output_type": "stream",
     "text": [
      "0th confusion matrix \n",
      "                 precision    recall  f1-score   support\n",
      "\n",
      "   StandingUpFS     0.8750    0.8750    0.8750        16\n",
      "   StandingUpFL     0.8182    0.8571    0.8372        21\n",
      "        Walking     0.9885    0.9885    0.9885       174\n",
      "        Running     0.9950    1.0000    0.9975       199\n",
      "       GoingUpS     0.9565    0.9565    0.9565        92\n",
      "        Jumping     0.9867    1.0000    0.9933        74\n",
      "     GoingDownS     0.9771    0.9624    0.9697       133\n",
      "    LyingDownFS     0.8800    0.7586    0.8148        29\n",
      "    SittingDown     0.8182    0.9000    0.8571        20\n",
      "    FallingForw     0.7500    0.6792    0.7129        53\n",
      "   FallingRight     0.7500    0.7647    0.7573        51\n",
      "    FallingBack     0.7368    0.7925    0.7636        53\n",
      "HittingObstacle     0.8750    0.8485    0.8615        66\n",
      "  FallingWithPS     0.6863    0.7292    0.7071        48\n",
      "  FallingBackSC     0.9211    0.7955    0.8537        44\n",
      "        Syncope     0.5849    0.6078    0.5962        51\n",
      "    FallingLeft     0.7241    0.7778    0.7500        54\n",
      "\n",
      "       accuracy                         0.8905      1178\n",
      "      macro avg     0.8426    0.8408    0.8407      1178\n",
      "   weighted avg     0.8924    0.8905    0.8909      1178\n",
      "\n",
      "1th confusion matrix \n",
      "                 precision    recall  f1-score   support\n",
      "\n",
      "   StandingUpFS     0.9333    0.8750    0.9032        16\n",
      "   StandingUpFL     0.8421    0.7619    0.8000        21\n",
      "        Walking     0.9885    0.9885    0.9885       174\n",
      "        Running     1.0000    0.9950    0.9975       199\n",
      "       GoingUpS     0.9462    0.9565    0.9514        92\n",
      "        Jumping     0.9737    1.0000    0.9867        74\n",
      "     GoingDownS     0.9697    0.9624    0.9660       133\n",
      "    LyingDownFS     0.8929    0.8621    0.8772        29\n",
      "    SittingDown     0.8636    0.9500    0.9048        20\n",
      "    FallingForw     0.8043    0.6981    0.7475        53\n",
      "   FallingRight     0.7778    0.8235    0.8000        51\n",
      "    FallingBack     0.7667    0.8679    0.8142        53\n",
      "HittingObstacle     0.9355    0.8788    0.9062        66\n",
      "  FallingWithPS     0.7308    0.7917    0.7600        48\n",
      "  FallingBackSC     0.9211    0.7955    0.8537        44\n",
      "        Syncope     0.5667    0.6667    0.6126        51\n",
      "    FallingLeft     0.7959    0.7222    0.7573        54\n",
      "\n",
      "       accuracy                         0.9024      1178\n",
      "      macro avg     0.8652    0.8586    0.8604      1178\n",
      "   weighted avg     0.9058    0.9024    0.9031      1178\n",
      "\n",
      "2th confusion matrix \n",
      "                 precision    recall  f1-score   support\n",
      "\n",
      "   StandingUpFS     0.9412    1.0000    0.9697        16\n",
      "   StandingUpFL     0.8947    0.8095    0.8500        21\n",
      "        Walking     0.9943    0.9943    0.9943       174\n",
      "        Running     1.0000    0.9950    0.9975       199\n",
      "       GoingUpS     0.9670    0.9565    0.9617        92\n",
      "        Jumping     0.9867    1.0000    0.9933        74\n",
      "     GoingDownS     0.9627    0.9699    0.9663       133\n",
      "    LyingDownFS     0.8889    0.8276    0.8571        29\n",
      "    SittingDown     0.8571    0.9000    0.8780        20\n",
      "    FallingForw     0.7609    0.6604    0.7071        53\n",
      "   FallingRight     0.7273    0.7843    0.7547        51\n",
      "    FallingBack     0.8269    0.8113    0.8190        53\n",
      "HittingObstacle     0.8824    0.9091    0.8955        66\n",
      "  FallingWithPS     0.6731    0.7292    0.7000        48\n",
      "  FallingBackSC     0.9000    0.8182    0.8571        44\n",
      "        Syncope     0.6226    0.6471    0.6346        51\n",
      "    FallingLeft     0.7500    0.7778    0.7636        54\n",
      "\n",
      "       accuracy                         0.9007      1178\n",
      "      macro avg     0.8609    0.8582    0.8588      1178\n",
      "   weighted avg     0.9019    0.9007    0.9008      1178\n",
      "\n",
      "3th confusion matrix \n",
      "                 precision    recall  f1-score   support\n",
      "\n",
      "   StandingUpFS     1.0000    0.9375    0.9677        16\n",
      "   StandingUpFL     0.8696    0.9524    0.9091        21\n",
      "        Walking     0.9885    0.9885    0.9885       174\n",
      "        Running     0.9950    1.0000    0.9975       199\n",
      "       GoingUpS     0.9565    0.9565    0.9565        92\n",
      "        Jumping     0.9867    1.0000    0.9933        74\n",
      "     GoingDownS     0.9771    0.9624    0.9697       133\n",
      "    LyingDownFS     0.8571    0.8276    0.8421        29\n",
      "    SittingDown     0.8500    0.8500    0.8500        20\n",
      "    FallingForw     0.7708    0.6981    0.7327        53\n",
      "   FallingRight     0.7119    0.8235    0.7636        51\n",
      "    FallingBack     0.7500    0.7925    0.7706        53\n",
      "HittingObstacle     0.8806    0.8939    0.8872        66\n",
      "  FallingWithPS     0.6731    0.7292    0.7000        48\n",
      "  FallingBackSC     0.9714    0.7727    0.8608        44\n",
      "        Syncope     0.6957    0.6275    0.6598        51\n",
      "    FallingLeft     0.7193    0.7593    0.7387        54\n",
      "\n",
      "       accuracy                         0.8990      1178\n",
      "      macro avg     0.8620    0.8571    0.8581      1178\n",
      "   weighted avg     0.9011    0.8990    0.8991      1178\n",
      "\n",
      "4th confusion matrix \n",
      "                 precision    recall  f1-score   support\n",
      "\n",
      "   StandingUpFS     0.9375    0.9375    0.9375        16\n",
      "   StandingUpFL     0.8571    0.8571    0.8571        21\n",
      "        Walking     1.0000    0.9943    0.9971       174\n",
      "        Running     1.0000    1.0000    1.0000       199\n",
      "       GoingUpS     0.9889    0.9674    0.9780        92\n",
      "        Jumping     0.9867    1.0000    0.9933        74\n",
      "     GoingDownS     0.9704    0.9850    0.9776       133\n",
      "    LyingDownFS     0.8846    0.7931    0.8364        29\n",
      "    SittingDown     0.7727    0.8500    0.8095        20\n",
      "    FallingForw     0.7755    0.7170    0.7451        53\n",
      "   FallingRight     0.7255    0.7255    0.7255        51\n",
      "    FallingBack     0.8431    0.8113    0.8269        53\n",
      "HittingObstacle     0.8906    0.8636    0.8769        66\n",
      "  FallingWithPS     0.6852    0.7708    0.7255        48\n",
      "  FallingBackSC     0.8571    0.8182    0.8372        44\n",
      "        Syncope     0.5490    0.5490    0.5490        51\n",
      "    FallingLeft     0.7119    0.7778    0.7434        54\n",
      "\n",
      "       accuracy                         0.8973      1178\n",
      "      macro avg     0.8492    0.8481    0.8480      1178\n",
      "   weighted avg     0.8988    0.8973    0.8977      1178\n",
      "\n"
     ]
    }
   ],
   "source": [
    "for i, path in enumerate(uni_result_list):\n",
    "    result = pd.read_pickle(path)\n",
    "    conf_mat = result['conf_mat']\n",
    "    print(f'{i}th confusion matrix \\n{conf_mat}')"
   ]
  },
  {
   "attachments": {},
   "cell_type": "markdown",
   "metadata": {},
   "source": [
    "## KAR"
   ]
  },
  {
   "cell_type": "code",
   "execution_count": 16,
   "metadata": {},
   "outputs": [],
   "source": [
    "kar_result_list = glob.glob('../result_rl/RLNAS/kar/test_*/ckpt_best.pkl')"
   ]
  },
  {
   "cell_type": "code",
   "execution_count": 17,
   "metadata": {},
   "outputs": [
    {
     "data": {
      "text/plain": [
       "['../result_rl/RLNAS/kar/test_rlnas_4/ckpt_best.pkl',\n",
       " '../result_rl/RLNAS/kar/test_rlnas_5/ckpt_best.pkl',\n",
       " '../result_rl/RLNAS/kar/test_rlnas_1/ckpt_best.pkl',\n",
       " '../result_rl/RLNAS/kar/test_rlnas_2/ckpt_best.pkl',\n",
       " '../result_rl/RLNAS/kar/test_rlnas_3/ckpt_best.pkl']"
      ]
     },
     "execution_count": 17,
     "metadata": {},
     "output_type": "execute_result"
    }
   ],
   "source": [
    "kar_result_list"
   ]
  },
  {
   "cell_type": "code",
   "execution_count": 18,
   "metadata": {},
   "outputs": [],
   "source": [
    "f1scores = []\n",
    "accuracies = []\n",
    "flops = []\n",
    "params = []\n",
    "\n",
    "for path in kar_result_list:\n",
    "    result = pd.read_pickle(path)\n",
    "    f1scores.append(result['f1score'])\n",
    "    accuracies.append(result['accuracy'])\n",
    "    flops.append(result['flops'])\n",
    "    params.append(result['params'])"
   ]
  },
  {
   "cell_type": "code",
   "execution_count": 19,
   "metadata": {},
   "outputs": [
    {
     "data": {
      "text/plain": [
       "827.070848"
      ]
     },
     "execution_count": 19,
     "metadata": {},
     "output_type": "execute_result"
    }
   ],
   "source": [
    "result['flops']"
   ]
  },
  {
   "cell_type": "code",
   "execution_count": 20,
   "metadata": {},
   "outputs": [
    {
     "name": "stdout",
     "output_type": "stream",
     "text": [
      "Average of 5 train/test runs\n",
      "RLNAS \n",
      "F1 score: 0.804 +/- 0.013\n",
      "Accuracy score: 0.816 +/- 0.011\n",
      "n. FLOPs: 827.071\n",
      "n. Params: 2.747\n"
     ]
    }
   ],
   "source": [
    "print('Average of {} train/test runs'.format(len(f1scores)))\n",
    "print('RLNAS ')\n",
    "print('F1 score: {:.3f} +/- {:.3f}'.format(np.mean(f1scores),np.std(f1scores)))\n",
    "print('Accuracy score: {:.3f} +/- {:.3f}'.format(np.mean(accuracies),np.std(accuracies)))\n",
    "print('n. FLOPs: {:.3f}'.format(np.mean(flops)))\n",
    "print('n. Params: {:.3f}'.format(np.mean(params)))"
   ]
  },
  {
   "cell_type": "code",
   "execution_count": 22,
   "metadata": {},
   "outputs": [
    {
     "name": "stdout",
     "output_type": "stream",
     "text": [
      "0th confusion matrix \n",
      "              precision    recall  f1-score   support\n",
      "\n",
      "     walking     0.8943    0.8351    0.8637       770\n",
      "     jogging     0.7756    0.7715    0.7735       757\n",
      "      stairs     0.9197    0.9197    0.9197       685\n",
      "     sitting     0.9102    0.9763    0.9421       758\n",
      "    standing     0.9334    0.9736    0.9531       720\n",
      "      typing     0.7574    0.8063    0.7811       759\n",
      "       teeth     0.9724    0.9662    0.9693       621\n",
      "        soup     0.6037    0.9480    0.7377       442\n",
      "       chips     0.7824    0.4842    0.5982       349\n",
      "       pasta     0.8326    0.6780    0.7474       264\n",
      "    drinking     0.9716    0.8331    0.8971       863\n",
      "    sandwich     0.9779    0.7151    0.8261       186\n",
      "     kicking     0.8556    0.9390    0.8953        82\n",
      "       catch     0.9143    0.6957    0.7901        92\n",
      "   dribbling     0.7216    0.1174    0.2020       596\n",
      "     writing     0.7377    0.9934    0.8467       303\n",
      "    clapping     0.7909    0.9966    0.8819       296\n",
      "     folding     0.3561    1.0000    0.5252       198\n",
      "\n",
      "    accuracy                         0.8162      8741\n",
      "   macro avg     0.8171    0.8138    0.7861      8741\n",
      "weighted avg     0.8396    0.8162    0.8035      8741\n",
      "\n",
      "1th confusion matrix \n",
      "              precision    recall  f1-score   support\n",
      "\n",
      "     walking     0.8877    0.8416    0.8640       770\n",
      "     jogging     0.8308    0.7266    0.7752       757\n",
      "      stairs     0.9320    0.9197    0.9258       685\n",
      "     sitting     0.9089    0.9736    0.9401       758\n",
      "    standing     0.9374    0.9778    0.9572       720\n",
      "      typing     0.7467    0.8854    0.8101       759\n",
      "       teeth     0.9757    0.9694    0.9725       621\n",
      "        soup     0.7055    0.9321    0.8031       442\n",
      "       chips     0.8030    0.4670    0.5906       349\n",
      "       pasta     0.7241    0.7159    0.7200       264\n",
      "    drinking     0.9561    0.8575    0.9041       863\n",
      "    sandwich     0.9517    0.7419    0.8338       186\n",
      "     kicking     0.8875    0.8659    0.8765        82\n",
      "       catch     0.8689    0.5761    0.6928        92\n",
      "   dribbling     0.8613    0.3440    0.4916       596\n",
      "     writing     0.8016    0.9868    0.8846       303\n",
      "    clapping     0.6476    0.9932    0.7840       296\n",
      "     folding     0.4714    1.0000    0.6408       198\n",
      "\n",
      "    accuracy                         0.8358      8741\n",
      "   macro avg     0.8277    0.8208    0.8037      8741\n",
      "weighted avg     0.8542    0.8358    0.8293      8741\n",
      "\n",
      "2th confusion matrix \n",
      "              precision    recall  f1-score   support\n",
      "\n",
      "     walking     0.8772    0.8351    0.8556       770\n",
      "     jogging     0.7246    0.7543    0.7392       757\n",
      "      stairs     0.9311    0.8686    0.8988       685\n",
      "     sitting     0.8840    0.9749    0.9272       758\n",
      "    standing     0.9340    0.9833    0.9581       720\n",
      "      typing     0.7427    0.7760    0.7590       759\n",
      "       teeth     0.9757    0.9694    0.9725       621\n",
      "        soup     0.6246    0.9525    0.7545       442\n",
      "       chips     0.9486    0.4756    0.6336       349\n",
      "       pasta     0.6713    0.7348    0.7016       264\n",
      "    drinking     0.9712    0.7822    0.8665       863\n",
      "    sandwich     1.0000    0.7634    0.8659       186\n",
      "     kicking     0.9268    0.9268    0.9268        82\n",
      "       catch     0.8000    0.5652    0.6624        92\n",
      "   dribbling     0.8000    0.1141    0.1997       596\n",
      "     writing     0.6028    0.9967    0.7512       303\n",
      "    clapping     0.8420    0.9899    0.9099       296\n",
      "     folding     0.3762    0.9899    0.5452       198\n",
      "\n",
      "    accuracy                         0.8045      8741\n",
      "   macro avg     0.8129    0.8029    0.7738      8741\n",
      "weighted avg     0.8369    0.8045    0.7912      8741\n",
      "\n",
      "3th confusion matrix \n",
      "              precision    recall  f1-score   support\n",
      "\n",
      "     walking     0.8089    0.8299    0.8192       770\n",
      "     jogging     0.7861    0.7041    0.7429       757\n",
      "      stairs     0.8990    0.8964    0.8977       685\n",
      "     sitting     0.8233    0.9776    0.8938       758\n",
      "    standing     0.9239    0.9778    0.9501       720\n",
      "      typing     0.7558    0.8195    0.7863       759\n",
      "       teeth     0.9650    0.9758    0.9704       621\n",
      "        soup     0.5743    0.9615    0.7191       442\n",
      "       chips     0.7679    0.4928    0.6003       349\n",
      "       pasta     0.8150    0.7008    0.7536       264\n",
      "    drinking     0.9670    0.8158    0.8850       863\n",
      "    sandwich     0.9103    0.7634    0.8304       186\n",
      "     kicking     0.8902    0.8902    0.8902        82\n",
      "       catch     0.8333    0.5435    0.6579        92\n",
      "   dribbling     0.8320    0.1745    0.2885       596\n",
      "     writing     0.9177    0.9934    0.9540       303\n",
      "    clapping     0.7686    0.9764    0.8601       296\n",
      "     folding     0.4524    0.9848    0.6200       198\n",
      "\n",
      "    accuracy                         0.8121      8741\n",
      "   macro avg     0.8161    0.8043    0.7844      8741\n",
      "weighted avg     0.8326    0.8121    0.7992      8741\n",
      "\n",
      "4th confusion matrix \n",
      "              precision    recall  f1-score   support\n",
      "\n",
      "     walking     0.7937    0.8442    0.8181       770\n",
      "     jogging     0.7374    0.8534    0.7912       757\n",
      "      stairs     0.9409    0.9066    0.9234       685\n",
      "     sitting     0.9021    0.9723    0.9359       758\n",
      "    standing     0.9049    0.9778    0.9399       720\n",
      "      typing     0.7339    0.6759    0.7037       759\n",
      "       teeth     0.9758    0.9742    0.9750       621\n",
      "        soup     0.6012    0.9140    0.7253       442\n",
      "       chips     0.6840    0.5272    0.5955       349\n",
      "       pasta     0.6059    0.7045    0.6515       264\n",
      "    drinking     0.9490    0.7972    0.8665       863\n",
      "    sandwich     0.9843    0.6720    0.7987       186\n",
      "     kicking     0.8795    0.8902    0.8848        82\n",
      "       catch     0.8209    0.5978    0.6918        92\n",
      "   dribbling     0.9153    0.1812    0.3025       596\n",
      "     writing     0.8394    0.9835    0.9058       303\n",
      "    clapping     0.7406    0.9932    0.8485       296\n",
      "     folding     0.5625    1.0000    0.7200       198\n",
      "\n",
      "    accuracy                         0.8110      8741\n",
      "   macro avg     0.8095    0.8036    0.7821      8741\n",
      "weighted avg     0.8302    0.8110    0.7972      8741\n",
      "\n"
     ]
    }
   ],
   "source": [
    "for i, path in enumerate(kar_result_list):\n",
    "    result = pd.read_pickle(path)\n",
    "    conf_mat = result['conf_mat']\n",
    "    print(f'{i}th confusion matrix \\n{conf_mat}')"
   ]
  },
  {
   "attachments": {},
   "cell_type": "markdown",
   "metadata": {},
   "source": [
    "## WIS"
   ]
  },
  {
   "cell_type": "code",
   "execution_count": 21,
   "metadata": {},
   "outputs": [],
   "source": [
    "wis_result_list = glob.glob('../result_rl/RLNAS/wis/test_*/ckpt_best.pkl')"
   ]
  },
  {
   "cell_type": "code",
   "execution_count": 22,
   "metadata": {},
   "outputs": [
    {
     "data": {
      "text/plain": [
       "['../result_rl/RLNAS/wis/test_rlnas_4/ckpt_best.pkl',\n",
       " '../result_rl/RLNAS/wis/test_rlnas_5/ckpt_best.pkl',\n",
       " '../result_rl/RLNAS/wis/test_rlnas_1/ckpt_best.pkl',\n",
       " '../result_rl/RLNAS/wis/test_rlnas_2/ckpt_best.pkl',\n",
       " '../result_rl/RLNAS/wis/test_rlnas_3/ckpt_best.pkl']"
      ]
     },
     "execution_count": 22,
     "metadata": {},
     "output_type": "execute_result"
    }
   ],
   "source": [
    "wis_result_list"
   ]
  },
  {
   "cell_type": "code",
   "execution_count": 23,
   "metadata": {},
   "outputs": [],
   "source": [
    "f1scores = []\n",
    "accuracies = []\n",
    "flops = []\n",
    "params = []\n",
    "\n",
    "for path in wis_result_list:\n",
    "    result = pd.read_pickle(path)\n",
    "    f1scores.append(result['f1score'])\n",
    "    accuracies.append(result['accuracy'])\n",
    "    flops.append(result['flops'])\n",
    "    params.append(result['params'])"
   ]
  },
  {
   "cell_type": "code",
   "execution_count": 24,
   "metadata": {},
   "outputs": [
    {
     "data": {
      "text/plain": [
       "167.410304"
      ]
     },
     "execution_count": 24,
     "metadata": {},
     "output_type": "execute_result"
    }
   ],
   "source": [
    "result['flops']"
   ]
  },
  {
   "cell_type": "code",
   "execution_count": 25,
   "metadata": {},
   "outputs": [
    {
     "name": "stdout",
     "output_type": "stream",
     "text": [
      "Average of 5 train/test runs\n",
      "RLNAS \n",
      "F1 score: 0.858 +/- 0.001\n",
      "Accuracy score: 0.858 +/- 0.002\n",
      "n. FLOPs: 167.410\n",
      "n. Params: 2.744\n"
     ]
    }
   ],
   "source": [
    "print('Average of {} train/test runs'.format(len(f1scores)))\n",
    "print('RLNAS ')\n",
    "print('F1 score: {:.3f} +/- {:.3f}'.format(np.mean(f1scores),np.std(f1scores)))\n",
    "print('Accuracy score: {:.3f} +/- {:.3f}'.format(np.mean(accuracies),np.std(accuracies)))\n",
    "print('n. FLOPs: {:.3f}'.format(np.mean(flops)))\n",
    "print('n. Params: {:.3f}'.format(np.mean(params)))"
   ]
  },
  {
   "cell_type": "code",
   "execution_count": 26,
   "metadata": {},
   "outputs": [
    {
     "name": "stdout",
     "output_type": "stream",
     "text": [
      "0th confusion matrix \n",
      "                    precision    recall  f1-score   support\n",
      "\n",
      "           WALKING     0.8200    0.9607    0.8848      3918\n",
      "  WALKING_UPSTAIRS     0.9296    0.8506    0.8884      5918\n",
      "WALKING_DOWNSTAIRS     0.6928    0.7939    0.7399      1679\n",
      "           SITTING     0.8659    0.7314    0.7930      1545\n",
      "          STANDING     0.9858    0.8165    0.8932       932\n",
      "            LAYING     0.8715    0.8571    0.8643       847\n",
      "\n",
      "          accuracy                         0.8591     14839\n",
      "         macro avg     0.8610    0.8351    0.8439     14839\n",
      "      weighted avg     0.8675    0.8591    0.8596     14839\n",
      "\n",
      "1th confusion matrix \n",
      "                    precision    recall  f1-score   support\n",
      "\n",
      "           WALKING     0.8162    0.9635    0.8838      3918\n",
      "  WALKING_UPSTAIRS     0.9426    0.8331    0.8845      5918\n",
      "WALKING_DOWNSTAIRS     0.6739    0.7927    0.7285      1679\n",
      "           SITTING     0.8410    0.7430    0.7890      1545\n",
      "          STANDING     0.9870    0.8165    0.8937       932\n",
      "            LAYING     0.8729    0.8996    0.8860       847\n",
      "\n",
      "          accuracy                         0.8563     14839\n",
      "         macro avg     0.8556    0.8414    0.8443     14839\n",
      "      weighted avg     0.8671    0.8563    0.8574     14839\n",
      "\n",
      "2th confusion matrix \n",
      "                    precision    recall  f1-score   support\n",
      "\n",
      "           WALKING     0.8162    0.9635    0.8838      3918\n",
      "  WALKING_UPSTAIRS     0.9426    0.8331    0.8845      5918\n",
      "WALKING_DOWNSTAIRS     0.6739    0.7927    0.7285      1679\n",
      "           SITTING     0.8410    0.7430    0.7890      1545\n",
      "          STANDING     0.9870    0.8165    0.8937       932\n",
      "            LAYING     0.8729    0.8996    0.8860       847\n",
      "\n",
      "          accuracy                         0.8563     14839\n",
      "         macro avg     0.8556    0.8414    0.8443     14839\n",
      "      weighted avg     0.8671    0.8563    0.8574     14839\n",
      "\n",
      "3th confusion matrix \n",
      "                    precision    recall  f1-score   support\n",
      "\n",
      "           WALKING     0.8162    0.9635    0.8838      3918\n",
      "  WALKING_UPSTAIRS     0.9426    0.8331    0.8845      5918\n",
      "WALKING_DOWNSTAIRS     0.6739    0.7927    0.7285      1679\n",
      "           SITTING     0.8410    0.7430    0.7890      1545\n",
      "          STANDING     0.9870    0.8165    0.8937       932\n",
      "            LAYING     0.8729    0.8996    0.8860       847\n",
      "\n",
      "          accuracy                         0.8563     14839\n",
      "         macro avg     0.8556    0.8414    0.8443     14839\n",
      "      weighted avg     0.8671    0.8563    0.8574     14839\n",
      "\n",
      "4th confusion matrix \n",
      "                    precision    recall  f1-score   support\n",
      "\n",
      "           WALKING     0.8161    0.9602    0.8823      3918\n",
      "  WALKING_UPSTAIRS     0.9295    0.8469    0.8863      5918\n",
      "WALKING_DOWNSTAIRS     0.7226    0.7898    0.7547      1679\n",
      "           SITTING     0.8453    0.7463    0.7927      1545\n",
      "          STANDING     0.9819    0.8165    0.8916       932\n",
      "            LAYING     0.8749    0.8914    0.8830       847\n",
      "\n",
      "          accuracy                         0.8605     14839\n",
      "         macro avg     0.8617    0.8418    0.8484     14839\n",
      "      weighted avg     0.8676    0.8605    0.8607     14839\n",
      "\n"
     ]
    }
   ],
   "source": [
    "for i, path in enumerate(wis_result_list):\n",
    "    result = pd.read_pickle(path)\n",
    "    conf_mat = result['conf_mat']\n",
    "    print(f'{i}th confusion matrix \\n{conf_mat}')"
   ]
  },
  {
   "attachments": {},
   "cell_type": "markdown",
   "metadata": {},
   "source": [
    "## OPP"
   ]
  },
  {
   "cell_type": "code",
   "execution_count": 27,
   "metadata": {},
   "outputs": [],
   "source": [
    "opp_result_list = glob.glob('../result_rl/RLNAS/opp/test_*/ckpt_best.pkl')"
   ]
  },
  {
   "cell_type": "code",
   "execution_count": 28,
   "metadata": {},
   "outputs": [
    {
     "data": {
      "text/plain": [
       "['../result_rl/RLNAS/opp/test_rlnas_4/ckpt_best.pkl',\n",
       " '../result_rl/RLNAS/opp/test_rlnas_5/ckpt_best.pkl',\n",
       " '../result_rl/RLNAS/opp/test_rlnas_1/ckpt_best.pkl',\n",
       " '../result_rl/RLNAS/opp/test_rlnas_2/ckpt_best.pkl',\n",
       " '../result_rl/RLNAS/opp/test_rlnas_3/ckpt_best.pkl']"
      ]
     },
     "execution_count": 28,
     "metadata": {},
     "output_type": "execute_result"
    }
   ],
   "source": [
    "opp_result_list"
   ]
  },
  {
   "cell_type": "code",
   "execution_count": 29,
   "metadata": {},
   "outputs": [],
   "source": [
    "f1scores = []\n",
    "accuracies = []\n",
    "flops = []\n",
    "params = []\n",
    "\n",
    "for path in opp_result_list:\n",
    "    result = pd.read_pickle(path)\n",
    "    f1scores.append(result['f1score'])\n",
    "    accuracies.append(result['accuracy'])\n",
    "    flops.append(result['flops'])\n",
    "    params.append(result['params'])"
   ]
  },
  {
   "cell_type": "code",
   "execution_count": 30,
   "metadata": {},
   "outputs": [
    {
     "data": {
      "text/plain": [
       "47.241856"
      ]
     },
     "execution_count": 30,
     "metadata": {},
     "output_type": "execute_result"
    }
   ],
   "source": [
    "result['flops']"
   ]
  },
  {
   "cell_type": "code",
   "execution_count": 31,
   "metadata": {},
   "outputs": [
    {
     "name": "stdout",
     "output_type": "stream",
     "text": [
      "Average of 5 train/test runs\n",
      "RLNAS \n",
      "F1 score: 0.906 +/- 0.001\n",
      "Accuracy score: 0.908 +/- 0.002\n",
      "n. FLOPs: 47.242\n",
      "n. Params: 2.788\n"
     ]
    }
   ],
   "source": [
    "print('Average of {} train/test runs'.format(len(f1scores)))\n",
    "print('RLNAS ')\n",
    "print('F1 score: {:.3f} +/- {:.3f}'.format(np.mean(f1scores),np.std(f1scores)))\n",
    "print('Accuracy score: {:.3f} +/- {:.3f}'.format(np.mean(accuracies),np.std(accuracies)))\n",
    "print('n. FLOPs: {:.3f}'.format(np.mean(flops)))\n",
    "print('n. Params: {:.3f}'.format(np.mean(params)))"
   ]
  },
  {
   "cell_type": "code",
   "execution_count": 32,
   "metadata": {},
   "outputs": [
    {
     "name": "stdout",
     "output_type": "stream",
     "text": [
      "0th confusion matrix \n",
      "                  precision    recall  f1-score   support\n",
      "\n",
      "            Null     0.9499    0.9574    0.9536     12371\n",
      "     Open Door 1     0.6932    0.7262    0.7093        84\n",
      "     Open Door 2     0.8540    0.8182    0.8357       143\n",
      "    Close Door 1     0.7647    0.7303    0.7471        89\n",
      "    Close Door 2     0.8358    0.9032    0.8682       124\n",
      "     Open Fridge     0.7208    0.6529    0.6852       340\n",
      "    Close Fridge     0.7937    0.7597    0.7763       233\n",
      " Open Dishwasher     0.6026    0.6528    0.6267       144\n",
      "Close Dishwasher     0.3165    0.5847    0.4107       118\n",
      "   Open Drawer 1     0.3182    0.4912    0.3862        57\n",
      "  Close Drawer 1     0.6216    0.3485    0.4466        66\n",
      "   Open Drawer 2     0.5526    0.3500    0.4286        60\n",
      "  Close Drawer 2     0.6000    0.5250    0.5600        40\n",
      "   Open Drawer 3     0.7010    0.6939    0.6974        98\n",
      "  Close Drawer 3     0.5506    0.5506    0.5506        89\n",
      "     Clean Table     0.8649    0.4295    0.5740       149\n",
      "  Drink from Cup     0.6628    0.6042    0.6322       475\n",
      "   Toggle Switch     0.7984    0.6519    0.7178       158\n",
      "\n",
      "        accuracy                         0.9048     14838\n",
      "       macro avg     0.6779    0.6350    0.6448     14838\n",
      "    weighted avg     0.9072    0.9048    0.9044     14838\n",
      "\n",
      "1th confusion matrix \n",
      "                  precision    recall  f1-score   support\n",
      "\n",
      "            Null     0.9568    0.9586    0.9577     12371\n",
      "     Open Door 1     0.6463    0.6310    0.6386        84\n",
      "     Open Door 2     0.9098    0.8462    0.8768       143\n",
      "    Close Door 1     0.7609    0.7865    0.7735        89\n",
      "    Close Door 2     0.8462    0.8871    0.8661       124\n",
      "     Open Fridge     0.7400    0.6529    0.6937       340\n",
      "    Close Fridge     0.7231    0.7511    0.7368       233\n",
      " Open Dishwasher     0.5345    0.6458    0.5849       144\n",
      "Close Dishwasher     0.3161    0.5169    0.3923       118\n",
      "   Open Drawer 1     0.3780    0.5439    0.4460        57\n",
      "  Close Drawer 1     0.4000    0.3939    0.3969        66\n",
      "   Open Drawer 2     0.3415    0.2333    0.2772        60\n",
      "  Close Drawer 2     0.4706    0.4000    0.4324        40\n",
      "   Open Drawer 3     0.5882    0.6122    0.6000        98\n",
      "  Close Drawer 3     0.6136    0.6067    0.6102        89\n",
      "     Clean Table     0.8310    0.3960    0.5364       149\n",
      "  Drink from Cup     0.7189    0.7432    0.7308       475\n",
      "   Toggle Switch     0.8374    0.6519    0.7331       158\n",
      "\n",
      "        accuracy                         0.9085     14838\n",
      "       macro avg     0.6452    0.6254    0.6269     14838\n",
      "    weighted avg     0.9115    0.9085    0.9086     14838\n",
      "\n",
      "2th confusion matrix \n",
      "                  precision    recall  f1-score   support\n",
      "\n",
      "            Null     0.9463    0.9665    0.9563     12371\n",
      "     Open Door 1     0.5619    0.7024    0.6243        84\n",
      "     Open Door 2     0.9141    0.8182    0.8635       143\n",
      "    Close Door 1     0.7262    0.6854    0.7052        89\n",
      "    Close Door 2     0.8661    0.8871    0.8765       124\n",
      "     Open Fridge     0.7614    0.6382    0.6944       340\n",
      "    Close Fridge     0.8418    0.6395    0.7268       233\n",
      " Open Dishwasher     0.6277    0.5972    0.6121       144\n",
      "Close Dishwasher     0.4203    0.4915    0.4531       118\n",
      "   Open Drawer 1     0.3673    0.6316    0.4645        57\n",
      "  Close Drawer 1     0.3846    0.1515    0.2174        66\n",
      "   Open Drawer 2     0.3793    0.3667    0.3729        60\n",
      "  Close Drawer 2     0.6818    0.3750    0.4839        40\n",
      "   Open Drawer 3     0.5476    0.7041    0.6161        98\n",
      "  Close Drawer 3     0.8085    0.4270    0.5588        89\n",
      "     Clean Table     0.8132    0.4966    0.6167       149\n",
      "  Drink from Cup     0.7080    0.6737    0.6904       475\n",
      "   Toggle Switch     0.8431    0.5443    0.6615       158\n",
      "\n",
      "        accuracy                         0.9087     14838\n",
      "       macro avg     0.6777    0.5998    0.6219     14838\n",
      "    weighted avg     0.9074    0.9087    0.9059     14838\n",
      "\n",
      "3th confusion matrix \n",
      "                  precision    recall  f1-score   support\n",
      "\n",
      "            Null     0.9501    0.9596    0.9548     12371\n",
      "     Open Door 1     0.6413    0.7024    0.6705        84\n",
      "     Open Door 2     0.8913    0.8601    0.8754       143\n",
      "    Close Door 1     0.7470    0.6966    0.7209        89\n",
      "    Close Door 2     0.8780    0.8710    0.8745       124\n",
      "     Open Fridge     0.7734    0.6324    0.6958       340\n",
      "    Close Fridge     0.7532    0.7468    0.7500       233\n",
      " Open Dishwasher     0.5806    0.6250    0.6020       144\n",
      "Close Dishwasher     0.3743    0.5932    0.4590       118\n",
      "   Open Drawer 1     0.3614    0.5263    0.4286        57\n",
      "  Close Drawer 1     0.6500    0.3939    0.4906        66\n",
      "   Open Drawer 2     0.5263    0.3333    0.4082        60\n",
      "  Close Drawer 2     0.5000    0.5750    0.5349        40\n",
      "   Open Drawer 3     0.5957    0.5714    0.5833        98\n",
      "  Close Drawer 3     0.7067    0.5955    0.6463        89\n",
      "     Clean Table     0.8667    0.4362    0.5804       149\n",
      "  Drink from Cup     0.6633    0.6926    0.6777       475\n",
      "   Toggle Switch     0.8073    0.5570    0.6592       158\n",
      "\n",
      "        accuracy                         0.9073     14838\n",
      "       macro avg     0.6815    0.6316    0.6451     14838\n",
      "    weighted avg     0.9088    0.9073    0.9063     14838\n",
      "\n",
      "4th confusion matrix \n",
      "                  precision    recall  f1-score   support\n",
      "\n",
      "            Null     0.9496    0.9630    0.9563     12371\n",
      "     Open Door 1     0.6596    0.7381    0.6966        84\n",
      "     Open Door 2     0.9051    0.8671    0.8857       143\n",
      "    Close Door 1     0.7738    0.7303    0.7514        89\n",
      "    Close Door 2     0.8730    0.8871    0.8800       124\n",
      "     Open Fridge     0.7882    0.6676    0.7229       340\n",
      "    Close Fridge     0.7403    0.7339    0.7371       233\n",
      " Open Dishwasher     0.6269    0.5833    0.6043       144\n",
      "Close Dishwasher     0.3594    0.5847    0.4452       118\n",
      "   Open Drawer 1     0.4576    0.4737    0.4655        57\n",
      "  Close Drawer 1     0.5217    0.3636    0.4286        66\n",
      "   Open Drawer 2     0.5667    0.2833    0.3778        60\n",
      "  Close Drawer 2     0.3750    0.4500    0.4091        40\n",
      "   Open Drawer 3     0.7000    0.6429    0.6702        98\n",
      "  Close Drawer 3     0.6071    0.5730    0.5896        89\n",
      "     Clean Table     0.7901    0.4295    0.5565       149\n",
      "  Drink from Cup     0.6817    0.6674    0.6745       475\n",
      "   Toggle Switch     0.7692    0.5063    0.6107       158\n",
      "\n",
      "        accuracy                         0.9089     14838\n",
      "       macro avg     0.6747    0.6192    0.6368     14838\n",
      "    weighted avg     0.9084    0.9089    0.9071     14838\n",
      "\n"
     ]
    }
   ],
   "source": [
    "for i, path in enumerate(opp_result_list):\n",
    "    result = pd.read_pickle(path)\n",
    "    conf_mat = result['conf_mat']\n",
    "    print(f'{i}th confusion matrix \\n{conf_mat}')"
   ]
  },
  {
   "attachments": {},
   "cell_type": "markdown",
   "metadata": {},
   "source": [
    "# Best F1"
   ]
  },
  {
   "attachments": {},
   "cell_type": "markdown",
   "metadata": {},
   "source": [
    "## UCI"
   ]
  },
  {
   "cell_type": "code",
   "execution_count": 33,
   "metadata": {},
   "outputs": [],
   "source": [
    "uci_result_list = glob.glob('../result_rl/bestf1/uci/test_*/ckpt_best.pkl')"
   ]
  },
  {
   "cell_type": "code",
   "execution_count": 34,
   "metadata": {},
   "outputs": [
    {
     "data": {
      "text/plain": [
       "['../result_rl/bestf1/uci/test_rlnas_4/ckpt_best.pkl',\n",
       " '../result_rl/bestf1/uci/test_rlnas_5/ckpt_best.pkl',\n",
       " '../result_rl/bestf1/uci/test_rlnas_1/ckpt_best.pkl',\n",
       " '../result_rl/bestf1/uci/test_rlnas_2/ckpt_best.pkl',\n",
       " '../result_rl/bestf1/uci/test_rlnas_3/ckpt_best.pkl']"
      ]
     },
     "execution_count": 34,
     "metadata": {},
     "output_type": "execute_result"
    }
   ],
   "source": [
    "uci_result_list"
   ]
  },
  {
   "cell_type": "code",
   "execution_count": 35,
   "metadata": {},
   "outputs": [],
   "source": [
    "f1scores = []\n",
    "accuracies = []\n",
    "flops = []\n",
    "params = []\n",
    "\n",
    "for path in uci_result_list:\n",
    "    result = pd.read_pickle(path)\n",
    "    f1scores.append(result['f1score'])\n",
    "    accuracies.append(result['accuracy'])\n",
    "    flops.append(result['flops'])\n",
    "    params.append(result['params'])"
   ]
  },
  {
   "cell_type": "code",
   "execution_count": 36,
   "metadata": {},
   "outputs": [
    {
     "data": {
      "text/plain": [
       "75.899136"
      ]
     },
     "execution_count": 36,
     "metadata": {},
     "output_type": "execute_result"
    }
   ],
   "source": [
    "result['flops']"
   ]
  },
  {
   "cell_type": "code",
   "execution_count": 37,
   "metadata": {},
   "outputs": [
    {
     "name": "stdout",
     "output_type": "stream",
     "text": [
      "Average of 5 train/test runs\n",
      "RLNAS \n",
      "F1 score: 0.881 +/- 0.014\n",
      "Accuracy score: 0.880 +/- 0.014\n",
      "n. FLOPs: 75.899\n",
      "n. Params: 0.582\n"
     ]
    }
   ],
   "source": [
    "print('Average of {} train/test runs'.format(len(f1scores)))\n",
    "print('RLNAS ')\n",
    "print('F1 score: {:.3f} +/- {:.3f}'.format(np.mean(f1scores),np.std(f1scores)))\n",
    "print('Accuracy score: {:.3f} +/- {:.3f}'.format(np.mean(accuracies),np.std(accuracies)))\n",
    "print('n. FLOPs: {:.3f}'.format(np.mean(flops)))\n",
    "print('n. Params: {:.3f}'.format(np.mean(params)))"
   ]
  },
  {
   "cell_type": "code",
   "execution_count": 38,
   "metadata": {},
   "outputs": [
    {
     "name": "stdout",
     "output_type": "stream",
     "text": [
      "0th confusion matrix \n",
      "                    precision    recall  f1-score   support\n",
      "\n",
      "           WALKING     0.9957    0.9294    0.9614       496\n",
      "  WALKING_UPSTAIRS     0.9444    0.9384    0.9414       471\n",
      "WALKING_DOWNSTAIRS     0.8862    0.9643    0.9236       420\n",
      "           SITTING     0.7317    0.7719    0.7512       491\n",
      "          STANDING     0.8048    0.8214    0.8130       532\n",
      "            LAYING     0.9378    0.8696    0.9024       537\n",
      "\n",
      "          accuracy                         0.8792      2947\n",
      "         macro avg     0.8834    0.8825    0.8822      2947\n",
      "      weighted avg     0.8829    0.8792    0.8803      2947\n",
      "\n",
      "1th confusion matrix \n",
      "                    precision    recall  f1-score   support\n",
      "\n",
      "           WALKING     0.9915    0.9375    0.9637       496\n",
      "  WALKING_UPSTAIRS     0.9649    0.9342    0.9493       471\n",
      "WALKING_DOWNSTAIRS     0.8812    0.9714    0.9241       420\n",
      "           SITTING     0.7577    0.8534    0.8027       491\n",
      "          STANDING     0.8528    0.8383    0.8455       532\n",
      "            LAYING     0.9400    0.8454    0.8902       537\n",
      "\n",
      "          accuracy                         0.8931      2947\n",
      "         macro avg     0.8980    0.8967    0.8959      2947\n",
      "      weighted avg     0.8981    0.8931    0.8942      2947\n",
      "\n",
      "2th confusion matrix \n",
      "                    precision    recall  f1-score   support\n",
      "\n",
      "           WALKING     0.9914    0.9274    0.9583       496\n",
      "  WALKING_UPSTAIRS     0.9650    0.9363    0.9504       471\n",
      "WALKING_DOWNSTAIRS     0.8739    0.9738    0.9212       420\n",
      "           SITTING     0.6963    0.7332    0.7143       491\n",
      "          STANDING     0.7716    0.8383    0.8036       532\n",
      "            LAYING     0.9482    0.8175    0.8780       537\n",
      "\n",
      "          accuracy                         0.8670      2947\n",
      "         macro avg     0.8744    0.8711    0.8710      2947\n",
      "      weighted avg     0.8737    0.8670    0.8685      2947\n",
      "\n",
      "3th confusion matrix \n",
      "                    precision    recall  f1-score   support\n",
      "\n",
      "           WALKING     0.9957    0.9415    0.9679       496\n",
      "  WALKING_UPSTAIRS     0.9591    0.9469    0.9530       471\n",
      "WALKING_DOWNSTAIRS     0.8940    0.9643    0.9278       420\n",
      "           SITTING     0.6888    0.6538    0.6708       491\n",
      "          STANDING     0.7336    0.8383    0.7825       532\n",
      "            LAYING     0.9321    0.8436    0.8856       537\n",
      "\n",
      "          accuracy                         0.8612      2947\n",
      "         macro avg     0.8672    0.8647    0.8646      2947\n",
      "      weighted avg     0.8653    0.8612    0.8618      2947\n",
      "\n",
      "4th confusion matrix \n",
      "                    precision    recall  f1-score   support\n",
      "\n",
      "           WALKING     0.9936    0.9395    0.9658       496\n",
      "  WALKING_UPSTAIRS     0.9329    0.9448    0.9388       471\n",
      "WALKING_DOWNSTAIRS     0.8982    0.9452    0.9211       420\n",
      "           SITTING     0.7874    0.8371    0.8115       491\n",
      "          STANDING     0.8542    0.8590    0.8566       532\n",
      "            LAYING     0.9343    0.8734    0.9028       537\n",
      "\n",
      "          accuracy                         0.8975      2947\n",
      "         macro avg     0.9001    0.8998    0.8994      2947\n",
      "      weighted avg     0.9000    0.8975    0.8982      2947\n",
      "\n"
     ]
    }
   ],
   "source": [
    "for i, path in enumerate(uci_result_list):\n",
    "    result = pd.read_pickle(path)\n",
    "    conf_mat = result['conf_mat']\n",
    "    print(f'{i}th confusion matrix \\n{conf_mat}')"
   ]
  },
  {
   "attachments": {},
   "cell_type": "markdown",
   "metadata": {},
   "source": [
    "## UNI"
   ]
  },
  {
   "cell_type": "code",
   "execution_count": 39,
   "metadata": {},
   "outputs": [],
   "source": [
    "uni_result_list = glob.glob('../result_rl/bestf1/uni/test_*/ckpt_best.pkl')"
   ]
  },
  {
   "cell_type": "code",
   "execution_count": 40,
   "metadata": {},
   "outputs": [
    {
     "data": {
      "text/plain": [
       "['../result_rl/bestf1/uni/test_rlnas_4/ckpt_best.pkl',\n",
       " '../result_rl/bestf1/uni/test_rlnas_5/ckpt_best.pkl',\n",
       " '../result_rl/bestf1/uni/test_rlnas_1/ckpt_best.pkl',\n",
       " '../result_rl/bestf1/uni/test_rlnas_2/ckpt_best.pkl',\n",
       " '../result_rl/bestf1/uni/test_rlnas_3/ckpt_best.pkl']"
      ]
     },
     "execution_count": 40,
     "metadata": {},
     "output_type": "execute_result"
    }
   ],
   "source": [
    "uni_result_list"
   ]
  },
  {
   "cell_type": "code",
   "execution_count": 41,
   "metadata": {},
   "outputs": [],
   "source": [
    "f1scores = []\n",
    "accuracies = []\n",
    "flops = []\n",
    "params = []\n",
    "\n",
    "for path in uni_result_list:\n",
    "    result = pd.read_pickle(path)\n",
    "    f1scores.append(result['f1score'])\n",
    "    accuracies.append(result['accuracy'])\n",
    "    flops.append(result['flops'])\n",
    "    params.append(result['params'])"
   ]
  },
  {
   "cell_type": "code",
   "execution_count": 42,
   "metadata": {},
   "outputs": [
    {
     "data": {
      "text/plain": [
       "304.624768"
      ]
     },
     "execution_count": 42,
     "metadata": {},
     "output_type": "execute_result"
    }
   ],
   "source": [
    "result['flops']"
   ]
  },
  {
   "cell_type": "code",
   "execution_count": 43,
   "metadata": {},
   "outputs": [
    {
     "name": "stdout",
     "output_type": "stream",
     "text": [
      "Average of 5 train/test runs\n",
      "RLNAS \n",
      "F1 score: 0.905 +/- 0.005\n",
      "Accuracy score: 0.905 +/- 0.005\n",
      "n. FLOPs: 304.625\n",
      "n. Params: 1.991\n"
     ]
    }
   ],
   "source": [
    "print('Average of {} train/test runs'.format(len(f1scores)))\n",
    "print('RLNAS ')\n",
    "print('F1 score: {:.3f} +/- {:.3f}'.format(np.mean(f1scores),np.std(f1scores)))\n",
    "print('Accuracy score: {:.3f} +/- {:.3f}'.format(np.mean(accuracies),np.std(accuracies)))\n",
    "print('n. FLOPs: {:.3f}'.format(np.mean(flops)))\n",
    "print('n. Params: {:.3f}'.format(np.mean(params)))"
   ]
  },
  {
   "cell_type": "code",
   "execution_count": 46,
   "metadata": {},
   "outputs": [
    {
     "name": "stdout",
     "output_type": "stream",
     "text": [
      "0th confusion matrix \n",
      "                 precision    recall  f1-score   support\n",
      "\n",
      "   StandingUpFS     0.9333    0.8750    0.9032        16\n",
      "   StandingUpFL     0.8636    0.9048    0.8837        21\n",
      "        Walking     0.9942    0.9885    0.9914       174\n",
      "        Running     1.0000    1.0000    1.0000       199\n",
      "       GoingUpS     0.8776    0.9348    0.9053        92\n",
      "        Jumping     0.9865    0.9865    0.9865        74\n",
      "     GoingDownS     0.9538    0.9323    0.9430       133\n",
      "    LyingDownFS     0.9231    0.8276    0.8727        29\n",
      "    SittingDown     0.8636    0.9500    0.9048        20\n",
      "    FallingForw     0.7647    0.7358    0.7500        53\n",
      "   FallingRight     0.7547    0.7843    0.7692        51\n",
      "    FallingBack     0.8333    0.8491    0.8411        53\n",
      "HittingObstacle     0.9242    0.9242    0.9242        66\n",
      "  FallingWithPS     0.7800    0.8125    0.7959        48\n",
      "  FallingBackSC     0.8750    0.7955    0.8333        44\n",
      "        Syncope     0.6538    0.6667    0.6602        51\n",
      "    FallingLeft     0.7547    0.7407    0.7477        54\n",
      "\n",
      "       accuracy                         0.9024      1178\n",
      "      macro avg     0.8668    0.8652    0.8654      1178\n",
      "   weighted avg     0.9032    0.9024    0.9024      1178\n",
      "\n",
      "1th confusion matrix \n",
      "                 precision    recall  f1-score   support\n",
      "\n",
      "   StandingUpFS     0.9375    0.9375    0.9375        16\n",
      "   StandingUpFL     0.8636    0.9048    0.8837        21\n",
      "        Walking     0.9942    0.9828    0.9884       174\n",
      "        Running     1.0000    1.0000    1.0000       199\n",
      "       GoingUpS     0.9140    0.9239    0.9189        92\n",
      "        Jumping     0.9867    1.0000    0.9933        74\n",
      "     GoingDownS     0.9474    0.9474    0.9474       133\n",
      "    LyingDownFS     0.9259    0.8621    0.8929        29\n",
      "    SittingDown     0.8636    0.9500    0.9048        20\n",
      "    FallingForw     0.8478    0.7358    0.7879        53\n",
      "   FallingRight     0.7843    0.7843    0.7843        51\n",
      "    FallingBack     0.8654    0.8491    0.8571        53\n",
      "HittingObstacle     0.9538    0.9394    0.9466        66\n",
      "  FallingWithPS     0.8077    0.8750    0.8400        48\n",
      "  FallingBackSC     0.8605    0.8409    0.8506        44\n",
      "        Syncope     0.6441    0.7451    0.6909        51\n",
      "    FallingLeft     0.7843    0.7407    0.7619        54\n",
      "\n",
      "       accuracy                         0.9134      1178\n",
      "      macro avg     0.8812    0.8835    0.8815      1178\n",
      "   weighted avg     0.9151    0.9134    0.9137      1178\n",
      "\n",
      "2th confusion matrix \n",
      "                 precision    recall  f1-score   support\n",
      "\n",
      "   StandingUpFS     0.8333    0.9375    0.8824        16\n",
      "   StandingUpFL     0.8571    0.8571    0.8571        21\n",
      "        Walking     0.9942    0.9828    0.9884       174\n",
      "        Running     1.0000    1.0000    1.0000       199\n",
      "       GoingUpS     0.9362    0.9565    0.9462        92\n",
      "        Jumping     0.9737    1.0000    0.9867        74\n",
      "     GoingDownS     0.9697    0.9624    0.9660       133\n",
      "    LyingDownFS     0.9615    0.8621    0.9091        29\n",
      "    SittingDown     0.8636    0.9500    0.9048        20\n",
      "    FallingForw     0.7308    0.7170    0.7238        53\n",
      "   FallingRight     0.8085    0.7451    0.7755        51\n",
      "    FallingBack     0.8182    0.8491    0.8333        53\n",
      "HittingObstacle     0.9385    0.9242    0.9313        66\n",
      "  FallingWithPS     0.7500    0.8125    0.7800        48\n",
      "  FallingBackSC     0.8684    0.7500    0.8049        44\n",
      "        Syncope     0.6379    0.7255    0.6789        51\n",
      "    FallingLeft     0.7451    0.7037    0.7238        54\n",
      "\n",
      "       accuracy                         0.9049      1178\n",
      "      macro avg     0.8639    0.8668    0.8643      1178\n",
      "   weighted avg     0.9065    0.9049    0.9051      1178\n",
      "\n",
      "3th confusion matrix \n",
      "                 precision    recall  f1-score   support\n",
      "\n",
      "   StandingUpFS     0.9333    0.8750    0.9032        16\n",
      "   StandingUpFL     0.8571    0.8571    0.8571        21\n",
      "        Walking     0.9942    0.9770    0.9855       174\n",
      "        Running     1.0000    1.0000    1.0000       199\n",
      "       GoingUpS     0.8586    0.9239    0.8901        92\n",
      "        Jumping     0.9737    1.0000    0.9867        74\n",
      "     GoingDownS     0.9466    0.9323    0.9394       133\n",
      "    LyingDownFS     0.8929    0.8621    0.8772        29\n",
      "    SittingDown     0.8095    0.8500    0.8293        20\n",
      "    FallingForw     0.7755    0.7170    0.7451        53\n",
      "   FallingRight     0.7600    0.7451    0.7525        51\n",
      "    FallingBack     0.8000    0.8302    0.8148        53\n",
      "HittingObstacle     0.9242    0.9242    0.9242        66\n",
      "  FallingWithPS     0.8000    0.8333    0.8163        48\n",
      "  FallingBackSC     0.8140    0.7955    0.8046        44\n",
      "        Syncope     0.6909    0.7451    0.7170        51\n",
      "    FallingLeft     0.7959    0.7222    0.7573        54\n",
      "\n",
      "       accuracy                         0.8990      1178\n",
      "      macro avg     0.8604    0.8582    0.8588      1178\n",
      "   weighted avg     0.8995    0.8990    0.8989      1178\n",
      "\n",
      "4th confusion matrix \n",
      "                 precision    recall  f1-score   support\n",
      "\n",
      "   StandingUpFS     1.0000    0.8750    0.9333        16\n",
      "   StandingUpFL     0.9091    0.9524    0.9302        21\n",
      "        Walking     0.9942    0.9828    0.9884       174\n",
      "        Running     1.0000    1.0000    1.0000       199\n",
      "       GoingUpS     0.8673    0.9239    0.8947        92\n",
      "        Jumping     0.9867    1.0000    0.9933        74\n",
      "     GoingDownS     0.9535    0.9248    0.9389       133\n",
      "    LyingDownFS     0.9286    0.8966    0.9123        29\n",
      "    SittingDown     0.8182    0.9000    0.8571        20\n",
      "    FallingForw     0.7414    0.8113    0.7748        53\n",
      "   FallingRight     0.8000    0.7843    0.7921        51\n",
      "    FallingBack     0.7458    0.8302    0.7857        53\n",
      "HittingObstacle     0.9672    0.8939    0.9291        66\n",
      "  FallingWithPS     0.8372    0.7500    0.7912        48\n",
      "  FallingBackSC     0.8571    0.8182    0.8372        44\n",
      "        Syncope     0.6538    0.6667    0.6602        51\n",
      "    FallingLeft     0.7963    0.7963    0.7963        54\n",
      "\n",
      "       accuracy                         0.9041      1178\n",
      "      macro avg     0.8739    0.8710    0.8715      1178\n",
      "   weighted avg     0.9064    0.9041    0.9046      1178\n",
      "\n"
     ]
    }
   ],
   "source": [
    "for i, path in enumerate(uni_result_list):\n",
    "    result = pd.read_pickle(path)\n",
    "    conf_mat = result['conf_mat']\n",
    "    print(f'{i}th confusion matrix \\n{conf_mat}')"
   ]
  },
  {
   "attachments": {},
   "cell_type": "markdown",
   "metadata": {},
   "source": [
    "## KAR"
   ]
  },
  {
   "cell_type": "code",
   "execution_count": 44,
   "metadata": {},
   "outputs": [],
   "source": [
    "kar_result_list = glob.glob('../result_rl/bestf1/kar/test_*/ckpt_best.pkl')"
   ]
  },
  {
   "cell_type": "code",
   "execution_count": 45,
   "metadata": {},
   "outputs": [
    {
     "data": {
      "text/plain": [
       "['../result_rl/bestf1/kar/test_rlnas_4/ckpt_best.pkl',\n",
       " '../result_rl/bestf1/kar/test_rlnas_5/ckpt_best.pkl',\n",
       " '../result_rl/bestf1/kar/test_rlnas_1/ckpt_best.pkl',\n",
       " '../result_rl/bestf1/kar/test_rlnas_2/ckpt_best.pkl',\n",
       " '../result_rl/bestf1/kar/test_rlnas_3/ckpt_best.pkl']"
      ]
     },
     "execution_count": 45,
     "metadata": {},
     "output_type": "execute_result"
    }
   ],
   "source": [
    "kar_result_list"
   ]
  },
  {
   "cell_type": "code",
   "execution_count": 46,
   "metadata": {},
   "outputs": [],
   "source": [
    "f1scores = []\n",
    "accuracies = []\n",
    "flops = []\n",
    "params = []\n",
    "\n",
    "for path in kar_result_list:\n",
    "    result = pd.read_pickle(path)\n",
    "    f1scores.append(result['f1score'])\n",
    "    accuracies.append(result['accuracy'])\n",
    "    flops.append(result['flops'])\n",
    "    params.append(result['params'])"
   ]
  },
  {
   "cell_type": "code",
   "execution_count": 47,
   "metadata": {},
   "outputs": [
    {
     "data": {
      "text/plain": [
       "335.771904"
      ]
     },
     "execution_count": 47,
     "metadata": {},
     "output_type": "execute_result"
    }
   ],
   "source": [
    "result['flops']"
   ]
  },
  {
   "cell_type": "code",
   "execution_count": 48,
   "metadata": {},
   "outputs": [
    {
     "name": "stdout",
     "output_type": "stream",
     "text": [
      "Average of 5 train/test runs\n",
      "RLNAS \n",
      "F1 score: 0.784 +/- 0.017\n",
      "Accuracy score: 0.791 +/- 0.014\n",
      "n. FLOPs: 335.772\n",
      "n. Params: 1.119\n"
     ]
    }
   ],
   "source": [
    "print('Average of {} train/test runs'.format(len(f1scores)))\n",
    "print('RLNAS ')\n",
    "print('F1 score: {:.3f} +/- {:.3f}'.format(np.mean(f1scores),np.std(f1scores)))\n",
    "print('Accuracy score: {:.3f} +/- {:.3f}'.format(np.mean(accuracies),np.std(accuracies)))\n",
    "print('n. FLOPs: {:.3f}'.format(np.mean(flops)))\n",
    "print('n. Params: {:.3f}'.format(np.mean(params)))"
   ]
  },
  {
   "cell_type": "code",
   "execution_count": 52,
   "metadata": {},
   "outputs": [
    {
     "name": "stdout",
     "output_type": "stream",
     "text": [
      "0th confusion matrix \n",
      "              precision    recall  f1-score   support\n",
      "\n",
      "     walking     0.8173    0.7494    0.7818       770\n",
      "     jogging     0.7026    0.7741    0.7366       757\n",
      "      stairs     0.8692    0.8540    0.8616       685\n",
      "     sitting     0.8608    0.9710    0.9126       758\n",
      "    standing     0.8310    0.9903    0.9037       720\n",
      "      typing     0.8103    0.7879    0.7989       759\n",
      "       teeth     0.9774    0.9742    0.9758       621\n",
      "        soup     0.6551    0.8982    0.7576       442\n",
      "       chips     0.9714    0.4871    0.6489       349\n",
      "       pasta     0.4815    0.6402    0.5496       264\n",
      "    drinking     0.9704    0.5319    0.6871       863\n",
      "    sandwich     0.9848    0.6989    0.8176       186\n",
      "     kicking     0.7629    0.9024    0.8268        82\n",
      "       catch     0.7647    0.4239    0.5455        92\n",
      "   dribbling     0.9139    0.4094    0.5655       596\n",
      "     writing     0.6152    0.9868    0.7579       303\n",
      "    clapping     0.8139    0.9899    0.8933       296\n",
      "     folding     0.4196    0.9747    0.5866       198\n",
      "\n",
      "    accuracy                         0.7856      8741\n",
      "   macro avg     0.7901    0.7802    0.7560      8741\n",
      "weighted avg     0.8230    0.7856    0.7804      8741\n",
      "\n",
      "1th confusion matrix \n",
      "              precision    recall  f1-score   support\n",
      "\n",
      "     walking     0.8271    0.8078    0.8173       770\n",
      "     jogging     0.8283    0.7649    0.7953       757\n",
      "      stairs     0.8956    0.8891    0.8923       685\n",
      "     sitting     0.9126    0.9644    0.9378       758\n",
      "    standing     0.8070    0.9931    0.8904       720\n",
      "      typing     0.8029    0.8696    0.8349       759\n",
      "       teeth     0.9510    0.9694    0.9601       621\n",
      "        soup     0.6944    0.8688    0.7719       442\n",
      "       chips     0.9385    0.4814    0.6364       349\n",
      "       pasta     0.4841    0.6364    0.5499       264\n",
      "    drinking     0.9518    0.5492    0.6965       863\n",
      "    sandwich     0.9786    0.7366    0.8405       186\n",
      "     kicking     0.7347    0.8780    0.8000        82\n",
      "       catch     0.8406    0.6304    0.7205        92\n",
      "   dribbling     0.8672    0.3507    0.4994       596\n",
      "     writing     0.6073    0.9901    0.7528       303\n",
      "    clapping     0.7435    0.9696    0.8416       296\n",
      "     folding     0.4168    0.9747    0.5840       198\n",
      "\n",
      "    accuracy                         0.7972      8741\n",
      "   macro avg     0.7935    0.7958    0.7679      8741\n",
      "weighted avg     0.8302    0.7972    0.7908      8741\n",
      "\n",
      "2th confusion matrix \n",
      "              precision    recall  f1-score   support\n",
      "\n",
      "     walking     0.8121    0.7299    0.7688       770\n",
      "     jogging     0.7598    0.7939    0.7765       757\n",
      "      stairs     0.8602    0.8263    0.8429       685\n",
      "     sitting     0.8693    0.9565    0.9108       758\n",
      "    standing     0.8444    0.9722    0.9038       720\n",
      "      typing     0.8225    0.8669    0.8441       759\n",
      "       teeth     0.9554    0.9662    0.9608       621\n",
      "        soup     0.5562    0.9072    0.6896       442\n",
      "       chips     0.9880    0.4699    0.6369       349\n",
      "       pasta     0.6123    0.6402    0.6259       264\n",
      "    drinking     0.9618    0.5249    0.6792       863\n",
      "    sandwich     0.9858    0.7473    0.8502       186\n",
      "     kicking     0.7327    0.9024    0.8087        82\n",
      "       catch     0.8727    0.5217    0.6531        92\n",
      "   dribbling     0.8658    0.4329    0.5772       596\n",
      "     writing     0.6533    0.9703    0.7809       303\n",
      "    clapping     0.7239    0.9831    0.8338       296\n",
      "     folding     0.4393    0.9495    0.6006       198\n",
      "\n",
      "    accuracy                         0.7884      8741\n",
      "   macro avg     0.7953    0.7867    0.7635      8741\n",
      "weighted avg     0.8232    0.7884    0.7831      8741\n",
      "\n",
      "3th confusion matrix \n",
      "              precision    recall  f1-score   support\n",
      "\n",
      "     walking     0.8571    0.7792    0.8163       770\n",
      "     jogging     0.8098    0.7873    0.7984       757\n",
      "      stairs     0.8992    0.8730    0.8859       685\n",
      "     sitting     0.8870    0.9631    0.9235       758\n",
      "    standing     0.8745    0.9972    0.9319       720\n",
      "      typing     0.7879    0.8959    0.8385       759\n",
      "       teeth     0.9620    0.9791    0.9705       621\n",
      "        soup     0.5910    0.9186    0.7192       442\n",
      "       chips     0.9820    0.4699    0.6357       349\n",
      "       pasta     0.5874    0.5985    0.5929       264\n",
      "    drinking     0.9636    0.5829    0.7264       863\n",
      "    sandwich     0.9621    0.6828    0.7987       186\n",
      "     kicking     0.7143    0.8537    0.7778        82\n",
      "       catch     0.7627    0.4891    0.5960        92\n",
      "   dribbling     0.9033    0.5487    0.6827       596\n",
      "     writing     0.5545    0.9901    0.7109       303\n",
      "    clapping     0.8720    0.9662    0.9167       296\n",
      "     folding     0.5714    0.9697    0.7191       198\n",
      "\n",
      "    accuracy                         0.8132      8741\n",
      "   macro avg     0.8079    0.7969    0.7801      8741\n",
      "weighted avg     0.8423    0.8132    0.8095      8741\n",
      "\n",
      "4th confusion matrix \n",
      "              precision    recall  f1-score   support\n",
      "\n",
      "     walking     0.8143    0.7519    0.7819       770\n",
      "     jogging     0.8216    0.7424    0.7800       757\n",
      "      stairs     0.8712    0.8394    0.8550       685\n",
      "     sitting     0.8735    0.9749    0.9214       758\n",
      "    standing     0.8835    0.9792    0.9289       720\n",
      "      typing     0.7713    0.9065    0.8334       759\n",
      "       teeth     0.9595    0.9549    0.9572       621\n",
      "        soup     0.5672    0.9072    0.6980       442\n",
      "       chips     0.9879    0.4670    0.6342       349\n",
      "       pasta     0.5031    0.6212    0.5559       264\n",
      "    drinking     0.9619    0.5261    0.6801       863\n",
      "    sandwich     0.9638    0.7151    0.8210       186\n",
      "     kicking     0.6667    0.9024    0.7668        82\n",
      "       catch     0.8889    0.5217    0.6575        92\n",
      "   dribbling     0.8411    0.1510    0.2560       596\n",
      "     writing     0.4783    0.9802    0.6429       303\n",
      "    clapping     0.6583    0.9764    0.7864       296\n",
      "     folding     0.5000    0.9899    0.6644       198\n",
      "\n",
      "    accuracy                         0.7722      8741\n",
      "   macro avg     0.7784    0.7726    0.7345      8741\n",
      "weighted avg     0.8168    0.7722    0.7578      8741\n",
      "\n"
     ]
    }
   ],
   "source": [
    "for i, path in enumerate(kar_result_list):\n",
    "    result = pd.read_pickle(path)\n",
    "    conf_mat = result['conf_mat']\n",
    "    print(f'{i}th confusion matrix \\n{conf_mat}')"
   ]
  },
  {
   "attachments": {},
   "cell_type": "markdown",
   "metadata": {},
   "source": [
    "## WIS"
   ]
  },
  {
   "cell_type": "code",
   "execution_count": 49,
   "metadata": {},
   "outputs": [],
   "source": [
    "wis_result_list = glob.glob('../result_rl/bestf1/wis/test_*/ckpt_best.pkl')"
   ]
  },
  {
   "cell_type": "code",
   "execution_count": 50,
   "metadata": {},
   "outputs": [
    {
     "data": {
      "text/plain": [
       "['../result_rl/bestf1/wis/test_rlnas_4/ckpt_best.pkl',\n",
       " '../result_rl/bestf1/wis/test_rlnas_5/ckpt_best.pkl',\n",
       " '../result_rl/bestf1/wis/test_rlnas_1/ckpt_best.pkl',\n",
       " '../result_rl/bestf1/wis/test_rlnas_2/ckpt_best.pkl',\n",
       " '../result_rl/bestf1/wis/test_rlnas_3/ckpt_best.pkl']"
      ]
     },
     "execution_count": 50,
     "metadata": {},
     "output_type": "execute_result"
    }
   ],
   "source": [
    "wis_result_list"
   ]
  },
  {
   "cell_type": "code",
   "execution_count": 51,
   "metadata": {},
   "outputs": [],
   "source": [
    "f1scores = []\n",
    "accuracies = []\n",
    "flops = []\n",
    "params = []\n",
    "\n",
    "for path in wis_result_list:\n",
    "    result = pd.read_pickle(path)\n",
    "    f1scores.append(result['f1score'])\n",
    "    accuracies.append(result['accuracy'])\n",
    "    flops.append(result['flops'])\n",
    "    params.append(result['params'])"
   ]
  },
  {
   "cell_type": "code",
   "execution_count": 52,
   "metadata": {},
   "outputs": [
    {
     "data": {
      "text/plain": [
       "47.855104"
      ]
     },
     "execution_count": 52,
     "metadata": {},
     "output_type": "execute_result"
    }
   ],
   "source": [
    "result['flops']"
   ]
  },
  {
   "cell_type": "code",
   "execution_count": 53,
   "metadata": {},
   "outputs": [
    {
     "name": "stdout",
     "output_type": "stream",
     "text": [
      "Average of 5 train/test runs\n",
      "RLNAS \n",
      "F1 score: 0.858 +/- 0.002\n",
      "Accuracy score: 0.857 +/- 0.002\n",
      "n. FLOPs: 47.855\n",
      "n. Params: 0.777\n"
     ]
    },
    {
     "ename": "",
     "evalue": "",
     "output_type": "error",
     "traceback": [
      "\u001b[1;31mThe Kernel crashed while executing code in the the current cell or a previous cell. Please review the code in the cell(s) to identify a possible cause of the failure. Click <a href='https://aka.ms/vscodeJupyterKernelCrash'>here</a> for more info. View Jupyter <a href='command:jupyter.viewOutput'>log</a> for further details."
     ]
    }
   ],
   "source": [
    "print('Average of {} train/test runs'.format(len(f1scores)))\n",
    "print('RLNAS ')\n",
    "print('F1 score: {:.3f} +/- {:.3f}'.format(np.mean(f1scores),np.std(f1scores)))\n",
    "print('Accuracy score: {:.3f} +/- {:.3f}'.format(np.mean(accuracies),np.std(accuracies)))\n",
    "print('n. FLOPs: {:.3f}'.format(np.mean(flops)))\n",
    "print('n. Params: {:.3f}'.format(np.mean(params)))"
   ]
  },
  {
   "cell_type": "code",
   "execution_count": 58,
   "metadata": {},
   "outputs": [
    {
     "name": "stdout",
     "output_type": "stream",
     "text": [
      "0th confusion matrix \n",
      "                    precision    recall  f1-score   support\n",
      "\n",
      "           WALKING     0.8174    0.9689    0.8867      3918\n",
      "  WALKING_UPSTAIRS     0.9377    0.8287    0.8798      5918\n",
      "WALKING_DOWNSTAIRS     0.6894    0.7814    0.7326      1679\n",
      "           SITTING     0.8376    0.7748    0.8050      1545\n",
      "          STANDING     0.9883    0.8165    0.8942       932\n",
      "            LAYING     0.8610    0.8772    0.8690       847\n",
      "\n",
      "          accuracy                         0.8567     14839\n",
      "         macro avg     0.8552    0.8412    0.8445     14839\n",
      "      weighted avg     0.8662    0.8567    0.8575     14839\n",
      "\n",
      "1th confusion matrix \n",
      "                    precision    recall  f1-score   support\n",
      "\n",
      "           WALKING     0.8366    0.9581    0.8933      3918\n",
      "  WALKING_UPSTAIRS     0.9497    0.8450    0.8943      5918\n",
      "WALKING_DOWNSTAIRS     0.6325    0.8148    0.7121      1679\n",
      "           SITTING     0.8592    0.7107    0.7779      1545\n",
      "          STANDING     0.9845    0.8165    0.8927       932\n",
      "            LAYING     0.8670    0.8926    0.8796       847\n",
      "\n",
      "          accuracy                         0.8584     14839\n",
      "         macro avg     0.8549    0.8396    0.8416     14839\n",
      "      weighted avg     0.8720    0.8584    0.8604     14839\n",
      "\n",
      "2th confusion matrix \n",
      "                    precision    recall  f1-score   support\n",
      "\n",
      "           WALKING     0.8085    0.9699    0.8819      3918\n",
      "  WALKING_UPSTAIRS     0.9542    0.8140    0.8785      5918\n",
      "WALKING_DOWNSTAIRS     0.6619    0.7767    0.7147      1679\n",
      "           SITTING     0.8422    0.8155    0.8287      1545\n",
      "          STANDING     0.9922    0.8165    0.8958       932\n",
      "            LAYING     0.8683    0.8796    0.8739       847\n",
      "\n",
      "          accuracy                         0.8550     14839\n",
      "         macro avg     0.8546    0.8454    0.8456     14839\n",
      "      weighted avg     0.8685    0.8550    0.8565     14839\n",
      "\n",
      "3th confusion matrix \n",
      "                    precision    recall  f1-score   support\n",
      "\n",
      "           WALKING     0.8296    0.9668    0.8930      3918\n",
      "  WALKING_UPSTAIRS     0.9399    0.8435    0.8891      5918\n",
      "WALKING_DOWNSTAIRS     0.6362    0.8070    0.7115      1679\n",
      "           SITTING     0.8187    0.7016    0.7557      1545\n",
      "          STANDING     0.9845    0.8165    0.8927       932\n",
      "            LAYING     0.9388    0.8146    0.8723       847\n",
      "\n",
      "          accuracy                         0.8538     14839\n",
      "         macro avg     0.8579    0.8250    0.8357     14839\n",
      "      weighted avg     0.8665    0.8538    0.8554     14839\n",
      "\n",
      "4th confusion matrix \n",
      "                    precision    recall  f1-score   support\n",
      "\n",
      "           WALKING     0.8178    0.9712    0.8879      3918\n",
      "  WALKING_UPSTAIRS     0.9556    0.8327    0.8899      5918\n",
      "WALKING_DOWNSTAIRS     0.6583    0.7838    0.7156      1679\n",
      "           SITTING     0.8629    0.7741    0.8161      1545\n",
      "          STANDING     0.9896    0.8165    0.8948       932\n",
      "            LAYING     0.8640    0.8926    0.8780       847\n",
      "\n",
      "          accuracy                         0.8600     14839\n",
      "         macro avg     0.8580    0.8451    0.8471     14839\n",
      "      weighted avg     0.8728    0.8600    0.8616     14839\n",
      "\n"
     ]
    }
   ],
   "source": [
    "for i, path in enumerate(wis_result_list):\n",
    "    result = pd.read_pickle(path)\n",
    "    conf_mat = result['conf_mat']\n",
    "    print(f'{i}th confusion matrix \\n{conf_mat}')"
   ]
  },
  {
   "attachments": {},
   "cell_type": "markdown",
   "metadata": {},
   "source": [
    "## OPP"
   ]
  },
  {
   "cell_type": "code",
   "execution_count": 59,
   "metadata": {},
   "outputs": [],
   "source": [
    "opp_result_list = glob.glob('../result_rl/bestf1/opp/test_*/ckpt_best.pkl')"
   ]
  },
  {
   "cell_type": "code",
   "execution_count": 60,
   "metadata": {},
   "outputs": [
    {
     "data": {
      "text/plain": [
       "['../result_rl/bestf1/opp/test_rlnas_4/ckpt_best.pkl',\n",
       " '../result_rl/bestf1/opp/test_rlnas_5/ckpt_best.pkl',\n",
       " '../result_rl/bestf1/opp/test_rlnas_1/ckpt_best.pkl',\n",
       " '../result_rl/bestf1/opp/test_rlnas_2/ckpt_best.pkl',\n",
       " '../result_rl/bestf1/opp/test_rlnas_3/ckpt_best.pkl']"
      ]
     },
     "execution_count": 60,
     "metadata": {},
     "output_type": "execute_result"
    }
   ],
   "source": [
    "opp_result_list"
   ]
  },
  {
   "cell_type": "code",
   "execution_count": 61,
   "metadata": {},
   "outputs": [],
   "source": [
    "f1scores = []\n",
    "accuracies = []\n",
    "flops = []\n",
    "params = []\n",
    "\n",
    "for path in opp_result_list:\n",
    "    result = pd.read_pickle(path)\n",
    "    f1scores.append(result['f1score'])\n",
    "    accuracies.append(result['accuracy'])\n",
    "    flops.append(result['flops'])\n",
    "    params.append(result['params'])"
   ]
  },
  {
   "cell_type": "code",
   "execution_count": 62,
   "metadata": {},
   "outputs": [
    {
     "data": {
      "text/plain": [
       "9.562368"
      ]
     },
     "execution_count": 62,
     "metadata": {},
     "output_type": "execute_result"
    }
   ],
   "source": [
    "result['flops']"
   ]
  },
  {
   "cell_type": "code",
   "execution_count": 63,
   "metadata": {},
   "outputs": [
    {
     "name": "stdout",
     "output_type": "stream",
     "text": [
      "Average of 5 train/test runs\n",
      "RLNAS \n",
      "F1 score: 0.888 +/- 0.000\n",
      "Accuracy score: 0.889 +/- 0.000\n",
      "n. FLOPs: 9.562\n",
      "n. Params: 0.597\n"
     ]
    }
   ],
   "source": [
    "print('Average of {} train/test runs'.format(len(f1scores)))\n",
    "print('RLNAS ')\n",
    "print('F1 score: {:.3f} +/- {:.3f}'.format(np.mean(f1scores),np.std(f1scores)))\n",
    "print('Accuracy score: {:.3f} +/- {:.3f}'.format(np.mean(accuracies),np.std(accuracies)))\n",
    "print('n. FLOPs: {:.3f}'.format(np.mean(flops)))\n",
    "print('n. Params: {:.3f}'.format(np.mean(params)))"
   ]
  },
  {
   "cell_type": "code",
   "execution_count": 64,
   "metadata": {},
   "outputs": [
    {
     "name": "stdout",
     "output_type": "stream",
     "text": [
      "0th confusion matrix \n",
      "                  precision    recall  f1-score   support\n",
      "\n",
      "            Null     0.9450    0.9559    0.9504     12371\n",
      "     Open Door 1     0.4220    0.5476    0.4767        84\n",
      "     Open Door 2     0.8684    0.6923    0.7704       143\n",
      "    Close Door 1     0.6061    0.6742    0.6383        89\n",
      "    Close Door 2     0.7724    0.9032    0.8327       124\n",
      "     Open Fridge     0.6573    0.6206    0.6384       340\n",
      "    Close Fridge     0.7120    0.5622    0.6283       233\n",
      " Open Dishwasher     0.3534    0.6111    0.4478       144\n",
      "Close Dishwasher     0.2928    0.4492    0.3545       118\n",
      "   Open Drawer 1     0.3421    0.4561    0.3910        57\n",
      "  Close Drawer 1     0.5556    0.1515    0.2381        66\n",
      "   Open Drawer 2     0.3396    0.3000    0.3186        60\n",
      "  Close Drawer 2     0.6364    0.1750    0.2745        40\n",
      "   Open Drawer 3     0.5900    0.6020    0.5960        98\n",
      "  Close Drawer 3     0.5370    0.6517    0.5888        89\n",
      "     Clean Table     0.8235    0.3758    0.5161       149\n",
      "  Drink from Cup     0.6785    0.5242    0.5914       475\n",
      "   Toggle Switch     0.6967    0.5380    0.6071       158\n",
      "\n",
      "        accuracy                         0.8891     14838\n",
      "       macro avg     0.6016    0.5439    0.5477     14838\n",
      "    weighted avg     0.8921    0.8891    0.8876     14838\n",
      "\n",
      "1th confusion matrix \n",
      "                  precision    recall  f1-score   support\n",
      "\n",
      "            Null     0.9450    0.9559    0.9504     12371\n",
      "     Open Door 1     0.4220    0.5476    0.4767        84\n",
      "     Open Door 2     0.8684    0.6923    0.7704       143\n",
      "    Close Door 1     0.6061    0.6742    0.6383        89\n",
      "    Close Door 2     0.7724    0.9032    0.8327       124\n",
      "     Open Fridge     0.6573    0.6206    0.6384       340\n",
      "    Close Fridge     0.7120    0.5622    0.6283       233\n",
      " Open Dishwasher     0.3534    0.6111    0.4478       144\n",
      "Close Dishwasher     0.2928    0.4492    0.3545       118\n",
      "   Open Drawer 1     0.3421    0.4561    0.3910        57\n",
      "  Close Drawer 1     0.5556    0.1515    0.2381        66\n",
      "   Open Drawer 2     0.3396    0.3000    0.3186        60\n",
      "  Close Drawer 2     0.6364    0.1750    0.2745        40\n",
      "   Open Drawer 3     0.5900    0.6020    0.5960        98\n",
      "  Close Drawer 3     0.5370    0.6517    0.5888        89\n",
      "     Clean Table     0.8235    0.3758    0.5161       149\n",
      "  Drink from Cup     0.6785    0.5242    0.5914       475\n",
      "   Toggle Switch     0.6967    0.5380    0.6071       158\n",
      "\n",
      "        accuracy                         0.8891     14838\n",
      "       macro avg     0.6016    0.5439    0.5477     14838\n",
      "    weighted avg     0.8921    0.8891    0.8876     14838\n",
      "\n",
      "2th confusion matrix \n",
      "                  precision    recall  f1-score   support\n",
      "\n",
      "            Null     0.9450    0.9559    0.9504     12371\n",
      "     Open Door 1     0.4220    0.5476    0.4767        84\n",
      "     Open Door 2     0.8684    0.6923    0.7704       143\n",
      "    Close Door 1     0.6061    0.6742    0.6383        89\n",
      "    Close Door 2     0.7724    0.9032    0.8327       124\n",
      "     Open Fridge     0.6573    0.6206    0.6384       340\n",
      "    Close Fridge     0.7120    0.5622    0.6283       233\n",
      " Open Dishwasher     0.3534    0.6111    0.4478       144\n",
      "Close Dishwasher     0.2928    0.4492    0.3545       118\n",
      "   Open Drawer 1     0.3421    0.4561    0.3910        57\n",
      "  Close Drawer 1     0.5556    0.1515    0.2381        66\n",
      "   Open Drawer 2     0.3396    0.3000    0.3186        60\n",
      "  Close Drawer 2     0.6364    0.1750    0.2745        40\n",
      "   Open Drawer 3     0.5900    0.6020    0.5960        98\n",
      "  Close Drawer 3     0.5370    0.6517    0.5888        89\n",
      "     Clean Table     0.8235    0.3758    0.5161       149\n",
      "  Drink from Cup     0.6785    0.5242    0.5914       475\n",
      "   Toggle Switch     0.6967    0.5380    0.6071       158\n",
      "\n",
      "        accuracy                         0.8891     14838\n",
      "       macro avg     0.6016    0.5439    0.5477     14838\n",
      "    weighted avg     0.8921    0.8891    0.8876     14838\n",
      "\n",
      "3th confusion matrix \n",
      "                  precision    recall  f1-score   support\n",
      "\n",
      "            Null     0.9450    0.9559    0.9504     12371\n",
      "     Open Door 1     0.4220    0.5476    0.4767        84\n",
      "     Open Door 2     0.8684    0.6923    0.7704       143\n",
      "    Close Door 1     0.6061    0.6742    0.6383        89\n",
      "    Close Door 2     0.7724    0.9032    0.8327       124\n",
      "     Open Fridge     0.6573    0.6206    0.6384       340\n",
      "    Close Fridge     0.7120    0.5622    0.6283       233\n",
      " Open Dishwasher     0.3534    0.6111    0.4478       144\n",
      "Close Dishwasher     0.2928    0.4492    0.3545       118\n",
      "   Open Drawer 1     0.3421    0.4561    0.3910        57\n",
      "  Close Drawer 1     0.5556    0.1515    0.2381        66\n",
      "   Open Drawer 2     0.3396    0.3000    0.3186        60\n",
      "  Close Drawer 2     0.6364    0.1750    0.2745        40\n",
      "   Open Drawer 3     0.5900    0.6020    0.5960        98\n",
      "  Close Drawer 3     0.5370    0.6517    0.5888        89\n",
      "     Clean Table     0.8235    0.3758    0.5161       149\n",
      "  Drink from Cup     0.6785    0.5242    0.5914       475\n",
      "   Toggle Switch     0.6967    0.5380    0.6071       158\n",
      "\n",
      "        accuracy                         0.8891     14838\n",
      "       macro avg     0.6016    0.5439    0.5477     14838\n",
      "    weighted avg     0.8921    0.8891    0.8876     14838\n",
      "\n",
      "4th confusion matrix \n",
      "                  precision    recall  f1-score   support\n",
      "\n",
      "            Null     0.9450    0.9559    0.9504     12371\n",
      "     Open Door 1     0.4220    0.5476    0.4767        84\n",
      "     Open Door 2     0.8684    0.6923    0.7704       143\n",
      "    Close Door 1     0.6061    0.6742    0.6383        89\n",
      "    Close Door 2     0.7724    0.9032    0.8327       124\n",
      "     Open Fridge     0.6573    0.6206    0.6384       340\n",
      "    Close Fridge     0.7120    0.5622    0.6283       233\n",
      " Open Dishwasher     0.3534    0.6111    0.4478       144\n",
      "Close Dishwasher     0.2928    0.4492    0.3545       118\n",
      "   Open Drawer 1     0.3421    0.4561    0.3910        57\n",
      "  Close Drawer 1     0.5556    0.1515    0.2381        66\n",
      "   Open Drawer 2     0.3396    0.3000    0.3186        60\n",
      "  Close Drawer 2     0.6364    0.1750    0.2745        40\n",
      "   Open Drawer 3     0.5900    0.6020    0.5960        98\n",
      "  Close Drawer 3     0.5370    0.6517    0.5888        89\n",
      "     Clean Table     0.8235    0.3758    0.5161       149\n",
      "  Drink from Cup     0.6785    0.5242    0.5914       475\n",
      "   Toggle Switch     0.6967    0.5380    0.6071       158\n",
      "\n",
      "        accuracy                         0.8891     14838\n",
      "       macro avg     0.6016    0.5439    0.5477     14838\n",
      "    weighted avg     0.8921    0.8891    0.8876     14838\n",
      "\n"
     ]
    }
   ],
   "source": [
    "for i, path in enumerate(opp_result_list):\n",
    "    result = pd.read_pickle(path)\n",
    "    conf_mat = result['conf_mat']\n",
    "    print(f'{i}th confusion matrix \\n{conf_mat}')"
   ]
  },
  {
   "cell_type": "code",
   "execution_count": null,
   "metadata": {},
   "outputs": [],
   "source": []
  }
 ],
 "metadata": {
  "kernelspec": {
   "display_name": "rl-harnas",
   "language": "python",
   "name": "python3"
  },
  "language_info": {
   "codemirror_mode": {
    "name": "ipython",
    "version": 3
   },
   "file_extension": ".py",
   "mimetype": "text/x-python",
   "name": "python",
   "nbconvert_exporter": "python",
   "pygments_lexer": "ipython3",
   "version": "3.6.13"
  },
  "orig_nbformat": 4
 },
 "nbformat": 4,
 "nbformat_minor": 2
}
