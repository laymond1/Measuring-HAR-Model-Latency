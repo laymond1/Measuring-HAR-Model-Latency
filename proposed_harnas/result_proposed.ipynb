{
 "cells": [
  {
   "cell_type": "code",
   "execution_count": 2,
   "metadata": {},
   "outputs": [],
   "source": [
    "import os\n",
    "import sys\n",
    "import glob\n",
    "import numpy as np\n",
    "import pandas as pd\n",
    "import pickle"
   ]
  },
  {
   "attachments": {},
   "cell_type": "markdown",
   "metadata": {},
   "source": [
    "# Proposed HARNAS Results"
   ]
  },
  {
   "attachments": {},
   "cell_type": "markdown",
   "metadata": {},
   "source": [
    "# No Regularization"
   ]
  },
  {
   "attachments": {},
   "cell_type": "markdown",
   "metadata": {},
   "source": [
    "## UCI"
   ]
  },
  {
   "cell_type": "code",
   "execution_count": 3,
   "metadata": {},
   "outputs": [],
   "source": [
    "uci_result_list = glob.glob('../result_pro_noreg/uci/test_*/ckpt_best.pkl')"
   ]
  },
  {
   "cell_type": "code",
   "execution_count": 4,
   "metadata": {},
   "outputs": [
    {
     "data": {
      "text/plain": [
       "['../result_pro_noreg/uci/test_prnas_5/ckpt_best.pkl',\n",
       " '../result_pro_noreg/uci/test_prnas_2/ckpt_best.pkl',\n",
       " '../result_pro_noreg/uci/test_prnas_1/ckpt_best.pkl',\n",
       " '../result_pro_noreg/uci/test_prnas_4/ckpt_best.pkl',\n",
       " '../result_pro_noreg/uci/test_prnas_3/ckpt_best.pkl']"
      ]
     },
     "execution_count": 4,
     "metadata": {},
     "output_type": "execute_result"
    }
   ],
   "source": [
    "uci_result_list"
   ]
  },
  {
   "cell_type": "code",
   "execution_count": 5,
   "metadata": {},
   "outputs": [],
   "source": [
    "f1scores = []\n",
    "accuracies = []\n",
    "flops = []\n",
    "params = []\n",
    "\n",
    "for path in uci_result_list:\n",
    "    result = pd.read_pickle(path)\n",
    "    f1scores.append(result['f1score'])\n",
    "    accuracies.append(result['accuracy'])\n",
    "    flops.append(result['flops'])\n",
    "    params.append(result['params'])"
   ]
  },
  {
   "cell_type": "code",
   "execution_count": 6,
   "metadata": {},
   "outputs": [
    {
     "data": {
      "text/plain": [
       "46.199552"
      ]
     },
     "execution_count": 6,
     "metadata": {},
     "output_type": "execute_result"
    }
   ],
   "source": [
    "result['flops']"
   ]
  },
  {
   "cell_type": "code",
   "execution_count": 7,
   "metadata": {},
   "outputs": [
    {
     "name": "stdout",
     "output_type": "stream",
     "text": [
      "Average of 5 train/test runs\n",
      "RLNAS \n",
      "F1 score: 0.837 +/- 0.007\n",
      "Accuracy score: 0.837 +/- 0.007\n",
      "n. FLOPs: 46.200\n",
      "n. Params: 0.359\n"
     ]
    }
   ],
   "source": [
    "print('Average of {} train/test runs'.format(len(f1scores)))\n",
    "print('RLNAS ')\n",
    "print('F1 score: {:.3f} +/- {:.3f}'.format(np.mean(f1scores),np.std(f1scores)))\n",
    "print('Accuracy score: {:.3f} +/- {:.3f}'.format(np.mean(accuracies),np.std(accuracies)))\n",
    "print('n. FLOPs: {:.3f}'.format(np.mean(flops)))\n",
    "print('n. Params: {:.3f}'.format(np.mean(params)))"
   ]
  },
  {
   "cell_type": "code",
   "execution_count": 8,
   "metadata": {},
   "outputs": [
    {
     "name": "stdout",
     "output_type": "stream",
     "text": [
      "0th confusion matrix \n",
      "                    precision    recall  f1-score   support\n",
      "\n",
      "           WALKING     0.9853    0.9456    0.9650       496\n",
      "  WALKING_UPSTAIRS     0.9554    0.9554    0.9554       471\n",
      "WALKING_DOWNSTAIRS     0.9155    0.9548    0.9347       420\n",
      "           SITTING     0.6407    0.7373    0.6856       491\n",
      "          STANDING     0.7695    0.7406    0.7548       532\n",
      "            LAYING     0.7629    0.6890    0.7241       537\n",
      "\n",
      "          accuracy                         0.8300      2947\n",
      "         macro avg     0.8382    0.8371    0.8366      2947\n",
      "      weighted avg     0.8337    0.8300    0.8308      2947\n",
      "\n",
      "1th confusion matrix \n",
      "                    precision    recall  f1-score   support\n",
      "\n",
      "           WALKING     0.9896    0.9617    0.9755       496\n",
      "  WALKING_UPSTAIRS     0.9696    0.9469    0.9581       471\n",
      "WALKING_DOWNSTAIRS     0.9348    0.9905    0.9618       420\n",
      "           SITTING     0.6851    0.7047    0.6948       491\n",
      "          STANDING     0.8273    0.7293    0.7752       532\n",
      "            LAYING     0.7355    0.8026    0.7676       537\n",
      "\n",
      "          accuracy                         0.8497      2947\n",
      "         macro avg     0.8570    0.8560    0.8555      2947\n",
      "      weighted avg     0.8523    0.8497    0.8500      2947\n",
      "\n",
      "2th confusion matrix \n",
      "                    precision    recall  f1-score   support\n",
      "\n",
      "           WALKING     0.9978    0.9335    0.9646       496\n",
      "  WALKING_UPSTAIRS     0.9726    0.9045    0.9373       471\n",
      "WALKING_DOWNSTAIRS     0.8480    0.9833    0.9107       420\n",
      "           SITTING     0.7011    0.6782    0.6894       491\n",
      "          STANDING     0.7646    0.7632    0.7639       532\n",
      "            LAYING     0.7627    0.7840    0.7732       537\n",
      "\n",
      "          accuracy                         0.8354      2947\n",
      "         macro avg     0.8411    0.8411    0.8398      2947\n",
      "      weighted avg     0.8381    0.8354    0.8356      2947\n",
      "\n",
      "3th confusion matrix \n",
      "                    precision    recall  f1-score   support\n",
      "\n",
      "           WALKING     0.9729    0.9415    0.9570       496\n",
      "  WALKING_UPSTAIRS     0.9782    0.9533    0.9656       471\n",
      "WALKING_DOWNSTAIRS     0.9148    0.9714    0.9423       420\n",
      "           SITTING     0.6591    0.7088    0.6830       491\n",
      "          STANDING     0.7290    0.7989    0.7623       532\n",
      "            LAYING     0.8004    0.6723    0.7308       537\n",
      "\n",
      "          accuracy                         0.8341      2947\n",
      "         macro avg     0.8424    0.8410    0.8402      2947\n",
      "      weighted avg     0.8377    0.8341    0.8343      2947\n",
      "\n",
      "4th confusion matrix \n",
      "                    precision    recall  f1-score   support\n",
      "\n",
      "           WALKING     0.9890    0.9073    0.9464       496\n",
      "  WALKING_UPSTAIRS     0.9801    0.9427    0.9610       471\n",
      "WALKING_DOWNSTAIRS     0.8611    0.9738    0.9140       420\n",
      "           SITTING     0.6948    0.6864    0.6906       491\n",
      "          STANDING     0.7359    0.7857    0.7600       532\n",
      "            LAYING     0.7847    0.7467    0.7653       537\n",
      "\n",
      "          accuracy                         0.8344      2947\n",
      "         macro avg     0.8409    0.8404    0.8395      2947\n",
      "      weighted avg     0.8374    0.8344    0.8348      2947\n",
      "\n"
     ]
    }
   ],
   "source": [
    "for i, path in enumerate(uci_result_list):\n",
    "    result = pd.read_pickle(path)\n",
    "    conf_mat = result['conf_mat']\n",
    "    print(f'{i}th confusion matrix \\n{conf_mat}')"
   ]
  },
  {
   "attachments": {},
   "cell_type": "markdown",
   "metadata": {},
   "source": [
    "## UNI"
   ]
  },
  {
   "cell_type": "code",
   "execution_count": 9,
   "metadata": {},
   "outputs": [],
   "source": [
    "uni_result_list = glob.glob('../result_pro_noreg/uni/test_*/ckpt_best.pkl')"
   ]
  },
  {
   "cell_type": "code",
   "execution_count": 10,
   "metadata": {},
   "outputs": [
    {
     "data": {
      "text/plain": [
       "['../result_pro_noreg/uni/test_prnas_5/ckpt_best.pkl',\n",
       " '../result_pro_noreg/uni/test_prnas_2/ckpt_best.pkl',\n",
       " '../result_pro_noreg/uni/test_prnas_1/ckpt_best.pkl',\n",
       " '../result_pro_noreg/uni/test_prnas_4/ckpt_best.pkl',\n",
       " '../result_pro_noreg/uni/test_prnas_3/ckpt_best.pkl']"
      ]
     },
     "execution_count": 10,
     "metadata": {},
     "output_type": "execute_result"
    }
   ],
   "source": [
    "uni_result_list"
   ]
  },
  {
   "cell_type": "code",
   "execution_count": 11,
   "metadata": {},
   "outputs": [],
   "source": [
    "f1scores = []\n",
    "accuracies = []\n",
    "flops = []\n",
    "params = []\n",
    "\n",
    "for path in uni_result_list:\n",
    "    result = pd.read_pickle(path)\n",
    "    f1scores.append(result['f1score'])\n",
    "    accuracies.append(result['accuracy'])\n",
    "    flops.append(result['flops'])\n",
    "    params.append(result['params'])"
   ]
  },
  {
   "cell_type": "code",
   "execution_count": 12,
   "metadata": {},
   "outputs": [
    {
     "data": {
      "text/plain": [
       "54.458816"
      ]
     },
     "execution_count": 12,
     "metadata": {},
     "output_type": "execute_result"
    }
   ],
   "source": [
    "result['flops']"
   ]
  },
  {
   "cell_type": "code",
   "execution_count": 13,
   "metadata": {},
   "outputs": [
    {
     "name": "stdout",
     "output_type": "stream",
     "text": [
      "Average of 5 train/test runs\n",
      "RLNAS \n",
      "F1 score: 0.911 +/- 0.005\n",
      "Accuracy score: 0.912 +/- 0.005\n",
      "n. FLOPs: 54.459\n",
      "n. Params: 0.360\n"
     ]
    }
   ],
   "source": [
    "print('Average of {} train/test runs'.format(len(f1scores)))\n",
    "print('RLNAS ')\n",
    "print('F1 score: {:.3f} +/- {:.3f}'.format(np.mean(f1scores),np.std(f1scores)))\n",
    "print('Accuracy score: {:.3f} +/- {:.3f}'.format(np.mean(accuracies),np.std(accuracies)))\n",
    "print('n. FLOPs: {:.3f}'.format(np.mean(flops)))\n",
    "print('n. Params: {:.3f}'.format(np.mean(params)))"
   ]
  },
  {
   "cell_type": "code",
   "execution_count": 14,
   "metadata": {},
   "outputs": [
    {
     "name": "stdout",
     "output_type": "stream",
     "text": [
      "0th confusion matrix \n",
      "                 precision    recall  f1-score   support\n",
      "\n",
      "   StandingUpFS     0.5833    0.4375    0.5000        16\n",
      "   StandingUpFL     0.6190    0.6190    0.6190        21\n",
      "        Walking     0.9714    0.9770    0.9742       174\n",
      "        Running     0.9899    0.9899    0.9899       199\n",
      "       GoingUpS     0.9167    0.9565    0.9362        92\n",
      "        Jumping     1.0000    0.9865    0.9932        74\n",
      "     GoingDownS     0.9847    0.9699    0.9773       133\n",
      "    LyingDownFS     0.6552    0.6552    0.6552        29\n",
      "    SittingDown     0.5833    0.7000    0.6364        20\n",
      "    FallingForw     0.9792    0.8868    0.9307        53\n",
      "   FallingRight     0.7719    0.8627    0.8148        51\n",
      "    FallingBack     0.8364    0.8679    0.8519        53\n",
      "HittingObstacle     0.9545    0.9545    0.9545        66\n",
      "  FallingWithPS     0.8704    0.9792    0.9216        48\n",
      "  FallingBackSC     0.8409    0.8409    0.8409        44\n",
      "        Syncope     0.7778    0.6863    0.7292        51\n",
      "    FallingLeft     0.8776    0.7963    0.8350        54\n",
      "\n",
      "       accuracy                         0.9100      1178\n",
      "      macro avg     0.8360    0.8333    0.8329      1178\n",
      "   weighted avg     0.9107    0.9100    0.9095      1178\n",
      "\n",
      "1th confusion matrix \n",
      "                 precision    recall  f1-score   support\n",
      "\n",
      "   StandingUpFS     0.6000    0.5625    0.5806        16\n",
      "   StandingUpFL     0.7500    0.7143    0.7317        21\n",
      "        Walking     0.9713    0.9713    0.9713       174\n",
      "        Running     1.0000    0.9899    0.9949       199\n",
      "       GoingUpS     0.9425    0.8913    0.9162        92\n",
      "        Jumping     0.9867    1.0000    0.9933        74\n",
      "     GoingDownS     0.9357    0.9850    0.9597       133\n",
      "    LyingDownFS     0.6786    0.6552    0.6667        29\n",
      "    SittingDown     0.6522    0.7500    0.6977        20\n",
      "    FallingForw     0.9020    0.8679    0.8846        53\n",
      "   FallingRight     0.7541    0.9020    0.8214        51\n",
      "    FallingBack     0.8431    0.8113    0.8269        53\n",
      "HittingObstacle     0.9846    0.9697    0.9771        66\n",
      "  FallingWithPS     0.8800    0.9167    0.8980        48\n",
      "  FallingBackSC     0.9048    0.8636    0.8837        44\n",
      "        Syncope     0.7917    0.7451    0.7677        51\n",
      "    FallingLeft     0.9020    0.8519    0.8762        54\n",
      "\n",
      "       accuracy                         0.9134      1178\n",
      "      macro avg     0.8517    0.8499    0.8499      1178\n",
      "   weighted avg     0.9145    0.9134    0.9133      1178\n",
      "\n",
      "2th confusion matrix \n",
      "                 precision    recall  f1-score   support\n",
      "\n",
      "   StandingUpFS     0.6364    0.4375    0.5185        16\n",
      "   StandingUpFL     0.7391    0.8095    0.7727        21\n",
      "        Walking     0.9825    0.9655    0.9739       174\n",
      "        Running     0.9752    0.9899    0.9825       199\n",
      "       GoingUpS     0.9651    0.9022    0.9326        92\n",
      "        Jumping     0.9859    0.9459    0.9655        74\n",
      "     GoingDownS     0.9231    0.9925    0.9565       133\n",
      "    LyingDownFS     0.7667    0.7931    0.7797        29\n",
      "    SittingDown     0.7273    0.8000    0.7619        20\n",
      "    FallingForw     0.8868    0.8868    0.8868        53\n",
      "   FallingRight     0.8846    0.9020    0.8932        51\n",
      "    FallingBack     0.8276    0.9057    0.8649        53\n",
      "HittingObstacle     0.9677    0.9091    0.9375        66\n",
      "  FallingWithPS     0.8269    0.8958    0.8600        48\n",
      "  FallingBackSC     0.9211    0.7955    0.8537        44\n",
      "        Syncope     0.8958    0.8431    0.8687        51\n",
      "    FallingLeft     0.8929    0.9259    0.9091        54\n",
      "\n",
      "       accuracy                         0.9211      1178\n",
      "      macro avg     0.8709    0.8647    0.8657      1178\n",
      "   weighted avg     0.9219    0.9211    0.9205      1178\n",
      "\n",
      "3th confusion matrix \n",
      "                 precision    recall  f1-score   support\n",
      "\n",
      "   StandingUpFS     0.6250    0.6250    0.6250        16\n",
      "   StandingUpFL     0.7500    0.7143    0.7317        21\n",
      "        Walking     0.9605    0.9770    0.9687       174\n",
      "        Running     0.9899    0.9899    0.9899       199\n",
      "       GoingUpS     0.9419    0.8804    0.9101        92\n",
      "        Jumping     1.0000    0.9865    0.9932        74\n",
      "     GoingDownS     0.9706    0.9925    0.9814       133\n",
      "    LyingDownFS     0.7692    0.6897    0.7273        29\n",
      "    SittingDown     0.6957    0.8000    0.7442        20\n",
      "    FallingForw     0.8333    0.8491    0.8411        53\n",
      "   FallingRight     0.8636    0.7451    0.8000        51\n",
      "    FallingBack     0.7719    0.8302    0.8000        53\n",
      "HittingObstacle     0.9559    0.9848    0.9701        66\n",
      "  FallingWithPS     0.8511    0.8333    0.8421        48\n",
      "  FallingBackSC     0.7333    0.7500    0.7416        44\n",
      "        Syncope     0.8222    0.7255    0.7708        51\n",
      "    FallingLeft     0.8226    0.9444    0.8793        54\n",
      "\n",
      "       accuracy                         0.9058      1178\n",
      "      macro avg     0.8445    0.8422    0.8422      1178\n",
      "   weighted avg     0.9062    0.9058    0.9052      1178\n",
      "\n",
      "4th confusion matrix \n",
      "                 precision    recall  f1-score   support\n",
      "\n",
      "   StandingUpFS     0.5000    0.4375    0.4667        16\n",
      "   StandingUpFL     0.5652    0.6190    0.5909        21\n",
      "        Walking     0.9884    0.9770    0.9827       174\n",
      "        Running     0.9950    0.9950    0.9950       199\n",
      "       GoingUpS     0.9368    0.9674    0.9519        92\n",
      "        Jumping     0.9730    0.9730    0.9730        74\n",
      "     GoingDownS     0.9776    0.9850    0.9813       133\n",
      "    LyingDownFS     0.6897    0.6897    0.6897        29\n",
      "    SittingDown     0.6667    0.8000    0.7273        20\n",
      "    FallingForw     0.8333    0.7547    0.7921        53\n",
      "   FallingRight     0.8980    0.8627    0.8800        51\n",
      "    FallingBack     0.8070    0.8679    0.8364        53\n",
      "HittingObstacle     0.9683    0.9242    0.9457        66\n",
      "  FallingWithPS     0.8600    0.8958    0.8776        48\n",
      "  FallingBackSC     0.7209    0.7045    0.7126        44\n",
      "        Syncope     0.7959    0.7647    0.7800        51\n",
      "    FallingLeft     0.8909    0.9074    0.8991        54\n",
      "\n",
      "       accuracy                         0.9075      1178\n",
      "      macro avg     0.8274    0.8309    0.8283      1178\n",
      "   weighted avg     0.9081    0.9075    0.9074      1178\n",
      "\n"
     ]
    }
   ],
   "source": [
    "for i, path in enumerate(uni_result_list):\n",
    "    result = pd.read_pickle(path)\n",
    "    conf_mat = result['conf_mat']\n",
    "    print(f'{i}th confusion matrix \\n{conf_mat}')"
   ]
  },
  {
   "attachments": {},
   "cell_type": "markdown",
   "metadata": {},
   "source": [
    "## KAR"
   ]
  },
  {
   "cell_type": "code",
   "execution_count": 15,
   "metadata": {},
   "outputs": [],
   "source": [
    "kar_result_list = glob.glob('../result_pro_noreg/kar/test_*/ckpt_best.pkl')"
   ]
  },
  {
   "cell_type": "code",
   "execution_count": 16,
   "metadata": {},
   "outputs": [
    {
     "data": {
      "text/plain": [
       "['../result_pro_noreg/kar/test_prnas_5/ckpt_best.pkl',\n",
       " '../result_pro_noreg/kar/test_prnas_2/ckpt_best.pkl',\n",
       " '../result_pro_noreg/kar/test_prnas_1/ckpt_best.pkl',\n",
       " '../result_pro_noreg/kar/test_prnas_4/ckpt_best.pkl',\n",
       " '../result_pro_noreg/kar/test_prnas_3/ckpt_best.pkl']"
      ]
     },
     "execution_count": 16,
     "metadata": {},
     "output_type": "execute_result"
    }
   ],
   "source": [
    "kar_result_list"
   ]
  },
  {
   "cell_type": "code",
   "execution_count": 17,
   "metadata": {},
   "outputs": [],
   "source": [
    "f1scores = []\n",
    "accuracies = []\n",
    "flops = []\n",
    "params = []\n",
    "\n",
    "for path in kar_result_list:\n",
    "    result = pd.read_pickle(path)\n",
    "    f1scores.append(result['f1score'])\n",
    "    accuracies.append(result['accuracy'])\n",
    "    flops.append(result['flops'])\n",
    "    params.append(result['params'])"
   ]
  },
  {
   "cell_type": "code",
   "execution_count": 18,
   "metadata": {},
   "outputs": [
    {
     "data": {
      "text/plain": [
       "108.280704"
      ]
     },
     "execution_count": 18,
     "metadata": {},
     "output_type": "execute_result"
    }
   ],
   "source": [
    "result['flops']"
   ]
  },
  {
   "cell_type": "code",
   "execution_count": 19,
   "metadata": {},
   "outputs": [
    {
     "name": "stdout",
     "output_type": "stream",
     "text": [
      "Average of 5 train/test runs\n",
      "RLNAS \n",
      "F1 score: 0.748 +/- 0.006\n",
      "Accuracy score: 0.761 +/- 0.006\n",
      "n. FLOPs: 108.281\n",
      "n. Params: 0.360\n"
     ]
    }
   ],
   "source": [
    "print('Average of {} train/test runs'.format(len(f1scores)))\n",
    "print('RLNAS ')\n",
    "print('F1 score: {:.3f} +/- {:.3f}'.format(np.mean(f1scores),np.std(f1scores)))\n",
    "print('Accuracy score: {:.3f} +/- {:.3f}'.format(np.mean(accuracies),np.std(accuracies)))\n",
    "print('n. FLOPs: {:.3f}'.format(np.mean(flops)))\n",
    "print('n. Params: {:.3f}'.format(np.mean(params)))"
   ]
  },
  {
   "cell_type": "code",
   "execution_count": 20,
   "metadata": {},
   "outputs": [
    {
     "name": "stdout",
     "output_type": "stream",
     "text": [
      "0th confusion matrix \n",
      "              precision    recall  f1-score   support\n",
      "\n",
      "     walking     0.8197    0.7675    0.7928       770\n",
      "     jogging     0.7049    0.6658    0.6848       757\n",
      "      stairs     0.9076    0.8321    0.8682       685\n",
      "     sitting     0.8743    0.9723    0.9207       758\n",
      "    standing     0.6405    0.9847    0.7761       720\n",
      "      typing     0.6701    0.7655    0.7146       759\n",
      "       teeth     0.8049    0.9565    0.8742       621\n",
      "        soup     0.6929    0.9548    0.8030       442\n",
      "       chips     0.8994    0.4613    0.6098       349\n",
      "       pasta     0.7052    0.7159    0.7105       264\n",
      "    drinking     0.9632    0.3036    0.4617       863\n",
      "    sandwich     0.9805    0.8118    0.8882       186\n",
      "     kicking     0.9195    0.9756    0.9467        82\n",
      "       catch     0.9388    0.5000    0.6525        92\n",
      "   dribbling     0.6982    0.5319    0.6038       596\n",
      "     writing     0.8250    0.9802    0.8959       303\n",
      "    clapping     0.8068    0.9595    0.8765       296\n",
      "     folding     0.5562    0.9495    0.7015       198\n",
      "\n",
      "    accuracy                         0.7646      8741\n",
      "   macro avg     0.8004    0.7827    0.7657      8741\n",
      "weighted avg     0.7912    0.7646    0.7496      8741\n",
      "\n",
      "1th confusion matrix \n",
      "              precision    recall  f1-score   support\n",
      "\n",
      "     walking     0.7361    0.7753    0.7552       770\n",
      "     jogging     0.6439    0.6473    0.6456       757\n",
      "      stairs     0.8859    0.8161    0.8495       685\n",
      "     sitting     0.8467    0.9617    0.9006       758\n",
      "    standing     0.7384    0.9958    0.8480       720\n",
      "      typing     0.6527    0.6166    0.6341       759\n",
      "       teeth     0.7275    0.9501    0.8240       621\n",
      "        soup     0.6336    0.9548    0.7617       442\n",
      "       chips     0.8646    0.4756    0.6137       349\n",
      "       pasta     0.5714    0.6970    0.6280       264\n",
      "    drinking     0.9574    0.3384    0.5000       863\n",
      "    sandwich     0.9917    0.6452    0.7818       186\n",
      "     kicking     0.8495    0.9634    0.9029        82\n",
      "       catch     0.8730    0.5978    0.7097        92\n",
      "   dribbling     0.8568    0.5520    0.6714       596\n",
      "     writing     0.7855    0.9670    0.8669       303\n",
      "    clapping     0.9448    0.9831    0.9636       296\n",
      "     folding     0.5128    0.9091    0.6557       198\n",
      "\n",
      "    accuracy                         0.7506      8741\n",
      "   macro avg     0.7818    0.7692    0.7507      8741\n",
      "weighted avg     0.7785    0.7506    0.7378      8741\n",
      "\n",
      "2th confusion matrix \n",
      "              precision    recall  f1-score   support\n",
      "\n",
      "     walking     0.7756    0.7182    0.7458       770\n",
      "     jogging     0.6603    0.6420    0.6510       757\n",
      "      stairs     0.9215    0.8058    0.8598       685\n",
      "     sitting     0.8506    0.9617    0.9028       758\n",
      "    standing     0.7527    0.9847    0.8532       720\n",
      "      typing     0.6254    0.7260    0.6720       759\n",
      "       teeth     0.8640    0.9517    0.9057       621\n",
      "        soup     0.6020    0.9412    0.7343       442\n",
      "       chips     0.8010    0.4613    0.5855       349\n",
      "       pasta     0.6491    0.6515    0.6503       264\n",
      "    drinking     0.9597    0.3314    0.4927       863\n",
      "    sandwich     0.9815    0.5699    0.7211       186\n",
      "     kicking     0.8989    0.9756    0.9357        82\n",
      "       catch     0.7606    0.5870    0.6626        92\n",
      "   dribbling     0.7313    0.8037    0.7658       596\n",
      "     writing     0.7350    0.9703    0.8364       303\n",
      "    clapping     0.9159    0.9561    0.9355       296\n",
      "     folding     0.7810    0.9545    0.8591       198\n",
      "\n",
      "    accuracy                         0.7655      8741\n",
      "   macro avg     0.7926    0.7774    0.7650      8741\n",
      "weighted avg     0.7873    0.7655    0.7530      8741\n",
      "\n",
      "3th confusion matrix \n",
      "              precision    recall  f1-score   support\n",
      "\n",
      "     walking     0.7831    0.8065    0.7946       770\n",
      "     jogging     0.6926    0.6816    0.6871       757\n",
      "      stairs     0.9085    0.8263    0.8654       685\n",
      "     sitting     0.8519    0.9565    0.9012       758\n",
      "    standing     0.7603    0.9778    0.8554       720\n",
      "      typing     0.7239    0.7391    0.7314       759\n",
      "       teeth     0.8201    0.9469    0.8789       621\n",
      "        soup     0.6598    0.9389    0.7750       442\n",
      "       chips     0.8469    0.4756    0.6092       349\n",
      "       pasta     0.4677    0.7121    0.5646       264\n",
      "    drinking     0.9508    0.3581    0.5202       863\n",
      "    sandwich     0.9769    0.6828    0.8038       186\n",
      "     kicking     0.9398    0.9512    0.9455        82\n",
      "       catch     0.6667    0.4565    0.5419        92\n",
      "   dribbling     0.7321    0.5503    0.6284       596\n",
      "     writing     0.8406    0.9571    0.8951       303\n",
      "    clapping     0.8794    0.9358    0.9067       296\n",
      "     folding     0.4933    0.9343    0.6457       198\n",
      "\n",
      "    accuracy                         0.7649      8741\n",
      "   macro avg     0.7775    0.7715    0.7528      8741\n",
      "weighted avg     0.7896    0.7649    0.7547      8741\n",
      "\n",
      "4th confusion matrix \n",
      "              precision    recall  f1-score   support\n",
      "\n",
      "     walking     0.7463    0.7870    0.7661       770\n",
      "     jogging     0.6981    0.7332    0.7152       757\n",
      "      stairs     0.9019    0.8321    0.8656       685\n",
      "     sitting     0.8711    0.9538    0.9106       758\n",
      "    standing     0.7373    0.9903    0.8453       720\n",
      "      typing     0.7171    0.6614    0.6881       759\n",
      "       teeth     0.7957    0.9469    0.8647       621\n",
      "        soup     0.5796    0.9389    0.7168       442\n",
      "       chips     0.8950    0.4642    0.6113       349\n",
      "       pasta     0.5597    0.6742    0.6117       264\n",
      "    drinking     0.9418    0.3187    0.4762       863\n",
      "    sandwich     0.9855    0.7312    0.8395       186\n",
      "     kicking     0.9195    0.9756    0.9467        82\n",
      "       catch     0.7667    0.5000    0.6053        92\n",
      "   dribbling     0.7348    0.5487    0.6282       596\n",
      "     writing     0.8406    0.9571    0.8951       303\n",
      "    clapping     0.9649    0.9291    0.9466       296\n",
      "     folding     0.4762    0.9596    0.6365       198\n",
      "\n",
      "    accuracy                         0.7586      8741\n",
      "   macro avg     0.7851    0.7723    0.7539      8741\n",
      "weighted avg     0.7873    0.7586    0.7466      8741\n",
      "\n"
     ]
    }
   ],
   "source": [
    "for i, path in enumerate(kar_result_list):\n",
    "    result = pd.read_pickle(path)\n",
    "    conf_mat = result['conf_mat']\n",
    "    print(f'{i}th confusion matrix \\n{conf_mat}')"
   ]
  },
  {
   "attachments": {},
   "cell_type": "markdown",
   "metadata": {},
   "source": [
    "## WIS"
   ]
  },
  {
   "cell_type": "code",
   "execution_count": 22,
   "metadata": {},
   "outputs": [],
   "source": [
    "wis_result_list = glob.glob('../result_pro_noreg/wis/test_*/ckpt_best.pkl')"
   ]
  },
  {
   "cell_type": "code",
   "execution_count": 23,
   "metadata": {},
   "outputs": [
    {
     "data": {
      "text/plain": [
       "['../result_pro_noreg/wis/test_prnas_5/ckpt_best.pkl',\n",
       " '../result_pro_noreg/wis/test_prnas_2/ckpt_best.pkl',\n",
       " '../result_pro_noreg/wis/test_prnas_1/ckpt_best.pkl',\n",
       " '../result_pro_noreg/wis/test_prnas_4/ckpt_best.pkl',\n",
       " '../result_pro_noreg/wis/test_prnas_3/ckpt_best.pkl']"
      ]
     },
     "execution_count": 23,
     "metadata": {},
     "output_type": "execute_result"
    }
   ],
   "source": [
    "wis_result_list"
   ]
  },
  {
   "cell_type": "code",
   "execution_count": 24,
   "metadata": {},
   "outputs": [],
   "source": [
    "f1scores = []\n",
    "accuracies = []\n",
    "flops = []\n",
    "params = []\n",
    "\n",
    "for path in wis_result_list:\n",
    "    result = pd.read_pickle(path)\n",
    "    f1scores.append(result['f1score'])\n",
    "    accuracies.append(result['accuracy'])\n",
    "    flops.append(result['flops'])\n",
    "    params.append(result['params'])"
   ]
  },
  {
   "cell_type": "code",
   "execution_count": 25,
   "metadata": {},
   "outputs": [
    {
     "data": {
      "text/plain": [
       "21.639168"
      ]
     },
     "execution_count": 25,
     "metadata": {},
     "output_type": "execute_result"
    }
   ],
   "source": [
    "result['flops']"
   ]
  },
  {
   "cell_type": "code",
   "execution_count": 26,
   "metadata": {},
   "outputs": [
    {
     "name": "stdout",
     "output_type": "stream",
     "text": [
      "Average of 5 train/test runs\n",
      "RLNAS \n",
      "F1 score: 0.870 +/- 0.003\n",
      "Accuracy score: 0.867 +/- 0.003\n",
      "n. FLOPs: 21.639\n",
      "n. Params: 0.359\n"
     ]
    }
   ],
   "source": [
    "print('Average of {} train/test runs'.format(len(f1scores)))\n",
    "print('RLNAS ')\n",
    "print('F1 score: {:.3f} +/- {:.3f}'.format(np.mean(f1scores),np.std(f1scores)))\n",
    "print('Accuracy score: {:.3f} +/- {:.3f}'.format(np.mean(accuracies),np.std(accuracies)))\n",
    "print('n. FLOPs: {:.3f}'.format(np.mean(flops)))\n",
    "print('n. Params: {:.3f}'.format(np.mean(params)))"
   ]
  },
  {
   "cell_type": "code",
   "execution_count": 27,
   "metadata": {},
   "outputs": [
    {
     "name": "stdout",
     "output_type": "stream",
     "text": [
      "0th confusion matrix \n",
      "                    precision    recall  f1-score   support\n",
      "\n",
      "           WALKING     0.9554    0.9288    0.9419      3918\n",
      "  WALKING_UPSTAIRS     0.9278    0.9169    0.9223      5918\n",
      "WALKING_DOWNSTAIRS     0.7307    0.7612    0.7456      1679\n",
      "           SITTING     0.6218    0.6790    0.6491      1545\n",
      "          STANDING     0.8880    0.8165    0.8508       932\n",
      "            LAYING     0.7930    0.8323    0.8122       847\n",
      "\n",
      "          accuracy                         0.8665     14839\n",
      "         macro avg     0.8195    0.8224    0.8203     14839\n",
      "      weighted avg     0.8707    0.8665    0.8683     14839\n",
      "\n",
      "1th confusion matrix \n",
      "                    precision    recall  f1-score   support\n",
      "\n",
      "           WALKING     0.9430    0.9367    0.9398      3918\n",
      "  WALKING_UPSTAIRS     0.9386    0.8603    0.8977      5918\n",
      "WALKING_DOWNSTAIRS     0.7438    0.7904    0.7664      1679\n",
      "           SITTING     0.5538    0.7165    0.6247      1545\n",
      "          STANDING     0.9400    0.9238    0.9318       932\n",
      "            LAYING     0.9017    0.8772    0.8893       847\n",
      "\n",
      "          accuracy                         0.8625     14839\n",
      "         macro avg     0.8368    0.8508    0.8416     14839\n",
      "      weighted avg     0.8756    0.8625    0.8672     14839\n",
      "\n",
      "2th confusion matrix \n",
      "                    precision    recall  f1-score   support\n",
      "\n",
      "           WALKING     0.9601    0.9283    0.9439      3918\n",
      "  WALKING_UPSTAIRS     0.9187    0.9104    0.9145      5918\n",
      "WALKING_DOWNSTAIRS     0.7820    0.7606    0.7711      1679\n",
      "           SITTING     0.5751    0.6939    0.6289      1545\n",
      "          STANDING     0.9505    0.8648    0.9056       932\n",
      "            LAYING     0.8169    0.8111    0.8140       847\n",
      "\n",
      "          accuracy                         0.8671     14839\n",
      "         macro avg     0.8339    0.8282    0.8297     14839\n",
      "      weighted avg     0.8746    0.8671    0.8700     14839\n",
      "\n",
      "3th confusion matrix \n",
      "                    precision    recall  f1-score   support\n",
      "\n",
      "           WALKING     0.9607    0.9293    0.9447      3918\n",
      "  WALKING_UPSTAIRS     0.9313    0.9018    0.9163      5918\n",
      "WALKING_DOWNSTAIRS     0.7504    0.7915    0.7704      1679\n",
      "           SITTING     0.5587    0.6595    0.6049      1545\n",
      "          STANDING     0.9564    0.8230    0.8847       932\n",
      "            LAYING     0.8165    0.8878    0.8507       847\n",
      "\n",
      "          accuracy                         0.8656     14839\n",
      "         macro avg     0.8290    0.8322    0.8286     14839\n",
      "      weighted avg     0.8748    0.8656    0.8692     14839\n",
      "\n",
      "4th confusion matrix \n",
      "                    precision    recall  f1-score   support\n",
      "\n",
      "           WALKING     0.9584    0.9066    0.9318      3918\n",
      "  WALKING_UPSTAIRS     0.9264    0.9295    0.9280      5918\n",
      "WALKING_DOWNSTAIRS     0.7585    0.7802    0.7692      1679\n",
      "           SITTING     0.5960    0.6693    0.6305      1545\n",
      "          STANDING     0.9506    0.8466    0.8956       932\n",
      "            LAYING     0.8483    0.9044    0.8754       847\n",
      "\n",
      "          accuracy                         0.8728     14839\n",
      "         macro avg     0.8397    0.8394    0.8384     14839\n",
      "      weighted avg     0.8785    0.8728    0.8750     14839\n",
      "\n"
     ]
    }
   ],
   "source": [
    "for i, path in enumerate(wis_result_list):\n",
    "    result = pd.read_pickle(path)\n",
    "    conf_mat = result['conf_mat']\n",
    "    print(f'{i}th confusion matrix \\n{conf_mat}')"
   ]
  },
  {
   "attachments": {},
   "cell_type": "markdown",
   "metadata": {},
   "source": [
    "## OPP"
   ]
  },
  {
   "cell_type": "code",
   "execution_count": 28,
   "metadata": {},
   "outputs": [],
   "source": [
    "opp_result_list = glob.glob('../result_pro_noreg/opp/test_*/ckpt_best.pkl')"
   ]
  },
  {
   "cell_type": "code",
   "execution_count": 29,
   "metadata": {},
   "outputs": [
    {
     "data": {
      "text/plain": [
       "['../result_pro_noreg/opp/test_prnas_5/ckpt_best.pkl',\n",
       " '../result_pro_noreg/opp/test_prnas_2/ckpt_best.pkl',\n",
       " '../result_pro_noreg/opp/test_prnas_1/ckpt_best.pkl',\n",
       " '../result_pro_noreg/opp/test_prnas_4/ckpt_best.pkl',\n",
       " '../result_pro_noreg/opp/test_prnas_3/ckpt_best.pkl']"
      ]
     },
     "execution_count": 29,
     "metadata": {},
     "output_type": "execute_result"
    }
   ],
   "source": [
    "opp_result_list"
   ]
  },
  {
   "cell_type": "code",
   "execution_count": 30,
   "metadata": {},
   "outputs": [],
   "source": [
    "f1scores = []\n",
    "accuracies = []\n",
    "flops = []\n",
    "params = []\n",
    "\n",
    "for path in opp_result_list:\n",
    "    result = pd.read_pickle(path)\n",
    "    f1scores.append(result['f1score'])\n",
    "    accuracies.append(result['accuracy'])\n",
    "    flops.append(result['flops'])\n",
    "    params.append(result['params'])"
   ]
  },
  {
   "cell_type": "code",
   "execution_count": 31,
   "metadata": {},
   "outputs": [
    {
     "data": {
      "text/plain": [
       "5.941504"
      ]
     },
     "execution_count": 31,
     "metadata": {},
     "output_type": "execute_result"
    }
   ],
   "source": [
    "result['flops']"
   ]
  },
  {
   "cell_type": "code",
   "execution_count": 32,
   "metadata": {},
   "outputs": [
    {
     "name": "stdout",
     "output_type": "stream",
     "text": [
      "Average of 5 train/test runs\n",
      "RLNAS \n",
      "F1 score: 0.893 +/- 0.001\n",
      "Accuracy score: 0.894 +/- 0.002\n",
      "n. FLOPs: 5.942\n",
      "n. Params: 0.371\n"
     ]
    }
   ],
   "source": [
    "print('Average of {} train/test runs'.format(len(f1scores)))\n",
    "print('RLNAS ')\n",
    "print('F1 score: {:.3f} +/- {:.3f}'.format(np.mean(f1scores),np.std(f1scores)))\n",
    "print('Accuracy score: {:.3f} +/- {:.3f}'.format(np.mean(accuracies),np.std(accuracies)))\n",
    "print('n. FLOPs: {:.3f}'.format(np.mean(flops)))\n",
    "print('n. Params: {:.3f}'.format(np.mean(params)))"
   ]
  },
  {
   "cell_type": "code",
   "execution_count": 33,
   "metadata": {},
   "outputs": [
    {
     "name": "stdout",
     "output_type": "stream",
     "text": [
      "0th confusion matrix \n",
      "                  precision    recall  f1-score   support\n",
      "\n",
      "            Null     0.9443    0.9574    0.9508     12371\n",
      "     Open Door 1     0.6071    0.6071    0.6071        84\n",
      "     Open Door 2     0.8013    0.8462    0.8231       143\n",
      "    Close Door 1     0.6957    0.7191    0.7072        89\n",
      "    Close Door 2     0.8684    0.7984    0.8319       124\n",
      "     Open Fridge     0.7689    0.5676    0.6531       340\n",
      "    Close Fridge     0.6223    0.7425    0.6771       233\n",
      " Open Dishwasher     0.6604    0.4861    0.5600       144\n",
      "Close Dishwasher     0.4526    0.3644    0.4038       118\n",
      "   Open Drawer 1     0.2174    0.2632    0.2381        57\n",
      "  Close Drawer 1     0.4769    0.4697    0.4733        66\n",
      "   Open Drawer 2     0.3929    0.3667    0.3793        60\n",
      "  Close Drawer 2     0.3488    0.3750    0.3614        40\n",
      "   Open Drawer 3     0.4722    0.5204    0.4951        98\n",
      "  Close Drawer 3     0.4301    0.4494    0.4396        89\n",
      "     Clean Table     0.7143    0.4362    0.5417       149\n",
      "  Drink from Cup     0.6527    0.6211    0.6365       475\n",
      "   Toggle Switch     0.6395    0.5949    0.6164       158\n",
      "\n",
      "        accuracy                         0.8954     14838\n",
      "       macro avg     0.5981    0.5659    0.5775     14838\n",
      "    weighted avg     0.8933    0.8954    0.8933     14838\n",
      "\n",
      "1th confusion matrix \n",
      "                  precision    recall  f1-score   support\n",
      "\n",
      "            Null     0.9435    0.9535    0.9485     12371\n",
      "     Open Door 1     0.6129    0.6786    0.6441        84\n",
      "     Open Door 2     0.8252    0.8252    0.8252       143\n",
      "    Close Door 1     0.7073    0.6517    0.6784        89\n",
      "    Close Door 2     0.8346    0.8952    0.8638       124\n",
      "     Open Fridge     0.7075    0.6618    0.6839       340\n",
      "    Close Fridge     0.6840    0.6781    0.6810       233\n",
      " Open Dishwasher     0.5797    0.5556    0.5674       144\n",
      "Close Dishwasher     0.3544    0.4746    0.4058       118\n",
      "   Open Drawer 1     0.3333    0.5439    0.4133        57\n",
      "  Close Drawer 1     0.4500    0.2727    0.3396        66\n",
      "   Open Drawer 2     0.5172    0.2500    0.3371        60\n",
      "  Close Drawer 2     0.5263    0.2500    0.3390        40\n",
      "   Open Drawer 3     0.7200    0.5510    0.6243        98\n",
      "  Close Drawer 3     0.5610    0.5169    0.5380        89\n",
      "     Clean Table     0.7833    0.3154    0.4498       149\n",
      "  Drink from Cup     0.5658    0.6063    0.5854       475\n",
      "   Toggle Switch     0.6970    0.5823    0.6345       158\n",
      "\n",
      "        accuracy                         0.8937     14838\n",
      "       macro avg     0.6335    0.5701    0.5866     14838\n",
      "    weighted avg     0.8929    0.8937    0.8915     14838\n",
      "\n",
      "2th confusion matrix \n",
      "                  precision    recall  f1-score   support\n",
      "\n",
      "            Null     0.9498    0.9498    0.9498     12371\n",
      "     Open Door 1     0.5660    0.7143    0.6316        84\n",
      "     Open Door 2     0.8658    0.9021    0.8836       143\n",
      "    Close Door 1     0.7375    0.6629    0.6982        89\n",
      "    Close Door 2     0.9052    0.8468    0.8750       124\n",
      "     Open Fridge     0.6780    0.6441    0.6606       340\n",
      "    Close Fridge     0.6880    0.7382    0.7122       233\n",
      " Open Dishwasher     0.4918    0.6250    0.5505       144\n",
      "Close Dishwasher     0.3138    0.5000    0.3856       118\n",
      "   Open Drawer 1     0.3368    0.5614    0.4211        57\n",
      "  Close Drawer 1     0.3182    0.2121    0.2545        66\n",
      "   Open Drawer 2     0.3793    0.3667    0.3729        60\n",
      "  Close Drawer 2     0.2093    0.2250    0.2169        40\n",
      "   Open Drawer 3     0.5810    0.6224    0.6010        98\n",
      "  Close Drawer 3     0.6479    0.5169    0.5750        89\n",
      "     Clean Table     0.6923    0.3624    0.4758       149\n",
      "  Drink from Cup     0.6523    0.6042    0.6273       475\n",
      "   Toggle Switch     0.6014    0.5253    0.5608       158\n",
      "\n",
      "        accuracy                         0.8930     14838\n",
      "       macro avg     0.5897    0.5878    0.5807     14838\n",
      "    weighted avg     0.8958    0.8930    0.8933     14838\n",
      "\n",
      "3th confusion matrix \n",
      "                  precision    recall  f1-score   support\n",
      "\n",
      "            Null     0.9489    0.9547    0.9518     12371\n",
      "     Open Door 1     0.5484    0.6071    0.5763        84\n",
      "     Open Door 2     0.8377    0.9021    0.8687       143\n",
      "    Close Door 1     0.6667    0.5618    0.6098        89\n",
      "    Close Door 2     0.8430    0.8226    0.8327       124\n",
      "     Open Fridge     0.6537    0.6941    0.6733       340\n",
      "    Close Fridge     0.7333    0.6609    0.6953       233\n",
      " Open Dishwasher     0.5346    0.5903    0.5611       144\n",
      "Close Dishwasher     0.3176    0.4576    0.3750       118\n",
      "   Open Drawer 1     0.2743    0.5439    0.3647        57\n",
      "  Close Drawer 1     0.4906    0.3939    0.4370        66\n",
      "   Open Drawer 2     0.3714    0.2167    0.2737        60\n",
      "  Close Drawer 2     0.8889    0.2000    0.3265        40\n",
      "   Open Drawer 3     0.5351    0.6224    0.5755        98\n",
      "  Close Drawer 3     0.5600    0.4719    0.5122        89\n",
      "     Clean Table     0.7966    0.3154    0.4519       149\n",
      "  Drink from Cup     0.6577    0.6147    0.6355       475\n",
      "   Toggle Switch     0.6370    0.5886    0.6118       158\n",
      "\n",
      "        accuracy                         0.8953     14838\n",
      "       macro avg     0.6275    0.5677    0.5740     14838\n",
      "    weighted avg     0.8974    0.8953    0.8942     14838\n",
      "\n",
      "4th confusion matrix \n",
      "                  precision    recall  f1-score   support\n",
      "\n",
      "            Null     0.9501    0.9428    0.9464     12371\n",
      "     Open Door 1     0.6211    0.7024    0.6592        84\n",
      "     Open Door 2     0.8815    0.8322    0.8561       143\n",
      "    Close Door 1     0.7126    0.6966    0.7045        89\n",
      "    Close Door 2     0.7863    0.8306    0.8078       124\n",
      "     Open Fridge     0.6597    0.7412    0.6981       340\n",
      "    Close Fridge     0.6780    0.6867    0.6823       233\n",
      " Open Dishwasher     0.5030    0.5764    0.5372       144\n",
      "Close Dishwasher     0.3503    0.4661    0.4000       118\n",
      "   Open Drawer 1     0.2921    0.4561    0.3562        57\n",
      "  Close Drawer 1     0.3529    0.1818    0.2400        66\n",
      "   Open Drawer 2     0.4211    0.2667    0.3265        60\n",
      "  Close Drawer 2     0.3889    0.1750    0.2414        40\n",
      "   Open Drawer 3     0.6628    0.5816    0.6196        98\n",
      "  Close Drawer 3     0.6275    0.3596    0.4571        89\n",
      "     Clean Table     0.6596    0.4161    0.5103       149\n",
      "  Drink from Cup     0.5756    0.7053    0.6339       475\n",
      "   Toggle Switch     0.5824    0.6709    0.6235       158\n",
      "\n",
      "        accuracy                         0.8902     14838\n",
      "       macro avg     0.5947    0.5716    0.5722     14838\n",
      "    weighted avg     0.8932    0.8902    0.8904     14838\n",
      "\n"
     ]
    }
   ],
   "source": [
    "for i, path in enumerate(opp_result_list):\n",
    "    result = pd.read_pickle(path)\n",
    "    conf_mat = result['conf_mat']\n",
    "    print(f'{i}th confusion matrix \\n{conf_mat}')"
   ]
  },
  {
   "attachments": {},
   "cell_type": "markdown",
   "metadata": {},
   "source": [
    "# CPU"
   ]
  },
  {
   "attachments": {},
   "cell_type": "markdown",
   "metadata": {},
   "source": [
    "## UCI"
   ]
  },
  {
   "cell_type": "code",
   "execution_count": 34,
   "metadata": {},
   "outputs": [],
   "source": [
    "uci_result_list = glob.glob('../result_pro_cpu/uci/test_*/ckpt_best.pkl')"
   ]
  },
  {
   "cell_type": "code",
   "execution_count": 35,
   "metadata": {},
   "outputs": [
    {
     "data": {
      "text/plain": [
       "['../result_pro_cpu/uci/test_prnas_5/ckpt_best.pkl',\n",
       " '../result_pro_cpu/uci/test_prnas_2/ckpt_best.pkl',\n",
       " '../result_pro_cpu/uci/test_prnas_1/ckpt_best.pkl',\n",
       " '../result_pro_cpu/uci/test_prnas_4/ckpt_best.pkl',\n",
       " '../result_pro_cpu/uci/test_prnas_3/ckpt_best.pkl']"
      ]
     },
     "execution_count": 35,
     "metadata": {},
     "output_type": "execute_result"
    }
   ],
   "source": [
    "uci_result_list"
   ]
  },
  {
   "cell_type": "code",
   "execution_count": 36,
   "metadata": {},
   "outputs": [],
   "source": [
    "f1scores = []\n",
    "accuracies = []\n",
    "flops = []\n",
    "params = []\n",
    "\n",
    "for path in uci_result_list:\n",
    "    result = pd.read_pickle(path)\n",
    "    f1scores.append(result['f1score'])\n",
    "    accuracies.append(result['accuracy'])\n",
    "    flops.append(result['flops'])\n",
    "    params.append(result['params'])"
   ]
  },
  {
   "cell_type": "code",
   "execution_count": 37,
   "metadata": {},
   "outputs": [
    {
     "data": {
      "text/plain": [
       "45.327104"
      ]
     },
     "execution_count": 37,
     "metadata": {},
     "output_type": "execute_result"
    }
   ],
   "source": [
    "result['flops']"
   ]
  },
  {
   "cell_type": "code",
   "execution_count": 38,
   "metadata": {},
   "outputs": [
    {
     "name": "stdout",
     "output_type": "stream",
     "text": [
      "Average of 5 train/test runs\n",
      "RLNAS \n",
      "F1 score: 0.833 +/- 0.005\n",
      "Accuracy score: 0.833 +/- 0.005\n",
      "n. FLOPs: 45.327\n",
      "n. Params: 0.352\n"
     ]
    }
   ],
   "source": [
    "print('Average of {} train/test runs'.format(len(f1scores)))\n",
    "print('RLNAS ')\n",
    "print('F1 score: {:.3f} +/- {:.3f}'.format(np.mean(f1scores),np.std(f1scores)))\n",
    "print('Accuracy score: {:.3f} +/- {:.3f}'.format(np.mean(accuracies),np.std(accuracies)))\n",
    "print('n. FLOPs: {:.3f}'.format(np.mean(flops)))\n",
    "print('n. Params: {:.3f}'.format(np.mean(params)))"
   ]
  },
  {
   "cell_type": "code",
   "execution_count": 39,
   "metadata": {},
   "outputs": [
    {
     "name": "stdout",
     "output_type": "stream",
     "text": [
      "0th confusion matrix \n",
      "                    precision    recall  f1-score   support\n",
      "\n",
      "           WALKING     0.9666    0.9335    0.9497       496\n",
      "  WALKING_UPSTAIRS     0.9654    0.9490    0.9572       471\n",
      "WALKING_DOWNSTAIRS     0.9234    0.9762    0.9491       420\n",
      "           SITTING     0.6641    0.7047    0.6838       491\n",
      "          STANDING     0.7601    0.8102    0.7843       532\n",
      "            LAYING     0.7865    0.6927    0.7366       537\n",
      "\n",
      "          accuracy                         0.8378      2947\n",
      "         macro avg     0.8444    0.8444    0.8435      2947\n",
      "      weighted avg     0.8398    0.8378    0.8378      2947\n",
      "\n",
      "1th confusion matrix \n",
      "                    precision    recall  f1-score   support\n",
      "\n",
      "           WALKING     0.9774    0.8710    0.9211       496\n",
      "  WALKING_UPSTAIRS     0.9823    0.9406    0.9610       471\n",
      "WALKING_DOWNSTAIRS     0.8367    0.9881    0.9061       420\n",
      "           SITTING     0.6772    0.6965    0.6867       491\n",
      "          STANDING     0.7930    0.7632    0.7778       532\n",
      "            LAYING     0.7505    0.7561    0.7532       537\n",
      "\n",
      "          accuracy                         0.8293      2947\n",
      "         macro avg     0.8362    0.8359    0.8343      2947\n",
      "      weighted avg     0.8335    0.8293    0.8298      2947\n",
      "\n",
      "2th confusion matrix \n",
      "                    precision    recall  f1-score   support\n",
      "\n",
      "           WALKING     0.9787    0.9254    0.9513       496\n",
      "  WALKING_UPSTAIRS     0.9593    0.9512    0.9552       471\n",
      "WALKING_DOWNSTAIRS     0.8882    0.9643    0.9247       420\n",
      "           SITTING     0.7193    0.6212    0.6667       491\n",
      "          STANDING     0.7150    0.8252    0.7661       532\n",
      "            LAYING     0.7988    0.7691    0.7837       537\n",
      "\n",
      "          accuracy                         0.8378      2947\n",
      "         macro avg     0.8432    0.8427    0.8413      2947\n",
      "      weighted avg     0.8391    0.8378    0.8367      2947\n",
      "\n",
      "3th confusion matrix \n",
      "                    precision    recall  f1-score   support\n",
      "\n",
      "           WALKING     0.9665    0.9294    0.9476       496\n",
      "  WALKING_UPSTAIRS     0.9687    0.9193    0.9434       471\n",
      "WALKING_DOWNSTAIRS     0.8822    0.9810    0.9290       420\n",
      "           SITTING     0.6546    0.7026    0.6778       491\n",
      "          STANDING     0.7680    0.7838    0.7758       532\n",
      "            LAYING     0.7551    0.6834    0.7175       537\n",
      "\n",
      "          accuracy                         0.8263      2947\n",
      "         macro avg     0.8325    0.8333    0.8318      2947\n",
      "      weighted avg     0.8285    0.8263    0.8264      2947\n",
      "\n",
      "4th confusion matrix \n",
      "                    precision    recall  f1-score   support\n",
      "\n",
      "           WALKING     0.9870    0.9194    0.9520       496\n",
      "  WALKING_UPSTAIRS     0.9713    0.9342    0.9524       471\n",
      "WALKING_DOWNSTAIRS     0.8689    0.9786    0.9205       420\n",
      "           SITTING     0.6635    0.7189    0.6901       491\n",
      "          STANDING     0.7535    0.8158    0.7834       532\n",
      "            LAYING     0.8204    0.6890    0.7490       537\n",
      "\n",
      "          accuracy                         0.8361      2947\n",
      "         macro avg     0.8441    0.8426    0.8412      2947\n",
      "      weighted avg     0.8413    0.8361    0.8365      2947\n",
      "\n"
     ]
    }
   ],
   "source": [
    "for i, path in enumerate(uci_result_list):\n",
    "    result = pd.read_pickle(path)\n",
    "    conf_mat = result['conf_mat']\n",
    "    print(f'{i}th confusion matrix \\n{conf_mat}')"
   ]
  },
  {
   "attachments": {},
   "cell_type": "markdown",
   "metadata": {},
   "source": [
    "## UNI"
   ]
  },
  {
   "cell_type": "code",
   "execution_count": 40,
   "metadata": {},
   "outputs": [],
   "source": [
    "uni_result_list = glob.glob('../result_pro_cpu/uni/test_*/ckpt_best.pkl')"
   ]
  },
  {
   "cell_type": "code",
   "execution_count": 41,
   "metadata": {},
   "outputs": [
    {
     "data": {
      "text/plain": [
       "['../result_pro_cpu/uni/test_prnas_5/ckpt_best.pkl',\n",
       " '../result_pro_cpu/uni/test_prnas_2/ckpt_best.pkl',\n",
       " '../result_pro_cpu/uni/test_prnas_1/ckpt_best.pkl',\n",
       " '../result_pro_cpu/uni/test_prnas_4/ckpt_best.pkl',\n",
       " '../result_pro_cpu/uni/test_prnas_3/ckpt_best.pkl']"
      ]
     },
     "execution_count": 41,
     "metadata": {},
     "output_type": "execute_result"
    }
   ],
   "source": [
    "uni_result_list"
   ]
  },
  {
   "cell_type": "code",
   "execution_count": 42,
   "metadata": {},
   "outputs": [],
   "source": [
    "f1scores = []\n",
    "accuracies = []\n",
    "flops = []\n",
    "params = []\n",
    "\n",
    "for path in uni_result_list:\n",
    "    result = pd.read_pickle(path)\n",
    "    f1scores.append(result['f1score'])\n",
    "    accuracies.append(result['accuracy'])\n",
    "    flops.append(result['flops'])\n",
    "    params.append(result['params'])"
   ]
  },
  {
   "cell_type": "code",
   "execution_count": 43,
   "metadata": {},
   "outputs": [
    {
     "data": {
      "text/plain": [
       "53.4296"
      ]
     },
     "execution_count": 43,
     "metadata": {},
     "output_type": "execute_result"
    }
   ],
   "source": [
    "result['flops']"
   ]
  },
  {
   "cell_type": "code",
   "execution_count": 44,
   "metadata": {},
   "outputs": [
    {
     "name": "stdout",
     "output_type": "stream",
     "text": [
      "Average of 5 train/test runs\n",
      "RLNAS \n",
      "F1 score: 0.908 +/- 0.004\n",
      "Accuracy score: 0.908 +/- 0.004\n",
      "n. FLOPs: 53.430\n",
      "n. Params: 0.353\n"
     ]
    }
   ],
   "source": [
    "print('Average of {} train/test runs'.format(len(f1scores)))\n",
    "print('RLNAS ')\n",
    "print('F1 score: {:.3f} +/- {:.3f}'.format(np.mean(f1scores),np.std(f1scores)))\n",
    "print('Accuracy score: {:.3f} +/- {:.3f}'.format(np.mean(accuracies),np.std(accuracies)))\n",
    "print('n. FLOPs: {:.3f}'.format(np.mean(flops)))\n",
    "print('n. Params: {:.3f}'.format(np.mean(params)))"
   ]
  },
  {
   "cell_type": "code",
   "execution_count": 45,
   "metadata": {},
   "outputs": [
    {
     "name": "stdout",
     "output_type": "stream",
     "text": [
      "0th confusion matrix \n",
      "                 precision    recall  f1-score   support\n",
      "\n",
      "   StandingUpFS     0.5000    0.6250    0.5556        16\n",
      "   StandingUpFL     0.5556    0.4762    0.5128        21\n",
      "        Walking     0.9770    0.9770    0.9770       174\n",
      "        Running     0.9851    0.9950    0.9900       199\n",
      "       GoingUpS     0.9451    0.9348    0.9399        92\n",
      "        Jumping     0.9865    0.9865    0.9865        74\n",
      "     GoingDownS     0.9699    0.9699    0.9699       133\n",
      "    LyingDownFS     0.8462    0.7586    0.8000        29\n",
      "    SittingDown     0.7727    0.8500    0.8095        20\n",
      "    FallingForw     0.7797    0.8679    0.8214        53\n",
      "   FallingRight     0.9565    0.8627    0.9072        51\n",
      "    FallingBack     0.8333    0.8491    0.8411        53\n",
      "HittingObstacle     0.9706    1.0000    0.9851        66\n",
      "  FallingWithPS     0.8333    0.8333    0.8333        48\n",
      "  FallingBackSC     0.8049    0.7500    0.7765        44\n",
      "        Syncope     0.8163    0.7843    0.8000        51\n",
      "    FallingLeft     0.8889    0.8889    0.8889        54\n",
      "\n",
      "       accuracy                         0.9143      1178\n",
      "      macro avg     0.8483    0.8476    0.8467      1178\n",
      "   weighted avg     0.9151    0.9143    0.9142      1178\n",
      "\n",
      "1th confusion matrix \n",
      "                 precision    recall  f1-score   support\n",
      "\n",
      "   StandingUpFS     0.7143    0.6250    0.6667        16\n",
      "   StandingUpFL     0.7059    0.5714    0.6316        21\n",
      "        Walking     0.9769    0.9713    0.9741       174\n",
      "        Running     0.9898    0.9799    0.9848       199\n",
      "       GoingUpS     0.9326    0.9022    0.9171        92\n",
      "        Jumping     0.9589    0.9459    0.9524        74\n",
      "     GoingDownS     0.9291    0.9850    0.9562       133\n",
      "    LyingDownFS     0.8276    0.8276    0.8276        29\n",
      "    SittingDown     0.7083    0.8500    0.7727        20\n",
      "    FallingForw     0.8636    0.7170    0.7835        53\n",
      "   FallingRight     0.9184    0.8824    0.9000        51\n",
      "    FallingBack     0.6923    0.8491    0.7627        53\n",
      "HittingObstacle     0.9701    0.9848    0.9774        66\n",
      "  FallingWithPS     0.8000    0.9167    0.8544        48\n",
      "  FallingBackSC     0.7234    0.7727    0.7473        44\n",
      "        Syncope     0.8298    0.7647    0.7959        51\n",
      "    FallingLeft     0.9149    0.7963    0.8515        54\n",
      "\n",
      "       accuracy                         0.9032      1178\n",
      "      macro avg     0.8503    0.8436    0.8445      1178\n",
      "   weighted avg     0.9058    0.9032    0.9030      1178\n",
      "\n",
      "2th confusion matrix \n",
      "                 precision    recall  f1-score   support\n",
      "\n",
      "   StandingUpFS     0.7500    0.5625    0.6429        16\n",
      "   StandingUpFL     0.6522    0.7143    0.6818        21\n",
      "        Walking     0.9767    0.9655    0.9711       174\n",
      "        Running     0.9899    0.9899    0.9899       199\n",
      "       GoingUpS     0.9348    0.9348    0.9348        92\n",
      "        Jumping     0.9595    0.9595    0.9595        74\n",
      "     GoingDownS     0.9706    0.9925    0.9814       133\n",
      "    LyingDownFS     0.7727    0.5862    0.6667        29\n",
      "    SittingDown     0.5484    0.8500    0.6667        20\n",
      "    FallingForw     0.7963    0.8113    0.8037        53\n",
      "   FallingRight     0.8519    0.9020    0.8762        51\n",
      "    FallingBack     0.7925    0.7925    0.7925        53\n",
      "HittingObstacle     0.9394    0.9394    0.9394        66\n",
      "  FallingWithPS     0.8864    0.8125    0.8478        48\n",
      "  FallingBackSC     0.8462    0.7500    0.7952        44\n",
      "        Syncope     0.7636    0.8235    0.7925        51\n",
      "    FallingLeft     0.9231    0.8889    0.9057        54\n",
      "\n",
      "       accuracy                         0.9058      1178\n",
      "      macro avg     0.8444    0.8397    0.8381      1178\n",
      "   weighted avg     0.9086    0.9058    0.9058      1178\n",
      "\n",
      "3th confusion matrix \n",
      "                 precision    recall  f1-score   support\n",
      "\n",
      "   StandingUpFS     0.5714    0.5000    0.5333        16\n",
      "   StandingUpFL     0.6190    0.6190    0.6190        21\n",
      "        Walking     0.9543    0.9598    0.9570       174\n",
      "        Running     0.9898    0.9799    0.9848       199\n",
      "       GoingUpS     0.9222    0.9022    0.9121        92\n",
      "        Jumping     0.9605    0.9865    0.9733        74\n",
      "     GoingDownS     0.9630    0.9774    0.9701       133\n",
      "    LyingDownFS     0.6970    0.7931    0.7419        29\n",
      "    SittingDown     0.7895    0.7500    0.7692        20\n",
      "    FallingForw     0.8600    0.8113    0.8350        53\n",
      "   FallingRight     0.9375    0.8824    0.9091        51\n",
      "    FallingBack     0.8302    0.8302    0.8302        53\n",
      "HittingObstacle     0.9155    0.9848    0.9489        66\n",
      "  FallingWithPS     0.8980    0.9167    0.9072        48\n",
      "  FallingBackSC     0.8462    0.7500    0.7952        44\n",
      "        Syncope     0.7593    0.8039    0.7810        51\n",
      "    FallingLeft     0.9074    0.9074    0.9074        54\n",
      "\n",
      "       accuracy                         0.9092      1178\n",
      "      macro avg     0.8483    0.8444    0.8456      1178\n",
      "   weighted avg     0.9092    0.9092    0.9088      1178\n",
      "\n",
      "4th confusion matrix \n",
      "                 precision    recall  f1-score   support\n",
      "\n",
      "   StandingUpFS     0.6250    0.6250    0.6250        16\n",
      "   StandingUpFL     0.7143    0.7143    0.7143        21\n",
      "        Walking     0.9826    0.9713    0.9769       174\n",
      "        Running     0.9899    0.9899    0.9899       199\n",
      "       GoingUpS     0.9341    0.9239    0.9290        92\n",
      "        Jumping     0.9737    1.0000    0.9867        74\n",
      "     GoingDownS     0.9630    0.9774    0.9701       133\n",
      "    LyingDownFS     0.7857    0.7586    0.7719        29\n",
      "    SittingDown     0.7368    0.7000    0.7179        20\n",
      "    FallingForw     0.6833    0.7736    0.7257        53\n",
      "   FallingRight     0.9348    0.8431    0.8866        51\n",
      "    FallingBack     0.8679    0.8679    0.8679        53\n",
      "HittingObstacle     0.9545    0.9545    0.9545        66\n",
      "  FallingWithPS     0.7778    0.7292    0.7527        48\n",
      "  FallingBackSC     0.8409    0.8409    0.8409        44\n",
      "        Syncope     0.8235    0.8235    0.8235        51\n",
      "    FallingLeft     0.8750    0.9074    0.8909        54\n",
      "\n",
      "       accuracy                         0.9100      1178\n",
      "      macro avg     0.8508    0.8471    0.8485      1178\n",
      "   weighted avg     0.9109    0.9100    0.9101      1178\n",
      "\n"
     ]
    }
   ],
   "source": [
    "for i, path in enumerate(uni_result_list):\n",
    "    result = pd.read_pickle(path)\n",
    "    conf_mat = result['conf_mat']\n",
    "    print(f'{i}th confusion matrix \\n{conf_mat}')"
   ]
  },
  {
   "attachments": {},
   "cell_type": "markdown",
   "metadata": {},
   "source": [
    "## KAR"
   ]
  },
  {
   "cell_type": "code",
   "execution_count": 46,
   "metadata": {},
   "outputs": [],
   "source": [
    "kar_result_list = glob.glob('../result_pro_cpu/kar/test_*/ckpt_best.pkl')"
   ]
  },
  {
   "cell_type": "code",
   "execution_count": 47,
   "metadata": {},
   "outputs": [
    {
     "data": {
      "text/plain": [
       "['../result_pro_cpu/kar/test_prnas_5/ckpt_best.pkl',\n",
       " '../result_pro_cpu/kar/test_prnas_2/ckpt_best.pkl',\n",
       " '../result_pro_cpu/kar/test_prnas_1/ckpt_best.pkl',\n",
       " '../result_pro_cpu/kar/test_prnas_4/ckpt_best.pkl',\n",
       " '../result_pro_cpu/kar/test_prnas_3/ckpt_best.pkl']"
      ]
     },
     "execution_count": 47,
     "metadata": {},
     "output_type": "execute_result"
    }
   ],
   "source": [
    "kar_result_list"
   ]
  },
  {
   "cell_type": "code",
   "execution_count": 48,
   "metadata": {},
   "outputs": [],
   "source": [
    "f1scores = []\n",
    "accuracies = []\n",
    "flops = []\n",
    "params = []\n",
    "\n",
    "for path in kar_result_list:\n",
    "    result = pd.read_pickle(path)\n",
    "    f1scores.append(result['f1score'])\n",
    "    accuracies.append(result['accuracy'])\n",
    "    flops.append(result['flops'])\n",
    "    params.append(result['params'])"
   ]
  },
  {
   "cell_type": "code",
   "execution_count": 49,
   "metadata": {},
   "outputs": [
    {
     "data": {
      "text/plain": [
       "106.235904"
      ]
     },
     "execution_count": 49,
     "metadata": {},
     "output_type": "execute_result"
    }
   ],
   "source": [
    "result['flops']"
   ]
  },
  {
   "cell_type": "code",
   "execution_count": 50,
   "metadata": {},
   "outputs": [
    {
     "name": "stdout",
     "output_type": "stream",
     "text": [
      "Average of 5 train/test runs\n",
      "RLNAS \n",
      "F1 score: 0.762 +/- 0.018\n",
      "Accuracy score: 0.771 +/- 0.017\n",
      "n. FLOPs: 106.236\n",
      "n. Params: 0.354\n"
     ]
    }
   ],
   "source": [
    "print('Average of {} train/test runs'.format(len(f1scores)))\n",
    "print('RLNAS ')\n",
    "print('F1 score: {:.3f} +/- {:.3f}'.format(np.mean(f1scores),np.std(f1scores)))\n",
    "print('Accuracy score: {:.3f} +/- {:.3f}'.format(np.mean(accuracies),np.std(accuracies)))\n",
    "print('n. FLOPs: {:.3f}'.format(np.mean(flops)))\n",
    "print('n. Params: {:.3f}'.format(np.mean(params)))"
   ]
  },
  {
   "cell_type": "code",
   "execution_count": 51,
   "metadata": {},
   "outputs": [
    {
     "name": "stdout",
     "output_type": "stream",
     "text": [
      "0th confusion matrix \n",
      "              precision    recall  f1-score   support\n",
      "\n",
      "     walking     0.7402    0.7143    0.7270       770\n",
      "     jogging     0.6097    0.6975    0.6506       757\n",
      "      stairs     0.8717    0.8234    0.8468       685\n",
      "     sitting     0.8558    0.9631    0.9063       758\n",
      "    standing     0.8128    0.9889    0.8922       720\n",
      "      typing     0.6824    0.6087    0.6435       759\n",
      "       teeth     0.8092    0.9630    0.8794       621\n",
      "        soup     0.6785    0.9502    0.7917       442\n",
      "       chips     0.8743    0.4585    0.6015       349\n",
      "       pasta     0.5358    0.7652    0.6303       264\n",
      "    drinking     0.9455    0.4426    0.6030       863\n",
      "    sandwich     1.0000    0.6183    0.7641       186\n",
      "     kicking     0.9310    0.9878    0.9586        82\n",
      "       catch     0.6719    0.4674    0.5513        92\n",
      "   dribbling     0.7782    0.3591    0.4914       596\n",
      "     writing     0.8252    0.9505    0.8834       303\n",
      "    clapping     0.7927    0.9561    0.8668       296\n",
      "     folding     0.3608    0.9293    0.5198       198\n",
      "\n",
      "    accuracy                         0.7455      8741\n",
      "   macro avg     0.7653    0.7580    0.7338      8741\n",
      "weighted avg     0.7768    0.7455    0.7361      8741\n",
      "\n",
      "1th confusion matrix \n",
      "              precision    recall  f1-score   support\n",
      "\n",
      "     walking     0.8164    0.7623    0.7884       770\n",
      "     jogging     0.6126    0.7437    0.6718       757\n",
      "      stairs     0.8826    0.8453    0.8635       685\n",
      "     sitting     0.8622    0.9657    0.9110       758\n",
      "    standing     0.8114    0.9917    0.8925       720\n",
      "      typing     0.6931    0.5863    0.6353       759\n",
      "       teeth     0.8124    0.9485    0.8752       621\n",
      "        soup     0.6235    0.9706    0.7593       442\n",
      "       chips     0.8962    0.4699    0.6165       349\n",
      "       pasta     0.6125    0.7424    0.6712       264\n",
      "    drinking     0.9370    0.4137    0.5740       863\n",
      "    sandwich     0.9576    0.6075    0.7434       186\n",
      "     kicking     0.8370    0.9390    0.8851        82\n",
      "       catch     0.7286    0.5543    0.6296        92\n",
      "   dribbling     0.7132    0.6342    0.6714       596\n",
      "     writing     0.7713    0.9241    0.8408       303\n",
      "    clapping     0.8987    0.9595    0.9281       296\n",
      "     folding     0.6586    0.9646    0.7828       198\n",
      "\n",
      "    accuracy                         0.7698      8741\n",
      "   macro avg     0.7847    0.7791    0.7633      8741\n",
      "weighted avg     0.7886    0.7698    0.7600      8741\n",
      "\n",
      "2th confusion matrix \n",
      "              precision    recall  f1-score   support\n",
      "\n",
      "     walking     0.7964    0.7974    0.7969       770\n",
      "     jogging     0.6642    0.7107    0.6867       757\n",
      "      stairs     0.9011    0.8117    0.8541       685\n",
      "     sitting     0.8738    0.9499    0.9102       758\n",
      "    standing     0.7537    0.9819    0.8528       720\n",
      "      typing     0.6869    0.6561    0.6712       759\n",
      "       teeth     0.8080    0.9485    0.8726       621\n",
      "        soup     0.6603    0.9457    0.7777       442\n",
      "       chips     0.9194    0.4900    0.6393       349\n",
      "       pasta     0.6266    0.7500    0.6828       264\n",
      "    drinking     0.9485    0.3198    0.4783       863\n",
      "    sandwich     0.9921    0.6720    0.8013       186\n",
      "     kicking     0.9383    0.9268    0.9325        82\n",
      "       catch     0.9538    0.6739    0.7898        92\n",
      "   dribbling     0.7462    0.6560    0.6982       596\n",
      "     writing     0.5874    0.9538    0.7270       303\n",
      "    clapping     0.8673    0.9493    0.9065       296\n",
      "     folding     0.6436    0.9394    0.7639       198\n",
      "\n",
      "    accuracy                         0.7659      8741\n",
      "   macro avg     0.7982    0.7852    0.7690      8741\n",
      "weighted avg     0.7910    0.7659    0.7537      8741\n",
      "\n",
      "3th confusion matrix \n",
      "              precision    recall  f1-score   support\n",
      "\n",
      "     walking     0.7327    0.7584    0.7454       770\n",
      "     jogging     0.6916    0.7081    0.6997       757\n",
      "      stairs     0.8849    0.7971    0.8387       685\n",
      "     sitting     0.8744    0.9644    0.9172       758\n",
      "    standing     0.8495    0.9875    0.9133       720\n",
      "      typing     0.7255    0.6930    0.7089       759\n",
      "       teeth     0.9594    0.9517    0.9555       621\n",
      "        soup     0.6432    0.9706    0.7737       442\n",
      "       chips     0.9266    0.4699    0.6236       349\n",
      "       pasta     0.5500    0.7917    0.6491       264\n",
      "    drinking     0.9375    0.4693    0.6255       863\n",
      "    sandwich     0.9832    0.6290    0.7672       186\n",
      "     kicking     0.8791    0.9756    0.9249        82\n",
      "       catch     0.8906    0.6196    0.7308        92\n",
      "   dribbling     0.7456    0.8456    0.7925       596\n",
      "     writing     0.8217    0.9736    0.8912       303\n",
      "    clapping     0.8807    0.9730    0.9246       296\n",
      "     folding     0.7683    0.9545    0.8514       198\n",
      "\n",
      "    accuracy                         0.7965      8741\n",
      "   macro avg     0.8191    0.8074    0.7963      8741\n",
      "weighted avg     0.8145    0.7965    0.7898      8741\n",
      "\n",
      "4th confusion matrix \n",
      "              precision    recall  f1-score   support\n",
      "\n",
      "     walking     0.8213    0.7818    0.8011       770\n",
      "     jogging     0.6111    0.6975    0.6514       757\n",
      "      stairs     0.8711    0.8482    0.8595       685\n",
      "     sitting     0.8576    0.9697    0.9102       758\n",
      "    standing     0.7938    0.9944    0.8829       720\n",
      "      typing     0.6364    0.5626    0.5972       759\n",
      "       teeth     0.9472    0.9533    0.9502       621\n",
      "        soup     0.5918    0.9480    0.7287       442\n",
      "       chips     0.9148    0.4613    0.6133       349\n",
      "       pasta     0.6341    0.6894    0.6606       264\n",
      "    drinking     0.9179    0.4276    0.5834       863\n",
      "    sandwich     1.0000    0.6183    0.7641       186\n",
      "     kicking     0.8617    0.9878    0.9205        82\n",
      "       catch     0.7000    0.5326    0.6049        92\n",
      "   dribbling     0.7399    0.8305    0.7826       596\n",
      "     writing     0.8784    0.9538    0.9146       303\n",
      "    clapping     0.8889    0.9459    0.9165       296\n",
      "     folding     0.7043    0.9141    0.7956       198\n",
      "\n",
      "    accuracy                         0.7782      8741\n",
      "   macro avg     0.7983    0.7843    0.7743      8741\n",
      "weighted avg     0.7958    0.7782    0.7696      8741\n",
      "\n"
     ]
    }
   ],
   "source": [
    "for i, path in enumerate(kar_result_list):\n",
    "    result = pd.read_pickle(path)\n",
    "    conf_mat = result['conf_mat']\n",
    "    print(f'{i}th confusion matrix \\n{conf_mat}')"
   ]
  },
  {
   "attachments": {},
   "cell_type": "markdown",
   "metadata": {},
   "source": [
    "## WIS"
   ]
  },
  {
   "cell_type": "code",
   "execution_count": 52,
   "metadata": {},
   "outputs": [],
   "source": [
    "wis_result_list = glob.glob('../result_pro_cpu/wis/test_*/ckpt_best.pkl')"
   ]
  },
  {
   "cell_type": "code",
   "execution_count": 53,
   "metadata": {},
   "outputs": [
    {
     "data": {
      "text/plain": [
       "['../result_pro_cpu/wis/test_prnas_5/ckpt_best.pkl',\n",
       " '../result_pro_cpu/wis/test_prnas_2/ckpt_best.pkl',\n",
       " '../result_pro_cpu/wis/test_prnas_1/ckpt_best.pkl',\n",
       " '../result_pro_cpu/wis/test_prnas_4/ckpt_best.pkl',\n",
       " '../result_pro_cpu/wis/test_prnas_3/ckpt_best.pkl']"
      ]
     },
     "execution_count": 53,
     "metadata": {},
     "output_type": "execute_result"
    }
   ],
   "source": [
    "wis_result_list"
   ]
  },
  {
   "cell_type": "code",
   "execution_count": 54,
   "metadata": {},
   "outputs": [],
   "source": [
    "f1scores = []\n",
    "accuracies = []\n",
    "flops = []\n",
    "params = []\n",
    "\n",
    "for path in wis_result_list:\n",
    "    result = pd.read_pickle(path)\n",
    "    f1scores.append(result['f1score'])\n",
    "    accuracies.append(result['accuracy'])\n",
    "    flops.append(result['flops'])\n",
    "    params.append(result['params'])"
   ]
  },
  {
   "cell_type": "code",
   "execution_count": 55,
   "metadata": {},
   "outputs": [
    {
     "data": {
      "text/plain": [
       "21.230208"
      ]
     },
     "execution_count": 55,
     "metadata": {},
     "output_type": "execute_result"
    }
   ],
   "source": [
    "result['flops']"
   ]
  },
  {
   "cell_type": "code",
   "execution_count": 56,
   "metadata": {},
   "outputs": [
    {
     "name": "stdout",
     "output_type": "stream",
     "text": [
      "Average of 5 train/test runs\n",
      "RLNAS \n",
      "F1 score: 0.854 +/- 0.002\n",
      "Accuracy score: 0.847 +/- 0.003\n",
      "n. FLOPs: 21.230\n",
      "n. Params: 0.352\n"
     ]
    }
   ],
   "source": [
    "print('Average of {} train/test runs'.format(len(f1scores)))\n",
    "print('RLNAS ')\n",
    "print('F1 score: {:.3f} +/- {:.3f}'.format(np.mean(f1scores),np.std(f1scores)))\n",
    "print('Accuracy score: {:.3f} +/- {:.3f}'.format(np.mean(accuracies),np.std(accuracies)))\n",
    "print('n. FLOPs: {:.3f}'.format(np.mean(flops)))\n",
    "print('n. Params: {:.3f}'.format(np.mean(params)))"
   ]
  },
  {
   "cell_type": "code",
   "execution_count": 57,
   "metadata": {},
   "outputs": [
    {
     "name": "stdout",
     "output_type": "stream",
     "text": [
      "0th confusion matrix \n",
      "                    precision    recall  f1-score   support\n",
      "\n",
      "           WALKING     0.9599    0.9237    0.9415      3918\n",
      "  WALKING_UPSTAIRS     0.9318    0.8356    0.8811      5918\n",
      "WALKING_DOWNSTAIRS     0.7576    0.7594    0.7585      1679\n",
      "           SITTING     0.4943    0.7359    0.5914      1545\n",
      "          STANDING     0.9560    0.8165    0.8808       932\n",
      "            LAYING     0.8077    0.9374    0.8678       847\n",
      "\n",
      "          accuracy                         0.8445     14839\n",
      "         macro avg     0.8179    0.8348    0.8202     14839\n",
      "      weighted avg     0.8684    0.8445    0.8522     14839\n",
      "\n",
      "1th confusion matrix \n",
      "                    precision    recall  f1-score   support\n",
      "\n",
      "           WALKING     0.9560    0.9375    0.9466      3918\n",
      "  WALKING_UPSTAIRS     0.9439    0.8275    0.8819      5918\n",
      "WALKING_DOWNSTAIRS     0.7329    0.8463    0.7855      1679\n",
      "           SITTING     0.5089    0.7010    0.5897      1545\n",
      "          STANDING     0.9489    0.8165    0.8777       932\n",
      "            LAYING     0.8085    0.8973    0.8506       847\n",
      "\n",
      "          accuracy                         0.8488     14839\n",
      "         macro avg     0.8165    0.8377    0.8220     14839\n",
      "      weighted avg     0.8705    0.8488    0.8556     14839\n",
      "\n",
      "2th confusion matrix \n",
      "                    precision    recall  f1-score   support\n",
      "\n",
      "           WALKING     0.9493    0.9467    0.9480      3918\n",
      "  WALKING_UPSTAIRS     0.9323    0.8383    0.8828      5918\n",
      "WALKING_DOWNSTAIRS     0.7202    0.7725    0.7454      1679\n",
      "           SITTING     0.5380    0.7146    0.6138      1545\n",
      "          STANDING     0.9596    0.8165    0.8823       932\n",
      "            LAYING     0.8207    0.9351    0.8742       847\n",
      "\n",
      "          accuracy                         0.8507     14839\n",
      "         macro avg     0.8200    0.8373    0.8244     14839\n",
      "      weighted avg     0.8671    0.8507    0.8559     14839\n",
      "\n",
      "3th confusion matrix \n",
      "                    precision    recall  f1-score   support\n",
      "\n",
      "           WALKING     0.9517    0.9359    0.9438      3918\n",
      "  WALKING_UPSTAIRS     0.9342    0.8222    0.8746      5918\n",
      "WALKING_DOWNSTAIRS     0.7126    0.8005    0.7540      1679\n",
      "           SITTING     0.5057    0.7172    0.5931      1545\n",
      "          STANDING     0.9781    0.8165    0.8901       932\n",
      "            LAYING     0.8547    0.9303    0.8909       847\n",
      "\n",
      "          accuracy                         0.8447     14839\n",
      "         macro avg     0.8228    0.8371    0.8244     14839\n",
      "      weighted avg     0.8673    0.8447    0.8518     14839\n",
      "\n",
      "4th confusion matrix \n",
      "                    precision    recall  f1-score   support\n",
      "\n",
      "           WALKING     0.9646    0.9045    0.9336      3918\n",
      "  WALKING_UPSTAIRS     0.9435    0.8275    0.8817      5918\n",
      "WALKING_DOWNSTAIRS     0.6985    0.8571    0.7697      1679\n",
      "           SITTING     0.5101    0.7010    0.5905      1545\n",
      "          STANDING     0.9548    0.8165    0.8803       932\n",
      "            LAYING     0.8131    0.9551    0.8784       847\n",
      "\n",
      "          accuracy                         0.8446     14839\n",
      "         macro avg     0.8141    0.8436    0.8224     14839\n",
      "      weighted avg     0.8695    0.8446    0.8521     14839\n",
      "\n"
     ]
    }
   ],
   "source": [
    "for i, path in enumerate(wis_result_list):\n",
    "    result = pd.read_pickle(path)\n",
    "    conf_mat = result['conf_mat']\n",
    "    print(f'{i}th confusion matrix \\n{conf_mat}')"
   ]
  },
  {
   "attachments": {},
   "cell_type": "markdown",
   "metadata": {},
   "source": [
    "## OPP"
   ]
  },
  {
   "cell_type": "code",
   "execution_count": 58,
   "metadata": {},
   "outputs": [],
   "source": [
    "opp_result_list = glob.glob('../result_pro_cpu/opp/test_*/ckpt_best.pkl')"
   ]
  },
  {
   "cell_type": "code",
   "execution_count": 59,
   "metadata": {},
   "outputs": [
    {
     "data": {
      "text/plain": [
       "['../result_pro_cpu/opp/test_prnas_5/ckpt_best.pkl',\n",
       " '../result_pro_cpu/opp/test_prnas_2/ckpt_best.pkl',\n",
       " '../result_pro_cpu/opp/test_prnas_1/ckpt_best.pkl',\n",
       " '../result_pro_cpu/opp/test_prnas_4/ckpt_best.pkl',\n",
       " '../result_pro_cpu/opp/test_prnas_3/ckpt_best.pkl']"
      ]
     },
     "execution_count": 59,
     "metadata": {},
     "output_type": "execute_result"
    }
   ],
   "source": [
    "opp_result_list"
   ]
  },
  {
   "cell_type": "code",
   "execution_count": 60,
   "metadata": {},
   "outputs": [],
   "source": [
    "f1scores = []\n",
    "accuracies = []\n",
    "flops = []\n",
    "params = []\n",
    "\n",
    "for path in opp_result_list:\n",
    "    result = pd.read_pickle(path)\n",
    "    f1scores.append(result['f1score'])\n",
    "    accuracies.append(result['accuracy'])\n",
    "    flops.append(result['flops'])\n",
    "    params.append(result['params'])"
   ]
  },
  {
   "cell_type": "code",
   "execution_count": 61,
   "metadata": {},
   "outputs": [
    {
     "data": {
      "text/plain": [
       "5.832448"
      ]
     },
     "execution_count": 61,
     "metadata": {},
     "output_type": "execute_result"
    }
   ],
   "source": [
    "result['flops']"
   ]
  },
  {
   "cell_type": "code",
   "execution_count": 62,
   "metadata": {},
   "outputs": [
    {
     "name": "stdout",
     "output_type": "stream",
     "text": [
      "Average of 5 train/test runs\n",
      "RLNAS \n",
      "F1 score: 0.897 +/- 0.001\n",
      "Accuracy score: 0.898 +/- 0.001\n",
      "n. FLOPs: 5.832\n",
      "n. Params: 0.364\n"
     ]
    }
   ],
   "source": [
    "print('Average of {} train/test runs'.format(len(f1scores)))\n",
    "print('RLNAS ')\n",
    "print('F1 score: {:.3f} +/- {:.3f}'.format(np.mean(f1scores),np.std(f1scores)))\n",
    "print('Accuracy score: {:.3f} +/- {:.3f}'.format(np.mean(accuracies),np.std(accuracies)))\n",
    "print('n. FLOPs: {:.3f}'.format(np.mean(flops)))\n",
    "print('n. Params: {:.3f}'.format(np.mean(params)))"
   ]
  },
  {
   "cell_type": "code",
   "execution_count": 63,
   "metadata": {},
   "outputs": [
    {
     "name": "stdout",
     "output_type": "stream",
     "text": [
      "0th confusion matrix \n",
      "                  precision    recall  f1-score   support\n",
      "\n",
      "            Null     0.9429    0.9590    0.9509     12371\n",
      "     Open Door 1     0.6250    0.6548    0.6395        84\n",
      "     Open Door 2     0.9219    0.8252    0.8708       143\n",
      "    Close Door 1     0.6941    0.6629    0.6782        89\n",
      "    Close Door 2     0.8281    0.8548    0.8413       124\n",
      "     Open Fridge     0.6667    0.6824    0.6744       340\n",
      "    Close Fridge     0.8287    0.6438    0.7246       233\n",
      " Open Dishwasher     0.4670    0.5903    0.5215       144\n",
      "Close Dishwasher     0.3248    0.4322    0.3709       118\n",
      "   Open Drawer 1     0.3205    0.4386    0.3704        57\n",
      "  Close Drawer 1     0.5405    0.3030    0.3883        66\n",
      "   Open Drawer 2     0.5263    0.3333    0.4082        60\n",
      "  Close Drawer 2     0.4737    0.2250    0.3051        40\n",
      "   Open Drawer 3     0.5960    0.6020    0.5990        98\n",
      "  Close Drawer 3     0.7174    0.3708    0.4889        89\n",
      "     Clean Table     0.8462    0.4430    0.5815       149\n",
      "  Drink from Cup     0.6401    0.5916    0.6149       475\n",
      "   Toggle Switch     0.7120    0.5633    0.6290       158\n",
      "\n",
      "        accuracy                         0.8978     14838\n",
      "       macro avg     0.6484    0.5653    0.5921     14838\n",
      "    weighted avg     0.8969    0.8978    0.8955     14838\n",
      "\n",
      "1th confusion matrix \n",
      "                  precision    recall  f1-score   support\n",
      "\n",
      "            Null     0.9466    0.9560    0.9513     12371\n",
      "     Open Door 1     0.5833    0.5833    0.5833        84\n",
      "     Open Door 2     0.9286    0.8182    0.8699       143\n",
      "    Close Door 1     0.5946    0.7416    0.6600        89\n",
      "    Close Door 2     0.8571    0.9194    0.8872       124\n",
      "     Open Fridge     0.7732    0.6618    0.7132       340\n",
      "    Close Fridge     0.6903    0.6695    0.6797       233\n",
      " Open Dishwasher     0.6119    0.5694    0.5899       144\n",
      "Close Dishwasher     0.2794    0.4831    0.3540       118\n",
      "   Open Drawer 1     0.2642    0.4912    0.3436        57\n",
      "  Close Drawer 1     0.6176    0.3182    0.4200        66\n",
      "   Open Drawer 2     0.6522    0.2500    0.3614        60\n",
      "  Close Drawer 2     0.5667    0.4250    0.4857        40\n",
      "   Open Drawer 3     0.6000    0.6735    0.6346        98\n",
      "  Close Drawer 3     0.5714    0.4045    0.4737        89\n",
      "     Clean Table     0.7717    0.4765    0.5892       149\n",
      "  Drink from Cup     0.6660    0.6842    0.6750       475\n",
      "   Toggle Switch     0.7079    0.3987    0.5101       158\n",
      "\n",
      "        accuracy                         0.8987     14838\n",
      "       macro avg     0.6490    0.5847    0.5990     14838\n",
      "    weighted avg     0.9009    0.8987    0.8977     14838\n",
      "\n",
      "2th confusion matrix \n",
      "                  precision    recall  f1-score   support\n",
      "\n",
      "            Null     0.9448    0.9559    0.9503     12371\n",
      "     Open Door 1     0.5556    0.5952    0.5747        84\n",
      "     Open Door 2     0.9023    0.8392    0.8696       143\n",
      "    Close Door 1     0.5147    0.7865    0.6222        89\n",
      "    Close Door 2     0.8248    0.9113    0.8659       124\n",
      "     Open Fridge     0.7370    0.6676    0.7006       340\n",
      "    Close Fridge     0.7794    0.6824    0.7277       233\n",
      " Open Dishwasher     0.6074    0.5694    0.5878       144\n",
      "Close Dishwasher     0.4031    0.4407    0.4211       118\n",
      "   Open Drawer 1     0.3718    0.5088    0.4296        57\n",
      "  Close Drawer 1     0.6061    0.3030    0.4040        66\n",
      "   Open Drawer 2     0.4000    0.2333    0.2947        60\n",
      "  Close Drawer 2     0.5833    0.3500    0.4375        40\n",
      "   Open Drawer 3     0.5865    0.6224    0.6040        98\n",
      "  Close Drawer 3     0.5195    0.4494    0.4819        89\n",
      "     Clean Table     0.7778    0.4228    0.5478       149\n",
      "  Drink from Cup     0.6091    0.6463    0.6272       475\n",
      "   Toggle Switch     0.7281    0.5253    0.6103       158\n",
      "\n",
      "        accuracy                         0.8983     14838\n",
      "       macro avg     0.6362    0.5839    0.5976     14838\n",
      "    weighted avg     0.8971    0.8983    0.8962     14838\n",
      "\n",
      "3th confusion matrix \n",
      "                  precision    recall  f1-score   support\n",
      "\n",
      "            Null     0.9480    0.9543    0.9511     12371\n",
      "     Open Door 1     0.6111    0.6548    0.6322        84\n",
      "     Open Door 2     0.8523    0.8881    0.8699       143\n",
      "    Close Door 1     0.6180    0.6180    0.6180        89\n",
      "    Close Door 2     0.8750    0.8468    0.8607       124\n",
      "     Open Fridge     0.7749    0.6176    0.6874       340\n",
      "    Close Fridge     0.7316    0.7253    0.7284       233\n",
      " Open Dishwasher     0.5677    0.6111    0.5886       144\n",
      "Close Dishwasher     0.3592    0.4322    0.3923       118\n",
      "   Open Drawer 1     0.2321    0.4561    0.3077        57\n",
      "  Close Drawer 1     0.4493    0.4697    0.4593        66\n",
      "   Open Drawer 2     0.4500    0.3000    0.3600        60\n",
      "  Close Drawer 2     0.5312    0.4250    0.4722        40\n",
      "   Open Drawer 3     0.5686    0.5918    0.5800        98\n",
      "  Close Drawer 3     0.5075    0.3820    0.4359        89\n",
      "     Clean Table     0.7733    0.3893    0.5179       149\n",
      "  Drink from Cup     0.6843    0.6253    0.6535       475\n",
      "   Toggle Switch     0.5631    0.7342    0.6374       158\n",
      "\n",
      "        accuracy                         0.8978     14838\n",
      "       macro avg     0.6165    0.5956    0.5974     14838\n",
      "    weighted avg     0.8993    0.8978    0.8972     14838\n",
      "\n",
      "4th confusion matrix \n",
      "                  precision    recall  f1-score   support\n",
      "\n",
      "            Null     0.9442    0.9648    0.9544     12371\n",
      "     Open Door 1     0.6296    0.2024    0.3063        84\n",
      "     Open Door 2     0.8780    0.7552    0.8120       143\n",
      "    Close Door 1     0.5968    0.8315    0.6948        89\n",
      "    Close Door 2     0.8900    0.7177    0.7946       124\n",
      "     Open Fridge     0.7692    0.6765    0.7199       340\n",
      "    Close Fridge     0.7458    0.7554    0.7505       233\n",
      " Open Dishwasher     0.6447    0.3403    0.4455       144\n",
      "Close Dishwasher     0.2917    0.4153    0.3427       118\n",
      "   Open Drawer 1     0.1386    0.2456    0.1772        57\n",
      "  Close Drawer 1     0.4493    0.4697    0.4593        66\n",
      "   Open Drawer 2     0.3542    0.2833    0.3148        60\n",
      "  Close Drawer 2     0.2188    0.1750    0.1944        40\n",
      "   Open Drawer 3     0.5231    0.6939    0.5965        98\n",
      "  Close Drawer 3     0.4783    0.2472    0.3259        89\n",
      "     Clean Table     0.9000    0.4228    0.5753       149\n",
      "  Drink from Cup     0.7023    0.6505    0.6754       475\n",
      "   Toggle Switch     0.7870    0.5380    0.6391       158\n",
      "\n",
      "        accuracy                         0.8993     14838\n",
      "       macro avg     0.6079    0.5214    0.5433     14838\n",
      "    weighted avg     0.8990    0.8993    0.8961     14838\n",
      "\n"
     ]
    }
   ],
   "source": [
    "for i, path in enumerate(opp_result_list):\n",
    "    result = pd.read_pickle(path)\n",
    "    conf_mat = result['conf_mat']\n",
    "    print(f'{i}th confusion matrix \\n{conf_mat}')"
   ]
  },
  {
   "attachments": {},
   "cell_type": "markdown",
   "metadata": {},
   "source": [
    "# A31"
   ]
  },
  {
   "attachments": {},
   "cell_type": "markdown",
   "metadata": {},
   "source": [
    "## UCI"
   ]
  },
  {
   "cell_type": "code",
   "execution_count": 5,
   "metadata": {},
   "outputs": [],
   "source": [
    "uci_result_list = glob.glob('../result_pro_a31/uci/test_*/ckpt_best.pkl')"
   ]
  },
  {
   "cell_type": "code",
   "execution_count": 6,
   "metadata": {},
   "outputs": [
    {
     "data": {
      "text/plain": [
       "['../result_pro_a31/uci/test_prnas_5/ckpt_best.pkl',\n",
       " '../result_pro_a31/uci/test_prnas_2/ckpt_best.pkl',\n",
       " '../result_pro_a31/uci/test_prnas_1/ckpt_best.pkl',\n",
       " '../result_pro_a31/uci/test_prnas_4/ckpt_best.pkl',\n",
       " '../result_pro_a31/uci/test_prnas_3/ckpt_best.pkl']"
      ]
     },
     "execution_count": 6,
     "metadata": {},
     "output_type": "execute_result"
    }
   ],
   "source": [
    "uci_result_list"
   ]
  },
  {
   "cell_type": "code",
   "execution_count": 7,
   "metadata": {},
   "outputs": [],
   "source": [
    "f1scores = []\n",
    "accuracies = []\n",
    "flops = []\n",
    "params = []\n",
    "\n",
    "for path in uci_result_list:\n",
    "    result = pd.read_pickle(path)\n",
    "    f1scores.append(result['f1score'])\n",
    "    accuracies.append(result['accuracy'])\n",
    "    flops.append(result['flops'])\n",
    "    params.append(result['params'])"
   ]
  },
  {
   "cell_type": "code",
   "execution_count": 8,
   "metadata": {},
   "outputs": [
    {
     "data": {
      "text/plain": [
       "41.437952"
      ]
     },
     "execution_count": 8,
     "metadata": {},
     "output_type": "execute_result"
    }
   ],
   "source": [
    "result['flops']"
   ]
  },
  {
   "cell_type": "code",
   "execution_count": 9,
   "metadata": {},
   "outputs": [
    {
     "name": "stdout",
     "output_type": "stream",
     "text": [
      "Average of 5 train/test runs\n",
      "RLNAS \n",
      "F1 score: 0.815 +/- 0.007\n",
      "Accuracy score: 0.815 +/- 0.007\n",
      "n. FLOPs: 41.438\n",
      "n. Params: 0.322\n"
     ]
    }
   ],
   "source": [
    "print('Average of {} train/test runs'.format(len(f1scores)))\n",
    "print('RLNAS ')\n",
    "print('F1 score: {:.3f} +/- {:.3f}'.format(np.mean(f1scores),np.std(f1scores)))\n",
    "print('Accuracy score: {:.3f} +/- {:.3f}'.format(np.mean(accuracies),np.std(accuracies)))\n",
    "print('n. FLOPs: {:.3f}'.format(np.mean(flops)))\n",
    "print('n. Params: {:.3f}'.format(np.mean(params)))"
   ]
  },
  {
   "cell_type": "code",
   "execution_count": 10,
   "metadata": {},
   "outputs": [
    {
     "name": "stdout",
     "output_type": "stream",
     "text": [
      "0th confusion matrix \n",
      "                    precision    recall  f1-score   support\n",
      "\n",
      "           WALKING     0.9790    0.9395    0.9588       496\n",
      "  WALKING_UPSTAIRS     0.9365    0.9703    0.9531       471\n",
      "WALKING_DOWNSTAIRS     0.9647    0.9762    0.9704       420\n",
      "           SITTING     0.6430    0.6273    0.6351       491\n",
      "          STANDING     0.6877    0.7782    0.7302       532\n",
      "            LAYING     0.7652    0.6797    0.7199       537\n",
      "\n",
      "          accuracy                         0.8212      2947\n",
      "         macro avg     0.8293    0.8285    0.8279      2947\n",
      "      weighted avg     0.8226    0.8212    0.8208      2947\n",
      "\n",
      "1th confusion matrix \n",
      "                    precision    recall  f1-score   support\n",
      "\n",
      "           WALKING     0.9957    0.9395    0.9668       496\n",
      "  WALKING_UPSTAIRS     0.9175    0.9915    0.9531       471\n",
      "WALKING_DOWNSTAIRS     0.9854    0.9667    0.9760       420\n",
      "           SITTING     0.5800    0.6273    0.6027       491\n",
      "          STANDING     0.6643    0.7180    0.6902       532\n",
      "            LAYING     0.7677    0.6462    0.7017       537\n",
      "\n",
      "          accuracy                         0.8062      2947\n",
      "         macro avg     0.8185    0.8149    0.8151      2947\n",
      "      weighted avg     0.8111    0.8062    0.8070      2947\n",
      "\n",
      "2th confusion matrix \n",
      "                    precision    recall  f1-score   support\n",
      "\n",
      "           WALKING     0.9872    0.9315    0.9585       496\n",
      "  WALKING_UPSTAIRS     0.9406    0.9406    0.9406       471\n",
      "WALKING_DOWNSTAIRS     0.9224    0.9905    0.9552       420\n",
      "           SITTING     0.6345    0.5621    0.5961       491\n",
      "          STANDING     0.6546    0.7801    0.7118       532\n",
      "            LAYING     0.7480    0.6797    0.7122       537\n",
      "\n",
      "          accuracy                         0.8066      2947\n",
      "         macro avg     0.8145    0.8141    0.8124      2947\n",
      "      weighted avg     0.8081    0.8066    0.8054      2947\n",
      "\n",
      "3th confusion matrix \n",
      "                    precision    recall  f1-score   support\n",
      "\n",
      "           WALKING     0.9582    0.9254    0.9415       496\n",
      "  WALKING_UPSTAIRS     0.9574    0.9533    0.9553       471\n",
      "WALKING_DOWNSTAIRS     0.9212    0.9738    0.9468       420\n",
      "           SITTING     0.6196    0.6965    0.6558       491\n",
      "          STANDING     0.7145    0.7481    0.7309       532\n",
      "            LAYING     0.8004    0.6648    0.7263       537\n",
      "\n",
      "          accuracy                         0.8191      2947\n",
      "         macro avg     0.8286    0.8270    0.8261      2947\n",
      "      weighted avg     0.8236    0.8191    0.8196      2947\n",
      "\n",
      "4th confusion matrix \n",
      "                    precision    recall  f1-score   support\n",
      "\n",
      "           WALKING     0.9895    0.9536    0.9713       496\n",
      "  WALKING_UPSTAIRS     0.9515    0.9172    0.9341       471\n",
      "WALKING_DOWNSTAIRS     0.9043    0.9905    0.9455       420\n",
      "           SITTING     0.6681    0.6273    0.6471       491\n",
      "          STANDING     0.7236    0.7086    0.7160       532\n",
      "            LAYING     0.7260    0.7747    0.7495       537\n",
      "\n",
      "          accuracy                         0.8219      2947\n",
      "         macro avg     0.8272    0.8287    0.8272      2947\n",
      "      weighted avg     0.8217    0.8219    0.8211      2947\n",
      "\n"
     ]
    }
   ],
   "source": [
    "for i, path in enumerate(uci_result_list):\n",
    "    result = pd.read_pickle(path)\n",
    "    conf_mat = result['conf_mat']\n",
    "    print(f'{i}th confusion matrix \\n{conf_mat}')"
   ]
  },
  {
   "attachments": {},
   "cell_type": "markdown",
   "metadata": {},
   "source": [
    "## UNI"
   ]
  },
  {
   "cell_type": "code",
   "execution_count": 12,
   "metadata": {},
   "outputs": [],
   "source": [
    "uni_result_list = glob.glob('../result_pro_a31/uni/test_*/ckpt_best.pkl')"
   ]
  },
  {
   "cell_type": "code",
   "execution_count": 13,
   "metadata": {},
   "outputs": [
    {
     "data": {
      "text/plain": [
       "['../result_pro_a31/uni/test_prnas_5/ckpt_best.pkl',\n",
       " '../result_pro_a31/uni/test_prnas_2/ckpt_best.pkl',\n",
       " '../result_pro_a31/uni/test_prnas_1/ckpt_best.pkl',\n",
       " '../result_pro_a31/uni/test_prnas_4/ckpt_best.pkl',\n",
       " '../result_pro_a31/uni/test_prnas_3/ckpt_best.pkl']"
      ]
     },
     "execution_count": 13,
     "metadata": {},
     "output_type": "execute_result"
    }
   ],
   "source": [
    "uni_result_list"
   ]
  },
  {
   "cell_type": "code",
   "execution_count": 14,
   "metadata": {},
   "outputs": [],
   "source": [
    "f1scores = []\n",
    "accuracies = []\n",
    "flops = []\n",
    "params = []\n",
    "\n",
    "for path in uni_result_list:\n",
    "    result = pd.read_pickle(path)\n",
    "    f1scores.append(result['f1score'])\n",
    "    accuracies.append(result['accuracy'])\n",
    "    flops.append(result['flops'])\n",
    "    params.append(result['params'])"
   ]
  },
  {
   "cell_type": "code",
   "execution_count": 15,
   "metadata": {},
   "outputs": [
    {
     "data": {
      "text/plain": [
       "48.841616"
      ]
     },
     "execution_count": 15,
     "metadata": {},
     "output_type": "execute_result"
    }
   ],
   "source": [
    "result['flops']"
   ]
  },
  {
   "cell_type": "code",
   "execution_count": 16,
   "metadata": {},
   "outputs": [
    {
     "name": "stdout",
     "output_type": "stream",
     "text": [
      "Average of 5 train/test runs\n",
      "RLNAS \n",
      "F1 score: 0.887 +/- 0.002\n",
      "Accuracy score: 0.888 +/- 0.002\n",
      "n. FLOPs: 48.842\n",
      "n. Params: 0.323\n"
     ]
    }
   ],
   "source": [
    "print('Average of {} train/test runs'.format(len(f1scores)))\n",
    "print('RLNAS ')\n",
    "print('F1 score: {:.3f} +/- {:.3f}'.format(np.mean(f1scores),np.std(f1scores)))\n",
    "print('Accuracy score: {:.3f} +/- {:.3f}'.format(np.mean(accuracies),np.std(accuracies)))\n",
    "print('n. FLOPs: {:.3f}'.format(np.mean(flops)))\n",
    "print('n. Params: {:.3f}'.format(np.mean(params)))"
   ]
  },
  {
   "cell_type": "code",
   "execution_count": 17,
   "metadata": {},
   "outputs": [
    {
     "name": "stdout",
     "output_type": "stream",
     "text": [
      "0th confusion matrix \n",
      "                 precision    recall  f1-score   support\n",
      "\n",
      "   StandingUpFS     0.6111    0.6875    0.6471        16\n",
      "   StandingUpFL     0.7059    0.5714    0.6316        21\n",
      "        Walking     0.9714    0.9770    0.9742       174\n",
      "        Running     0.9848    0.9749    0.9798       199\n",
      "       GoingUpS     0.9529    0.8804    0.9153        92\n",
      "        Jumping     0.9481    0.9865    0.9669        74\n",
      "     GoingDownS     0.9281    0.9699    0.9485       133\n",
      "    LyingDownFS     0.6667    0.7586    0.7097        29\n",
      "    SittingDown     0.7059    0.6000    0.6486        20\n",
      "    FallingForw     0.7843    0.7547    0.7692        53\n",
      "   FallingRight     0.7843    0.7843    0.7843        51\n",
      "    FallingBack     0.8036    0.8491    0.8257        53\n",
      "HittingObstacle     0.9836    0.9091    0.9449        66\n",
      "  FallingWithPS     0.7308    0.7917    0.7600        48\n",
      "  FallingBackSC     0.8462    0.7500    0.7952        44\n",
      "        Syncope     0.6500    0.7647    0.7027        51\n",
      "    FallingLeft     0.9000    0.8333    0.8654        54\n",
      "\n",
      "       accuracy                         0.8862      1178\n",
      "      macro avg     0.8210    0.8143    0.8158      1178\n",
      "   weighted avg     0.8892    0.8862    0.8867      1178\n",
      "\n",
      "1th confusion matrix \n",
      "                 precision    recall  f1-score   support\n",
      "\n",
      "   StandingUpFS     0.5333    0.5000    0.5161        16\n",
      "   StandingUpFL     0.6000    0.5714    0.5854        21\n",
      "        Walking     0.9711    0.9655    0.9683       174\n",
      "        Running     0.9899    0.9899    0.9899       199\n",
      "       GoingUpS     0.8947    0.9239    0.9091        92\n",
      "        Jumping     1.0000    1.0000    1.0000        74\n",
      "     GoingDownS     0.9773    0.9699    0.9736       133\n",
      "    LyingDownFS     0.6765    0.7931    0.7302        29\n",
      "    SittingDown     0.5294    0.4500    0.4865        20\n",
      "    FallingForw     0.7258    0.8491    0.7826        53\n",
      "   FallingRight     0.8431    0.8431    0.8431        51\n",
      "    FallingBack     0.7288    0.8113    0.7679        53\n",
      "HittingObstacle     0.9683    0.9242    0.9457        66\n",
      "  FallingWithPS     0.7500    0.7500    0.7500        48\n",
      "  FallingBackSC     0.7692    0.6818    0.7229        44\n",
      "        Syncope     0.8085    0.7451    0.7755        51\n",
      "    FallingLeft     0.8800    0.8148    0.8462        54\n",
      "\n",
      "       accuracy                         0.8871      1178\n",
      "      macro avg     0.8027    0.7990    0.7996      1178\n",
      "   weighted avg     0.8881    0.8871    0.8868      1178\n",
      "\n",
      "2th confusion matrix \n",
      "                 precision    recall  f1-score   support\n",
      "\n",
      "   StandingUpFS     0.6875    0.6875    0.6875        16\n",
      "   StandingUpFL     0.7000    0.6667    0.6829        21\n",
      "        Walking     0.9609    0.9885    0.9745       174\n",
      "        Running     0.9949    0.9849    0.9899       199\n",
      "       GoingUpS     0.9630    0.8478    0.9017        92\n",
      "        Jumping     0.9730    0.9730    0.9730        74\n",
      "     GoingDownS     0.9091    0.9774    0.9420       133\n",
      "    LyingDownFS     0.7037    0.6552    0.6786        29\n",
      "    SittingDown     0.6400    0.8000    0.7111        20\n",
      "    FallingForw     0.6909    0.7170    0.7037        53\n",
      "   FallingRight     0.9412    0.9412    0.9412        51\n",
      "    FallingBack     0.7636    0.7925    0.7778        53\n",
      "HittingObstacle     0.9538    0.9394    0.9466        66\n",
      "  FallingWithPS     0.6875    0.6875    0.6875        48\n",
      "  FallingBackSC     0.8421    0.7273    0.7805        44\n",
      "        Syncope     0.7800    0.7647    0.7723        51\n",
      "    FallingLeft     0.8704    0.8704    0.8704        54\n",
      "\n",
      "       accuracy                         0.8905      1178\n",
      "      macro avg     0.8272    0.8248    0.8248      1178\n",
      "   weighted avg     0.8917    0.8905    0.8903      1178\n",
      "\n",
      "3th confusion matrix \n",
      "                 precision    recall  f1-score   support\n",
      "\n",
      "   StandingUpFS     0.6364    0.4375    0.5185        16\n",
      "   StandingUpFL     0.5652    0.6190    0.5909        21\n",
      "        Walking     0.9653    0.9598    0.9625       174\n",
      "        Running     0.9898    0.9749    0.9823       199\n",
      "       GoingUpS     0.8854    0.9239    0.9043        92\n",
      "        Jumping     0.9487    1.0000    0.9737        74\n",
      "     GoingDownS     0.9769    0.9549    0.9658       133\n",
      "    LyingDownFS     0.5946    0.7586    0.6667        29\n",
      "    SittingDown     0.6154    0.4000    0.4848        20\n",
      "    FallingForw     0.7656    0.9245    0.8376        53\n",
      "   FallingRight     0.8400    0.8235    0.8317        51\n",
      "    FallingBack     0.8269    0.8113    0.8190        53\n",
      "HittingObstacle     0.9839    0.9242    0.9531        66\n",
      "  FallingWithPS     0.8478    0.8125    0.8298        48\n",
      "  FallingBackSC     0.8056    0.6591    0.7250        44\n",
      "        Syncope     0.7455    0.8039    0.7736        51\n",
      "    FallingLeft     0.8393    0.8704    0.8545        54\n",
      "\n",
      "       accuracy                         0.8896      1178\n",
      "      macro avg     0.8137    0.8034    0.8043      1178\n",
      "   weighted avg     0.8912    0.8896    0.8887      1178\n",
      "\n",
      "4th confusion matrix \n",
      "                 precision    recall  f1-score   support\n",
      "\n",
      "   StandingUpFS     0.6875    0.6875    0.6875        16\n",
      "   StandingUpFL     0.7647    0.6190    0.6842        21\n",
      "        Walking     0.9767    0.9655    0.9711       174\n",
      "        Running     0.9949    0.9849    0.9899       199\n",
      "       GoingUpS     0.9326    0.9022    0.9171        92\n",
      "        Jumping     0.9481    0.9865    0.9669        74\n",
      "     GoingDownS     0.9353    0.9774    0.9559       133\n",
      "    LyingDownFS     0.6667    0.6897    0.6780        29\n",
      "    SittingDown     0.6364    0.7000    0.6667        20\n",
      "    FallingForw     0.7600    0.7170    0.7379        53\n",
      "   FallingRight     0.8936    0.8235    0.8571        51\n",
      "    FallingBack     0.6897    0.7547    0.7207        53\n",
      "HittingObstacle     0.9385    0.9242    0.9313        66\n",
      "  FallingWithPS     0.7288    0.8958    0.8037        48\n",
      "  FallingBackSC     0.8387    0.5909    0.6933        44\n",
      "        Syncope     0.6964    0.7647    0.7290        51\n",
      "    FallingLeft     0.8491    0.8333    0.8411        54\n",
      "\n",
      "       accuracy                         0.8846      1178\n",
      "      macro avg     0.8199    0.8128    0.8136      1178\n",
      "   weighted avg     0.8871    0.8846    0.8842      1178\n",
      "\n"
     ]
    }
   ],
   "source": [
    "for i, path in enumerate(uni_result_list):\n",
    "    result = pd.read_pickle(path)\n",
    "    conf_mat = result['conf_mat']\n",
    "    print(f'{i}th confusion matrix \\n{conf_mat}')"
   ]
  },
  {
   "attachments": {},
   "cell_type": "markdown",
   "metadata": {},
   "source": [
    "## KAR"
   ]
  },
  {
   "cell_type": "code",
   "execution_count": 18,
   "metadata": {},
   "outputs": [],
   "source": [
    "kar_result_list = glob.glob('../result_pro_a31/kar/test_*/ckpt_best.pkl')"
   ]
  },
  {
   "cell_type": "code",
   "execution_count": 19,
   "metadata": {},
   "outputs": [
    {
     "data": {
      "text/plain": [
       "['../result_pro_a31/kar/test_prnas_5/ckpt_best.pkl',\n",
       " '../result_pro_a31/kar/test_prnas_2/ckpt_best.pkl',\n",
       " '../result_pro_a31/kar/test_prnas_1/ckpt_best.pkl',\n",
       " '../result_pro_a31/kar/test_prnas_4/ckpt_best.pkl',\n",
       " '../result_pro_a31/kar/test_prnas_3/ckpt_best.pkl']"
      ]
     },
     "execution_count": 19,
     "metadata": {},
     "output_type": "execute_result"
    }
   ],
   "source": [
    "kar_result_list"
   ]
  },
  {
   "cell_type": "code",
   "execution_count": 20,
   "metadata": {},
   "outputs": [],
   "source": [
    "f1scores = []\n",
    "accuracies = []\n",
    "flops = []\n",
    "params = []\n",
    "\n",
    "for path in kar_result_list:\n",
    "    result = pd.read_pickle(path)\n",
    "    f1scores.append(result['f1score'])\n",
    "    accuracies.append(result['accuracy'])\n",
    "    flops.append(result['flops'])\n",
    "    params.append(result['params'])"
   ]
  },
  {
   "cell_type": "code",
   "execution_count": 21,
   "metadata": {},
   "outputs": [
    {
     "data": {
      "text/plain": [
       "97.120704"
      ]
     },
     "execution_count": 21,
     "metadata": {},
     "output_type": "execute_result"
    }
   ],
   "source": [
    "result['flops']"
   ]
  },
  {
   "cell_type": "code",
   "execution_count": 22,
   "metadata": {},
   "outputs": [
    {
     "name": "stdout",
     "output_type": "stream",
     "text": [
      "Average of 5 train/test runs\n",
      "RLNAS \n",
      "F1 score: 0.728 +/- 0.004\n",
      "Accuracy score: 0.739 +/- 0.004\n",
      "n. FLOPs: 97.121\n",
      "n. Params: 0.323\n"
     ]
    }
   ],
   "source": [
    "print('Average of {} train/test runs'.format(len(f1scores)))\n",
    "print('RLNAS ')\n",
    "print('F1 score: {:.3f} +/- {:.3f}'.format(np.mean(f1scores),np.std(f1scores)))\n",
    "print('Accuracy score: {:.3f} +/- {:.3f}'.format(np.mean(accuracies),np.std(accuracies)))\n",
    "print('n. FLOPs: {:.3f}'.format(np.mean(flops)))\n",
    "print('n. Params: {:.3f}'.format(np.mean(params)))"
   ]
  },
  {
   "cell_type": "code",
   "execution_count": 23,
   "metadata": {},
   "outputs": [
    {
     "name": "stdout",
     "output_type": "stream",
     "text": [
      "0th confusion matrix \n",
      "              precision    recall  f1-score   support\n",
      "\n",
      "     walking     0.7129    0.7416    0.7269       770\n",
      "     jogging     0.5408    0.6658    0.5968       757\n",
      "      stairs     0.8973    0.8161    0.8547       685\n",
      "     sitting     0.8719    0.9604    0.9140       758\n",
      "    standing     0.7973    0.9833    0.8806       720\n",
      "      typing     0.6017    0.4598    0.5213       759\n",
      "       teeth     0.8060    0.9501    0.8721       621\n",
      "        soup     0.5774    0.9615    0.7216       442\n",
      "       chips     0.9255    0.4986    0.6480       349\n",
      "       pasta     0.6963    0.7121    0.7041       264\n",
      "    drinking     0.9440    0.4102    0.5719       863\n",
      "    sandwich     1.0000    0.6774    0.8077       186\n",
      "     kicking     0.9419    0.9878    0.9643        82\n",
      "       catch     0.9194    0.6196    0.7403        92\n",
      "   dribbling     0.8934    0.5201    0.6575       596\n",
      "     writing     0.7931    0.9868    0.8794       303\n",
      "    clapping     0.7326    0.9628    0.8321       296\n",
      "     folding     0.4822    0.9596    0.6419       198\n",
      "\n",
      "    accuracy                         0.7434      8741\n",
      "   macro avg     0.7852    0.7708    0.7520      8741\n",
      "weighted avg     0.7751    0.7434    0.7339      8741\n",
      "\n",
      "1th confusion matrix \n",
      "              precision    recall  f1-score   support\n",
      "\n",
      "     walking     0.6797    0.7688    0.7215       770\n",
      "     jogging     0.5249    0.6816    0.5931       757\n",
      "      stairs     0.8942    0.8394    0.8660       685\n",
      "     sitting     0.8528    0.9631    0.9046       758\n",
      "    standing     0.8116    0.9931    0.8932       720\n",
      "      typing     0.6347    0.3663    0.4645       759\n",
      "       teeth     0.8079    0.9549    0.8753       621\n",
      "        soup     0.7591    0.9480    0.8431       442\n",
      "       chips     0.8656    0.4613    0.6019       349\n",
      "       pasta     0.5735    0.7538    0.6514       264\n",
      "    drinking     0.9500    0.4183    0.5809       863\n",
      "    sandwich     0.9933    0.8011    0.8869       186\n",
      "     kicking     0.9157    0.9268    0.9212        82\n",
      "       catch     0.7872    0.4022    0.5324        92\n",
      "   dribbling     0.6934    0.5654    0.6229       596\n",
      "     writing     0.6916    0.9769    0.8098       303\n",
      "    clapping     0.8304    0.9595    0.8903       296\n",
      "     folding     0.5659    0.9545    0.7105       198\n",
      "\n",
      "    accuracy                         0.7444      8741\n",
      "   macro avg     0.7684    0.7631    0.7427      8741\n",
      "weighted avg     0.7630    0.7444    0.7309      8741\n",
      "\n",
      "2th confusion matrix \n",
      "              precision    recall  f1-score   support\n",
      "\n",
      "     walking     0.5949    0.7247    0.6534       770\n",
      "     jogging     0.4757    0.6077    0.5336       757\n",
      "      stairs     0.8654    0.8350    0.8499       685\n",
      "     sitting     0.8553    0.9670    0.9077       758\n",
      "    standing     0.7551    0.9847    0.8547       720\n",
      "      typing     0.6180    0.3070    0.4102       759\n",
      "       teeth     0.9483    0.9452    0.9468       621\n",
      "        soup     0.7375    0.9344    0.8244       442\n",
      "       chips     0.9706    0.4728    0.6358       349\n",
      "       pasta     0.5038    0.7576    0.6051       264\n",
      "    drinking     0.9177    0.4264    0.5823       863\n",
      "    sandwich     1.0000    0.8333    0.9091       186\n",
      "     kicking     0.9059    0.9390    0.9222        82\n",
      "       catch     0.8889    0.5217    0.6575        92\n",
      "   dribbling     0.7434    0.7097    0.7262       596\n",
      "     writing     0.8254    0.9208    0.8705       303\n",
      "    clapping     0.7865    0.9088    0.8433       296\n",
      "     folding     0.5288    0.8333    0.6471       198\n",
      "\n",
      "    accuracy                         0.7338      8741\n",
      "   macro avg     0.7734    0.7572    0.7433      8741\n",
      "weighted avg     0.7577    0.7338    0.7230      8741\n",
      "\n",
      "3th confusion matrix \n",
      "              precision    recall  f1-score   support\n",
      "\n",
      "     walking     0.6092    0.7390    0.6678       770\n",
      "     jogging     0.5427    0.6050    0.5721       757\n",
      "      stairs     0.9034    0.8190    0.8591       685\n",
      "     sitting     0.8667    0.9697    0.9153       758\n",
      "    standing     0.7978    0.9917    0.8842       720\n",
      "      typing     0.6185    0.4401    0.5142       759\n",
      "       teeth     0.8027    0.9501    0.8702       621\n",
      "        soup     0.7270    0.9457    0.8220       442\n",
      "       chips     0.9180    0.4814    0.6316       349\n",
      "       pasta     0.5067    0.7159    0.5934       264\n",
      "    drinking     0.9474    0.4797    0.6369       863\n",
      "    sandwich     0.9856    0.7366    0.8431       186\n",
      "     kicking     0.8495    0.9634    0.9029        82\n",
      "       catch     0.9636    0.5761    0.7211        92\n",
      "   dribbling     0.6531    0.4581    0.5385       596\n",
      "     writing     0.8559    0.9604    0.9051       303\n",
      "    clapping     0.9521    0.9392    0.9456       296\n",
      "     folding     0.4511    0.9545    0.6126       198\n",
      "\n",
      "    accuracy                         0.7379      8741\n",
      "   macro avg     0.7750    0.7625    0.7464      8741\n",
      "weighted avg     0.7611    0.7379    0.7300      8741\n",
      "\n",
      "4th confusion matrix \n",
      "              precision    recall  f1-score   support\n",
      "\n",
      "     walking     0.7873    0.7597    0.7733       770\n",
      "     jogging     0.5416    0.6711    0.5994       757\n",
      "      stairs     0.9281    0.8102    0.8652       685\n",
      "     sitting     0.8454    0.9670    0.9022       758\n",
      "    standing     0.7547    0.9958    0.8587       720\n",
      "      typing     0.5868    0.5033    0.5418       759\n",
      "       teeth     0.8088    0.9469    0.8724       621\n",
      "        soup     0.6572    0.9457    0.7755       442\n",
      "       chips     0.7783    0.4527    0.5725       349\n",
      "       pasta     0.5341    0.6818    0.5990       264\n",
      "    drinking     0.9381    0.3511    0.5110       863\n",
      "    sandwich     0.9730    0.5806    0.7273       186\n",
      "     kicking     0.9286    0.9512    0.9398        82\n",
      "       catch     0.7031    0.4891    0.5769        92\n",
      "   dribbling     0.7114    0.5336    0.6098       596\n",
      "     writing     0.8061    0.9604    0.8765       303\n",
      "    clapping     0.7082    0.9595    0.8149       296\n",
      "     folding     0.6100    0.9242    0.7349       198\n",
      "\n",
      "    accuracy                         0.7361      8741\n",
      "   macro avg     0.7556    0.7491    0.7306      8741\n",
      "weighted avg     0.7570    0.7361    0.7230      8741\n",
      "\n"
     ]
    }
   ],
   "source": [
    "for i, path in enumerate(kar_result_list):\n",
    "    result = pd.read_pickle(path)\n",
    "    conf_mat = result['conf_mat']\n",
    "    print(f'{i}th confusion matrix \\n{conf_mat}')"
   ]
  },
  {
   "attachments": {},
   "cell_type": "markdown",
   "metadata": {},
   "source": [
    "## WIS"
   ]
  },
  {
   "cell_type": "code",
   "execution_count": 24,
   "metadata": {},
   "outputs": [],
   "source": [
    "wis_result_list = glob.glob('../result_pro_a31/wis/test_*/ckpt_best.pkl')"
   ]
  },
  {
   "cell_type": "code",
   "execution_count": 25,
   "metadata": {},
   "outputs": [
    {
     "data": {
      "text/plain": [
       "['../result_pro_a31/wis/test_prnas_5/ckpt_best.pkl',\n",
       " '../result_pro_a31/wis/test_prnas_2/ckpt_best.pkl',\n",
       " '../result_pro_a31/wis/test_prnas_1/ckpt_best.pkl',\n",
       " '../result_pro_a31/wis/test_prnas_4/ckpt_best.pkl',\n",
       " '../result_pro_a31/wis/test_prnas_3/ckpt_best.pkl']"
      ]
     },
     "execution_count": 25,
     "metadata": {},
     "output_type": "execute_result"
    }
   ],
   "source": [
    "wis_result_list"
   ]
  },
  {
   "cell_type": "code",
   "execution_count": 26,
   "metadata": {},
   "outputs": [],
   "source": [
    "f1scores = []\n",
    "accuracies = []\n",
    "flops = []\n",
    "params = []\n",
    "\n",
    "for path in wis_result_list:\n",
    "    result = pd.read_pickle(path)\n",
    "    f1scores.append(result['f1score'])\n",
    "    accuracies.append(result['accuracy'])\n",
    "    flops.append(result['flops'])\n",
    "    params.append(result['params'])"
   ]
  },
  {
   "cell_type": "code",
   "execution_count": 27,
   "metadata": {},
   "outputs": [
    {
     "data": {
      "text/plain": [
       "19.407168"
      ]
     },
     "execution_count": 27,
     "metadata": {},
     "output_type": "execute_result"
    }
   ],
   "source": [
    "result['flops']"
   ]
  },
  {
   "cell_type": "code",
   "execution_count": 28,
   "metadata": {},
   "outputs": [
    {
     "name": "stdout",
     "output_type": "stream",
     "text": [
      "Average of 5 train/test runs\n",
      "RLNAS \n",
      "F1 score: 0.859 +/- 0.006\n",
      "Accuracy score: 0.856 +/- 0.008\n",
      "n. FLOPs: 19.407\n",
      "n. Params: 0.321\n"
     ]
    }
   ],
   "source": [
    "print('Average of {} train/test runs'.format(len(f1scores)))\n",
    "print('RLNAS ')\n",
    "print('F1 score: {:.3f} +/- {:.3f}'.format(np.mean(f1scores),np.std(f1scores)))\n",
    "print('Accuracy score: {:.3f} +/- {:.3f}'.format(np.mean(accuracies),np.std(accuracies)))\n",
    "print('n. FLOPs: {:.3f}'.format(np.mean(flops)))\n",
    "print('n. Params: {:.3f}'.format(np.mean(params)))"
   ]
  },
  {
   "cell_type": "code",
   "execution_count": 29,
   "metadata": {},
   "outputs": [
    {
     "name": "stdout",
     "output_type": "stream",
     "text": [
      "0th confusion matrix \n",
      "                    precision    recall  f1-score   support\n",
      "\n",
      "           WALKING     0.9269    0.9390    0.9329      3918\n",
      "  WALKING_UPSTAIRS     0.9308    0.8295    0.8772      5918\n",
      "WALKING_DOWNSTAIRS     0.7798    0.7909    0.7853      1679\n",
      "           SITTING     0.5253    0.7184    0.6069      1545\n",
      "          STANDING     0.9418    0.8165    0.8747       932\n",
      "            LAYING     0.8128    0.9327    0.8686       847\n",
      "\n",
      "          accuracy                         0.8476     14839\n",
      "         macro avg     0.8196    0.8379    0.8243     14839\n",
      "      weighted avg     0.8644    0.8476    0.8527     14839\n",
      "\n",
      "1th confusion matrix \n",
      "                    precision    recall  f1-score   support\n",
      "\n",
      "           WALKING     0.9255    0.9296    0.9275      3918\n",
      "  WALKING_UPSTAIRS     0.9033    0.9202    0.9117      5918\n",
      "WALKING_DOWNSTAIRS     0.8135    0.7272    0.7679      1679\n",
      "           SITTING     0.6739    0.6997    0.6866      1545\n",
      "          STANDING     0.8963    0.8165    0.8546       932\n",
      "            LAYING     0.7980    0.8678    0.8314       847\n",
      "\n",
      "          accuracy                         0.8684     14839\n",
      "         macro avg     0.8351    0.8268    0.8300     14839\n",
      "      weighted avg     0.8687    0.8684    0.8680     14839\n",
      "\n",
      "2th confusion matrix \n",
      "                    precision    recall  f1-score   support\n",
      "\n",
      "           WALKING     0.9370    0.9262    0.9316      3918\n",
      "  WALKING_UPSTAIRS     0.9308    0.8746    0.9018      5918\n",
      "WALKING_DOWNSTAIRS     0.6752    0.8529    0.7537      1679\n",
      "           SITTING     0.6770    0.6498    0.6631      1545\n",
      "          STANDING     0.9049    0.8165    0.8584       932\n",
      "            LAYING     0.7875    0.8926    0.8367       847\n",
      "\n",
      "          accuracy                         0.8598     14839\n",
      "         macro avg     0.8187    0.8354    0.8242     14839\n",
      "      weighted avg     0.8673    0.8598    0.8616     14839\n",
      "\n",
      "3th confusion matrix \n",
      "                    precision    recall  f1-score   support\n",
      "\n",
      "           WALKING     0.9354    0.9390    0.9372      3918\n",
      "  WALKING_UPSTAIRS     0.9371    0.8276    0.8790      5918\n",
      "WALKING_DOWNSTAIRS     0.7457    0.8017    0.7727      1679\n",
      "           SITTING     0.5330    0.7204    0.6127      1545\n",
      "          STANDING     0.9202    0.8165    0.8653       932\n",
      "            LAYING     0.8133    0.9209    0.8638       847\n",
      "\n",
      "          accuracy                         0.8476     14839\n",
      "         macro avg     0.8141    0.8377    0.8218     14839\n",
      "      weighted avg     0.8648    0.8476    0.8529     14839\n",
      "\n",
      "4th confusion matrix \n",
      "                    precision    recall  f1-score   support\n",
      "\n",
      "           WALKING     0.9314    0.9359    0.9337      3918\n",
      "  WALKING_UPSTAIRS     0.9172    0.8631    0.8894      5918\n",
      "WALKING_DOWNSTAIRS     0.7562    0.8130    0.7836      1679\n",
      "           SITTING     0.5993    0.6816    0.6378      1545\n",
      "          STANDING     0.9407    0.8165    0.8742       932\n",
      "            LAYING     0.8035    0.9126    0.8546       847\n",
      "\n",
      "          accuracy                         0.8577     14839\n",
      "         macro avg     0.8247    0.8371    0.8289     14839\n",
      "      weighted avg     0.8646    0.8577    0.8600     14839\n",
      "\n"
     ]
    }
   ],
   "source": [
    "for i, path in enumerate(wis_result_list):\n",
    "    result = pd.read_pickle(path)\n",
    "    conf_mat = result['conf_mat']\n",
    "    print(f'{i}th confusion matrix \\n{conf_mat}')"
   ]
  },
  {
   "attachments": {},
   "cell_type": "markdown",
   "metadata": {},
   "source": [
    "## OPP"
   ]
  },
  {
   "cell_type": "code",
   "execution_count": 31,
   "metadata": {},
   "outputs": [],
   "source": [
    "opp_result_list = glob.glob('../result_pro_a31/opp/test_*/ckpt_best.pkl')"
   ]
  },
  {
   "cell_type": "code",
   "execution_count": 32,
   "metadata": {},
   "outputs": [
    {
     "data": {
      "text/plain": [
       "['../result_pro_a31/opp/test_prnas_5/ckpt_best.pkl',\n",
       " '../result_pro_a31/opp/test_prnas_2/ckpt_best.pkl',\n",
       " '../result_pro_a31/opp/test_prnas_1/ckpt_best.pkl',\n",
       " '../result_pro_a31/opp/test_prnas_4/ckpt_best.pkl',\n",
       " '../result_pro_a31/opp/test_prnas_3/ckpt_best.pkl']"
      ]
     },
     "execution_count": 32,
     "metadata": {},
     "output_type": "execute_result"
    }
   ],
   "source": [
    "opp_result_list"
   ]
  },
  {
   "cell_type": "code",
   "execution_count": 33,
   "metadata": {},
   "outputs": [],
   "source": [
    "f1scores = []\n",
    "accuracies = []\n",
    "flops = []\n",
    "params = []\n",
    "\n",
    "for path in opp_result_list:\n",
    "    result = pd.read_pickle(path)\n",
    "    f1scores.append(result['f1score'])\n",
    "    accuracies.append(result['accuracy'])\n",
    "    flops.append(result['flops'])\n",
    "    params.append(result['params'])"
   ]
  },
  {
   "cell_type": "code",
   "execution_count": 34,
   "metadata": {},
   "outputs": [
    {
     "data": {
      "text/plain": [
       "5.346304"
      ]
     },
     "execution_count": 34,
     "metadata": {},
     "output_type": "execute_result"
    }
   ],
   "source": [
    "result['flops']"
   ]
  },
  {
   "cell_type": "code",
   "execution_count": 35,
   "metadata": {},
   "outputs": [
    {
     "name": "stdout",
     "output_type": "stream",
     "text": [
      "Average of 5 train/test runs\n",
      "RLNAS \n",
      "F1 score: 0.893 +/- 0.001\n",
      "Accuracy score: 0.894 +/- 0.002\n",
      "n. FLOPs: 5.346\n",
      "n. Params: 0.334\n"
     ]
    }
   ],
   "source": [
    "print('Average of {} train/test runs'.format(len(f1scores)))\n",
    "print('RLNAS ')\n",
    "print('F1 score: {:.3f} +/- {:.3f}'.format(np.mean(f1scores),np.std(f1scores)))\n",
    "print('Accuracy score: {:.3f} +/- {:.3f}'.format(np.mean(accuracies),np.std(accuracies)))\n",
    "print('n. FLOPs: {:.3f}'.format(np.mean(flops)))\n",
    "print('n. Params: {:.3f}'.format(np.mean(params)))"
   ]
  },
  {
   "cell_type": "code",
   "execution_count": 36,
   "metadata": {},
   "outputs": [
    {
     "name": "stdout",
     "output_type": "stream",
     "text": [
      "0th confusion matrix \n",
      "                  precision    recall  f1-score   support\n",
      "\n",
      "            Null     0.9458    0.9530    0.9493     12371\n",
      "     Open Door 1     0.6092    0.6310    0.6199        84\n",
      "     Open Door 2     0.7470    0.8671    0.8026       143\n",
      "    Close Door 1     0.6778    0.6854    0.6816        89\n",
      "    Close Door 2     0.8571    0.7742    0.8136       124\n",
      "     Open Fridge     0.7276    0.5971    0.6559       340\n",
      "    Close Fridge     0.6371    0.7082    0.6707       233\n",
      " Open Dishwasher     0.5217    0.5833    0.5508       144\n",
      "Close Dishwasher     0.3678    0.5424    0.4384       118\n",
      "   Open Drawer 1     0.3729    0.3860    0.3793        57\n",
      "  Close Drawer 1     0.5217    0.5455    0.5333        66\n",
      "   Open Drawer 2     0.3939    0.2167    0.2796        60\n",
      "  Close Drawer 2     0.3571    0.1250    0.1852        40\n",
      "   Open Drawer 3     0.5570    0.4490    0.4972        98\n",
      "  Close Drawer 3     0.6452    0.4494    0.5298        89\n",
      "     Clean Table     0.8333    0.4027    0.5430       149\n",
      "  Drink from Cup     0.6646    0.6884    0.6763       475\n",
      "   Toggle Switch     0.6545    0.6835    0.6687       158\n",
      "\n",
      "        accuracy                         0.8959     14838\n",
      "       macro avg     0.6162    0.5715    0.5820     14838\n",
      "    weighted avg     0.8955    0.8959    0.8942     14838\n",
      "\n",
      "1th confusion matrix \n",
      "                  precision    recall  f1-score   support\n",
      "\n",
      "            Null     0.9408    0.9591    0.9499     12371\n",
      "     Open Door 1     0.7455    0.4881    0.5899        84\n",
      "     Open Door 2     0.7613    0.8252    0.7919       143\n",
      "    Close Door 1     0.5385    0.7865    0.6393        89\n",
      "    Close Door 2     0.8231    0.8629    0.8425       124\n",
      "     Open Fridge     0.7348    0.5706    0.6424       340\n",
      "    Close Fridge     0.7089    0.6481    0.6771       233\n",
      " Open Dishwasher     0.5423    0.5347    0.5385       144\n",
      "Close Dishwasher     0.3563    0.5254    0.4247       118\n",
      "   Open Drawer 1     0.4286    0.4737    0.4500        57\n",
      "  Close Drawer 1     0.5122    0.3182    0.3925        66\n",
      "   Open Drawer 2     0.4324    0.2667    0.3299        60\n",
      "  Close Drawer 2     0.4583    0.2750    0.3437        40\n",
      "   Open Drawer 3     0.4809    0.6429    0.5502        98\n",
      "  Close Drawer 3     0.5970    0.4494    0.5128        89\n",
      "     Clean Table     0.9322    0.3691    0.5288       149\n",
      "  Drink from Cup     0.7302    0.5811    0.6471       475\n",
      "   Toggle Switch     0.6524    0.6772    0.6646       158\n",
      "\n",
      "        accuracy                         0.8964     14838\n",
      "       macro avg     0.6320    0.5697    0.5842     14838\n",
      "    weighted avg     0.8955    0.8964    0.8933     14838\n",
      "\n",
      "2th confusion matrix \n",
      "                  precision    recall  f1-score   support\n",
      "\n",
      "            Null     0.9542    0.9450    0.9496     12371\n",
      "     Open Door 1     0.5833    0.5833    0.5833        84\n",
      "     Open Door 2     0.8357    0.8182    0.8269       143\n",
      "    Close Door 1     0.6500    0.7303    0.6878        89\n",
      "    Close Door 2     0.8462    0.8871    0.8661       124\n",
      "     Open Fridge     0.6962    0.6000    0.6445       340\n",
      "    Close Fridge     0.5969    0.6609    0.6273       233\n",
      " Open Dishwasher     0.4731    0.6111    0.5333       144\n",
      "Close Dishwasher     0.2987    0.5847    0.3954       118\n",
      "   Open Drawer 1     0.2750    0.3860    0.3212        57\n",
      "  Close Drawer 1     0.3592    0.5606    0.4379        66\n",
      "   Open Drawer 2     0.3429    0.2000    0.2526        60\n",
      "  Close Drawer 2     0.3519    0.4750    0.4043        40\n",
      "   Open Drawer 3     0.5581    0.4898    0.5217        98\n",
      "  Close Drawer 3     0.5474    0.5843    0.5652        89\n",
      "     Clean Table     0.7727    0.4564    0.5738       149\n",
      "  Drink from Cup     0.6659    0.6253    0.6450       475\n",
      "   Toggle Switch     0.6292    0.7089    0.6667       158\n",
      "\n",
      "        accuracy                         0.8905     14838\n",
      "       macro avg     0.5798    0.6059    0.5835     14838\n",
      "    weighted avg     0.8979    0.8905    0.8929     14838\n",
      "\n",
      "3th confusion matrix \n",
      "                  precision    recall  f1-score   support\n",
      "\n",
      "            Null     0.9474    0.9538    0.9506     12371\n",
      "     Open Door 1     0.6716    0.5357    0.5960        84\n",
      "     Open Door 2     0.8440    0.8322    0.8380       143\n",
      "    Close Door 1     0.6195    0.7865    0.6931        89\n",
      "    Close Door 2     0.8500    0.8226    0.8361       124\n",
      "     Open Fridge     0.7433    0.5706    0.6456       340\n",
      "    Close Fridge     0.6624    0.6738    0.6681       233\n",
      " Open Dishwasher     0.5396    0.5208    0.5300       144\n",
      "Close Dishwasher     0.3131    0.5678    0.4036       118\n",
      "   Open Drawer 1     0.3836    0.4912    0.4308        57\n",
      "  Close Drawer 1     0.5147    0.5303    0.5224        66\n",
      "   Open Drawer 2     0.3750    0.2000    0.2609        60\n",
      "  Close Drawer 2     0.2889    0.3250    0.3059        40\n",
      "   Open Drawer 3     0.5000    0.5918    0.5421        98\n",
      "  Close Drawer 3     0.5570    0.4944    0.5238        89\n",
      "     Clean Table     0.7949    0.4161    0.5463       149\n",
      "  Drink from Cup     0.6532    0.6105    0.6311       475\n",
      "   Toggle Switch     0.6879    0.6835    0.6857       158\n",
      "\n",
      "        accuracy                         0.8949     14838\n",
      "       macro avg     0.6081    0.5893    0.5894     14838\n",
      "    weighted avg     0.8967    0.8949    0.8943     14838\n",
      "\n",
      "4th confusion matrix \n",
      "                  precision    recall  f1-score   support\n",
      "\n",
      "            Null     0.9479    0.9490    0.9485     12371\n",
      "     Open Door 1     0.6618    0.5357    0.5921        84\n",
      "     Open Door 2     0.9355    0.8112    0.8689       143\n",
      "    Close Door 1     0.5373    0.8090    0.6457        89\n",
      "    Close Door 2     0.7718    0.9274    0.8425       124\n",
      "     Open Fridge     0.6997    0.6235    0.6594       340\n",
      "    Close Fridge     0.6814    0.6609    0.6710       233\n",
      " Open Dishwasher     0.4751    0.5972    0.5292       144\n",
      "Close Dishwasher     0.3182    0.5339    0.3987       118\n",
      "   Open Drawer 1     0.3861    0.6842    0.4937        57\n",
      "  Close Drawer 1     0.5161    0.4848    0.5000        66\n",
      "   Open Drawer 2     0.4468    0.3500    0.3925        60\n",
      "  Close Drawer 2     0.4118    0.1750    0.2456        40\n",
      "   Open Drawer 3     0.5402    0.4796    0.5081        98\n",
      "  Close Drawer 3     0.6000    0.3708    0.4583        89\n",
      "     Clean Table     0.8841    0.4094    0.5596       149\n",
      "  Drink from Cup     0.6689    0.6253    0.6464       475\n",
      "   Toggle Switch     0.5638    0.6709    0.6127       158\n",
      "\n",
      "        accuracy                         0.8927     14838\n",
      "       macro avg     0.6137    0.5943    0.5874     14838\n",
      "    weighted avg     0.8968    0.8927    0.8927     14838\n",
      "\n"
     ]
    }
   ],
   "source": [
    "for i, path in enumerate(opp_result_list):\n",
    "    result = pd.read_pickle(path)\n",
    "    conf_mat = result['conf_mat']\n",
    "    print(f'{i}th confusion matrix \\n{conf_mat}')"
   ]
  },
  {
   "attachments": {},
   "cell_type": "markdown",
   "metadata": {},
   "source": [
    "# S10"
   ]
  },
  {
   "attachments": {},
   "cell_type": "markdown",
   "metadata": {},
   "source": [
    "## UCI"
   ]
  },
  {
   "cell_type": "code",
   "execution_count": 39,
   "metadata": {},
   "outputs": [],
   "source": [
    "uci_result_list = glob.glob('../result_pro_s10/uci/test_*/ckpt_best.pkl')"
   ]
  },
  {
   "cell_type": "code",
   "execution_count": 40,
   "metadata": {},
   "outputs": [
    {
     "data": {
      "text/plain": [
       "['../result_pro_s10/uci/test_prnas_5/ckpt_best.pkl',\n",
       " '../result_pro_s10/uci/test_prnas_2/ckpt_best.pkl',\n",
       " '../result_pro_s10/uci/test_prnas_1/ckpt_best.pkl',\n",
       " '../result_pro_s10/uci/test_prnas_4/ckpt_best.pkl',\n",
       " '../result_pro_s10/uci/test_prnas_3/ckpt_best.pkl']"
      ]
     },
     "execution_count": 40,
     "metadata": {},
     "output_type": "execute_result"
    }
   ],
   "source": [
    "uci_result_list"
   ]
  },
  {
   "cell_type": "code",
   "execution_count": 41,
   "metadata": {},
   "outputs": [],
   "source": [
    "f1scores = []\n",
    "accuracies = []\n",
    "flops = []\n",
    "params = []\n",
    "\n",
    "for path in uci_result_list:\n",
    "    result = pd.read_pickle(path)\n",
    "    f1scores.append(result['f1score'])\n",
    "    accuracies.append(result['accuracy'])\n",
    "    flops.append(result['flops'])\n",
    "    params.append(result['params'])"
   ]
  },
  {
   "cell_type": "code",
   "execution_count": 42,
   "metadata": {},
   "outputs": [
    {
     "data": {
      "text/plain": [
       "41.751296"
      ]
     },
     "execution_count": 42,
     "metadata": {},
     "output_type": "execute_result"
    }
   ],
   "source": [
    "result['flops']"
   ]
  },
  {
   "cell_type": "code",
   "execution_count": 43,
   "metadata": {},
   "outputs": [
    {
     "name": "stdout",
     "output_type": "stream",
     "text": [
      "Average of 5 train/test runs\n",
      "RLNAS \n",
      "F1 score: 0.791 +/- 0.014\n",
      "Accuracy score: 0.791 +/- 0.012\n",
      "n. FLOPs: 41.751\n",
      "n. Params: 0.324\n"
     ]
    }
   ],
   "source": [
    "print('Average of {} train/test runs'.format(len(f1scores)))\n",
    "print('RLNAS ')\n",
    "print('F1 score: {:.3f} +/- {:.3f}'.format(np.mean(f1scores),np.std(f1scores)))\n",
    "print('Accuracy score: {:.3f} +/- {:.3f}'.format(np.mean(accuracies),np.std(accuracies)))\n",
    "print('n. FLOPs: {:.3f}'.format(np.mean(flops)))\n",
    "print('n. Params: {:.3f}'.format(np.mean(params)))"
   ]
  },
  {
   "cell_type": "code",
   "execution_count": 44,
   "metadata": {},
   "outputs": [
    {
     "name": "stdout",
     "output_type": "stream",
     "text": [
      "0th confusion matrix \n",
      "                    precision    recall  f1-score   support\n",
      "\n",
      "           WALKING     0.9853    0.9456    0.9650       496\n",
      "  WALKING_UPSTAIRS     0.9716    0.9427    0.9569       471\n",
      "WALKING_DOWNSTAIRS     0.8989    0.9738    0.9349       420\n",
      "           SITTING     0.5793    0.5580    0.5685       491\n",
      "          STANDING     0.5904    0.6504    0.6190       532\n",
      "            LAYING     0.7460    0.6946    0.7194       537\n",
      "\n",
      "          accuracy                         0.7855      2947\n",
      "         macro avg     0.7952    0.7942    0.7939      2947\n",
      "      weighted avg     0.7883    0.7855    0.7861      2947\n",
      "\n",
      "1th confusion matrix \n",
      "                    precision    recall  f1-score   support\n",
      "\n",
      "           WALKING     0.9729    0.9395    0.9559       496\n",
      "  WALKING_UPSTAIRS     0.9433    0.9533    0.9483       471\n",
      "WALKING_DOWNSTAIRS     0.9128    0.9476    0.9299       420\n",
      "           SITTING     0.5616    0.4175    0.4790       491\n",
      "          STANDING     0.5698    0.6598    0.6115       532\n",
      "            LAYING     0.7165    0.7672    0.7410       537\n",
      "\n",
      "          accuracy                         0.7740      2947\n",
      "         macro avg     0.7795    0.7808    0.7776      2947\n",
      "      weighted avg     0.7716    0.7740    0.7702      2947\n",
      "\n",
      "2th confusion matrix \n",
      "                    precision    recall  f1-score   support\n",
      "\n",
      "           WALKING     0.9748    0.9355    0.9547       496\n",
      "  WALKING_UPSTAIRS     0.9513    0.9533    0.9523       471\n",
      "WALKING_DOWNSTAIRS     0.9321    0.9810    0.9559       420\n",
      "           SITTING     0.6069    0.6762    0.6397       491\n",
      "          STANDING     0.7143    0.6767    0.6950       532\n",
      "            LAYING     0.7431    0.7002    0.7210       537\n",
      "\n",
      "          accuracy                         0.8120      2947\n",
      "         macro avg     0.8204    0.8205    0.8198      2947\n",
      "      weighted avg     0.8144    0.8120    0.8125      2947\n",
      "\n",
      "3th confusion matrix \n",
      "                    precision    recall  f1-score   support\n",
      "\n",
      "           WALKING     0.9713    0.9536    0.9624       496\n",
      "  WALKING_UPSTAIRS     0.9550    0.9469    0.9510       471\n",
      "WALKING_DOWNSTAIRS     0.9266    0.9619    0.9439       420\n",
      "           SITTING     0.5255    0.7128    0.6050       491\n",
      "          STANDING     0.7244    0.5977    0.6550       532\n",
      "            LAYING     0.7522    0.6331    0.6876       537\n",
      "\n",
      "          accuracy                         0.7910      2947\n",
      "         macro avg     0.8092    0.8010    0.8008      2947\n",
      "      weighted avg     0.8036    0.7910    0.7928      2947\n",
      "\n",
      "4th confusion matrix \n",
      "                    precision    recall  f1-score   support\n",
      "\n",
      "           WALKING     0.9935    0.9315    0.9615       496\n",
      "  WALKING_UPSTAIRS     0.9277    0.9809    0.9536       471\n",
      "WALKING_DOWNSTAIRS     0.9252    0.9429    0.9340       420\n",
      "           SITTING     0.5924    0.6334    0.6122       491\n",
      "          STANDING     0.6194    0.6485    0.6336       532\n",
      "            LAYING     0.7679    0.6778    0.7201       537\n",
      "\n",
      "          accuracy                         0.7940      2947\n",
      "         macro avg     0.8044    0.8025    0.8025      2947\n",
      "      weighted avg     0.7978    0.7940    0.7949      2947\n",
      "\n"
     ]
    }
   ],
   "source": [
    "for i, path in enumerate(uci_result_list):\n",
    "    result = pd.read_pickle(path)\n",
    "    conf_mat = result['conf_mat']\n",
    "    print(f'{i}th confusion matrix \\n{conf_mat}')"
   ]
  },
  {
   "attachments": {},
   "cell_type": "markdown",
   "metadata": {},
   "source": [
    "## UNI"
   ]
  },
  {
   "cell_type": "code",
   "execution_count": 48,
   "metadata": {},
   "outputs": [],
   "source": [
    "uni_result_list = glob.glob('../result_pro_s10/uni/test_*/ckpt_best.pkl')"
   ]
  },
  {
   "cell_type": "code",
   "execution_count": 49,
   "metadata": {},
   "outputs": [
    {
     "data": {
      "text/plain": [
       "['../result_pro_s10/uni/test_prnas_5/ckpt_best.pkl',\n",
       " '../result_pro_s10/uni/test_prnas_2/ckpt_best.pkl',\n",
       " '../result_pro_s10/uni/test_prnas_1/ckpt_best.pkl',\n",
       " '../result_pro_s10/uni/test_prnas_4/ckpt_best.pkl',\n",
       " '../result_pro_s10/uni/test_prnas_3/ckpt_best.pkl']"
      ]
     },
     "execution_count": 49,
     "metadata": {},
     "output_type": "execute_result"
    }
   ],
   "source": [
    "uni_result_list"
   ]
  },
  {
   "cell_type": "code",
   "execution_count": 50,
   "metadata": {},
   "outputs": [],
   "source": [
    "f1scores = []\n",
    "accuracies = []\n",
    "flops = []\n",
    "params = []\n",
    "\n",
    "for path in uni_result_list:\n",
    "    result = pd.read_pickle(path)\n",
    "    f1scores.append(result['f1score'])\n",
    "    accuracies.append(result['accuracy'])\n",
    "    flops.append(result['flops'])\n",
    "    params.append(result['params'])"
   ]
  },
  {
   "cell_type": "code",
   "execution_count": 51,
   "metadata": {},
   "outputs": [
    {
     "data": {
      "text/plain": [
       "49.211264"
      ]
     },
     "execution_count": 51,
     "metadata": {},
     "output_type": "execute_result"
    }
   ],
   "source": [
    "result['flops']"
   ]
  },
  {
   "cell_type": "code",
   "execution_count": 52,
   "metadata": {},
   "outputs": [
    {
     "name": "stdout",
     "output_type": "stream",
     "text": [
      "Average of 5 train/test runs\n",
      "RLNAS \n",
      "F1 score: 0.843 +/- 0.011\n",
      "Accuracy score: 0.843 +/- 0.011\n",
      "n. FLOPs: 49.211\n",
      "n. Params: 0.325\n"
     ]
    }
   ],
   "source": [
    "print('Average of {} train/test runs'.format(len(f1scores)))\n",
    "print('RLNAS ')\n",
    "print('F1 score: {:.3f} +/- {:.3f}'.format(np.mean(f1scores),np.std(f1scores)))\n",
    "print('Accuracy score: {:.3f} +/- {:.3f}'.format(np.mean(accuracies),np.std(accuracies)))\n",
    "print('n. FLOPs: {:.3f}'.format(np.mean(flops)))\n",
    "print('n. Params: {:.3f}'.format(np.mean(params)))"
   ]
  },
  {
   "cell_type": "code",
   "execution_count": 53,
   "metadata": {},
   "outputs": [
    {
     "name": "stdout",
     "output_type": "stream",
     "text": [
      "0th confusion matrix \n",
      "                 precision    recall  f1-score   support\n",
      "\n",
      "   StandingUpFS     0.6429    0.5625    0.6000        16\n",
      "   StandingUpFL     0.7000    0.6667    0.6829        21\n",
      "        Walking     0.9713    0.9713    0.9713       174\n",
      "        Running     0.9799    0.9799    0.9799       199\n",
      "       GoingUpS     0.9432    0.9022    0.9222        92\n",
      "        Jumping     0.9231    0.9730    0.9474        74\n",
      "     GoingDownS     0.9412    0.9624    0.9517       133\n",
      "    LyingDownFS     0.6296    0.5862    0.6071        29\n",
      "    SittingDown     0.6316    0.6000    0.6154        20\n",
      "    FallingForw     0.6667    0.7925    0.7241        53\n",
      "   FallingRight     0.7018    0.7843    0.7407        51\n",
      "    FallingBack     0.6885    0.7925    0.7368        53\n",
      "HittingObstacle     0.8732    0.9394    0.9051        66\n",
      "  FallingWithPS     0.7692    0.6250    0.6897        48\n",
      "  FallingBackSC     0.7297    0.6136    0.6667        44\n",
      "        Syncope     0.6444    0.5686    0.6042        51\n",
      "    FallingLeft     0.7600    0.7037    0.7308        54\n",
      "\n",
      "       accuracy                         0.8565      1178\n",
      "      macro avg     0.7763    0.7661    0.7692      1178\n",
      "   weighted avg     0.8560    0.8565    0.8549      1178\n",
      "\n",
      "1th confusion matrix \n",
      "                 precision    recall  f1-score   support\n",
      "\n",
      "   StandingUpFS     0.6000    0.3750    0.4615        16\n",
      "   StandingUpFL     0.5909    0.6190    0.6047        21\n",
      "        Walking     0.9825    0.9655    0.9739       174\n",
      "        Running     0.9949    0.9899    0.9924       199\n",
      "       GoingUpS     0.8913    0.8913    0.8913        92\n",
      "        Jumping     0.9605    0.9865    0.9733        74\n",
      "     GoingDownS     0.9338    0.9549    0.9442       133\n",
      "    LyingDownFS     0.5484    0.5862    0.5667        29\n",
      "    SittingDown     0.5652    0.6500    0.6047        20\n",
      "    FallingForw     0.7647    0.7358    0.7500        53\n",
      "   FallingRight     0.8205    0.6275    0.7111        51\n",
      "    FallingBack     0.5902    0.6792    0.6316        53\n",
      "HittingObstacle     0.9683    0.9242    0.9457        66\n",
      "  FallingWithPS     0.7115    0.7708    0.7400        48\n",
      "  FallingBackSC     0.6136    0.6136    0.6136        44\n",
      "        Syncope     0.5238    0.6471    0.5789        51\n",
      "    FallingLeft     0.7174    0.6111    0.6600        54\n",
      "\n",
      "       accuracy                         0.8438      1178\n",
      "      macro avg     0.7516    0.7428    0.7437      1178\n",
      "   weighted avg     0.8486    0.8438    0.8445      1178\n",
      "\n",
      "2th confusion matrix \n",
      "                 precision    recall  f1-score   support\n",
      "\n",
      "   StandingUpFS     0.6154    0.5000    0.5517        16\n",
      "   StandingUpFL     0.6364    0.6667    0.6512        21\n",
      "        Walking     0.9593    0.9483    0.9538       174\n",
      "        Running     0.9752    0.9899    0.9825       199\n",
      "       GoingUpS     0.9121    0.9022    0.9071        92\n",
      "        Jumping     0.9733    0.9865    0.9799        74\n",
      "     GoingDownS     0.9538    0.9323    0.9430       133\n",
      "    LyingDownFS     0.6286    0.7586    0.6875        29\n",
      "    SittingDown     0.5789    0.5500    0.5641        20\n",
      "    FallingForw     0.6271    0.6981    0.6607        53\n",
      "   FallingRight     0.7292    0.6863    0.7071        51\n",
      "    FallingBack     0.6364    0.7925    0.7059        53\n",
      "HittingObstacle     0.9104    0.9242    0.9173        66\n",
      "  FallingWithPS     0.7179    0.5833    0.6437        48\n",
      "  FallingBackSC     0.7714    0.6136    0.6835        44\n",
      "        Syncope     0.6304    0.5686    0.5979        51\n",
      "    FallingLeft     0.7797    0.8519    0.8142        54\n",
      "\n",
      "       accuracy                         0.8506      1178\n",
      "      macro avg     0.7668    0.7619    0.7618      1178\n",
      "   weighted avg     0.8520    0.8506    0.8498      1178\n",
      "\n",
      "3th confusion matrix \n",
      "                 precision    recall  f1-score   support\n",
      "\n",
      "   StandingUpFS     0.5000    0.3750    0.4286        16\n",
      "   StandingUpFL     0.5000    0.6190    0.5532        21\n",
      "        Walking     0.9600    0.9655    0.9628       174\n",
      "        Running     0.9846    0.9648    0.9746       199\n",
      "       GoingUpS     0.9213    0.8913    0.9061        92\n",
      "        Jumping     0.9231    0.9730    0.9474        74\n",
      "     GoingDownS     0.9556    0.9699    0.9627       133\n",
      "    LyingDownFS     0.7037    0.6552    0.6786        29\n",
      "    SittingDown     0.6000    0.6000    0.6000        20\n",
      "    FallingForw     0.6842    0.7358    0.7091        53\n",
      "   FallingRight     0.7451    0.7451    0.7451        51\n",
      "    FallingBack     0.5806    0.6792    0.6261        53\n",
      "HittingObstacle     0.9265    0.9545    0.9403        66\n",
      "  FallingWithPS     0.6444    0.6042    0.6237        48\n",
      "  FallingBackSC     0.7353    0.5682    0.6410        44\n",
      "        Syncope     0.5625    0.5294    0.5455        51\n",
      "    FallingLeft     0.7321    0.7593    0.7455        54\n",
      "\n",
      "       accuracy                         0.8413      1178\n",
      "      macro avg     0.7447    0.7406    0.7406      1178\n",
      "   weighted avg     0.8419    0.8413    0.8405      1178\n",
      "\n",
      "4th confusion matrix \n",
      "                 precision    recall  f1-score   support\n",
      "\n",
      "   StandingUpFS     0.5556    0.3125    0.4000        16\n",
      "   StandingUpFL     0.5556    0.7143    0.6250        21\n",
      "        Walking     0.9653    0.9598    0.9625       174\n",
      "        Running     0.9898    0.9799    0.9848       199\n",
      "       GoingUpS     0.8351    0.8804    0.8571        92\n",
      "        Jumping     0.9351    0.9730    0.9536        74\n",
      "     GoingDownS     0.9231    0.9023    0.9125       133\n",
      "    LyingDownFS     0.5926    0.5517    0.5714        29\n",
      "    SittingDown     0.6364    0.7000    0.6667        20\n",
      "    FallingForw     0.6346    0.6226    0.6286        53\n",
      "   FallingRight     0.6190    0.7647    0.6842        51\n",
      "    FallingBack     0.7200    0.6792    0.6990        53\n",
      "HittingObstacle     0.9242    0.9242    0.9242        66\n",
      "  FallingWithPS     0.5385    0.5833    0.5600        48\n",
      "  FallingBackSC     0.6667    0.5455    0.6000        44\n",
      "        Syncope     0.5833    0.5490    0.5657        51\n",
      "    FallingLeft     0.7308    0.7037    0.7170        54\n",
      "\n",
      "       accuracy                         0.8251      1178\n",
      "      macro avg     0.7297    0.7262    0.7243      1178\n",
      "   weighted avg     0.8259    0.8251    0.8241      1178\n",
      "\n"
     ]
    }
   ],
   "source": [
    "for i, path in enumerate(uni_result_list):\n",
    "    result = pd.read_pickle(path)\n",
    "    conf_mat = result['conf_mat']\n",
    "    print(f'{i}th confusion matrix \\n{conf_mat}')"
   ]
  },
  {
   "attachments": {},
   "cell_type": "markdown",
   "metadata": {},
   "source": [
    "## KAR"
   ]
  },
  {
   "cell_type": "code",
   "execution_count": 54,
   "metadata": {},
   "outputs": [],
   "source": [
    "kar_result_list = glob.glob('../result_pro_s10/kar/test_*/ckpt_best.pkl')"
   ]
  },
  {
   "cell_type": "code",
   "execution_count": 55,
   "metadata": {},
   "outputs": [
    {
     "data": {
      "text/plain": [
       "['../result_pro_s10/kar/test_prnas_5/ckpt_best.pkl',\n",
       " '../result_pro_s10/kar/test_prnas_2/ckpt_best.pkl',\n",
       " '../result_pro_s10/kar/test_prnas_1/ckpt_best.pkl',\n",
       " '../result_pro_s10/kar/test_prnas_4/ckpt_best.pkl',\n",
       " '../result_pro_s10/kar/test_prnas_3/ckpt_best.pkl']"
      ]
     },
     "execution_count": 55,
     "metadata": {},
     "output_type": "execute_result"
    }
   ],
   "source": [
    "kar_result_list"
   ]
  },
  {
   "cell_type": "code",
   "execution_count": 56,
   "metadata": {},
   "outputs": [],
   "source": [
    "f1scores = []\n",
    "accuracies = []\n",
    "flops = []\n",
    "params = []\n",
    "\n",
    "for path in kar_result_list:\n",
    "    result = pd.read_pickle(path)\n",
    "    f1scores.append(result['f1score'])\n",
    "    accuracies.append(result['accuracy'])\n",
    "    flops.append(result['flops'])\n",
    "    params.append(result['params'])"
   ]
  },
  {
   "cell_type": "code",
   "execution_count": 57,
   "metadata": {},
   "outputs": [
    {
     "data": {
      "text/plain": [
       "97.855104"
      ]
     },
     "execution_count": 57,
     "metadata": {},
     "output_type": "execute_result"
    }
   ],
   "source": [
    "result['flops']"
   ]
  },
  {
   "cell_type": "code",
   "execution_count": 58,
   "metadata": {},
   "outputs": [
    {
     "name": "stdout",
     "output_type": "stream",
     "text": [
      "Average of 5 train/test runs\n",
      "RLNAS \n",
      "F1 score: 0.744 +/- 0.008\n",
      "Accuracy score: 0.754 +/- 0.009\n",
      "n. FLOPs: 97.855\n",
      "n. Params: 0.326\n"
     ]
    }
   ],
   "source": [
    "print('Average of {} train/test runs'.format(len(f1scores)))\n",
    "print('RLNAS ')\n",
    "print('F1 score: {:.3f} +/- {:.3f}'.format(np.mean(f1scores),np.std(f1scores)))\n",
    "print('Accuracy score: {:.3f} +/- {:.3f}'.format(np.mean(accuracies),np.std(accuracies)))\n",
    "print('n. FLOPs: {:.3f}'.format(np.mean(flops)))\n",
    "print('n. Params: {:.3f}'.format(np.mean(params)))"
   ]
  },
  {
   "cell_type": "code",
   "execution_count": 59,
   "metadata": {},
   "outputs": [
    {
     "name": "stdout",
     "output_type": "stream",
     "text": [
      "0th confusion matrix \n",
      "              precision    recall  f1-score   support\n",
      "\n",
      "     walking     0.7592    0.7247    0.7415       770\n",
      "     jogging     0.5799    0.6948    0.6322       757\n",
      "      stairs     0.8880    0.8453    0.8661       685\n",
      "     sitting     0.8653    0.9749    0.9169       758\n",
      "    standing     0.8027    0.9944    0.8883       720\n",
      "      typing     0.6432    0.5296    0.5809       759\n",
      "       teeth     0.9505    0.9581    0.9543       621\n",
      "        soup     0.7118    0.9389    0.8098       442\n",
      "       chips     0.9253    0.4613    0.6157       349\n",
      "       pasta     0.4777    0.7311    0.5778       264\n",
      "    drinking     0.9132    0.3778    0.5344       863\n",
      "    sandwich     0.9716    0.7366    0.8379       186\n",
      "     kicking     0.8966    0.9512    0.9231        82\n",
      "       catch     0.8644    0.5543    0.6755        92\n",
      "   dribbling     0.7284    0.7651    0.7463       596\n",
      "     writing     0.7584    0.9736    0.8526       303\n",
      "    clapping     0.9088    0.9764    0.9414       296\n",
      "     folding     0.5929    0.9343    0.7255       198\n",
      "\n",
      "    accuracy                         0.7666      8741\n",
      "   macro avg     0.7910    0.7846    0.7678      8741\n",
      "weighted avg     0.7871    0.7666    0.7570      8741\n",
      "\n",
      "1th confusion matrix \n",
      "              precision    recall  f1-score   support\n",
      "\n",
      "     walking     0.7553    0.7338    0.7444       770\n",
      "     jogging     0.6135    0.6354    0.6243       757\n",
      "      stairs     0.8827    0.8569    0.8696       685\n",
      "     sitting     0.8861    0.9749    0.9284       758\n",
      "    standing     0.7737    0.9972    0.8714       720\n",
      "      typing     0.6250    0.6061    0.6154       759\n",
      "       teeth     0.7917    0.9485    0.8630       621\n",
      "        soup     0.6499    0.9661    0.7771       442\n",
      "       chips     0.9360    0.4613    0.6180       349\n",
      "       pasta     0.6266    0.7500    0.6828       264\n",
      "    drinking     0.9498    0.3511    0.5127       863\n",
      "    sandwich     0.9836    0.6452    0.7792       186\n",
      "     kicking     0.9176    0.9512    0.9341        82\n",
      "       catch     0.8049    0.7174    0.7586        92\n",
      "   dribbling     0.8886    0.6158    0.7275       596\n",
      "     writing     0.7136    0.9373    0.8103       303\n",
      "    clapping     0.6966    0.9696    0.8107       296\n",
      "     folding     0.5982    0.9848    0.7443       198\n",
      "\n",
      "    accuracy                         0.7579      8741\n",
      "   macro avg     0.7830    0.7835    0.7595      8741\n",
      "weighted avg     0.7833    0.7579    0.7454      8741\n",
      "\n",
      "2th confusion matrix \n",
      "              precision    recall  f1-score   support\n",
      "\n",
      "     walking     0.7989    0.7636    0.7809       770\n",
      "     jogging     0.6076    0.7199    0.6590       757\n",
      "      stairs     0.8974    0.8175    0.8556       685\n",
      "     sitting     0.8757    0.9763    0.9233       758\n",
      "    standing     0.7968    0.9806    0.8792       720\n",
      "      typing     0.6726    0.5955    0.6317       759\n",
      "       teeth     0.9386    0.9597    0.9490       621\n",
      "        soup     0.5813    0.9548    0.7226       442\n",
      "       chips     0.9121    0.4756    0.6252       349\n",
      "       pasta     0.4972    0.6742    0.5723       264\n",
      "    drinking     0.9458    0.4044    0.5666       863\n",
      "    sandwich     1.0000    0.6882    0.8153       186\n",
      "     kicking     0.8889    0.9756    0.9302        82\n",
      "       catch     0.8472    0.6630    0.7439        92\n",
      "   dribbling     0.6247    0.4077    0.4934       596\n",
      "     writing     0.7896    0.9538    0.8640       303\n",
      "    clapping     0.9604    0.9020    0.9303       296\n",
      "     folding     0.3893    0.9596    0.5539       198\n",
      "\n",
      "    accuracy                         0.7505      8741\n",
      "   macro avg     0.7791    0.7707    0.7498      8741\n",
      "weighted avg     0.7840    0.7505    0.7439      8741\n",
      "\n",
      "3th confusion matrix \n",
      "              precision    recall  f1-score   support\n",
      "\n",
      "     walking     0.6803    0.7104    0.6950       770\n",
      "     jogging     0.5681    0.6446    0.6040       757\n",
      "      stairs     0.9197    0.8190    0.8664       685\n",
      "     sitting     0.8651    0.9644    0.9120       758\n",
      "    standing     0.8216    0.9917    0.8987       720\n",
      "      typing     0.6256    0.5415    0.5805       759\n",
      "       teeth     0.8789    0.9581    0.9168       621\n",
      "        soup     0.6560    0.9276    0.7685       442\n",
      "       chips     0.8505    0.4728    0.6077       349\n",
      "       pasta     0.6300    0.7159    0.6702       264\n",
      "    drinking     0.9316    0.3789    0.5387       863\n",
      "    sandwich     1.0000    0.7151    0.8339       186\n",
      "     kicking     0.8478    0.9512    0.8966        82\n",
      "       catch     0.7368    0.4565    0.5638        92\n",
      "   dribbling     0.8203    0.5436    0.6539       596\n",
      "     writing     0.6275    0.9505    0.7559       303\n",
      "    clapping     0.7933    0.9595    0.8685       296\n",
      "     folding     0.4079    0.9394    0.5688       198\n",
      "\n",
      "    accuracy                         0.7405      8741\n",
      "   macro avg     0.7589    0.7578    0.7333      8741\n",
      "weighted avg     0.7696    0.7405    0.7318      8741\n",
      "\n",
      "4th confusion matrix \n",
      "              precision    recall  f1-score   support\n",
      "\n",
      "     walking     0.8132    0.8143    0.8138       770\n",
      "     jogging     0.5920    0.7437    0.6593       757\n",
      "      stairs     0.8800    0.8350    0.8569       685\n",
      "     sitting     0.8897    0.9683    0.9274       758\n",
      "    standing     0.7867    0.9833    0.8741       720\n",
      "      typing     0.7289    0.5244    0.6100       759\n",
      "       teeth     0.9382    0.9533    0.9457       621\n",
      "        soup     0.5322    0.9548    0.6834       442\n",
      "       chips     0.8367    0.4699    0.6018       349\n",
      "       pasta     0.7071    0.7500    0.7279       264\n",
      "    drinking     0.9054    0.3105    0.4625       863\n",
      "    sandwich     0.9695    0.6828    0.8013       186\n",
      "     kicking     0.8229    0.9634    0.8876        82\n",
      "       catch     0.8140    0.7609    0.7865        92\n",
      "   dribbling     0.7317    0.5352    0.6182       596\n",
      "     writing     0.8362    0.9604    0.8940       303\n",
      "    clapping     0.6115    0.9358    0.7397       296\n",
      "     folding     0.5312    0.9444    0.6800       198\n",
      "\n",
      "    accuracy                         0.7546      8741\n",
      "   macro avg     0.7737    0.7828    0.7539      8741\n",
      "weighted avg     0.7834    0.7546    0.7420      8741\n",
      "\n"
     ]
    }
   ],
   "source": [
    "for i, path in enumerate(kar_result_list):\n",
    "    result = pd.read_pickle(path)\n",
    "    conf_mat = result['conf_mat']\n",
    "    print(f'{i}th confusion matrix \\n{conf_mat}')"
   ]
  },
  {
   "attachments": {},
   "cell_type": "markdown",
   "metadata": {},
   "source": [
    "## WIS"
   ]
  },
  {
   "cell_type": "code",
   "execution_count": 60,
   "metadata": {},
   "outputs": [],
   "source": [
    "wis_result_list = glob.glob('../result_pro_s10/wis/test_*/ckpt_best.pkl')"
   ]
  },
  {
   "cell_type": "code",
   "execution_count": 61,
   "metadata": {},
   "outputs": [
    {
     "data": {
      "text/plain": [
       "['../result_pro_s10/wis/test_prnas_5/ckpt_best.pkl',\n",
       " '../result_pro_s10/wis/test_prnas_2/ckpt_best.pkl',\n",
       " '../result_pro_s10/wis/test_prnas_1/ckpt_best.pkl',\n",
       " '../result_pro_s10/wis/test_prnas_4/ckpt_best.pkl',\n",
       " '../result_pro_s10/wis/test_prnas_3/ckpt_best.pkl']"
      ]
     },
     "execution_count": 61,
     "metadata": {},
     "output_type": "execute_result"
    }
   ],
   "source": [
    "wis_result_list"
   ]
  },
  {
   "cell_type": "code",
   "execution_count": 62,
   "metadata": {},
   "outputs": [],
   "source": [
    "f1scores = []\n",
    "accuracies = []\n",
    "flops = []\n",
    "params = []\n",
    "\n",
    "for path in wis_result_list:\n",
    "    result = pd.read_pickle(path)\n",
    "    f1scores.append(result['f1score'])\n",
    "    accuracies.append(result['accuracy'])\n",
    "    flops.append(result['flops'])\n",
    "    params.append(result['params'])"
   ]
  },
  {
   "cell_type": "code",
   "execution_count": 63,
   "metadata": {},
   "outputs": [
    {
     "data": {
      "text/plain": [
       "19.554048"
      ]
     },
     "execution_count": 63,
     "metadata": {},
     "output_type": "execute_result"
    }
   ],
   "source": [
    "result['flops']"
   ]
  },
  {
   "cell_type": "code",
   "execution_count": 64,
   "metadata": {},
   "outputs": [
    {
     "name": "stdout",
     "output_type": "stream",
     "text": [
      "Average of 5 train/test runs\n",
      "RLNAS \n",
      "F1 score: 0.863 +/- 0.007\n",
      "Accuracy score: 0.862 +/- 0.007\n",
      "n. FLOPs: 19.554\n",
      "n. Params: 0.324\n"
     ]
    }
   ],
   "source": [
    "print('Average of {} train/test runs'.format(len(f1scores)))\n",
    "print('RLNAS ')\n",
    "print('F1 score: {:.3f} +/- {:.3f}'.format(np.mean(f1scores),np.std(f1scores)))\n",
    "print('Accuracy score: {:.3f} +/- {:.3f}'.format(np.mean(accuracies),np.std(accuracies)))\n",
    "print('n. FLOPs: {:.3f}'.format(np.mean(flops)))\n",
    "print('n. Params: {:.3f}'.format(np.mean(params)))"
   ]
  },
  {
   "cell_type": "code",
   "execution_count": 65,
   "metadata": {},
   "outputs": [
    {
     "name": "stdout",
     "output_type": "stream",
     "text": [
      "0th confusion matrix \n",
      "                    precision    recall  f1-score   support\n",
      "\n",
      "           WALKING     0.9658    0.9229    0.9439      3918\n",
      "  WALKING_UPSTAIRS     0.9065    0.9111    0.9088      5918\n",
      "WALKING_DOWNSTAIRS     0.6280    0.7993    0.7034      1679\n",
      "           SITTING     0.7937    0.6227    0.6979      1545\n",
      "          STANDING     0.9560    0.8165    0.8808       932\n",
      "            LAYING     0.7874    0.9315    0.8534       847\n",
      "\n",
      "          accuracy                         0.8668     14839\n",
      "         macro avg     0.8396    0.8340    0.8314     14839\n",
      "      weighted avg     0.8752    0.8668    0.8679     14839\n",
      "\n",
      "1th confusion matrix \n",
      "                    precision    recall  f1-score   support\n",
      "\n",
      "           WALKING     0.9140    0.9469    0.9302      3918\n",
      "  WALKING_UPSTAIRS     0.9194    0.8968    0.9080      5918\n",
      "WALKING_DOWNSTAIRS     0.6979    0.7665    0.7306      1679\n",
      "           SITTING     0.6461    0.5566    0.5981      1545\n",
      "          STANDING     0.8749    0.8326    0.8532       932\n",
      "            LAYING     0.7791    0.8701    0.8221       847\n",
      "\n",
      "          accuracy                         0.8543     14839\n",
      "         macro avg     0.8052    0.8116    0.8070     14839\n",
      "      weighted avg     0.8537    0.8543    0.8532     14839\n",
      "\n",
      "2th confusion matrix \n",
      "                    precision    recall  f1-score   support\n",
      "\n",
      "           WALKING     0.9629    0.9280    0.9452      3918\n",
      "  WALKING_UPSTAIRS     0.9363    0.8594    0.8962      5918\n",
      "WALKING_DOWNSTAIRS     0.6500    0.8183    0.7245      1679\n",
      "           SITTING     0.6409    0.7023    0.6702      1545\n",
      "          STANDING     0.8367    0.9238    0.8781       932\n",
      "            LAYING     0.8969    0.8418    0.8685       847\n",
      "\n",
      "          accuracy                         0.8596     14839\n",
      "         macro avg     0.8206    0.8456    0.8304     14839\n",
      "      weighted avg     0.8717    0.8596    0.8634     14839\n",
      "\n",
      "3th confusion matrix \n",
      "                    precision    recall  f1-score   support\n",
      "\n",
      "           WALKING     0.9625    0.9290    0.9455      3918\n",
      "  WALKING_UPSTAIRS     0.9082    0.9324    0.9201      5918\n",
      "WALKING_DOWNSTAIRS     0.7356    0.7671    0.7510      1679\n",
      "           SITTING     0.7038    0.6382    0.6694      1545\n",
      "          STANDING     0.8977    0.8476    0.8720       932\n",
      "            LAYING     0.7840    0.8784    0.8285       847\n",
      "\n",
      "          accuracy                         0.8738     14839\n",
      "         macro avg     0.8319    0.8321    0.8311     14839\n",
      "      weighted avg     0.8739    0.8738    0.8733     14839\n",
      "\n",
      "4th confusion matrix \n",
      "                    precision    recall  f1-score   support\n",
      "\n",
      "           WALKING     0.9297    0.9416    0.9356      3918\n",
      "  WALKING_UPSTAIRS     0.9273    0.8745    0.9001      5918\n",
      "WALKING_DOWNSTAIRS     0.6431    0.7522    0.6934      1679\n",
      "           SITTING     0.6730    0.6647    0.6688      1545\n",
      "          STANDING     0.9479    0.8197    0.8792       932\n",
      "            LAYING     0.8018    0.9410    0.8658       847\n",
      "\n",
      "          accuracy                         0.8569     14839\n",
      "         macro avg     0.8205    0.8323    0.8238     14839\n",
      "      weighted avg     0.8634    0.8569    0.8587     14839\n",
      "\n"
     ]
    }
   ],
   "source": [
    "for i, path in enumerate(wis_result_list):\n",
    "    result = pd.read_pickle(path)\n",
    "    conf_mat = result['conf_mat']\n",
    "    print(f'{i}th confusion matrix \\n{conf_mat}')"
   ]
  },
  {
   "attachments": {},
   "cell_type": "markdown",
   "metadata": {},
   "source": [
    "## OPP"
   ]
  },
  {
   "cell_type": "code",
   "execution_count": 66,
   "metadata": {},
   "outputs": [],
   "source": [
    "opp_result_list = glob.glob('../result_pro_s10/opp/test_*/ckpt_best.pkl')"
   ]
  },
  {
   "cell_type": "code",
   "execution_count": 67,
   "metadata": {},
   "outputs": [
    {
     "data": {
      "text/plain": [
       "['../result_pro_s10/opp/test_prnas_5/ckpt_best.pkl',\n",
       " '../result_pro_s10/opp/test_prnas_2/ckpt_best.pkl',\n",
       " '../result_pro_s10/opp/test_prnas_1/ckpt_best.pkl',\n",
       " '../result_pro_s10/opp/test_prnas_4/ckpt_best.pkl',\n",
       " '../result_pro_s10/opp/test_prnas_3/ckpt_best.pkl']"
      ]
     },
     "execution_count": 67,
     "metadata": {},
     "output_type": "execute_result"
    }
   ],
   "source": [
    "opp_result_list"
   ]
  },
  {
   "cell_type": "code",
   "execution_count": 68,
   "metadata": {},
   "outputs": [],
   "source": [
    "f1scores = []\n",
    "accuracies = []\n",
    "flops = []\n",
    "params = []\n",
    "\n",
    "for path in opp_result_list:\n",
    "    result = pd.read_pickle(path)\n",
    "    f1scores.append(result['f1score'])\n",
    "    accuracies.append(result['accuracy'])\n",
    "    flops.append(result['flops'])\n",
    "    params.append(result['params'])"
   ]
  },
  {
   "cell_type": "code",
   "execution_count": 69,
   "metadata": {},
   "outputs": [
    {
     "data": {
      "text/plain": [
       "5.385472"
      ]
     },
     "execution_count": 69,
     "metadata": {},
     "output_type": "execute_result"
    }
   ],
   "source": [
    "result['flops']"
   ]
  },
  {
   "cell_type": "code",
   "execution_count": 70,
   "metadata": {},
   "outputs": [
    {
     "name": "stdout",
     "output_type": "stream",
     "text": [
      "Average of 5 train/test runs\n",
      "RLNAS \n",
      "F1 score: 0.889 +/- 0.001\n",
      "Accuracy score: 0.891 +/- 0.001\n",
      "n. FLOPs: 5.385\n",
      "n. Params: 0.336\n"
     ]
    }
   ],
   "source": [
    "print('Average of {} train/test runs'.format(len(f1scores)))\n",
    "print('RLNAS ')\n",
    "print('F1 score: {:.3f} +/- {:.3f}'.format(np.mean(f1scores),np.std(f1scores)))\n",
    "print('Accuracy score: {:.3f} +/- {:.3f}'.format(np.mean(accuracies),np.std(accuracies)))\n",
    "print('n. FLOPs: {:.3f}'.format(np.mean(flops)))\n",
    "print('n. Params: {:.3f}'.format(np.mean(params)))"
   ]
  },
  {
   "cell_type": "code",
   "execution_count": 71,
   "metadata": {},
   "outputs": [
    {
     "name": "stdout",
     "output_type": "stream",
     "text": [
      "0th confusion matrix \n",
      "                  precision    recall  f1-score   support\n",
      "\n",
      "            Null     0.9415    0.9598    0.9506     12371\n",
      "     Open Door 1     0.5698    0.5833    0.5765        84\n",
      "     Open Door 2     0.8043    0.7762    0.7900       143\n",
      "    Close Door 1     0.6020    0.6629    0.6310        89\n",
      "    Close Door 2     0.8482    0.7661    0.8051       124\n",
      "     Open Fridge     0.8088    0.4853    0.6066       340\n",
      "    Close Fridge     0.6491    0.7382    0.6908       233\n",
      " Open Dishwasher     0.3756    0.5347    0.4413       144\n",
      "Close Dishwasher     0.3370    0.5254    0.4106       118\n",
      "   Open Drawer 1     0.3714    0.4561    0.4094        57\n",
      "  Close Drawer 1     0.3778    0.2576    0.3063        66\n",
      "   Open Drawer 2     0.4186    0.3000    0.3495        60\n",
      "  Close Drawer 2     0.4138    0.3000    0.3478        40\n",
      "   Open Drawer 3     0.5000    0.5918    0.5421        98\n",
      "  Close Drawer 3     0.5323    0.3708    0.4371        89\n",
      "     Clean Table     0.8730    0.3691    0.5189       149\n",
      "  Drink from Cup     0.6735    0.5558    0.6090       475\n",
      "   Toggle Switch     0.7544    0.5443    0.6324       158\n",
      "\n",
      "        accuracy                         0.8918     14838\n",
      "       macro avg     0.6028    0.5432    0.5586     14838\n",
      "    weighted avg     0.8924    0.8918    0.8891     14838\n",
      "\n",
      "1th confusion matrix \n",
      "                  precision    recall  f1-score   support\n",
      "\n",
      "            Null     0.9448    0.9507    0.9477     12371\n",
      "     Open Door 1     0.6329    0.5952    0.6135        84\n",
      "     Open Door 2     0.8039    0.8601    0.8311       143\n",
      "    Close Door 1     0.6452    0.6742    0.6593        89\n",
      "    Close Door 2     0.8110    0.8306    0.8207       124\n",
      "     Open Fridge     0.7184    0.5853    0.6451       340\n",
      "    Close Fridge     0.6891    0.7039    0.6964       233\n",
      " Open Dishwasher     0.4688    0.5208    0.4934       144\n",
      "Close Dishwasher     0.2947    0.4746    0.3636       118\n",
      "   Open Drawer 1     0.3243    0.4211    0.3664        57\n",
      "  Close Drawer 1     0.4565    0.3182    0.3750        66\n",
      "   Open Drawer 2     0.5102    0.4167    0.4587        60\n",
      "  Close Drawer 2     0.4800    0.3000    0.3692        40\n",
      "   Open Drawer 3     0.5726    0.6837    0.6233        98\n",
      "  Close Drawer 3     0.6042    0.3258    0.4234        89\n",
      "     Clean Table     0.7010    0.4564    0.5528       149\n",
      "  Drink from Cup     0.6356    0.6316    0.6336       475\n",
      "   Toggle Switch     0.6345    0.5823    0.6073       158\n",
      "\n",
      "        accuracy                         0.8916     14838\n",
      "       macro avg     0.6071    0.5739    0.5823     14838\n",
      "    weighted avg     0.8921    0.8916    0.8907     14838\n",
      "\n",
      "2th confusion matrix \n",
      "                  precision    recall  f1-score   support\n",
      "\n",
      "            Null     0.9430    0.9513    0.9471     12371\n",
      "     Open Door 1     0.6203    0.5833    0.6012        84\n",
      "     Open Door 2     0.7800    0.8182    0.7986       143\n",
      "    Close Door 1     0.5575    0.7079    0.6238        89\n",
      "    Close Door 2     0.7895    0.8468    0.8171       124\n",
      "     Open Fridge     0.7302    0.5971    0.6570       340\n",
      "    Close Fridge     0.7013    0.6953    0.6983       233\n",
      " Open Dishwasher     0.4431    0.5139    0.4759       144\n",
      "Close Dishwasher     0.3588    0.5169    0.4236       118\n",
      "   Open Drawer 1     0.2667    0.3509    0.3030        57\n",
      "  Close Drawer 1     0.4062    0.1970    0.2653        66\n",
      "   Open Drawer 2     0.3023    0.2167    0.2524        60\n",
      "  Close Drawer 2     0.3824    0.3250    0.3514        40\n",
      "   Open Drawer 3     0.5238    0.5612    0.5419        98\n",
      "  Close Drawer 3     0.5571    0.4382    0.4906        89\n",
      "     Clean Table     0.7692    0.4698    0.5833       149\n",
      "  Drink from Cup     0.6106    0.6042    0.6074       475\n",
      "   Toggle Switch     0.6864    0.5127    0.5870       158\n",
      "\n",
      "        accuracy                         0.8891     14838\n",
      "       macro avg     0.5794    0.5503    0.5569     14838\n",
      "    weighted avg     0.8886    0.8891    0.8877     14838\n",
      "\n",
      "3th confusion matrix \n",
      "                  precision    recall  f1-score   support\n",
      "\n",
      "            Null     0.9430    0.9513    0.9471     12371\n",
      "     Open Door 1     0.6203    0.5833    0.6012        84\n",
      "     Open Door 2     0.7800    0.8182    0.7986       143\n",
      "    Close Door 1     0.5575    0.7079    0.6238        89\n",
      "    Close Door 2     0.7895    0.8468    0.8171       124\n",
      "     Open Fridge     0.7302    0.5971    0.6570       340\n",
      "    Close Fridge     0.7013    0.6953    0.6983       233\n",
      " Open Dishwasher     0.4431    0.5139    0.4759       144\n",
      "Close Dishwasher     0.3588    0.5169    0.4236       118\n",
      "   Open Drawer 1     0.2667    0.3509    0.3030        57\n",
      "  Close Drawer 1     0.4062    0.1970    0.2653        66\n",
      "   Open Drawer 2     0.3023    0.2167    0.2524        60\n",
      "  Close Drawer 2     0.3824    0.3250    0.3514        40\n",
      "   Open Drawer 3     0.5238    0.5612    0.5419        98\n",
      "  Close Drawer 3     0.5571    0.4382    0.4906        89\n",
      "     Clean Table     0.7692    0.4698    0.5833       149\n",
      "  Drink from Cup     0.6106    0.6042    0.6074       475\n",
      "   Toggle Switch     0.6864    0.5127    0.5870       158\n",
      "\n",
      "        accuracy                         0.8891     14838\n",
      "       macro avg     0.5794    0.5503    0.5569     14838\n",
      "    weighted avg     0.8886    0.8891    0.8877     14838\n",
      "\n",
      "4th confusion matrix \n",
      "                  precision    recall  f1-score   support\n",
      "\n",
      "            Null     0.9368    0.9593    0.9479     12371\n",
      "     Open Door 1     0.6087    0.6667    0.6364        84\n",
      "     Open Door 2     0.7560    0.8881    0.8167       143\n",
      "    Close Door 1     0.7160    0.6517    0.6824        89\n",
      "    Close Door 2     0.8519    0.7419    0.7931       124\n",
      "     Open Fridge     0.7029    0.6471    0.6738       340\n",
      "    Close Fridge     0.7348    0.5708    0.6425       233\n",
      " Open Dishwasher     0.5122    0.4375    0.4719       144\n",
      "Close Dishwasher     0.3910    0.5169    0.4453       118\n",
      "   Open Drawer 1     0.2708    0.2281    0.2476        57\n",
      "  Close Drawer 1     0.4865    0.2727    0.3495        66\n",
      "   Open Drawer 2     0.3226    0.1667    0.2198        60\n",
      "  Close Drawer 2     0.3333    0.1750    0.2295        40\n",
      "   Open Drawer 3     0.5484    0.5204    0.5340        98\n",
      "  Close Drawer 3     0.5424    0.3596    0.4324        89\n",
      "     Clean Table     0.8026    0.4094    0.5422       149\n",
      "  Drink from Cup     0.6049    0.5768    0.5905       475\n",
      "   Toggle Switch     0.6870    0.5696    0.6228       158\n",
      "\n",
      "        accuracy                         0.8918     14838\n",
      "       macro avg     0.6005    0.5199    0.5488     14838\n",
      "    weighted avg     0.8860    0.8918    0.8873     14838\n",
      "\n"
     ]
    }
   ],
   "source": [
    "for i, path in enumerate(opp_result_list):\n",
    "    result = pd.read_pickle(path)\n",
    "    conf_mat = result['conf_mat']\n",
    "    print(f'{i}th confusion matrix \\n{conf_mat}')"
   ]
  },
  {
   "cell_type": "code",
   "execution_count": null,
   "metadata": {},
   "outputs": [],
   "source": []
  }
 ],
 "metadata": {
  "kernelspec": {
   "display_name": "rl-harnas",
   "language": "python",
   "name": "python3"
  },
  "language_info": {
   "codemirror_mode": {
    "name": "ipython",
    "version": 3
   },
   "file_extension": ".py",
   "mimetype": "text/x-python",
   "name": "python",
   "nbconvert_exporter": "python",
   "pygments_lexer": "ipython3",
   "version": "3.9.16"
  },
  "orig_nbformat": 4
 },
 "nbformat": 4,
 "nbformat_minor": 2
}
