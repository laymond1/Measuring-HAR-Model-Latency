{
 "cells": [
  {
   "attachments": {},
   "cell_type": "markdown",
   "metadata": {},
   "source": [
    "# UCI-HAR"
   ]
  },
  {
   "cell_type": "markdown",
   "metadata": {},
   "source": [
    "* HAR model"
   ]
  },
  {
   "cell_type": "code",
   "execution_count": 1,
   "metadata": {},
   "outputs": [],
   "source": [
    "har_model_list = [\"RTWCNN\", \"HARLSTM\", \"HARBiLSTM\", \"HARConvLSTM\", \"ResNetTSC\", \"FCNTSC\"] # GTSNet"
   ]
  },
  {
   "cell_type": "code",
   "execution_count": 2,
   "metadata": {},
   "outputs": [
    {
     "name": "stdout",
     "output_type": "stream",
     "text": [
      "Experiment dir : mobile_models_pt/uci\n",
      "CPU model saved at : mobile_models_pt/uci/RTWCNN.pt\n",
      "Experiment dir : mobile_models_pt/uci\n",
      "CPU model saved at : mobile_models_pt/uci/HARLSTM.pt\n",
      "Experiment dir : mobile_models_pt/uci\n",
      "CPU model saved at : mobile_models_pt/uci/HARBiLSTM.pt\n",
      "Experiment dir : mobile_models_pt/uci\n",
      "CPU model saved at : mobile_models_pt/uci/HARConvLSTM.pt\n",
      "Experiment dir : mobile_models_pt/uci\n",
      "CPU model saved at : mobile_models_pt/uci/ResNetTSC.pt\n",
      "Experiment dir : mobile_models_pt/uci\n",
      "CPU model saved at : mobile_models_pt/uci/FCNTSC.pt\n"
     ]
    }
   ],
   "source": [
    "for model in har_model_list:\n",
    "    ! python convert_models/convert_har_mobile.py --dataset uci --arch $model"
   ]
  },
  {
   "cell_type": "markdown",
   "metadata": {},
   "source": [
    "* Vision model"
   ]
  },
  {
   "cell_type": "code",
   "execution_count": 1,
   "metadata": {},
   "outputs": [],
   "source": [
    "vision_model_list = [\"mobilenet_v2\", \"mobilenet_v3_small\", \"mobilenet_v3_large\", \"shufflenet_v2_x0_5\", \"shufflenet_v2_x1_0\", \"shufflenet_v2_x1_5\", \"shufflenet_v2_x2_0\", \"resnet18\", \"resnet34\", \"resnet50\", \"resnet101\", \"squeezenet1_0\", \"squeezenet1_1\", \"efficientnet_b0\", \"efficientnet_b1\", \"efficientnet_b2\", \"efficientnet_b3\", \"efficientnet_b4\", \"efficientnet_b5\", \"efficientnet_b6\", \"efficientnet_b7\"] "
   ]
  },
  {
   "cell_type": "code",
   "execution_count": 2,
   "metadata": {},
   "outputs": [
    {
     "name": "stdout",
     "output_type": "stream",
     "text": [
      "Experiment dir : mobile_pt/uci\n",
      "CPU model saved at : mobile_pt/uci\\mobilenet_v2.pt\n",
      "Experiment dir : mobile_pt/uci\n",
      "CPU model saved at : mobile_pt/uci\\mobilenet_v3_small.pt\n",
      "Experiment dir : mobile_pt/uci\n",
      "CPU model saved at : mobile_pt/uci\\mobilenet_v3_large.pt\n",
      "Experiment dir : mobile_pt/uci\n",
      "CPU model saved at : mobile_pt/uci\\mnasnet0_5.pt\n",
      "Experiment dir : mobile_pt/uci\n",
      "CPU model saved at : mobile_pt/uci\\mnasnet0_75.pt\n",
      "Experiment dir : mobile_pt/uci\n",
      "CPU model saved at : mobile_pt/uci\\mnasnet1_0.pt\n",
      "Experiment dir : mobile_pt/uci\n",
      "CPU model saved at : mobile_pt/uci\\mnasnet1_3.pt\n",
      "Experiment dir : mobile_pt/uci\n",
      "CPU model saved at : mobile_pt/uci\\shufflenet_v2_x0_5.pt\n",
      "Experiment dir : mobile_pt/uci\n",
      "CPU model saved at : mobile_pt/uci\\shufflenet_v2_x1_0.pt\n",
      "Experiment dir : mobile_pt/uci\n",
      "CPU model saved at : mobile_pt/uci\\shufflenet_v2_x1_5.pt\n",
      "Experiment dir : mobile_pt/uci\n",
      "CPU model saved at : mobile_pt/uci\\shufflenet_v2_x2_0.pt\n",
      "Experiment dir : mobile_pt/uci\n",
      "CPU model saved at : mobile_pt/uci\\resnet18.pt\n",
      "Experiment dir : mobile_pt/uci\n",
      "CPU model saved at : mobile_pt/uci\\resnet34.pt\n",
      "Experiment dir : mobile_pt/uci\n",
      "CPU model saved at : mobile_pt/uci\\resnet50.pt\n",
      "Experiment dir : mobile_pt/uci\n",
      "CPU model saved at : mobile_pt/uci\\resnet101.pt\n",
      "Experiment dir : mobile_pt/uci\n",
      "CPU model saved at : mobile_pt/uci\\resnext50_32x4d.pt\n",
      "Experiment dir : mobile_pt/uci\n",
      "CPU model saved at : mobile_pt/uci\\resnext101_32x8d.pt\n",
      "Experiment dir : mobile_pt/uci\n",
      "CPU model saved at : mobile_pt/uci\\resnext101_64x4d.pt\n",
      "Experiment dir : mobile_pt/uci\n",
      "CPU model saved at : mobile_pt/uci\\squeezenet1_0.pt\n",
      "Experiment dir : mobile_pt/uci\n",
      "CPU model saved at : mobile_pt/uci\\squeezenet1_1.pt\n",
      "Experiment dir : mobile_pt/uci\n",
      "CPU model saved at : mobile_pt/uci\\efficientnet_b0.pt\n",
      "Experiment dir : mobile_pt/uci\n",
      "CPU model saved at : mobile_pt/uci\\efficientnet_b1.pt\n",
      "Experiment dir : mobile_pt/uci\n",
      "CPU model saved at : mobile_pt/uci\\efficientnet_b2.pt\n",
      "Experiment dir : mobile_pt/uci\n",
      "CPU model saved at : mobile_pt/uci\\efficientnet_b3.pt\n",
      "Experiment dir : mobile_pt/uci\n",
      "CPU model saved at : mobile_pt/uci\\efficientnet_b4.pt\n",
      "Experiment dir : mobile_pt/uci\n",
      "CPU model saved at : mobile_pt/uci\\efficientnet_b5.pt\n",
      "Experiment dir : mobile_pt/uci\n",
      "CPU model saved at : mobile_pt/uci\\efficientnet_b6.pt\n",
      "Experiment dir : mobile_pt/uci\n",
      "CPU model saved at : mobile_pt/uci\\efficientnet_b7.pt\n",
      "Experiment dir : mobile_pt/uci\n",
      "CPU model saved at : mobile_pt/uci\\efficientnet_v2_s.pt\n",
      "Experiment dir : mobile_pt/uci\n",
      "CPU model saved at : mobile_pt/uci\\efficientnet_v2_m.pt\n",
      "Experiment dir : mobile_pt/uci\n",
      "CPU model saved at : mobile_pt/uci\\efficientnet_v2_l.pt\n"
     ]
    }
   ],
   "source": [
    "for model in vision_model_list:\n",
    "    ! python convert_models/convert_vision_mobile.py --dataset uci --arch $model"
   ]
  },
  {
   "cell_type": "markdown",
   "metadata": {},
   "source": [
    "* harnas model"
   ]
  },
  {
   "cell_type": "code",
   "execution_count": 11,
   "metadata": {},
   "outputs": [],
   "source": [
    "harnas_model_list = [\"RLNAS\", \"EANAS\", \"OPPA31\"]\n",
    "# harnas_model_list = [\"EANAS\", \"DNAS\"]"
   ]
  },
  {
   "cell_type": "code",
   "execution_count": 13,
   "metadata": {},
   "outputs": [
    {
     "name": "stdout",
     "output_type": "stream",
     "text": [
      "Experiment dir : mobile_models_pt/uci\n",
      "CPU model saved at : mobile_models_pt/uci/RLNAS.pt\n",
      "Experiment dir : mobile_models_pt/uci\n",
      "18 48\n",
      "CPU model saved at : mobile_models_pt/uci/EANAS.pt\n",
      "Experiment dir : mobile_models_pt/uci\n",
      "6 48\n",
      "CPU model saved at : mobile_models_pt/uci/OPPA31.pt\n"
     ]
    }
   ],
   "source": [
    "for model in harnas_model_list:\n",
    "    ! python convert_models/convert_harnas_mobile.py --dataset uci --arch $model"
   ]
  },
  {
   "cell_type": "code",
   "execution_count": null,
   "metadata": {},
   "outputs": [],
   "source": [
    "model_list = [\"marnasnet_a\", \"marnasnet_b\", \"marnasnet_c\", \"marnasnet_d\", \"marnasnet_e\"] "
   ]
  },
  {
   "cell_type": "code",
   "execution_count": null,
   "metadata": {},
   "outputs": [
    {
     "name": "stdout",
     "output_type": "stream",
     "text": [
      "Experiment dir : mobile_models_pt/uci\n",
      "CPU model saved at : mobile_models_pt/uci\\marnasnet_a.pt\n"
     ]
    },
    {
     "name": "stderr",
     "output_type": "stream",
     "text": [
      "d:\\Develop\\3.Research\\2022_\\0.My_Code\\4.harnas\\models\\vision\\marnasnet.py:119: TracerWarning: Converting a tensor to a Python boolean might cause the trace to be incorrect. We can't record the data flow of Python values, so this value will be treated as a constant in the future. This means that the trace might not generalize to other inputs!\n",
      "  if input.size(1) == result.size(1):\n"
     ]
    },
    {
     "name": "stdout",
     "output_type": "stream",
     "text": [
      "Experiment dir : mobile_models_pt/uci\n",
      "CPU model saved at : mobile_models_pt/uci\\marnasnet_b.pt\n",
      "Experiment dir : mobile_models_pt/uci\n",
      "CPU model saved at : mobile_models_pt/uci\\marnasnet_c.pt\n"
     ]
    },
    {
     "name": "stderr",
     "output_type": "stream",
     "text": [
      "d:\\Develop\\3.Research\\2022_\\0.My_Code\\4.harnas\\models\\vision\\marnasnet.py:119: TracerWarning: Converting a tensor to a Python boolean might cause the trace to be incorrect. We can't record the data flow of Python values, so this value will be treated as a constant in the future. This means that the trace might not generalize to other inputs!\n",
      "  if input.size(1) == result.size(1):\n"
     ]
    },
    {
     "name": "stdout",
     "output_type": "stream",
     "text": [
      "Experiment dir : mobile_models_pt/uci\n",
      "CPU model saved at : mobile_models_pt/uci\\marnasnet_d.pt\n",
      "Experiment dir : mobile_models_pt/uci\n",
      "CPU model saved at : mobile_models_pt/uci\\marnasnet_e.pt\n"
     ]
    },
    {
     "name": "stderr",
     "output_type": "stream",
     "text": [
      "d:\\Develop\\3.Research\\2022_\\0.My_Code\\4.harnas\\models\\vision\\marnasnet.py:119: TracerWarning: Converting a tensor to a Python boolean might cause the trace to be incorrect. We can't record the data flow of Python values, so this value will be treated as a constant in the future. This means that the trace might not generalize to other inputs!\n",
      "  if input.size(1) == result.size(1):\n"
     ]
    }
   ],
   "source": [
    "for model in model_list:\n",
    "    ! python convert_vision_mobile.py --dataset uci --arch $model"
   ]
  },
  {
   "cell_type": "markdown",
   "metadata": {},
   "source": [
    "# OPP"
   ]
  },
  {
   "cell_type": "markdown",
   "metadata": {},
   "source": [
    "* HAR model"
   ]
  },
  {
   "cell_type": "code",
   "execution_count": 3,
   "metadata": {},
   "outputs": [],
   "source": [
    "har_model_list = [\"RTWCNN\", \"HARLSTM\", \"HARBiLSTM\", \"HARConvLSTM\", \"ResNetTSC\", \"FCNTSC\"]"
   ]
  },
  {
   "cell_type": "code",
   "execution_count": 9,
   "metadata": {},
   "outputs": [
    {
     "name": "stdout",
     "output_type": "stream",
     "text": [
      "Experiment dir : mobile_pt/opp\n",
      "CPU model saved at : mobile_pt/opp\\RTWCNN.pt\n",
      "Experiment dir : mobile_pt/opp\n",
      "CPU model saved at : mobile_pt/opp\\HARLSTM.pt\n",
      "Experiment dir : mobile_pt/opp\n",
      "CPU model saved at : mobile_pt/opp\\HARBiLSTM.pt\n",
      "Experiment dir : mobile_pt/opp\n",
      "CPU model saved at : mobile_pt/opp\\HARConvLSTM.pt\n",
      "Experiment dir : mobile_pt/opp\n",
      "CPU model saved at : mobile_pt/opp\\ResNetTSC.pt\n",
      "Experiment dir : mobile_pt/opp\n",
      "CPU model saved at : mobile_pt/opp\\FCNTSC.pt\n"
     ]
    }
   ],
   "source": [
    "for model in har_model_list:\n",
    "    ! python convert_har_mobile.py --dataset opp --arch $model"
   ]
  },
  {
   "cell_type": "markdown",
   "metadata": {},
   "source": [
    "# KUHAR"
   ]
  },
  {
   "cell_type": "code",
   "execution_count": 5,
   "metadata": {},
   "outputs": [],
   "source": [
    "har_model_list = [\"RTWCNN\", \"HARLSTM\", \"HARBiLSTM\", \"HARConvLSTM\", \"ResNetTSC\", \"FCNTSC\"] "
   ]
  },
  {
   "cell_type": "code",
   "execution_count": 6,
   "metadata": {},
   "outputs": [
    {
     "name": "stdout",
     "output_type": "stream",
     "text": [
      "Experiment dir : mobile_pt/kar\n",
      "CPU model saved at : mobile_pt/kar\\RTWCNN.pt\n",
      "Experiment dir : mobile_pt/kar\n",
      "CPU model saved at : mobile_pt/kar\\HARLSTM.pt\n",
      "Experiment dir : mobile_pt/kar\n",
      "CPU model saved at : mobile_pt/kar\\HARBiLSTM.pt\n",
      "Experiment dir : mobile_pt/kar\n",
      "CPU model saved at : mobile_pt/kar\\HARConvLSTM.pt\n",
      "Experiment dir : mobile_pt/kar\n",
      "CPU model saved at : mobile_pt/kar\\ResNetTSC.pt\n",
      "Experiment dir : mobile_pt/kar\n",
      "CPU model saved at : mobile_pt/kar\\FCNTSC.pt\n"
     ]
    }
   ],
   "source": [
    "for model in har_model_list:\n",
    "    ! python convert_har_mobile.py --dataset kar --arch $model"
   ]
  },
  {
   "cell_type": "markdown",
   "metadata": {},
   "source": [
    "# UniMib"
   ]
  },
  {
   "cell_type": "code",
   "execution_count": null,
   "metadata": {},
   "outputs": [],
   "source": [
    "har_model_list = [\"RTWCNN\", \"HARLSTM\", \"HARBiLSTM\", \"HARConvLSTM\", \"ResNetTSC\", \"FCNTSC\"] "
   ]
  },
  {
   "cell_type": "code",
   "execution_count": 7,
   "metadata": {},
   "outputs": [
    {
     "name": "stdout",
     "output_type": "stream",
     "text": [
      "Experiment dir : mobile_pt/uni\n",
      "CPU model saved at : mobile_pt/uni\\RTWCNN.pt\n",
      "Experiment dir : mobile_pt/uni\n",
      "CPU model saved at : mobile_pt/uni\\HARLSTM.pt\n",
      "Experiment dir : mobile_pt/uni\n",
      "CPU model saved at : mobile_pt/uni\\HARBiLSTM.pt\n",
      "Experiment dir : mobile_pt/uni\n",
      "CPU model saved at : mobile_pt/uni\\HARConvLSTM.pt\n",
      "Experiment dir : mobile_pt/uni\n",
      "CPU model saved at : mobile_pt/uni\\ResNetTSC.pt\n",
      "Experiment dir : mobile_pt/uni\n",
      "CPU model saved at : mobile_pt/uni\\FCNTSC.pt\n"
     ]
    }
   ],
   "source": [
    "for model in har_model_list:\n",
    "    ! python convert_har_mobile.py --dataset uni --arch $model"
   ]
  },
  {
   "cell_type": "code",
   "execution_count": null,
   "metadata": {},
   "outputs": [],
   "source": []
  },
  {
   "cell_type": "markdown",
   "metadata": {},
   "source": [
    "# WISDM"
   ]
  },
  {
   "cell_type": "code",
   "execution_count": null,
   "metadata": {},
   "outputs": [],
   "source": [
    "har_model_list = [\"RTWCNN\", \"HARLSTM\", \"HARBiLSTM\", \"HARConvLSTM\", \"ResNetTSC\", \"FCNTSC\"] "
   ]
  },
  {
   "cell_type": "code",
   "execution_count": 8,
   "metadata": {},
   "outputs": [
    {
     "name": "stdout",
     "output_type": "stream",
     "text": [
      "Experiment dir : mobile_pt/wis\n",
      "CPU model saved at : mobile_pt/wis\\RTWCNN.pt\n",
      "Experiment dir : mobile_pt/wis\n",
      "CPU model saved at : mobile_pt/wis\\HARLSTM.pt\n",
      "Experiment dir : mobile_pt/wis\n",
      "CPU model saved at : mobile_pt/wis\\HARBiLSTM.pt\n",
      "Experiment dir : mobile_pt/wis\n",
      "CPU model saved at : mobile_pt/wis\\HARConvLSTM.pt\n",
      "Experiment dir : mobile_pt/wis\n",
      "CPU model saved at : mobile_pt/wis\\ResNetTSC.pt\n",
      "Experiment dir : mobile_pt/wis\n",
      "CPU model saved at : mobile_pt/wis\\FCNTSC.pt\n"
     ]
    }
   ],
   "source": [
    "for model in har_model_list:\n",
    "    ! python convert_har_mobile.py --dataset wis --arch $model"
   ]
  }
 ],
 "metadata": {
  "kernelspec": {
   "display_name": "rl-harnas",
   "language": "python",
   "name": "python3"
  },
  "language_info": {
   "codemirror_mode": {
    "name": "ipython",
    "version": 3
   },
   "file_extension": ".py",
   "mimetype": "text/x-python",
   "name": "python",
   "nbconvert_exporter": "python",
   "pygments_lexer": "ipython3",
   "version": "3.8.17"
  },
  "orig_nbformat": 4
 },
 "nbformat": 4,
 "nbformat_minor": 2
}
