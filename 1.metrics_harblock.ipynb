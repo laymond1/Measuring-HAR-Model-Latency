{
 "cells": [
  {
   "cell_type": "markdown",
   "metadata": {},
   "source": [
    "# All Blocks"
   ]
  },
  {
   "cell_type": "code",
   "execution_count": 1,
   "metadata": {},
   "outputs": [],
   "source": [
    "block_list = ['LSTMBlock', 'BiLSTMBlock', 'GTSResConvBlock']\n",
    "lstm_block_list = ['LSTMBlock', 'BiLSTMBlock']"
   ]
  },
  {
   "cell_type": "markdown",
   "metadata": {},
   "source": [
    "* cpu"
   ]
  },
  {
   "cell_type": "code",
   "execution_count": 4,
   "metadata": {},
   "outputs": [
    {
     "name": "stdout",
     "output_type": "stream",
     "text": [
      "Unsupported operator aten::lstm encountered 1 time(s)\n",
      "Flops: 0.000000, Param size: 8448.000000MB\n",
      "Flops: 1.114112, Param size: 0.008448MB\n",
      "block size: 0.032MB\n",
      "Experiment results saved to block_spec.csv\n",
      "Unsupported operator aten::lstm encountered 1 time(s)\n",
      "Flops: 0.000000, Param size: 16896.000000MB\n",
      "Flops: 2.228224, Param size: 0.016896MB\n",
      "block size: 0.064MB\n",
      "Experiment results saved to block_spec.csv\n",
      "Unsupported operator aten::adaptive_max_pool1d encountered 1 time(s)\n",
      "Unsupported operator prim::PythonOp.InplaceShift encountered 3 time(s)\n",
      "Unsupported operator aten::add_ encountered 1 time(s)\n",
      "Flops: 53248.000000, Param size: 832.000000MB\n",
      "Flops: 0.081920, Param size: 0.000832MB\n",
      "block size: 0.005MB\n",
      "Experiment results saved to block_spec.csv\n",
      "Unsupported operator aten::lstm encountered 1 time(s)\n",
      "Flops: 0.000000, Param size: 82944.000000MB\n",
      "Flops: 10.747904, Param size: 0.082944MB\n",
      "block size: 0.316MB\n",
      "Experiment results saved to block_spec.csv\n",
      "Unsupported operator aten::lstm encountered 1 time(s)\n",
      "Flops: 0.000000, Param size: 165888.000000MB\n",
      "Flops: 21.495808, Param size: 0.165888MB\n",
      "block size: 0.633MB\n",
      "Experiment results saved to block_spec.csv\n"
     ]
    }
   ],
   "source": [
    "for block in block_list:\n",
    "    ! python measure_blocks/measure_harblock_metrics.py --dataset uci --block_name $block --config_file block_spec.csv\n",
    "        \n",
    "for block in lstm_block_list:\n",
    "    ! python measure_blocks/measure_harblock_metrics.py --dataset uci --block_name $block --out_channels 128 --config_file block_spec.csv"
   ]
  },
  {
   "cell_type": "code",
   "execution_count": 6,
   "metadata": {},
   "outputs": [
    {
     "data": {
      "text/html": [
       "<div>\n",
       "<style scoped>\n",
       "    .dataframe tbody tr th:only-of-type {\n",
       "        vertical-align: middle;\n",
       "    }\n",
       "\n",
       "    .dataframe tbody tr th {\n",
       "        vertical-align: top;\n",
       "    }\n",
       "\n",
       "    .dataframe thead th {\n",
       "        text-align: right;\n",
       "    }\n",
       "</style>\n",
       "<table border=\"1\" class=\"dataframe\">\n",
       "  <thead>\n",
       "    <tr style=\"text-align: right;\">\n",
       "      <th></th>\n",
       "      <th>dataset</th>\n",
       "      <th>Block</th>\n",
       "      <th>Params(M)</th>\n",
       "      <th>FLOPs(M)</th>\n",
       "      <th>BlockSize(MB)</th>\n",
       "    </tr>\n",
       "  </thead>\n",
       "  <tbody>\n",
       "    <tr>\n",
       "      <th>0</th>\n",
       "      <td>uci</td>\n",
       "      <td>LSTMBlock</td>\n",
       "      <td>0.008448</td>\n",
       "      <td>1.114112</td>\n",
       "      <td>0.032242</td>\n",
       "    </tr>\n",
       "    <tr>\n",
       "      <th>1</th>\n",
       "      <td>uci</td>\n",
       "      <td>BiLSTMBlock</td>\n",
       "      <td>0.016896</td>\n",
       "      <td>2.228224</td>\n",
       "      <td>0.064468</td>\n",
       "    </tr>\n",
       "    <tr>\n",
       "      <th>2</th>\n",
       "      <td>uci</td>\n",
       "      <td>GTSResConvBlock</td>\n",
       "      <td>0.000832</td>\n",
       "      <td>0.081920</td>\n",
       "      <td>0.005058</td>\n",
       "    </tr>\n",
       "    <tr>\n",
       "      <th>3</th>\n",
       "      <td>uci</td>\n",
       "      <td>LSTMBlock</td>\n",
       "      <td>0.008448</td>\n",
       "      <td>1.114112</td>\n",
       "      <td>0.032242</td>\n",
       "    </tr>\n",
       "    <tr>\n",
       "      <th>4</th>\n",
       "      <td>uci</td>\n",
       "      <td>BiLSTMBlock</td>\n",
       "      <td>0.016896</td>\n",
       "      <td>2.228224</td>\n",
       "      <td>0.064468</td>\n",
       "    </tr>\n",
       "  </tbody>\n",
       "</table>\n",
       "</div>"
      ],
      "text/plain": [
       "  dataset            Block  Params(M)  FLOPs(M)  BlockSize(MB)\n",
       "0     uci        LSTMBlock   0.008448  1.114112       0.032242\n",
       "1     uci      BiLSTMBlock   0.016896  2.228224       0.064468\n",
       "2     uci  GTSResConvBlock   0.000832  0.081920       0.005058\n",
       "3     uci        LSTMBlock   0.008448  1.114112       0.032242\n",
       "4     uci      BiLSTMBlock   0.016896  2.228224       0.064468"
      ]
     },
     "execution_count": 6,
     "metadata": {},
     "output_type": "execute_result"
    }
   ],
   "source": [
    "import pandas as pd\n",
    "columns = ['dataset', 'Block', 'Params(M)',\t'FLOPs(M)',\t'BlockSize(MB)']\n",
    "df = pd.read_csv('block_spec.csv', header=None, names=columns)\n",
    "df.columns = columns\n",
    "df.head()"
   ]
  },
  {
   "cell_type": "code",
   "execution_count": 7,
   "metadata": {},
   "outputs": [],
   "source": [
    "df.to_csv('block_spec.csv', index=False)"
   ]
  },
  {
   "cell_type": "code",
   "execution_count": 8,
   "metadata": {},
   "outputs": [
    {
     "data": {
      "text/html": [
       "<div>\n",
       "<style scoped>\n",
       "    .dataframe tbody tr th:only-of-type {\n",
       "        vertical-align: middle;\n",
       "    }\n",
       "\n",
       "    .dataframe tbody tr th {\n",
       "        vertical-align: top;\n",
       "    }\n",
       "\n",
       "    .dataframe thead th {\n",
       "        text-align: right;\n",
       "    }\n",
       "</style>\n",
       "<table border=\"1\" class=\"dataframe\">\n",
       "  <thead>\n",
       "    <tr style=\"text-align: right;\">\n",
       "      <th></th>\n",
       "      <th>dataset</th>\n",
       "      <th>Block</th>\n",
       "      <th>Params(M)</th>\n",
       "      <th>FLOPs(M)</th>\n",
       "      <th>BlockSize(MB)</th>\n",
       "    </tr>\n",
       "  </thead>\n",
       "  <tbody>\n",
       "    <tr>\n",
       "      <th>0</th>\n",
       "      <td>uci</td>\n",
       "      <td>LSTMBlock</td>\n",
       "      <td>0.008448</td>\n",
       "      <td>1.114112</td>\n",
       "      <td>0.032242</td>\n",
       "    </tr>\n",
       "    <tr>\n",
       "      <th>1</th>\n",
       "      <td>uci</td>\n",
       "      <td>BiLSTMBlock</td>\n",
       "      <td>0.016896</td>\n",
       "      <td>2.228224</td>\n",
       "      <td>0.064468</td>\n",
       "    </tr>\n",
       "    <tr>\n",
       "      <th>2</th>\n",
       "      <td>uci</td>\n",
       "      <td>GTSResConvBlock</td>\n",
       "      <td>0.000832</td>\n",
       "      <td>0.081920</td>\n",
       "      <td>0.005058</td>\n",
       "    </tr>\n",
       "    <tr>\n",
       "      <th>3</th>\n",
       "      <td>uci</td>\n",
       "      <td>LSTMBlock</td>\n",
       "      <td>0.008448</td>\n",
       "      <td>1.114112</td>\n",
       "      <td>0.032242</td>\n",
       "    </tr>\n",
       "    <tr>\n",
       "      <th>4</th>\n",
       "      <td>uci</td>\n",
       "      <td>BiLSTMBlock</td>\n",
       "      <td>0.016896</td>\n",
       "      <td>2.228224</td>\n",
       "      <td>0.064468</td>\n",
       "    </tr>\n",
       "    <tr>\n",
       "      <th>5</th>\n",
       "      <td>uci</td>\n",
       "      <td>GTSResConvBlock</td>\n",
       "      <td>0.000832</td>\n",
       "      <td>0.081920</td>\n",
       "      <td>0.005058</td>\n",
       "    </tr>\n",
       "    <tr>\n",
       "      <th>6</th>\n",
       "      <td>uci</td>\n",
       "      <td>LSTMBlock</td>\n",
       "      <td>0.082944</td>\n",
       "      <td>10.747904</td>\n",
       "      <td>0.316422</td>\n",
       "    </tr>\n",
       "    <tr>\n",
       "      <th>7</th>\n",
       "      <td>uci</td>\n",
       "      <td>BiLSTMBlock</td>\n",
       "      <td>0.165888</td>\n",
       "      <td>21.495808</td>\n",
       "      <td>0.632828</td>\n",
       "    </tr>\n",
       "  </tbody>\n",
       "</table>\n",
       "</div>"
      ],
      "text/plain": [
       "  dataset            Block  Params(M)   FLOPs(M)  BlockSize(MB)\n",
       "0     uci        LSTMBlock   0.008448   1.114112       0.032242\n",
       "1     uci      BiLSTMBlock   0.016896   2.228224       0.064468\n",
       "2     uci  GTSResConvBlock   0.000832   0.081920       0.005058\n",
       "3     uci        LSTMBlock   0.008448   1.114112       0.032242\n",
       "4     uci      BiLSTMBlock   0.016896   2.228224       0.064468\n",
       "5     uci  GTSResConvBlock   0.000832   0.081920       0.005058\n",
       "6     uci        LSTMBlock   0.082944  10.747904       0.316422\n",
       "7     uci      BiLSTMBlock   0.165888  21.495808       0.632828"
      ]
     },
     "execution_count": 8,
     "metadata": {},
     "output_type": "execute_result"
    }
   ],
   "source": [
    "pd.read_csv('block_spec.csv')"
   ]
  },
  {
   "cell_type": "code",
   "execution_count": null,
   "metadata": {},
   "outputs": [],
   "source": []
  }
 ],
 "metadata": {
  "kernelspec": {
   "display_name": "torch-1.8",
   "language": "python",
   "name": "python3"
  },
  "language_info": {
   "codemirror_mode": {
    "name": "ipython",
    "version": 3
   },
   "file_extension": ".py",
   "mimetype": "text/x-python",
   "name": "python",
   "nbconvert_exporter": "python",
   "pygments_lexer": "ipython3",
   "version": "3.8.17"
  },
  "orig_nbformat": 4
 },
 "nbformat": 4,
 "nbformat_minor": 2
}
