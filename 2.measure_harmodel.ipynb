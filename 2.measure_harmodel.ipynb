{
 "cells": [
  {
   "cell_type": "markdown",
   "metadata": {},
   "source": [
    "# All models"
   ]
  },
  {
   "cell_type": "code",
   "execution_count": 2,
   "metadata": {},
   "outputs": [],
   "source": [
    "model_list = ['RTWCNN', 'HARLSTM', 'HARBiLSTM', 'HARConvLSTM', 'ResNetTSC', 'FCNTSC', 'GTSNet']"
   ]
  },
  {
   "cell_type": "markdown",
   "metadata": {},
   "source": [
    "* cpu"
   ]
  },
  {
   "cell_type": "code",
   "execution_count": 14,
   "metadata": {},
   "outputs": [
    {
     "name": "stdout",
     "output_type": "stream",
     "text": [
      "RTWCNN: 0.795936\n",
      "Experiment results saved to harmodel.csv\n",
      "HARLSTM: 10.960415\n",
      "Experiment results saved to harmodel.csv\n",
      "HARBiLSTM: 18.966493\n",
      "Experiment results saved to harmodel.csv\n",
      "HARConvLSTM: 8.514841\n",
      "Experiment results saved to harmodel.csv\n",
      "ResNetTSC: 0.984439\n",
      "Experiment results saved to harmodel.csv\n",
      "FCNTSC: 0.891056\n",
      "Experiment results saved to harmodel.csv\n",
      "GTSNet: 3.525273\n",
      "Experiment results saved to harmodel.csv\n"
     ]
    }
   ],
   "source": [
    "for model in model_list:\n",
    "    for _ in range(10):\n",
    "        ! python measure_models/measure_harmodel_latency.py --hardware pc --device cpu --dataset uci --arch $model --num-runs 100 --config_file harmodel.csv"
   ]
  },
  {
   "cell_type": "markdown",
   "metadata": {},
   "source": [
    "* gpu"
   ]
  },
  {
   "cell_type": "code",
   "execution_count": 7,
   "metadata": {},
   "outputs": [
    {
     "name": "stdout",
     "output_type": "stream",
     "text": [
      "RTWCNN: 0.073112\n",
      "Experiment results saved to harmodel.csv\n",
      "HARLSTM: 0.639263\n",
      "Experiment results saved to harmodel.csv\n",
      "HARBiLSTM: 1.260423\n",
      "Experiment results saved to harmodel.csv\n",
      "HARConvLSTM: 0.714566\n",
      "Experiment results saved to harmodel.csv\n",
      "ResNetTSC: 0.321197\n",
      "Experiment results saved to harmodel.csv\n",
      "FCNTSC: 0.228248\n",
      "Experiment results saved to harmodel.csv\n",
      "GTSNet: 96.348136\n",
      "Experiment results saved to harmodel.csv\n"
     ]
    }
   ],
   "source": [
    "for model in model_list:\n",
    "    for _ in range(10):\n",
    "        ! python measure_models/measure_harmodel_latency.py --hardware pc --device gpu --dataset uci --arch $model --num-runs 100 --config_file harmodel.csv"
   ]
  },
  {
   "cell_type": "code",
   "execution_count": 38,
   "metadata": {},
   "outputs": [
    {
     "data": {
      "text/html": [
       "<div>\n",
       "<style scoped>\n",
       "    .dataframe tbody tr th:only-of-type {\n",
       "        vertical-align: middle;\n",
       "    }\n",
       "\n",
       "    .dataframe tbody tr th {\n",
       "        vertical-align: top;\n",
       "    }\n",
       "\n",
       "    .dataframe thead th {\n",
       "        text-align: right;\n",
       "    }\n",
       "</style>\n",
       "<table border=\"1\" class=\"dataframe\">\n",
       "  <thead>\n",
       "    <tr style=\"text-align: right;\">\n",
       "      <th></th>\n",
       "      <th>dataset</th>\n",
       "      <th>batch</th>\n",
       "      <th>model</th>\n",
       "      <th>hardware</th>\n",
       "      <th>device</th>\n",
       "      <th>latency</th>\n",
       "    </tr>\n",
       "  </thead>\n",
       "  <tbody>\n",
       "    <tr>\n",
       "      <th>0</th>\n",
       "      <td>uci</td>\n",
       "      <td>1</td>\n",
       "      <td>RTWCNN</td>\n",
       "      <td>pc</td>\n",
       "      <td>cpu</td>\n",
       "      <td>0.795936</td>\n",
       "    </tr>\n",
       "    <tr>\n",
       "      <th>1</th>\n",
       "      <td>uci</td>\n",
       "      <td>1</td>\n",
       "      <td>HARLSTM</td>\n",
       "      <td>pc</td>\n",
       "      <td>cpu</td>\n",
       "      <td>10.960415</td>\n",
       "    </tr>\n",
       "    <tr>\n",
       "      <th>2</th>\n",
       "      <td>uci</td>\n",
       "      <td>1</td>\n",
       "      <td>HARBiLSTM</td>\n",
       "      <td>pc</td>\n",
       "      <td>cpu</td>\n",
       "      <td>18.966493</td>\n",
       "    </tr>\n",
       "    <tr>\n",
       "      <th>3</th>\n",
       "      <td>uci</td>\n",
       "      <td>1</td>\n",
       "      <td>HARConvLSTM</td>\n",
       "      <td>pc</td>\n",
       "      <td>cpu</td>\n",
       "      <td>8.514841</td>\n",
       "    </tr>\n",
       "    <tr>\n",
       "      <th>4</th>\n",
       "      <td>uci</td>\n",
       "      <td>1</td>\n",
       "      <td>ResNetTSC</td>\n",
       "      <td>pc</td>\n",
       "      <td>cpu</td>\n",
       "      <td>0.984439</td>\n",
       "    </tr>\n",
       "  </tbody>\n",
       "</table>\n",
       "</div>"
      ],
      "text/plain": [
       "  dataset  batch        model hardware device    latency\n",
       "0     uci      1       RTWCNN       pc    cpu   0.795936\n",
       "1     uci      1      HARLSTM       pc    cpu  10.960415\n",
       "2     uci      1    HARBiLSTM       pc    cpu  18.966493\n",
       "3     uci      1  HARConvLSTM       pc    cpu   8.514841\n",
       "4     uci      1    ResNetTSC       pc    cpu   0.984439"
      ]
     },
     "execution_count": 38,
     "metadata": {},
     "output_type": "execute_result"
    }
   ],
   "source": [
    "import pandas as pd\n",
    "columns = ['dataset', 'batch', 'model', 'hardware', 'device', 'latency']\n",
    "df = pd.read_csv('harmodel.csv', header=None, names=columns)\n",
    "df.columns = columns\n",
    "df.head()"
   ]
  },
  {
   "cell_type": "code",
   "execution_count": 39,
   "metadata": {},
   "outputs": [],
   "source": [
    "df.to_csv('harmodel.csv', index=False)"
   ]
  },
  {
   "cell_type": "code",
   "execution_count": 40,
   "metadata": {},
   "outputs": [
    {
     "data": {
      "text/html": [
       "<div>\n",
       "<style scoped>\n",
       "    .dataframe tbody tr th:only-of-type {\n",
       "        vertical-align: middle;\n",
       "    }\n",
       "\n",
       "    .dataframe tbody tr th {\n",
       "        vertical-align: top;\n",
       "    }\n",
       "\n",
       "    .dataframe thead th {\n",
       "        text-align: right;\n",
       "    }\n",
       "</style>\n",
       "<table border=\"1\" class=\"dataframe\">\n",
       "  <thead>\n",
       "    <tr style=\"text-align: right;\">\n",
       "      <th></th>\n",
       "      <th>dataset</th>\n",
       "      <th>batch</th>\n",
       "      <th>model</th>\n",
       "      <th>hardware</th>\n",
       "      <th>device</th>\n",
       "      <th>latency</th>\n",
       "    </tr>\n",
       "  </thead>\n",
       "  <tbody>\n",
       "    <tr>\n",
       "      <th>0</th>\n",
       "      <td>uci</td>\n",
       "      <td>1</td>\n",
       "      <td>RTWCNN</td>\n",
       "      <td>pc</td>\n",
       "      <td>cpu</td>\n",
       "      <td>0.795936</td>\n",
       "    </tr>\n",
       "    <tr>\n",
       "      <th>1</th>\n",
       "      <td>uci</td>\n",
       "      <td>1</td>\n",
       "      <td>HARLSTM</td>\n",
       "      <td>pc</td>\n",
       "      <td>cpu</td>\n",
       "      <td>10.960415</td>\n",
       "    </tr>\n",
       "    <tr>\n",
       "      <th>2</th>\n",
       "      <td>uci</td>\n",
       "      <td>1</td>\n",
       "      <td>HARBiLSTM</td>\n",
       "      <td>pc</td>\n",
       "      <td>cpu</td>\n",
       "      <td>18.966493</td>\n",
       "    </tr>\n",
       "    <tr>\n",
       "      <th>3</th>\n",
       "      <td>uci</td>\n",
       "      <td>1</td>\n",
       "      <td>HARConvLSTM</td>\n",
       "      <td>pc</td>\n",
       "      <td>cpu</td>\n",
       "      <td>8.514841</td>\n",
       "    </tr>\n",
       "    <tr>\n",
       "      <th>4</th>\n",
       "      <td>uci</td>\n",
       "      <td>1</td>\n",
       "      <td>ResNetTSC</td>\n",
       "      <td>pc</td>\n",
       "      <td>cpu</td>\n",
       "      <td>0.984439</td>\n",
       "    </tr>\n",
       "    <tr>\n",
       "      <th>5</th>\n",
       "      <td>uci</td>\n",
       "      <td>1</td>\n",
       "      <td>FCNTSC</td>\n",
       "      <td>pc</td>\n",
       "      <td>cpu</td>\n",
       "      <td>0.891056</td>\n",
       "    </tr>\n",
       "    <tr>\n",
       "      <th>6</th>\n",
       "      <td>uci</td>\n",
       "      <td>1</td>\n",
       "      <td>GTSNet</td>\n",
       "      <td>pc</td>\n",
       "      <td>cpu</td>\n",
       "      <td>3.525273</td>\n",
       "    </tr>\n",
       "  </tbody>\n",
       "</table>\n",
       "</div>"
      ],
      "text/plain": [
       "  dataset  batch        model hardware device    latency\n",
       "0     uci      1       RTWCNN       pc    cpu   0.795936\n",
       "1     uci      1      HARLSTM       pc    cpu  10.960415\n",
       "2     uci      1    HARBiLSTM       pc    cpu  18.966493\n",
       "3     uci      1  HARConvLSTM       pc    cpu   8.514841\n",
       "4     uci      1    ResNetTSC       pc    cpu   0.984439\n",
       "5     uci      1       FCNTSC       pc    cpu   0.891056\n",
       "6     uci      1       GTSNet       pc    cpu   3.525273"
      ]
     },
     "execution_count": 40,
     "metadata": {},
     "output_type": "execute_result"
    }
   ],
   "source": [
    "pd.read_csv('harmodel.csv')"
   ]
  }
 ],
 "metadata": {
  "kernelspec": {
   "display_name": "torch-1.8",
   "language": "python",
   "name": "python3"
  },
  "language_info": {
   "codemirror_mode": {
    "name": "ipython",
    "version": 3
   },
   "file_extension": ".py",
   "mimetype": "text/x-python",
   "name": "python",
   "nbconvert_exporter": "python",
   "pygments_lexer": "ipython3",
   "version": "3.8.17"
  },
  "orig_nbformat": 4
 },
 "nbformat": 4,
 "nbformat_minor": 2
}
