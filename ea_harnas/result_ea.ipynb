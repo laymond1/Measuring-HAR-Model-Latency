{
 "cells": [
  {
   "cell_type": "code",
   "execution_count": 12,
   "metadata": {},
   "outputs": [],
   "source": [
    "import os\n",
    "import sys\n",
    "import glob\n",
    "import numpy as np\n",
    "import pandas as pd\n",
    "import pickle"
   ]
  },
  {
   "attachments": {},
   "cell_type": "markdown",
   "metadata": {},
   "source": [
    "# EA HARNAS Results"
   ]
  },
  {
   "attachments": {},
   "cell_type": "markdown",
   "metadata": {},
   "source": [
    "## UCI"
   ]
  },
  {
   "cell_type": "code",
   "execution_count": 13,
   "metadata": {},
   "outputs": [],
   "source": [
    "uci_result_list = glob.glob('../result_ea/EANAS/uci/test_*/ckpt_best.pkl')"
   ]
  },
  {
   "cell_type": "code",
   "execution_count": 14,
   "metadata": {},
   "outputs": [
    {
     "data": {
      "text/plain": [
       "['../result_ea/EANAS/uci/test_eanas_5/ckpt_best.pkl',\n",
       " '../result_ea/EANAS/uci/test_eanas_4/ckpt_best.pkl',\n",
       " '../result_ea/EANAS/uci/test_eanas_1/ckpt_best.pkl',\n",
       " '../result_ea/EANAS/uci/test_eanas_3/ckpt_best.pkl',\n",
       " '../result_ea/EANAS/uci/test_eanas_2/ckpt_best.pkl']"
      ]
     },
     "execution_count": 14,
     "metadata": {},
     "output_type": "execute_result"
    }
   ],
   "source": [
    "uci_result_list"
   ]
  },
  {
   "cell_type": "code",
   "execution_count": 15,
   "metadata": {},
   "outputs": [],
   "source": [
    "f1scores = []\n",
    "accuracies = []\n",
    "flops = []\n",
    "params = []\n",
    "\n",
    "for path in uci_result_list:\n",
    "    result = pd.read_pickle(path)\n",
    "    f1scores.append(result['f1score'])\n",
    "    accuracies.append(result['accuracy'])\n",
    "    flops.append(result['flops'])\n",
    "    params.append(result['params'])"
   ]
  },
  {
   "cell_type": "code",
   "execution_count": 16,
   "metadata": {},
   "outputs": [
    {
     "data": {
      "text/plain": [
       "48.188672"
      ]
     },
     "execution_count": 16,
     "metadata": {},
     "output_type": "execute_result"
    }
   ],
   "source": [
    "result['flops']"
   ]
  },
  {
   "cell_type": "code",
   "execution_count": 17,
   "metadata": {},
   "outputs": [
    {
     "name": "stdout",
     "output_type": "stream",
     "text": [
      "Average of 5 train/test runs\n",
      "RLNAS \n",
      "F1 score: 0.872 +/- 0.022\n",
      "Accuracy score: 0.872 +/- 0.022\n",
      "n. FLOPs: 48.189\n",
      "n. Params: 0.374\n"
     ]
    }
   ],
   "source": [
    "print('Average of {} train/test runs'.format(len(f1scores)))\n",
    "print('RLNAS ')\n",
    "print('F1 score: {:.3f} +/- {:.3f}'.format(np.mean(f1scores),np.std(f1scores)))\n",
    "print('Accuracy score: {:.3f} +/- {:.3f}'.format(np.mean(accuracies),np.std(accuracies)))\n",
    "print('n. FLOPs: {:.3f}'.format(np.mean(flops)))\n",
    "print('n. Params: {:.3f}'.format(np.mean(params)))"
   ]
  },
  {
   "cell_type": "code",
   "execution_count": 18,
   "metadata": {},
   "outputs": [
    {
     "name": "stdout",
     "output_type": "stream",
     "text": [
      "0th confusion matrix \n",
      "                    precision    recall  f1-score   support\n",
      "\n",
      "           WALKING     0.9721    0.9839    0.9780       496\n",
      "  WALKING_UPSTAIRS     0.9537    0.9193    0.9362       471\n",
      "WALKING_DOWNSTAIRS     0.9233    0.9452    0.9341       420\n",
      "           SITTING     0.8233    0.8065    0.8148       491\n",
      "          STANDING     0.8313    0.8797    0.8548       532\n",
      "            LAYING     0.8897    0.8566    0.8729       537\n",
      "\n",
      "          accuracy                         0.8965      2947\n",
      "         macro avg     0.8989    0.8985    0.8985      2947\n",
      "      weighted avg     0.8970    0.8965    0.8965      2947\n",
      "\n",
      "1th confusion matrix \n",
      "                    precision    recall  f1-score   support\n",
      "\n",
      "           WALKING     0.9386    0.9556    0.9471       496\n",
      "  WALKING_UPSTAIRS     0.9722    0.8917    0.9302       471\n",
      "WALKING_DOWNSTAIRS     0.8953    0.9571    0.9252       420\n",
      "           SITTING     0.7751    0.7230    0.7482       491\n",
      "          STANDING     0.7918    0.8008    0.7963       532\n",
      "            LAYING     0.7894    0.8305    0.8094       537\n",
      "\n",
      "          accuracy                         0.8561      2947\n",
      "         macro avg     0.8604    0.8598    0.8594      2947\n",
      "      weighted avg     0.8569    0.8561    0.8558      2947\n",
      "\n",
      "2th confusion matrix \n",
      "                    precision    recall  f1-score   support\n",
      "\n",
      "           WALKING     0.9823    0.8952    0.9367       496\n",
      "  WALKING_UPSTAIRS     0.9484    0.9363    0.9423       471\n",
      "WALKING_DOWNSTAIRS     0.8806    0.9833    0.9291       420\n",
      "           SITTING     0.6209    0.7271    0.6698       491\n",
      "          STANDING     0.8355    0.8308    0.8332       532\n",
      "            LAYING     0.8053    0.6853    0.7404       537\n",
      "\n",
      "          accuracy                         0.8364      2947\n",
      "         macro avg     0.8455    0.8430    0.8419      2947\n",
      "      weighted avg     0.8434    0.8364    0.8376      2947\n",
      "\n",
      "3th confusion matrix \n",
      "                    precision    recall  f1-score   support\n",
      "\n",
      "           WALKING     0.9959    0.9677    0.9816       496\n",
      "  WALKING_UPSTAIRS     0.9609    0.9384    0.9495       471\n",
      "WALKING_DOWNSTAIRS     0.9212    0.9738    0.9468       420\n",
      "           SITTING     0.8218    0.7515    0.7851       491\n",
      "          STANDING     0.8098    0.8402    0.8247       532\n",
      "            LAYING     0.8214    0.8566    0.8387       537\n",
      "\n",
      "          accuracy                         0.8846      2947\n",
      "         macro avg     0.8885    0.8881    0.8877      2947\n",
      "      weighted avg     0.8852    0.8846    0.8844      2947\n",
      "\n",
      "4th confusion matrix \n",
      "                    precision    recall  f1-score   support\n",
      "\n",
      "           WALKING     0.9522    0.9637    0.9579       496\n",
      "  WALKING_UPSTAIRS     0.9777    0.9299    0.9532       471\n",
      "WALKING_DOWNSTAIRS     0.9312    0.9667    0.9486       420\n",
      "           SITTING     0.7841    0.7841    0.7841       491\n",
      "          STANDING     0.7951    0.8609    0.8267       532\n",
      "            LAYING     0.8947    0.8231    0.8574       537\n",
      "\n",
      "          accuracy                         0.8846      2947\n",
      "         macro avg     0.8892    0.8881    0.8880      2947\n",
      "      weighted avg     0.8864    0.8846    0.8849      2947\n",
      "\n"
     ]
    }
   ],
   "source": [
    "for i, path in enumerate(uci_result_list):\n",
    "    result = pd.read_pickle(path)\n",
    "    conf_mat = result['conf_mat']\n",
    "    print(f'{i}th confusion matrix \\n{conf_mat}')"
   ]
  },
  {
   "attachments": {},
   "cell_type": "markdown",
   "metadata": {},
   "source": [
    "## UNI"
   ]
  },
  {
   "cell_type": "code",
   "execution_count": 19,
   "metadata": {},
   "outputs": [],
   "source": [
    "uni_result_list = glob.glob('../result_ea/EANAS/uni/test_*/ckpt_best.pkl')"
   ]
  },
  {
   "cell_type": "code",
   "execution_count": 20,
   "metadata": {},
   "outputs": [
    {
     "data": {
      "text/plain": [
       "['../result_ea/EANAS/uni/test_eanas_5/ckpt_best.pkl',\n",
       " '../result_ea/EANAS/uni/test_eanas_4/ckpt_best.pkl',\n",
       " '../result_ea/EANAS/uni/test_eanas_1/ckpt_best.pkl',\n",
       " '../result_ea/EANAS/uni/test_eanas_3/ckpt_best.pkl',\n",
       " '../result_ea/EANAS/uni/test_eanas_2/ckpt_best.pkl']"
      ]
     },
     "execution_count": 20,
     "metadata": {},
     "output_type": "execute_result"
    }
   ],
   "source": [
    "uni_result_list"
   ]
  },
  {
   "cell_type": "code",
   "execution_count": 21,
   "metadata": {},
   "outputs": [],
   "source": [
    "f1scores = []\n",
    "accuracies = []\n",
    "flops = []\n",
    "params = []\n",
    "\n",
    "for path in uni_result_list:\n",
    "    result = pd.read_pickle(path)\n",
    "    f1scores.append(result['f1score'])\n",
    "    accuracies.append(result['accuracy'])\n",
    "    flops.append(result['flops'])\n",
    "    params.append(result['params'])"
   ]
  },
  {
   "cell_type": "code",
   "execution_count": 22,
   "metadata": {},
   "outputs": [
    {
     "data": {
      "text/plain": [
       "56.602865"
      ]
     },
     "execution_count": 22,
     "metadata": {},
     "output_type": "execute_result"
    }
   ],
   "source": [
    "result['flops']"
   ]
  },
  {
   "cell_type": "code",
   "execution_count": 23,
   "metadata": {},
   "outputs": [
    {
     "name": "stdout",
     "output_type": "stream",
     "text": [
      "Average of 5 train/test runs\n",
      "RLNAS \n",
      "F1 score: 0.929 +/- 0.007\n",
      "Accuracy score: 0.929 +/- 0.007\n",
      "n. FLOPs: 56.603\n",
      "n. Params: 0.374\n"
     ]
    }
   ],
   "source": [
    "print('Average of {} train/test runs'.format(len(f1scores)))\n",
    "print('RLNAS ')\n",
    "print('F1 score: {:.3f} +/- {:.3f}'.format(np.mean(f1scores),np.std(f1scores)))\n",
    "print('Accuracy score: {:.3f} +/- {:.3f}'.format(np.mean(accuracies),np.std(accuracies)))\n",
    "print('n. FLOPs: {:.3f}'.format(np.mean(flops)))\n",
    "print('n. Params: {:.3f}'.format(np.mean(params)))"
   ]
  },
  {
   "cell_type": "code",
   "execution_count": 24,
   "metadata": {},
   "outputs": [
    {
     "name": "stdout",
     "output_type": "stream",
     "text": [
      "0th confusion matrix \n",
      "                 precision    recall  f1-score   support\n",
      "\n",
      "   StandingUpFS     0.9286    0.8125    0.8667        16\n",
      "   StandingUpFL     0.8095    0.8095    0.8095        21\n",
      "        Walking     0.9885    0.9885    0.9885       174\n",
      "        Running     1.0000    1.0000    1.0000       199\n",
      "       GoingUpS     0.9778    0.9565    0.9670        92\n",
      "        Jumping     0.9867    1.0000    0.9933        74\n",
      "     GoingDownS     0.9852    1.0000    0.9925       133\n",
      "    LyingDownFS     0.7273    0.8276    0.7742        29\n",
      "    SittingDown     0.9412    0.8000    0.8649        20\n",
      "    FallingForw     0.8750    0.9245    0.8991        53\n",
      "   FallingRight     0.9286    0.7647    0.8387        51\n",
      "    FallingBack     0.7925    0.7925    0.7925        53\n",
      "HittingObstacle     0.9403    0.9545    0.9474        66\n",
      "  FallingWithPS     0.8269    0.8958    0.8600        48\n",
      "  FallingBackSC     0.8409    0.8409    0.8409        44\n",
      "        Syncope     0.8462    0.8627    0.8544        51\n",
      "    FallingLeft     0.8889    0.8889    0.8889        54\n",
      "\n",
      "       accuracy                         0.9346      1178\n",
      "      macro avg     0.8991    0.8894    0.8928      1178\n",
      "   weighted avg     0.9358    0.9346    0.9345      1178\n",
      "\n",
      "1th confusion matrix \n",
      "                 precision    recall  f1-score   support\n",
      "\n",
      "   StandingUpFS     0.8333    0.6250    0.7143        16\n",
      "   StandingUpFL     0.6800    0.8095    0.7391        21\n",
      "        Walking     0.9886    0.9943    0.9914       174\n",
      "        Running     1.0000    1.0000    1.0000       199\n",
      "       GoingUpS     0.9888    0.9565    0.9724        92\n",
      "        Jumping     0.9867    1.0000    0.9933        74\n",
      "     GoingDownS     0.9851    0.9925    0.9888       133\n",
      "    LyingDownFS     0.8000    0.6897    0.7407        29\n",
      "    SittingDown     0.7083    0.8500    0.7727        20\n",
      "    FallingForw     0.8571    0.9057    0.8807        53\n",
      "   FallingRight     0.8085    0.7451    0.7755        51\n",
      "    FallingBack     0.8235    0.7925    0.8077        53\n",
      "HittingObstacle     0.9242    0.9242    0.9242        66\n",
      "  FallingWithPS     0.8431    0.8958    0.8687        48\n",
      "  FallingBackSC     0.8810    0.8409    0.8605        44\n",
      "        Syncope     0.6981    0.7255    0.7115        51\n",
      "    FallingLeft     0.8333    0.8333    0.8333        54\n",
      "\n",
      "       accuracy                         0.9177      1178\n",
      "      macro avg     0.8612    0.8577    0.8573      1178\n",
      "   weighted avg     0.9186    0.9177    0.9174      1178\n",
      "\n",
      "2th confusion matrix \n",
      "                 precision    recall  f1-score   support\n",
      "\n",
      "   StandingUpFS     0.9091    0.6250    0.7407        16\n",
      "   StandingUpFL     0.7500    0.7143    0.7317        21\n",
      "        Walking     0.9943    0.9943    0.9943       174\n",
      "        Running     1.0000    1.0000    1.0000       199\n",
      "       GoingUpS     0.9780    0.9674    0.9727        92\n",
      "        Jumping     0.9867    1.0000    0.9933        74\n",
      "     GoingDownS     0.9851    0.9925    0.9888       133\n",
      "    LyingDownFS     0.7500    0.8276    0.7869        29\n",
      "    SittingDown     0.7391    0.8500    0.7907        20\n",
      "    FallingForw     0.8704    0.8868    0.8785        53\n",
      "   FallingRight     0.8511    0.7843    0.8163        51\n",
      "    FallingBack     0.8333    0.8491    0.8411        53\n",
      "HittingObstacle     0.9531    0.9242    0.9385        66\n",
      "  FallingWithPS     0.8462    0.9167    0.8800        48\n",
      "  FallingBackSC     0.8780    0.8182    0.8471        44\n",
      "        Syncope     0.7593    0.8039    0.7810        51\n",
      "    FallingLeft     0.8491    0.8333    0.8411        54\n",
      "\n",
      "       accuracy                         0.9270      1178\n",
      "      macro avg     0.8784    0.8699    0.8719      1178\n",
      "   weighted avg     0.9281    0.9270    0.9268      1178\n",
      "\n",
      "3th confusion matrix \n",
      "                 precision    recall  f1-score   support\n",
      "\n",
      "   StandingUpFS     0.8667    0.8125    0.8387        16\n",
      "   StandingUpFL     0.8421    0.7619    0.8000        21\n",
      "        Walking     0.9828    0.9828    0.9828       174\n",
      "        Running     1.0000    0.9899    0.9949       199\n",
      "       GoingUpS     0.9775    0.9457    0.9613        92\n",
      "        Jumping     0.9610    1.0000    0.9801        74\n",
      "     GoingDownS     0.9635    0.9925    0.9778       133\n",
      "    LyingDownFS     0.7200    0.6207    0.6667        29\n",
      "    SittingDown     0.7083    0.8500    0.7727        20\n",
      "    FallingForw     0.9074    0.9245    0.9159        53\n",
      "   FallingRight     0.8723    0.8039    0.8367        51\n",
      "    FallingBack     0.9245    0.9245    0.9245        53\n",
      "HittingObstacle     0.9429    1.0000    0.9706        66\n",
      "  FallingWithPS     0.9149    0.8958    0.9053        48\n",
      "  FallingBackSC     0.8667    0.8864    0.8764        44\n",
      "        Syncope     0.8776    0.8431    0.8600        51\n",
      "    FallingLeft     0.8571    0.8889    0.8727        54\n",
      "\n",
      "       accuracy                         0.9363      1178\n",
      "      macro avg     0.8933    0.8896    0.8904      1178\n",
      "   weighted avg     0.9361    0.9363    0.9357      1178\n",
      "\n",
      "4th confusion matrix \n",
      "                 precision    recall  f1-score   support\n",
      "\n",
      "   StandingUpFS     0.7333    0.6875    0.7097        16\n",
      "   StandingUpFL     0.7778    0.6667    0.7179        21\n",
      "        Walking     0.9943    0.9943    0.9943       174\n",
      "        Running     1.0000    1.0000    1.0000       199\n",
      "       GoingUpS     0.9889    0.9674    0.9780        92\n",
      "        Jumping     0.9867    1.0000    0.9933        74\n",
      "     GoingDownS     0.9851    0.9925    0.9888       133\n",
      "    LyingDownFS     0.7097    0.7586    0.7333        29\n",
      "    SittingDown     0.7826    0.9000    0.8372        20\n",
      "    FallingForw     0.9200    0.8679    0.8932        53\n",
      "   FallingRight     0.8837    0.7451    0.8085        51\n",
      "    FallingBack     0.8246    0.8868    0.8545        53\n",
      "HittingObstacle     0.9000    0.9545    0.9265        66\n",
      "  FallingWithPS     0.8800    0.9167    0.8980        48\n",
      "  FallingBackSC     0.8537    0.7955    0.8235        44\n",
      "        Syncope     0.8182    0.8824    0.8491        51\n",
      "    FallingLeft     0.8491    0.8333    0.8411        54\n",
      "\n",
      "       accuracy                         0.9295      1178\n",
      "      macro avg     0.8757    0.8735    0.8733      1178\n",
      "   weighted avg     0.9301    0.9295    0.9291      1178\n",
      "\n"
     ]
    }
   ],
   "source": [
    "for i, path in enumerate(uni_result_list):\n",
    "    result = pd.read_pickle(path)\n",
    "    conf_mat = result['conf_mat']\n",
    "    print(f'{i}th confusion matrix \\n{conf_mat}')"
   ]
  },
  {
   "attachments": {},
   "cell_type": "markdown",
   "metadata": {},
   "source": [
    "## KAR"
   ]
  },
  {
   "cell_type": "code",
   "execution_count": 25,
   "metadata": {},
   "outputs": [],
   "source": [
    "kar_result_list = glob.glob('../result_ea/EANAS/kar/test_*/ckpt_best.pkl')"
   ]
  },
  {
   "cell_type": "code",
   "execution_count": 26,
   "metadata": {},
   "outputs": [
    {
     "data": {
      "text/plain": [
       "['../result_ea/EANAS/kar/test_eanas_5/ckpt_best.pkl',\n",
       " '../result_ea/EANAS/kar/test_eanas_4/ckpt_best.pkl',\n",
       " '../result_ea/EANAS/kar/test_eanas_1/ckpt_best.pkl',\n",
       " '../result_ea/EANAS/kar/test_eanas_3/ckpt_best.pkl',\n",
       " '../result_ea/EANAS/kar/test_eanas_2/ckpt_best.pkl']"
      ]
     },
     "execution_count": 26,
     "metadata": {},
     "output_type": "execute_result"
    }
   ],
   "source": [
    "kar_result_list"
   ]
  },
  {
   "cell_type": "code",
   "execution_count": 27,
   "metadata": {},
   "outputs": [],
   "source": [
    "f1scores = []\n",
    "accuracies = []\n",
    "flops = []\n",
    "params = []\n",
    "\n",
    "for path in kar_result_list:\n",
    "    result = pd.read_pickle(path)\n",
    "    f1scores.append(result['f1score'])\n",
    "    accuracies.append(result['accuracy'])\n",
    "    flops.append(result['flops'])\n",
    "    params.append(result['params'])"
   ]
  },
  {
   "cell_type": "code",
   "execution_count": 28,
   "metadata": {},
   "outputs": [
    {
     "data": {
      "text/plain": [
       "112.942704"
      ]
     },
     "execution_count": 28,
     "metadata": {},
     "output_type": "execute_result"
    }
   ],
   "source": [
    "result['flops']"
   ]
  },
  {
   "cell_type": "code",
   "execution_count": 29,
   "metadata": {},
   "outputs": [
    {
     "name": "stdout",
     "output_type": "stream",
     "text": [
      "Average of 5 train/test runs\n",
      "RLNAS \n",
      "F1 score: 0.787 +/- 0.035\n",
      "Accuracy score: 0.793 +/- 0.032\n",
      "n. FLOPs: 112.943\n",
      "n. Params: 0.376\n"
     ]
    }
   ],
   "source": [
    "print('Average of {} train/test runs'.format(len(f1scores)))\n",
    "print('RLNAS ')\n",
    "print('F1 score: {:.3f} +/- {:.3f}'.format(np.mean(f1scores),np.std(f1scores)))\n",
    "print('Accuracy score: {:.3f} +/- {:.3f}'.format(np.mean(accuracies),np.std(accuracies)))\n",
    "print('n. FLOPs: {:.3f}'.format(np.mean(flops)))\n",
    "print('n. Params: {:.3f}'.format(np.mean(params)))"
   ]
  },
  {
   "cell_type": "code",
   "execution_count": 30,
   "metadata": {},
   "outputs": [
    {
     "name": "stdout",
     "output_type": "stream",
     "text": [
      "0th confusion matrix \n",
      "              precision    recall  f1-score   support\n",
      "\n",
      "     walking     0.8854    0.7623    0.8193       770\n",
      "     jogging     0.7109    0.8217    0.7623       757\n",
      "      stairs     0.8350    0.8642    0.8494       685\n",
      "     sitting     0.8920    0.9591    0.9243       758\n",
      "    standing     0.8554    0.9944    0.9197       720\n",
      "      typing     0.8312    0.7721    0.8005       759\n",
      "       teeth     0.9776    0.9823    0.9799       621\n",
      "        soup     0.6976    0.9706    0.8117       442\n",
      "       chips     0.9293    0.4900    0.6417       349\n",
      "       pasta     0.6533    0.6780    0.6654       264\n",
      "    drinking     0.9462    0.6524    0.7723       863\n",
      "    sandwich     1.0000    0.6989    0.8228       186\n",
      "     kicking     1.0000    0.9146    0.9554        82\n",
      "       catch     0.7831    0.7065    0.7429        92\n",
      "   dribbling     0.8821    0.4144    0.5639       596\n",
      "     writing     0.8836    0.9769    0.9279       303\n",
      "    clapping     0.6927    0.9595    0.8045       296\n",
      "     folding     0.3684    0.9899    0.5370       198\n",
      "\n",
      "    accuracy                         0.8094      8741\n",
      "   macro avg     0.8235    0.8115    0.7945      8741\n",
      "weighted avg     0.8414    0.8094    0.8071      8741\n",
      "\n",
      "1th confusion matrix \n",
      "              precision    recall  f1-score   support\n",
      "\n",
      "     walking     0.8354    0.7974    0.8159       770\n",
      "     jogging     0.8107    0.7411    0.7743       757\n",
      "      stairs     0.8678    0.9299    0.8978       685\n",
      "     sitting     0.8781    0.9789    0.9258       758\n",
      "    standing     0.7894    0.9944    0.8801       720\n",
      "      typing     0.7809    0.8169    0.7985       759\n",
      "       teeth     0.9637    0.9823    0.9729       621\n",
      "        soup     0.5392    0.9638    0.6916       442\n",
      "       chips     0.9697    0.4585    0.6226       349\n",
      "       pasta     0.8218    0.6288    0.7124       264\n",
      "    drinking     0.9763    0.4287    0.5958       863\n",
      "    sandwich     0.9658    0.7581    0.8494       186\n",
      "     kicking     0.8444    0.9268    0.8837        82\n",
      "       catch     0.8679    0.5000    0.6345        92\n",
      "   dribbling     0.7746    0.1846    0.2981       596\n",
      "     writing     0.7171    0.9538    0.8187       303\n",
      "    clapping     0.7385    0.9257    0.8216       296\n",
      "     folding     0.2939    0.9798    0.4522       198\n",
      "\n",
      "    accuracy                         0.7725      8741\n",
      "   macro avg     0.8020    0.7750    0.7470      8741\n",
      "weighted avg     0.8234    0.7725    0.7605      8741\n",
      "\n",
      "2th confusion matrix \n",
      "              precision    recall  f1-score   support\n",
      "\n",
      "     walking     0.6202    0.5831    0.6011       770\n",
      "     jogging     0.6129    0.6420    0.6271       757\n",
      "      stairs     0.8683    0.8569    0.8626       685\n",
      "     sitting     0.8874    0.9670    0.9255       758\n",
      "    standing     0.8765    0.9958    0.9324       720\n",
      "      typing     0.8005    0.8037    0.8021       759\n",
      "       teeth     0.9414    0.9839    0.9622       621\n",
      "        soup     0.5374    0.9434    0.6847       442\n",
      "       chips     0.9701    0.4642    0.6279       349\n",
      "       pasta     0.7915    0.6326    0.7032       264\n",
      "    drinking     0.9693    0.5481    0.7002       863\n",
      "    sandwich     0.6667    0.6667    0.6667       186\n",
      "     kicking     0.9747    0.9390    0.9565        82\n",
      "       catch     0.4011    0.7935    0.5328        92\n",
      "   dribbling     0.8800    0.1846    0.3051       596\n",
      "     writing     0.8235    0.9703    0.8909       303\n",
      "    clapping     0.8328    0.9595    0.8917       296\n",
      "     folding     0.3287    0.9646    0.4904       198\n",
      "\n",
      "    accuracy                         0.7511      8741\n",
      "   macro avg     0.7657    0.7722    0.7313      8741\n",
      "weighted avg     0.7986    0.7511    0.7417      8741\n",
      "\n",
      "3th confusion matrix \n",
      "              precision    recall  f1-score   support\n",
      "\n",
      "     walking     0.8274    0.7597    0.7921       770\n",
      "     jogging     0.7457    0.6935    0.7187       757\n",
      "      stairs     0.8424    0.9051    0.8726       685\n",
      "     sitting     0.8965    0.9710    0.9322       758\n",
      "    standing     0.9260    0.9903    0.9570       720\n",
      "      typing     0.7589    0.8169    0.7868       759\n",
      "       teeth     0.9444    0.9855    0.9645       621\n",
      "        soup     0.8382    0.9842    0.9053       442\n",
      "       chips     0.9425    0.4699    0.6272       349\n",
      "       pasta     0.9227    0.6780    0.7817       264\n",
      "    drinking     0.9686    0.8575    0.9096       863\n",
      "    sandwich     0.8598    0.7581    0.8057       186\n",
      "     kicking     0.9759    0.9878    0.9818        82\n",
      "       catch     0.8000    0.4783    0.5986        92\n",
      "   dribbling     0.8306    0.6829    0.7495       596\n",
      "     writing     0.8539    0.9835    0.9141       303\n",
      "    clapping     0.7280    0.9764    0.8341       296\n",
      "     folding     0.5301    0.9343    0.6764       198\n",
      "\n",
      "    accuracy                         0.8436      8741\n",
      "   macro avg     0.8440    0.8285    0.8227      8741\n",
      "weighted avg     0.8528    0.8436    0.8402      8741\n",
      "\n",
      "4th confusion matrix \n",
      "              precision    recall  f1-score   support\n",
      "\n",
      "     walking     0.7824    0.7377    0.7594       770\n",
      "     jogging     0.6686    0.7781    0.7192       757\n",
      "      stairs     0.8720    0.8949    0.8833       685\n",
      "     sitting     0.9172    0.9644    0.9402       758\n",
      "    standing     0.7638    0.9972    0.8651       720\n",
      "      typing     0.8857    0.7760    0.8272       759\n",
      "       teeth     0.9806    0.9742    0.9774       621\n",
      "        soup     0.5958    0.9072    0.7193       442\n",
      "       chips     0.7425    0.4957    0.5945       349\n",
      "       pasta     0.6853    0.6515    0.6680       264\n",
      "    drinking     0.9730    0.5006    0.6611       863\n",
      "    sandwich     1.0000    0.8118    0.8961       186\n",
      "     kicking     0.9875    0.9634    0.9753        82\n",
      "       catch     0.8116    0.6087    0.6957        92\n",
      "   dribbling     0.9306    0.4497    0.6063       596\n",
      "     writing     0.8033    0.9571    0.8735       303\n",
      "    clapping     0.6443    0.9730    0.7752       296\n",
      "     folding     0.4578    0.9596    0.6199       198\n",
      "\n",
      "    accuracy                         0.7909      8741\n",
      "   macro avg     0.8057    0.8000    0.7809      8741\n",
      "weighted avg     0.8233    0.7909    0.7855      8741\n",
      "\n"
     ]
    }
   ],
   "source": [
    "for i, path in enumerate(kar_result_list):\n",
    "    result = pd.read_pickle(path)\n",
    "    conf_mat = result['conf_mat']\n",
    "    print(f'{i}th confusion matrix \\n{conf_mat}')"
   ]
  },
  {
   "attachments": {},
   "cell_type": "markdown",
   "metadata": {},
   "source": [
    "## WIS"
   ]
  },
  {
   "cell_type": "code",
   "execution_count": 31,
   "metadata": {},
   "outputs": [],
   "source": [
    "wis_result_list = glob.glob('../result_ea/EANAS/wis/test_*/ckpt_best.pkl')"
   ]
  },
  {
   "cell_type": "code",
   "execution_count": 32,
   "metadata": {},
   "outputs": [
    {
     "data": {
      "text/plain": [
       "['../result_ea/EANAS/wis/test_eanas_5/ckpt_best.pkl',\n",
       " '../result_ea/EANAS/wis/test_eanas_4/ckpt_best.pkl',\n",
       " '../result_ea/EANAS/wis/test_eanas_1/ckpt_best.pkl',\n",
       " '../result_ea/EANAS/wis/test_eanas_3/ckpt_best.pkl',\n",
       " '../result_ea/EANAS/wis/test_eanas_2/ckpt_best.pkl']"
      ]
     },
     "execution_count": 32,
     "metadata": {},
     "output_type": "execute_result"
    }
   ],
   "source": [
    "wis_result_list"
   ]
  },
  {
   "cell_type": "code",
   "execution_count": 33,
   "metadata": {},
   "outputs": [],
   "source": [
    "f1scores = []\n",
    "accuracies = []\n",
    "flops = []\n",
    "params = []\n",
    "\n",
    "for path in wis_result_list:\n",
    "    result = pd.read_pickle(path)\n",
    "    f1scores.append(result['f1score'])\n",
    "    accuracies.append(result['accuracy'])\n",
    "    flops.append(result['flops'])\n",
    "    params.append(result['params'])"
   ]
  },
  {
   "cell_type": "code",
   "execution_count": 34,
   "metadata": {},
   "outputs": [
    {
     "data": {
      "text/plain": [
       "22.491108"
      ]
     },
     "execution_count": 34,
     "metadata": {},
     "output_type": "execute_result"
    }
   ],
   "source": [
    "result['flops']"
   ]
  },
  {
   "cell_type": "code",
   "execution_count": 35,
   "metadata": {},
   "outputs": [
    {
     "name": "stdout",
     "output_type": "stream",
     "text": [
      "Average of 5 train/test runs\n",
      "RLNAS \n",
      "F1 score: 0.873 +/- 0.003\n",
      "Accuracy score: 0.870 +/- 0.002\n",
      "n. FLOPs: 22.491\n",
      "n. Params: 0.373\n"
     ]
    }
   ],
   "source": [
    "print('Average of {} train/test runs'.format(len(f1scores)))\n",
    "print('RLNAS ')\n",
    "print('F1 score: {:.3f} +/- {:.3f}'.format(np.mean(f1scores),np.std(f1scores)))\n",
    "print('Accuracy score: {:.3f} +/- {:.3f}'.format(np.mean(accuracies),np.std(accuracies)))\n",
    "print('n. FLOPs: {:.3f}'.format(np.mean(flops)))\n",
    "print('n. Params: {:.3f}'.format(np.mean(params)))"
   ]
  },
  {
   "cell_type": "code",
   "execution_count": 36,
   "metadata": {},
   "outputs": [
    {
     "name": "stdout",
     "output_type": "stream",
     "text": [
      "0th confusion matrix \n",
      "                    precision    recall  f1-score   support\n",
      "\n",
      "           WALKING     0.9267    0.9556    0.9409      3918\n",
      "  WALKING_UPSTAIRS     0.8987    0.8832    0.8909      5918\n",
      "WALKING_DOWNSTAIRS     0.6622    0.6992    0.6802      1679\n",
      "           SITTING     0.7968    0.7663    0.7813      1545\n",
      "          STANDING     0.9794    0.8165    0.8906       932\n",
      "            LAYING     0.8669    0.9693    0.9153       847\n",
      "\n",
      "          accuracy                         0.8701     14839\n",
      "         macro avg     0.8551    0.8484    0.8499     14839\n",
      "      weighted avg     0.8720    0.8701    0.8702     14839\n",
      "\n",
      "1th confusion matrix \n",
      "                    precision    recall  f1-score   support\n",
      "\n",
      "           WALKING     0.9476    0.9421    0.9448      3918\n",
      "  WALKING_UPSTAIRS     0.9252    0.8841    0.9042      5918\n",
      "WALKING_DOWNSTAIRS     0.5831    0.7546    0.6578      1679\n",
      "           SITTING     0.7932    0.7049    0.7464      1545\n",
      "          STANDING     0.9935    0.8165    0.8963       932\n",
      "            LAYING     0.8618    0.9941    0.9232       847\n",
      "\n",
      "          accuracy                         0.8681     14839\n",
      "         macro avg     0.8507    0.8494    0.8455     14839\n",
      "      weighted avg     0.8793    0.8681    0.8712     14839\n",
      "\n",
      "2th confusion matrix \n",
      "                    precision    recall  f1-score   support\n",
      "\n",
      "           WALKING     0.9583    0.9495    0.9538      3918\n",
      "  WALKING_UPSTAIRS     0.9378    0.8761    0.9059      5918\n",
      "WALKING_DOWNSTAIRS     0.5947    0.6885    0.6381      1679\n",
      "           SITTING     0.7470    0.8369    0.7894      1545\n",
      "          STANDING     0.9832    0.8165    0.8921       932\n",
      "            LAYING     0.8437    0.9752    0.9047       847\n",
      "\n",
      "          accuracy                         0.8721     14839\n",
      "         macro avg     0.8441    0.8571    0.8474     14839\n",
      "      weighted avg     0.8820    0.8721    0.8752     14839\n",
      "\n",
      "3th confusion matrix \n",
      "                    precision    recall  f1-score   support\n",
      "\n",
      "           WALKING     0.9633    0.9513    0.9572      3918\n",
      "  WALKING_UPSTAIRS     0.9405    0.8548    0.8956      5918\n",
      "WALKING_DOWNSTAIRS     0.5578    0.7993    0.6570      1679\n",
      "           SITTING     0.8331    0.7851    0.8084      1545\n",
      "          STANDING     0.9807    0.8165    0.8911       932\n",
      "            LAYING     0.8772    0.9870    0.9289       847\n",
      "\n",
      "          accuracy                         0.8719     14839\n",
      "         macro avg     0.8588    0.8657    0.8564     14839\n",
      "      weighted avg     0.8909    0.8719    0.8774     14839\n",
      "\n",
      "4th confusion matrix \n",
      "                    precision    recall  f1-score   support\n",
      "\n",
      "           WALKING     0.9545    0.9413    0.9478      3918\n",
      "  WALKING_UPSTAIRS     0.9305    0.8665    0.8974      5918\n",
      "WALKING_DOWNSTAIRS     0.5747    0.7558    0.6529      1679\n",
      "           SITTING     0.7818    0.7909    0.7864      1545\n",
      "          STANDING     0.9731    0.8165    0.8880       932\n",
      "            LAYING     0.8628    0.9280    0.8942       847\n",
      "\n",
      "          accuracy                         0.8662     14839\n",
      "         macro avg     0.8462    0.8498    0.8444     14839\n",
      "      weighted avg     0.8799    0.8662    0.8707     14839\n",
      "\n"
     ]
    }
   ],
   "source": [
    "for i, path in enumerate(wis_result_list):\n",
    "    result = pd.read_pickle(path)\n",
    "    conf_mat = result['conf_mat']\n",
    "    print(f'{i}th confusion matrix \\n{conf_mat}')"
   ]
  },
  {
   "attachments": {},
   "cell_type": "markdown",
   "metadata": {},
   "source": [
    "## OPP"
   ]
  },
  {
   "cell_type": "code",
   "execution_count": 37,
   "metadata": {},
   "outputs": [],
   "source": [
    "opp_result_list = glob.glob('../result_ea/EANAS/opp/test_*/ckpt_best.pkl')"
   ]
  },
  {
   "cell_type": "code",
   "execution_count": 38,
   "metadata": {},
   "outputs": [
    {
     "data": {
      "text/plain": [
       "['../result_ea/EANAS/opp/test_eanas_5/ckpt_best.pkl',\n",
       " '../result_ea/EANAS/opp/test_eanas_4/ckpt_best.pkl',\n",
       " '../result_ea/EANAS/opp/test_eanas_1/ckpt_best.pkl',\n",
       " '../result_ea/EANAS/opp/test_eanas_3/ckpt_best.pkl',\n",
       " '../result_ea/EANAS/opp/test_eanas_2/ckpt_best.pkl']"
      ]
     },
     "execution_count": 38,
     "metadata": {},
     "output_type": "execute_result"
    }
   ],
   "source": [
    "opp_result_list"
   ]
  },
  {
   "cell_type": "code",
   "execution_count": 39,
   "metadata": {},
   "outputs": [],
   "source": [
    "f1scores = []\n",
    "accuracies = []\n",
    "flops = []\n",
    "params = []\n",
    "\n",
    "for path in opp_result_list:\n",
    "    result = pd.read_pickle(path)\n",
    "    f1scores.append(result['f1score'])\n",
    "    accuracies.append(result['accuracy'])\n",
    "    flops.append(result['flops'])\n",
    "    params.append(result['params'])"
   ]
  },
  {
   "cell_type": "code",
   "execution_count": 40,
   "metadata": {},
   "outputs": [
    {
     "data": {
      "text/plain": [
       "12.040048"
      ]
     },
     "execution_count": 40,
     "metadata": {},
     "output_type": "execute_result"
    }
   ],
   "source": [
    "result['flops']"
   ]
  },
  {
   "cell_type": "code",
   "execution_count": 41,
   "metadata": {},
   "outputs": [
    {
     "name": "stdout",
     "output_type": "stream",
     "text": [
      "Average of 5 train/test runs\n",
      "RLNAS \n",
      "F1 score: 0.900 +/- 0.002\n",
      "Accuracy score: 0.901 +/- 0.002\n",
      "n. FLOPs: 12.040\n",
      "n. Params: 0.751\n"
     ]
    }
   ],
   "source": [
    "print('Average of {} train/test runs'.format(len(f1scores)))\n",
    "print('RLNAS ')\n",
    "print('F1 score: {:.3f} +/- {:.3f}'.format(np.mean(f1scores),np.std(f1scores)))\n",
    "print('Accuracy score: {:.3f} +/- {:.3f}'.format(np.mean(accuracies),np.std(accuracies)))\n",
    "print('n. FLOPs: {:.3f}'.format(np.mean(flops)))\n",
    "print('n. Params: {:.3f}'.format(np.mean(params)))"
   ]
  },
  {
   "cell_type": "code",
   "execution_count": 42,
   "metadata": {},
   "outputs": [
    {
     "name": "stdout",
     "output_type": "stream",
     "text": [
      "0th confusion matrix \n",
      "                  precision    recall  f1-score   support\n",
      "\n",
      "            Null     0.9438    0.9555    0.9496     12371\n",
      "     Open Door 1     0.6593    0.7143    0.6857        84\n",
      "     Open Door 2     0.9084    0.8322    0.8686       143\n",
      "    Close Door 1     0.7363    0.7528    0.7444        89\n",
      "    Close Door 2     0.8195    0.8790    0.8482       124\n",
      "     Open Fridge     0.7774    0.6059    0.6810       340\n",
      "    Close Fridge     0.7721    0.7124    0.7411       233\n",
      " Open Dishwasher     0.5896    0.5486    0.5683       144\n",
      "Close Dishwasher     0.3704    0.5085    0.4286       118\n",
      "   Open Drawer 1     0.3438    0.3860    0.3636        57\n",
      "  Close Drawer 1     0.4366    0.4697    0.4526        66\n",
      "   Open Drawer 2     0.3778    0.2833    0.3238        60\n",
      "  Close Drawer 2     0.4103    0.4000    0.4051        40\n",
      "   Open Drawer 3     0.6354    0.6224    0.6289        98\n",
      "  Close Drawer 3     0.6212    0.4607    0.5290        89\n",
      "     Clean Table     0.7000    0.4228    0.5272       149\n",
      "  Drink from Cup     0.5922    0.6421    0.6162       475\n",
      "   Toggle Switch     0.7736    0.5190    0.6212       158\n",
      "\n",
      "        accuracy                         0.8980     14838\n",
      "       macro avg     0.6371    0.5953    0.6102     14838\n",
      "    weighted avg     0.8973    0.8980    0.8965     14838\n",
      "\n",
      "1th confusion matrix \n",
      "                  precision    recall  f1-score   support\n",
      "\n",
      "            Null     0.9523    0.9555    0.9539     12371\n",
      "     Open Door 1     0.6129    0.6786    0.6441        84\n",
      "     Open Door 2     0.8462    0.7692    0.8059       143\n",
      "    Close Door 1     0.6667    0.6742    0.6704        89\n",
      "    Close Door 2     0.8197    0.8065    0.8130       124\n",
      "     Open Fridge     0.7433    0.6559    0.6969       340\n",
      "    Close Fridge     0.6709    0.6824    0.6766       233\n",
      " Open Dishwasher     0.5090    0.5903    0.5466       144\n",
      "Close Dishwasher     0.4371    0.5593    0.4907       118\n",
      "   Open Drawer 1     0.3913    0.4737    0.4286        57\n",
      "  Close Drawer 1     0.5098    0.3939    0.4444        66\n",
      "   Open Drawer 2     0.3582    0.4000    0.3780        60\n",
      "  Close Drawer 2     0.3651    0.5750    0.4466        40\n",
      "   Open Drawer 3     0.6709    0.5408    0.5989        98\n",
      "  Close Drawer 3     0.5185    0.4719    0.4941        89\n",
      "     Clean Table     0.7667    0.4631    0.5774       149\n",
      "  Drink from Cup     0.6450    0.6695    0.6570       475\n",
      "   Toggle Switch     0.7606    0.6835    0.7200       158\n",
      "\n",
      "        accuracy                         0.9011     14838\n",
      "       macro avg     0.6247    0.6135    0.6135     14838\n",
      "    weighted avg     0.9026    0.9011    0.9011     14838\n",
      "\n",
      "2th confusion matrix \n",
      "                  precision    recall  f1-score   support\n",
      "\n",
      "            Null     0.9498    0.9610    0.9554     12371\n",
      "     Open Door 1     0.6923    0.7500    0.7200        84\n",
      "     Open Door 2     0.8968    0.7902    0.8401       143\n",
      "    Close Door 1     0.7500    0.7753    0.7624        89\n",
      "    Close Door 2     0.7450    0.8952    0.8132       124\n",
      "     Open Fridge     0.7632    0.5971    0.6700       340\n",
      "    Close Fridge     0.6705    0.7511    0.7085       233\n",
      " Open Dishwasher     0.5269    0.6111    0.5659       144\n",
      "Close Dishwasher     0.4276    0.5508    0.4815       118\n",
      "   Open Drawer 1     0.4915    0.5088    0.5000        57\n",
      "  Close Drawer 1     0.4844    0.4697    0.4769        66\n",
      "   Open Drawer 2     0.3878    0.3167    0.3486        60\n",
      "  Close Drawer 2     0.2000    0.2750    0.2316        40\n",
      "   Open Drawer 3     0.6905    0.5918    0.6374        98\n",
      "  Close Drawer 3     0.5692    0.4157    0.4805        89\n",
      "     Clean Table     0.8041    0.5235    0.6341       149\n",
      "  Drink from Cup     0.6970    0.5958    0.6425       475\n",
      "   Toggle Switch     0.8188    0.7152    0.7635       158\n",
      "\n",
      "        accuracy                         0.9054     14838\n",
      "       macro avg     0.6425    0.6163    0.6240     14838\n",
      "    weighted avg     0.9050    0.9054    0.9041     14838\n",
      "\n",
      "3th confusion matrix \n",
      "                  precision    recall  f1-score   support\n",
      "\n",
      "            Null     0.9474    0.9585    0.9529     12371\n",
      "     Open Door 1     0.6552    0.6786    0.6667        84\n",
      "     Open Door 2     0.8112    0.8112    0.8112       143\n",
      "    Close Door 1     0.6289    0.6854    0.6559        89\n",
      "    Close Door 2     0.8254    0.8387    0.8320       124\n",
      "     Open Fridge     0.7778    0.5971    0.6755       340\n",
      "    Close Fridge     0.6933    0.7082    0.7006       233\n",
      " Open Dishwasher     0.5605    0.6111    0.5847       144\n",
      "Close Dishwasher     0.4214    0.5000    0.4574       118\n",
      "   Open Drawer 1     0.4118    0.3684    0.3889        57\n",
      "  Close Drawer 1     0.4000    0.3939    0.3969        66\n",
      "   Open Drawer 2     0.4528    0.4000    0.4248        60\n",
      "  Close Drawer 2     0.4151    0.5500    0.4731        40\n",
      "   Open Drawer 3     0.6392    0.6327    0.6359        98\n",
      "  Close Drawer 3     0.5758    0.4270    0.4903        89\n",
      "     Clean Table     0.8250    0.4430    0.5764       149\n",
      "  Drink from Cup     0.6349    0.6442    0.6395       475\n",
      "   Toggle Switch     0.8160    0.6456    0.7208       158\n",
      "\n",
      "        accuracy                         0.9016     14838\n",
      "       macro avg     0.6384    0.6052    0.6158     14838\n",
      "    weighted avg     0.9008    0.9016    0.9001     14838\n",
      "\n",
      "4th confusion matrix \n",
      "                  precision    recall  f1-score   support\n",
      "\n",
      "            Null     0.9453    0.9589    0.9521     12371\n",
      "     Open Door 1     0.6703    0.7262    0.6971        84\n",
      "     Open Door 2     0.9127    0.8042    0.8550       143\n",
      "    Close Door 1     0.6939    0.7640    0.7273        89\n",
      "    Close Door 2     0.8500    0.8226    0.8361       124\n",
      "     Open Fridge     0.7789    0.6529    0.7104       340\n",
      "    Close Fridge     0.7826    0.6953    0.7364       233\n",
      " Open Dishwasher     0.5361    0.6181    0.5742       144\n",
      "Close Dishwasher     0.3548    0.4661    0.4029       118\n",
      "   Open Drawer 1     0.3833    0.4035    0.3932        57\n",
      "  Close Drawer 1     0.4107    0.3485    0.3770        66\n",
      "   Open Drawer 2     0.3778    0.2833    0.3238        60\n",
      "  Close Drawer 2     0.3478    0.4000    0.3721        40\n",
      "   Open Drawer 3     0.5981    0.6531    0.6244        98\n",
      "  Close Drawer 3     0.4881    0.4607    0.4740        89\n",
      "     Clean Table     0.8553    0.4362    0.5778       149\n",
      "  Drink from Cup     0.6459    0.6105    0.6277       475\n",
      "   Toggle Switch     0.8136    0.6076    0.6957       158\n",
      "\n",
      "        accuracy                         0.9012     14838\n",
      "       macro avg     0.6359    0.5951    0.6087     14838\n",
      "    weighted avg     0.9008    0.9012    0.8997     14838\n",
      "\n"
     ]
    }
   ],
   "source": [
    "for i, path in enumerate(opp_result_list):\n",
    "    result = pd.read_pickle(path)\n",
    "    conf_mat = result['conf_mat']\n",
    "    print(f'{i}th confusion matrix \\n{conf_mat}')"
   ]
  },
  {
   "attachments": {},
   "cell_type": "markdown",
   "metadata": {},
   "source": [
    "# BestF1"
   ]
  },
  {
   "attachments": {},
   "cell_type": "markdown",
   "metadata": {},
   "source": [
    "## UCI"
   ]
  },
  {
   "cell_type": "code",
   "execution_count": 43,
   "metadata": {},
   "outputs": [],
   "source": [
    "uci_result_list = glob.glob('../result_ea/bestf1/uci/test_*/ckpt_best.pkl')"
   ]
  },
  {
   "cell_type": "code",
   "execution_count": 44,
   "metadata": {},
   "outputs": [
    {
     "data": {
      "text/plain": [
       "['../result_ea/bestf1/uci/test_eanas_5/ckpt_best.pkl',\n",
       " '../result_ea/bestf1/uci/test_eanas_4/ckpt_best.pkl',\n",
       " '../result_ea/bestf1/uci/test_eanas_1/ckpt_best.pkl',\n",
       " '../result_ea/bestf1/uci/test_eanas_3/ckpt_best.pkl',\n",
       " '../result_ea/bestf1/uci/test_eanas_2/ckpt_best.pkl']"
      ]
     },
     "execution_count": 44,
     "metadata": {},
     "output_type": "execute_result"
    }
   ],
   "source": [
    "uci_result_list"
   ]
  },
  {
   "cell_type": "code",
   "execution_count": 45,
   "metadata": {},
   "outputs": [],
   "source": [
    "f1scores = []\n",
    "accuracies = []\n",
    "flops = []\n",
    "params = []\n",
    "\n",
    "for path in uci_result_list:\n",
    "    result = pd.read_pickle(path)\n",
    "    f1scores.append(result['f1score'])\n",
    "    accuracies.append(result['accuracy'])\n",
    "    flops.append(result['flops'])\n",
    "    params.append(result['params'])"
   ]
  },
  {
   "cell_type": "code",
   "execution_count": 46,
   "metadata": {},
   "outputs": [
    {
     "data": {
      "text/plain": [
       "30.469376"
      ]
     },
     "execution_count": 46,
     "metadata": {},
     "output_type": "execute_result"
    }
   ],
   "source": [
    "result['flops']"
   ]
  },
  {
   "cell_type": "code",
   "execution_count": 47,
   "metadata": {},
   "outputs": [
    {
     "name": "stdout",
     "output_type": "stream",
     "text": [
      "Average of 5 train/test runs\n",
      "RLNAS \n",
      "F1 score: 0.902 +/- 0.006\n",
      "Accuracy score: 0.901 +/- 0.006\n",
      "n. FLOPs: 30.469\n",
      "n. Params: 0.236\n"
     ]
    }
   ],
   "source": [
    "print('Average of {} train/test runs'.format(len(f1scores)))\n",
    "print('RLNAS ')\n",
    "print('F1 score: {:.3f} +/- {:.3f}'.format(np.mean(f1scores),np.std(f1scores)))\n",
    "print('Accuracy score: {:.3f} +/- {:.3f}'.format(np.mean(accuracies),np.std(accuracies)))\n",
    "print('n. FLOPs: {:.3f}'.format(np.mean(flops)))\n",
    "print('n. Params: {:.3f}'.format(np.mean(params)))"
   ]
  },
  {
   "cell_type": "code",
   "execution_count": 48,
   "metadata": {},
   "outputs": [
    {
     "name": "stdout",
     "output_type": "stream",
     "text": [
      "0th confusion matrix \n",
      "                    precision    recall  f1-score   support\n",
      "\n",
      "           WALKING     0.9805    0.9133    0.9457       496\n",
      "  WALKING_UPSTAIRS     0.9731    0.9214    0.9466       471\n",
      "WALKING_DOWNSTAIRS     0.8458    0.9667    0.9022       420\n",
      "           SITTING     0.8718    0.8452    0.8583       491\n",
      "          STANDING     0.8717    0.8816    0.8766       532\n",
      "            LAYING     0.8917    0.9050    0.8983       537\n",
      "\n",
      "          accuracy                         0.9036      2947\n",
      "         macro avg     0.9058    0.9055    0.9046      2947\n",
      "      weighted avg     0.9062    0.9036    0.9040      2947\n",
      "\n",
      "1th confusion matrix \n",
      "                    precision    recall  f1-score   support\n",
      "\n",
      "           WALKING     0.9724    0.9234    0.9473       496\n",
      "  WALKING_UPSTAIRS     0.9681    0.9660    0.9671       471\n",
      "WALKING_DOWNSTAIRS     0.8978    0.9619    0.9287       420\n",
      "           SITTING     0.8517    0.8656    0.8586       491\n",
      "          STANDING     0.8701    0.8816    0.8758       532\n",
      "            LAYING     0.9093    0.8771    0.8929       537\n",
      "\n",
      "          accuracy                         0.9101      2947\n",
      "         macro avg     0.9116    0.9126    0.9117      2947\n",
      "      weighted avg     0.9110    0.9101    0.9102      2947\n",
      "\n",
      "2th confusion matrix \n",
      "                    precision    recall  f1-score   support\n",
      "\n",
      "           WALKING     0.9089    0.9456    0.9269       496\n",
      "  WALKING_UPSTAIRS     0.9724    0.8960    0.9326       471\n",
      "WALKING_DOWNSTAIRS     0.9339    0.9762    0.9546       420\n",
      "           SITTING     0.8463    0.8635    0.8548       491\n",
      "          STANDING     0.8566    0.9098    0.8824       532\n",
      "            LAYING     0.9228    0.8454    0.8824       537\n",
      "\n",
      "          accuracy                         0.9036      2947\n",
      "         macro avg     0.9068    0.9061    0.9056      2947\n",
      "      weighted avg     0.9053    0.9036    0.9036      2947\n",
      "\n",
      "3th confusion matrix \n",
      "                    precision    recall  f1-score   support\n",
      "\n",
      "           WALKING     0.9675    0.9617    0.9646       496\n",
      "  WALKING_UPSTAIRS     0.8958    0.9490    0.9216       471\n",
      "WALKING_DOWNSTAIRS     0.9241    0.8690    0.8957       420\n",
      "           SITTING     0.8307    0.8595    0.8448       491\n",
      "          STANDING     0.8674    0.8853    0.8763       532\n",
      "            LAYING     0.8998    0.8529    0.8757       537\n",
      "\n",
      "          accuracy                         0.8958      2947\n",
      "         macro avg     0.8976    0.8962    0.8965      2947\n",
      "      weighted avg     0.8967    0.8958    0.8958      2947\n",
      "\n",
      "4th confusion matrix \n",
      "                    precision    recall  f1-score   support\n",
      "\n",
      "           WALKING     0.9602    0.9234    0.9414       496\n",
      "  WALKING_UPSTAIRS     0.9115    0.9406    0.9258       471\n",
      "WALKING_DOWNSTAIRS     0.8850    0.8976    0.8913       420\n",
      "           SITTING     0.8857    0.8045    0.8431       491\n",
      "          STANDING     0.8354    0.9060    0.8693       532\n",
      "            LAYING     0.8972    0.8939    0.8955       537\n",
      "\n",
      "          accuracy                         0.8941      2947\n",
      "         macro avg     0.8958    0.8943    0.8944      2947\n",
      "      weighted avg     0.8953    0.8941    0.8940      2947\n",
      "\n"
     ]
    }
   ],
   "source": [
    "for i, path in enumerate(uci_result_list):\n",
    "    result = pd.read_pickle(path)\n",
    "    conf_mat = result['conf_mat']\n",
    "    print(f'{i}th confusion matrix \\n{conf_mat}')"
   ]
  },
  {
   "attachments": {},
   "cell_type": "markdown",
   "metadata": {},
   "source": [
    "## UNI"
   ]
  },
  {
   "cell_type": "code",
   "execution_count": 49,
   "metadata": {},
   "outputs": [],
   "source": [
    "uni_result_list = glob.glob('../result_ea/bestf1/uni/test_*/ckpt_best.pkl')"
   ]
  },
  {
   "cell_type": "code",
   "execution_count": 50,
   "metadata": {},
   "outputs": [
    {
     "data": {
      "text/plain": [
       "['../result_ea/bestf1/uni/test_eanas_5/ckpt_best.pkl',\n",
       " '../result_ea/bestf1/uni/test_eanas_4/ckpt_best.pkl',\n",
       " '../result_ea/bestf1/uni/test_eanas_1/ckpt_best.pkl',\n",
       " '../result_ea/bestf1/uni/test_eanas_3/ckpt_best.pkl',\n",
       " '../result_ea/bestf1/uni/test_eanas_2/ckpt_best.pkl']"
      ]
     },
     "execution_count": 50,
     "metadata": {},
     "output_type": "execute_result"
    }
   ],
   "source": [
    "uni_result_list"
   ]
  },
  {
   "cell_type": "code",
   "execution_count": 51,
   "metadata": {},
   "outputs": [],
   "source": [
    "f1scores = []\n",
    "accuracies = []\n",
    "flops = []\n",
    "params = []\n",
    "\n",
    "for path in uni_result_list:\n",
    "    result = pd.read_pickle(path)\n",
    "    f1scores.append(result['f1score'])\n",
    "    accuracies.append(result['accuracy'])\n",
    "    flops.append(result['flops'])\n",
    "    params.append(result['params'])"
   ]
  },
  {
   "cell_type": "code",
   "execution_count": 52,
   "metadata": {},
   "outputs": [
    {
     "data": {
      "text/plain": [
       "45.013313"
      ]
     },
     "execution_count": 52,
     "metadata": {},
     "output_type": "execute_result"
    }
   ],
   "source": [
    "result['flops']"
   ]
  },
  {
   "cell_type": "code",
   "execution_count": 53,
   "metadata": {},
   "outputs": [
    {
     "name": "stdout",
     "output_type": "stream",
     "text": [
      "Average of 5 train/test runs\n",
      "RLNAS \n",
      "F1 score: 0.980 +/- 0.002\n",
      "Accuracy score: 0.980 +/- 0.002\n",
      "n. FLOPs: 45.013\n",
      "n. Params: 0.297\n"
     ]
    }
   ],
   "source": [
    "print('Average of {} train/test runs'.format(len(f1scores)))\n",
    "print('RLNAS ')\n",
    "print('F1 score: {:.3f} +/- {:.3f}'.format(np.mean(f1scores),np.std(f1scores)))\n",
    "print('Accuracy score: {:.3f} +/- {:.3f}'.format(np.mean(accuracies),np.std(accuracies)))\n",
    "print('n. FLOPs: {:.3f}'.format(np.mean(flops)))\n",
    "print('n. Params: {:.3f}'.format(np.mean(params)))"
   ]
  },
  {
   "cell_type": "code",
   "execution_count": 54,
   "metadata": {},
   "outputs": [
    {
     "name": "stdout",
     "output_type": "stream",
     "text": [
      "0th confusion matrix \n",
      "                 precision    recall  f1-score   support\n",
      "\n",
      "   StandingUpFS     0.9375    0.9375    0.9375        16\n",
      "   StandingUpFL     0.9500    0.9048    0.9268        21\n",
      "        Walking     0.9943    1.0000    0.9971       174\n",
      "        Running     1.0000    1.0000    1.0000       199\n",
      "       GoingUpS     1.0000    0.9891    0.9945        92\n",
      "        Jumping     1.0000    1.0000    1.0000        74\n",
      "     GoingDownS     1.0000    1.0000    1.0000       133\n",
      "    LyingDownFS     0.9310    0.9310    0.9310        29\n",
      "    SittingDown     0.9000    0.9000    0.9000        20\n",
      "    FallingForw     0.9444    0.9623    0.9533        53\n",
      "   FallingRight     0.9600    0.9412    0.9505        51\n",
      "    FallingBack     0.9808    0.9623    0.9714        53\n",
      "HittingObstacle     0.9848    0.9848    0.9848        66\n",
      "  FallingWithPS     0.9792    0.9792    0.9792        48\n",
      "  FallingBackSC     0.9333    0.9545    0.9438        44\n",
      "        Syncope     0.9388    0.9020    0.9200        51\n",
      "    FallingLeft     0.9298    0.9815    0.9550        54\n",
      "\n",
      "       accuracy                         0.9788      1178\n",
      "      macro avg     0.9626    0.9606    0.9615      1178\n",
      "   weighted avg     0.9789    0.9788    0.9787      1178\n",
      "\n",
      "1th confusion matrix \n",
      "                 precision    recall  f1-score   support\n",
      "\n",
      "   StandingUpFS     1.0000    0.9375    0.9677        16\n",
      "   StandingUpFL     1.0000    0.9048    0.9500        21\n",
      "        Walking     0.9943    1.0000    0.9971       174\n",
      "        Running     1.0000    1.0000    1.0000       199\n",
      "       GoingUpS     1.0000    0.9891    0.9945        92\n",
      "        Jumping     1.0000    1.0000    1.0000        74\n",
      "     GoingDownS     1.0000    1.0000    1.0000       133\n",
      "    LyingDownFS     0.9333    0.9655    0.9492        29\n",
      "    SittingDown     0.9500    0.9500    0.9500        20\n",
      "    FallingForw     0.9444    0.9623    0.9533        53\n",
      "   FallingRight     0.9800    0.9608    0.9703        51\n",
      "    FallingBack     1.0000    0.9623    0.9808        53\n",
      "HittingObstacle     0.9848    0.9848    0.9848        66\n",
      "  FallingWithPS     0.9592    0.9792    0.9691        48\n",
      "  FallingBackSC     0.9348    0.9773    0.9556        44\n",
      "        Syncope     0.9400    0.9216    0.9307        51\n",
      "    FallingLeft     0.9464    0.9815    0.9636        54\n",
      "\n",
      "       accuracy                         0.9830      1178\n",
      "      macro avg     0.9745    0.9692    0.9716      1178\n",
      "   weighted avg     0.9833    0.9830    0.9830      1178\n",
      "\n",
      "2th confusion matrix \n",
      "                 precision    recall  f1-score   support\n",
      "\n",
      "   StandingUpFS     1.0000    1.0000    1.0000        16\n",
      "   StandingUpFL     1.0000    0.9524    0.9756        21\n",
      "        Walking     0.9943    1.0000    0.9971       174\n",
      "        Running     1.0000    1.0000    1.0000       199\n",
      "       GoingUpS     1.0000    0.9783    0.9890        92\n",
      "        Jumping     1.0000    1.0000    1.0000        74\n",
      "     GoingDownS     0.9925    1.0000    0.9963       133\n",
      "    LyingDownFS     1.0000    0.9655    0.9825        29\n",
      "    SittingDown     0.9524    1.0000    0.9756        20\n",
      "    FallingForw     0.9615    0.9434    0.9524        53\n",
      "   FallingRight     0.9038    0.9216    0.9126        51\n",
      "    FallingBack     0.9623    0.9623    0.9623        53\n",
      "HittingObstacle     0.9706    1.0000    0.9851        66\n",
      "  FallingWithPS     0.9792    0.9792    0.9792        48\n",
      "  FallingBackSC     0.9767    0.9545    0.9655        44\n",
      "        Syncope     0.9388    0.9020    0.9200        51\n",
      "    FallingLeft     0.9107    0.9444    0.9273        54\n",
      "\n",
      "       accuracy                         0.9796      1178\n",
      "      macro avg     0.9731    0.9708    0.9718      1178\n",
      "   weighted avg     0.9798    0.9796    0.9796      1178\n",
      "\n",
      "3th confusion matrix \n",
      "                 precision    recall  f1-score   support\n",
      "\n",
      "   StandingUpFS     1.0000    1.0000    1.0000        16\n",
      "   StandingUpFL     0.9500    0.9048    0.9268        21\n",
      "        Walking     0.9943    1.0000    0.9971       174\n",
      "        Running     1.0000    1.0000    1.0000       199\n",
      "       GoingUpS     1.0000    0.9891    0.9945        92\n",
      "        Jumping     1.0000    1.0000    1.0000        74\n",
      "     GoingDownS     1.0000    1.0000    1.0000       133\n",
      "    LyingDownFS     0.9310    0.9310    0.9310        29\n",
      "    SittingDown     0.9000    0.9000    0.9000        20\n",
      "    FallingForw     0.9623    0.9623    0.9623        53\n",
      "   FallingRight     0.9792    0.9216    0.9495        51\n",
      "    FallingBack     1.0000    0.9623    0.9808        53\n",
      "HittingObstacle     1.0000    1.0000    1.0000        66\n",
      "  FallingWithPS     0.9400    0.9792    0.9592        48\n",
      "  FallingBackSC     0.8542    0.9318    0.8913        44\n",
      "        Syncope     0.9231    0.9412    0.9320        51\n",
      "    FallingLeft     0.9811    0.9630    0.9720        54\n",
      "\n",
      "       accuracy                         0.9796      1178\n",
      "      macro avg     0.9656    0.9639    0.9645      1178\n",
      "   weighted avg     0.9802    0.9796    0.9797      1178\n",
      "\n",
      "4th confusion matrix \n",
      "                 precision    recall  f1-score   support\n",
      "\n",
      "   StandingUpFS     0.9412    1.0000    0.9697        16\n",
      "   StandingUpFL     0.9500    0.9048    0.9268        21\n",
      "        Walking     0.9943    1.0000    0.9971       174\n",
      "        Running     1.0000    1.0000    1.0000       199\n",
      "       GoingUpS     1.0000    0.9891    0.9945        92\n",
      "        Jumping     1.0000    1.0000    1.0000        74\n",
      "     GoingDownS     1.0000    1.0000    1.0000       133\n",
      "    LyingDownFS     0.9630    0.8966    0.9286        29\n",
      "    SittingDown     0.9048    0.9500    0.9268        20\n",
      "    FallingForw     0.9444    0.9623    0.9533        53\n",
      "   FallingRight     0.9800    0.9608    0.9703        51\n",
      "    FallingBack     0.9273    0.9623    0.9444        53\n",
      "HittingObstacle     0.9851    1.0000    0.9925        66\n",
      "  FallingWithPS     0.9792    0.9792    0.9792        48\n",
      "  FallingBackSC     0.9773    0.9773    0.9773        44\n",
      "        Syncope     0.9583    0.9020    0.9293        51\n",
      "    FallingLeft     0.9455    0.9630    0.9541        54\n",
      "\n",
      "       accuracy                         0.9813      1178\n",
      "      macro avg     0.9677    0.9675    0.9673      1178\n",
      "   weighted avg     0.9815    0.9813    0.9813      1178\n",
      "\n"
     ]
    }
   ],
   "source": [
    "for i, path in enumerate(uni_result_list):\n",
    "    result = pd.read_pickle(path)\n",
    "    conf_mat = result['conf_mat']\n",
    "    print(f'{i}th confusion matrix \\n{conf_mat}')"
   ]
  },
  {
   "attachments": {},
   "cell_type": "markdown",
   "metadata": {},
   "source": [
    "## KAR"
   ]
  },
  {
   "cell_type": "code",
   "execution_count": 55,
   "metadata": {},
   "outputs": [],
   "source": [
    "kar_result_list = glob.glob('../result_ea/bestf1/kar/test_*/ckpt_best.pkl')"
   ]
  },
  {
   "cell_type": "code",
   "execution_count": 56,
   "metadata": {},
   "outputs": [
    {
     "data": {
      "text/plain": [
       "['../result_ea/bestf1/kar/test_eanas_5/ckpt_best.pkl',\n",
       " '../result_ea/bestf1/kar/test_eanas_4/ckpt_best.pkl',\n",
       " '../result_ea/bestf1/kar/test_eanas_1/ckpt_best.pkl',\n",
       " '../result_ea/bestf1/kar/test_eanas_3/ckpt_best.pkl',\n",
       " '../result_ea/bestf1/kar/test_eanas_2/ckpt_best.pkl']"
      ]
     },
     "execution_count": 56,
     "metadata": {},
     "output_type": "execute_result"
    }
   ],
   "source": [
    "kar_result_list"
   ]
  },
  {
   "cell_type": "code",
   "execution_count": 57,
   "metadata": {},
   "outputs": [],
   "source": [
    "f1scores = []\n",
    "accuracies = []\n",
    "flops = []\n",
    "params = []\n",
    "\n",
    "for path in kar_result_list:\n",
    "    result = pd.read_pickle(path)\n",
    "    f1scores.append(result['f1score'])\n",
    "    accuracies.append(result['accuracy'])\n",
    "    flops.append(result['flops'])\n",
    "    params.append(result['params'])"
   ]
  },
  {
   "cell_type": "code",
   "execution_count": 58,
   "metadata": {},
   "outputs": [
    {
     "data": {
      "text/plain": [
       "75.886704"
      ]
     },
     "execution_count": 58,
     "metadata": {},
     "output_type": "execute_result"
    }
   ],
   "source": [
    "result['flops']"
   ]
  },
  {
   "cell_type": "code",
   "execution_count": 59,
   "metadata": {},
   "outputs": [
    {
     "name": "stdout",
     "output_type": "stream",
     "text": [
      "Average of 5 train/test runs\n",
      "RLNAS \n",
      "F1 score: 0.813 +/- 0.008\n",
      "Accuracy score: 0.816 +/- 0.008\n",
      "n. FLOPs: 75.887\n",
      "n. Params: 0.253\n"
     ]
    }
   ],
   "source": [
    "print('Average of {} train/test runs'.format(len(f1scores)))\n",
    "print('RLNAS ')\n",
    "print('F1 score: {:.3f} +/- {:.3f}'.format(np.mean(f1scores),np.std(f1scores)))\n",
    "print('Accuracy score: {:.3f} +/- {:.3f}'.format(np.mean(accuracies),np.std(accuracies)))\n",
    "print('n. FLOPs: {:.3f}'.format(np.mean(flops)))\n",
    "print('n. Params: {:.3f}'.format(np.mean(params)))"
   ]
  },
  {
   "cell_type": "code",
   "execution_count": 60,
   "metadata": {},
   "outputs": [
    {
     "name": "stdout",
     "output_type": "stream",
     "text": [
      "0th confusion matrix \n",
      "              precision    recall  f1-score   support\n",
      "\n",
      "     walking     0.7851    0.7922    0.7886       770\n",
      "     jogging     0.8483    0.7979    0.8223       757\n",
      "      stairs     0.9038    0.8774    0.8904       685\n",
      "     sitting     0.8977    0.9723    0.9335       758\n",
      "    standing     0.8164    0.9944    0.8967       720\n",
      "      typing     0.8503    0.8906    0.8700       759\n",
      "       teeth     0.9621    0.9807    0.9713       621\n",
      "        soup     0.8539    0.9389    0.8944       442\n",
      "       chips     0.8973    0.4756    0.6217       349\n",
      "       pasta     0.7655    0.6553    0.7061       264\n",
      "    drinking     0.9177    0.7625    0.8329       863\n",
      "    sandwich     0.9919    0.6613    0.7935       186\n",
      "     kicking     0.9630    0.9512    0.9571        82\n",
      "       catch     0.9836    0.6522    0.7843        92\n",
      "   dribbling     0.6902    0.2953    0.4136       596\n",
      "     writing     0.8500    0.9538    0.8989       303\n",
      "    clapping     0.7370    0.9561    0.8324       296\n",
      "     folding     0.3256    0.9899    0.4900       198\n",
      "\n",
      "    accuracy                         0.8203      8741\n",
      "   macro avg     0.8355    0.8110    0.7999      8741\n",
      "weighted avg     0.8428    0.8203    0.8162      8741\n",
      "\n",
      "1th confusion matrix \n",
      "              precision    recall  f1-score   support\n",
      "\n",
      "     walking     0.7504    0.5623    0.6429       770\n",
      "     jogging     0.6198    0.7107    0.6622       757\n",
      "      stairs     0.8487    0.8599    0.8542       685\n",
      "     sitting     0.8827    0.9828    0.9301       758\n",
      "    standing     0.8784    0.9931    0.9322       720\n",
      "      typing     0.6861    0.8063    0.7414       759\n",
      "       teeth     0.9668    0.9839    0.9753       621\n",
      "        soup     0.7714    0.9163    0.8376       442\n",
      "       chips     0.9249    0.4585    0.6130       349\n",
      "       pasta     0.7143    0.6629    0.6876       264\n",
      "    drinking     0.9808    0.8297    0.8989       863\n",
      "    sandwich     0.9914    0.6183    0.7616       186\n",
      "     kicking     0.9467    0.8659    0.9045        82\n",
      "       catch     0.9048    0.6196    0.7355        92\n",
      "   dribbling     0.8225    0.5520    0.6606       596\n",
      "     writing     0.8333    0.9571    0.8909       303\n",
      "    clapping     0.5516    0.9392    0.6950       296\n",
      "     folding     0.7386    0.8990    0.8109       198\n",
      "\n",
      "    accuracy                         0.8028      8741\n",
      "   macro avg     0.8230    0.7898    0.7908      8741\n",
      "weighted avg     0.8177    0.8028    0.7986      8741\n",
      "\n",
      "2th confusion matrix \n",
      "              precision    recall  f1-score   support\n",
      "\n",
      "     walking     0.8796    0.8156    0.8464       770\n",
      "     jogging     0.7697    0.8653    0.8147       757\n",
      "      stairs     0.9120    0.8628    0.8867       685\n",
      "     sitting     0.8960    0.9776    0.9350       758\n",
      "    standing     0.8899    0.9764    0.9311       720\n",
      "      typing     0.8294    0.7813    0.8046       759\n",
      "       teeth     0.9698    0.9823    0.9760       621\n",
      "        soup     0.7263    0.9548    0.8250       442\n",
      "       chips     0.9471    0.4613    0.6204       349\n",
      "       pasta     0.5844    0.6818    0.6294       264\n",
      "    drinking     0.9545    0.6570    0.7783       863\n",
      "    sandwich     0.9932    0.7796    0.8735       186\n",
      "     kicking     0.9383    0.9268    0.9325        82\n",
      "       catch     0.9310    0.5870    0.7200        92\n",
      "   dribbling     0.7258    0.3020    0.4265       596\n",
      "     writing     0.7690    0.9670    0.8567       303\n",
      "    clapping     0.9723    0.9493    0.9607       296\n",
      "     folding     0.2743    0.9848    0.4290       198\n",
      "\n",
      "    accuracy                         0.8094      8741\n",
      "   macro avg     0.8313    0.8063    0.7915      8741\n",
      "weighted avg     0.8490    0.8094    0.8099      8741\n",
      "\n",
      "3th confusion matrix \n",
      "              precision    recall  f1-score   support\n",
      "\n",
      "     walking     0.8824    0.8286    0.8547       770\n",
      "     jogging     0.8445    0.7820    0.8121       757\n",
      "      stairs     0.8849    0.9314    0.9075       685\n",
      "     sitting     0.9017    0.9802    0.9393       758\n",
      "    standing     0.7995    0.9861    0.8831       720\n",
      "      typing     0.8360    0.8801    0.8575       759\n",
      "       teeth     0.9639    0.9903    0.9770       621\n",
      "        soup     0.7162    0.9819    0.8282       442\n",
      "       chips     0.8677    0.4699    0.6097       349\n",
      "       pasta     0.6111    0.6250    0.6180       264\n",
      "    drinking     0.9558    0.5759    0.7187       863\n",
      "    sandwich     0.9926    0.7258    0.8385       186\n",
      "     kicking     0.9070    0.9512    0.9286        82\n",
      "       catch     0.9841    0.6739    0.8000        92\n",
      "   dribbling     0.8984    0.4597    0.6082       596\n",
      "     writing     0.8783    0.9769    0.9250       303\n",
      "    clapping     0.6236    0.9628    0.7570       296\n",
      "     folding     0.4100    0.9899    0.5799       198\n",
      "\n",
      "    accuracy                         0.8226      8741\n",
      "   macro avg     0.8310    0.8207    0.8024      8741\n",
      "weighted avg     0.8511    0.8226    0.8179      8741\n",
      "\n",
      "4th confusion matrix \n",
      "              precision    recall  f1-score   support\n",
      "\n",
      "     walking     0.7154    0.8000    0.7554       770\n",
      "     jogging     0.8026    0.7358    0.7677       757\n",
      "      stairs     0.9131    0.8745    0.8934       685\n",
      "     sitting     0.8703    0.9736    0.9191       758\n",
      "    standing     0.8357    0.9958    0.9087       720\n",
      "      typing     0.8619    0.8551    0.8585       759\n",
      "       teeth     0.9501    0.9807    0.9651       621\n",
      "        soup     0.8231    0.9683    0.8898       442\n",
      "       chips     0.9767    0.4814    0.6449       349\n",
      "       pasta     0.8163    0.6061    0.6957       264\n",
      "    drinking     0.9668    0.7764    0.8612       863\n",
      "    sandwich     0.9922    0.6828    0.8089       186\n",
      "     kicking     0.8404    0.9634    0.8977        82\n",
      "       catch     0.8750    0.4565    0.6000        92\n",
      "   dribbling     0.8931    0.4346    0.5847       596\n",
      "     writing     0.8743    0.9637    0.9168       303\n",
      "    clapping     0.6942    0.9662    0.8079       296\n",
      "     folding     0.3573    0.9798    0.5236       198\n",
      "\n",
      "    accuracy                         0.8226      8741\n",
      "   macro avg     0.8366    0.8053    0.7944      8741\n",
      "weighted avg     0.8525    0.8226    0.8203      8741\n",
      "\n"
     ]
    }
   ],
   "source": [
    "for i, path in enumerate(kar_result_list):\n",
    "    result = pd.read_pickle(path)\n",
    "    conf_mat = result['conf_mat']\n",
    "    print(f'{i}th confusion matrix \\n{conf_mat}')"
   ]
  },
  {
   "attachments": {},
   "cell_type": "markdown",
   "metadata": {},
   "source": [
    "## WIS"
   ]
  },
  {
   "cell_type": "code",
   "execution_count": 61,
   "metadata": {},
   "outputs": [],
   "source": [
    "wis_result_list = glob.glob('../result_ea/EANAS/wis/test_*/ckpt_best.pkl')"
   ]
  },
  {
   "cell_type": "code",
   "execution_count": 62,
   "metadata": {},
   "outputs": [
    {
     "data": {
      "text/plain": [
       "['../result_ea/EANAS/wis/test_eanas_5/ckpt_best.pkl',\n",
       " '../result_ea/EANAS/wis/test_eanas_4/ckpt_best.pkl',\n",
       " '../result_ea/EANAS/wis/test_eanas_1/ckpt_best.pkl',\n",
       " '../result_ea/EANAS/wis/test_eanas_3/ckpt_best.pkl',\n",
       " '../result_ea/EANAS/wis/test_eanas_2/ckpt_best.pkl']"
      ]
     },
     "execution_count": 62,
     "metadata": {},
     "output_type": "execute_result"
    }
   ],
   "source": [
    "wis_result_list"
   ]
  },
  {
   "cell_type": "code",
   "execution_count": 63,
   "metadata": {},
   "outputs": [],
   "source": [
    "f1scores = []\n",
    "accuracies = []\n",
    "flops = []\n",
    "params = []\n",
    "\n",
    "for path in wis_result_list:\n",
    "    result = pd.read_pickle(path)\n",
    "    f1scores.append(result['f1score'])\n",
    "    accuracies.append(result['accuracy'])\n",
    "    flops.append(result['flops'])\n",
    "    params.append(result['params'])"
   ]
  },
  {
   "cell_type": "code",
   "execution_count": 64,
   "metadata": {},
   "outputs": [
    {
     "data": {
      "text/plain": [
       "22.491108"
      ]
     },
     "execution_count": 64,
     "metadata": {},
     "output_type": "execute_result"
    }
   ],
   "source": [
    "result['flops']"
   ]
  },
  {
   "cell_type": "code",
   "execution_count": 65,
   "metadata": {},
   "outputs": [
    {
     "name": "stdout",
     "output_type": "stream",
     "text": [
      "Average of 5 train/test runs\n",
      "RLNAS \n",
      "F1 score: 0.873 +/- 0.003\n",
      "Accuracy score: 0.870 +/- 0.002\n",
      "n. FLOPs: 22.491\n",
      "n. Params: 0.373\n"
     ]
    }
   ],
   "source": [
    "print('Average of {} train/test runs'.format(len(f1scores)))\n",
    "print('RLNAS ')\n",
    "print('F1 score: {:.3f} +/- {:.3f}'.format(np.mean(f1scores),np.std(f1scores)))\n",
    "print('Accuracy score: {:.3f} +/- {:.3f}'.format(np.mean(accuracies),np.std(accuracies)))\n",
    "print('n. FLOPs: {:.3f}'.format(np.mean(flops)))\n",
    "print('n. Params: {:.3f}'.format(np.mean(params)))"
   ]
  },
  {
   "cell_type": "code",
   "execution_count": 66,
   "metadata": {},
   "outputs": [
    {
     "name": "stdout",
     "output_type": "stream",
     "text": [
      "0th confusion matrix \n",
      "                    precision    recall  f1-score   support\n",
      "\n",
      "           WALKING     0.9267    0.9556    0.9409      3918\n",
      "  WALKING_UPSTAIRS     0.8987    0.8832    0.8909      5918\n",
      "WALKING_DOWNSTAIRS     0.6622    0.6992    0.6802      1679\n",
      "           SITTING     0.7968    0.7663    0.7813      1545\n",
      "          STANDING     0.9794    0.8165    0.8906       932\n",
      "            LAYING     0.8669    0.9693    0.9153       847\n",
      "\n",
      "          accuracy                         0.8701     14839\n",
      "         macro avg     0.8551    0.8484    0.8499     14839\n",
      "      weighted avg     0.8720    0.8701    0.8702     14839\n",
      "\n",
      "1th confusion matrix \n",
      "                    precision    recall  f1-score   support\n",
      "\n",
      "           WALKING     0.9476    0.9421    0.9448      3918\n",
      "  WALKING_UPSTAIRS     0.9252    0.8841    0.9042      5918\n",
      "WALKING_DOWNSTAIRS     0.5831    0.7546    0.6578      1679\n",
      "           SITTING     0.7932    0.7049    0.7464      1545\n",
      "          STANDING     0.9935    0.8165    0.8963       932\n",
      "            LAYING     0.8618    0.9941    0.9232       847\n",
      "\n",
      "          accuracy                         0.8681     14839\n",
      "         macro avg     0.8507    0.8494    0.8455     14839\n",
      "      weighted avg     0.8793    0.8681    0.8712     14839\n",
      "\n",
      "2th confusion matrix \n",
      "                    precision    recall  f1-score   support\n",
      "\n",
      "           WALKING     0.9583    0.9495    0.9538      3918\n",
      "  WALKING_UPSTAIRS     0.9378    0.8761    0.9059      5918\n",
      "WALKING_DOWNSTAIRS     0.5947    0.6885    0.6381      1679\n",
      "           SITTING     0.7470    0.8369    0.7894      1545\n",
      "          STANDING     0.9832    0.8165    0.8921       932\n",
      "            LAYING     0.8437    0.9752    0.9047       847\n",
      "\n",
      "          accuracy                         0.8721     14839\n",
      "         macro avg     0.8441    0.8571    0.8474     14839\n",
      "      weighted avg     0.8820    0.8721    0.8752     14839\n",
      "\n",
      "3th confusion matrix \n",
      "                    precision    recall  f1-score   support\n",
      "\n",
      "           WALKING     0.9633    0.9513    0.9572      3918\n",
      "  WALKING_UPSTAIRS     0.9405    0.8548    0.8956      5918\n",
      "WALKING_DOWNSTAIRS     0.5578    0.7993    0.6570      1679\n",
      "           SITTING     0.8331    0.7851    0.8084      1545\n",
      "          STANDING     0.9807    0.8165    0.8911       932\n",
      "            LAYING     0.8772    0.9870    0.9289       847\n",
      "\n",
      "          accuracy                         0.8719     14839\n",
      "         macro avg     0.8588    0.8657    0.8564     14839\n",
      "      weighted avg     0.8909    0.8719    0.8774     14839\n",
      "\n",
      "4th confusion matrix \n",
      "                    precision    recall  f1-score   support\n",
      "\n",
      "           WALKING     0.9545    0.9413    0.9478      3918\n",
      "  WALKING_UPSTAIRS     0.9305    0.8665    0.8974      5918\n",
      "WALKING_DOWNSTAIRS     0.5747    0.7558    0.6529      1679\n",
      "           SITTING     0.7818    0.7909    0.7864      1545\n",
      "          STANDING     0.9731    0.8165    0.8880       932\n",
      "            LAYING     0.8628    0.9280    0.8942       847\n",
      "\n",
      "          accuracy                         0.8662     14839\n",
      "         macro avg     0.8462    0.8498    0.8444     14839\n",
      "      weighted avg     0.8799    0.8662    0.8707     14839\n",
      "\n"
     ]
    }
   ],
   "source": [
    "for i, path in enumerate(wis_result_list):\n",
    "    result = pd.read_pickle(path)\n",
    "    conf_mat = result['conf_mat']\n",
    "    print(f'{i}th confusion matrix \\n{conf_mat}')"
   ]
  },
  {
   "attachments": {},
   "cell_type": "markdown",
   "metadata": {},
   "source": [
    "## OPP"
   ]
  },
  {
   "cell_type": "code",
   "execution_count": 67,
   "metadata": {},
   "outputs": [],
   "source": [
    "opp_result_list = glob.glob('../result_ea/bestf1/opp/test_*/ckpt_best.pkl')"
   ]
  },
  {
   "cell_type": "code",
   "execution_count": 68,
   "metadata": {},
   "outputs": [
    {
     "data": {
      "text/plain": [
       "['../result_ea/bestf1/opp/test_eanas_5/ckpt_best.pkl',\n",
       " '../result_ea/bestf1/opp/test_eanas_4/ckpt_best.pkl',\n",
       " '../result_ea/bestf1/opp/test_eanas_1/ckpt_best.pkl',\n",
       " '../result_ea/bestf1/opp/test_eanas_3/ckpt_best.pkl',\n",
       " '../result_ea/bestf1/opp/test_eanas_2/ckpt_best.pkl']"
      ]
     },
     "execution_count": 68,
     "metadata": {},
     "output_type": "execute_result"
    }
   ],
   "source": [
    "opp_result_list"
   ]
  },
  {
   "cell_type": "code",
   "execution_count": 69,
   "metadata": {},
   "outputs": [],
   "source": [
    "f1scores = []\n",
    "accuracies = []\n",
    "flops = []\n",
    "params = []\n",
    "\n",
    "for path in opp_result_list:\n",
    "    result = pd.read_pickle(path)\n",
    "    f1scores.append(result['f1score'])\n",
    "    accuracies.append(result['accuracy'])\n",
    "    flops.append(result['flops'])\n",
    "    params.append(result['params'])"
   ]
  },
  {
   "cell_type": "code",
   "execution_count": 70,
   "metadata": {},
   "outputs": [
    {
     "data": {
      "text/plain": [
       "9.902192"
      ]
     },
     "execution_count": 70,
     "metadata": {},
     "output_type": "execute_result"
    }
   ],
   "source": [
    "result['flops']"
   ]
  },
  {
   "cell_type": "code",
   "execution_count": 71,
   "metadata": {},
   "outputs": [
    {
     "name": "stdout",
     "output_type": "stream",
     "text": [
      "Average of 5 train/test runs\n",
      "RLNAS \n",
      "F1 score: 0.894 +/- 0.000\n",
      "Accuracy score: 0.895 +/- 0.001\n",
      "n. FLOPs: 9.902\n",
      "n. Params: 0.618\n"
     ]
    }
   ],
   "source": [
    "print('Average of {} train/test runs'.format(len(f1scores)))\n",
    "print('RLNAS ')\n",
    "print('F1 score: {:.3f} +/- {:.3f}'.format(np.mean(f1scores),np.std(f1scores)))\n",
    "print('Accuracy score: {:.3f} +/- {:.3f}'.format(np.mean(accuracies),np.std(accuracies)))\n",
    "print('n. FLOPs: {:.3f}'.format(np.mean(flops)))\n",
    "print('n. Params: {:.3f}'.format(np.mean(params)))"
   ]
  },
  {
   "cell_type": "code",
   "execution_count": 72,
   "metadata": {},
   "outputs": [
    {
     "name": "stdout",
     "output_type": "stream",
     "text": [
      "0th confusion matrix \n",
      "                  precision    recall  f1-score   support\n",
      "\n",
      "            Null     0.9469    0.9514    0.9492     12371\n",
      "     Open Door 1     0.6200    0.7381    0.6739        84\n",
      "     Open Door 2     0.8252    0.8252    0.8252       143\n",
      "    Close Door 1     0.7467    0.6292    0.6829        89\n",
      "    Close Door 2     0.8596    0.7903    0.8235       124\n",
      "     Open Fridge     0.6935    0.6588    0.6757       340\n",
      "    Close Fridge     0.7260    0.6824    0.7035       233\n",
      " Open Dishwasher     0.6145    0.7083    0.6581       144\n",
      "Close Dishwasher     0.3841    0.4915    0.4312       118\n",
      "   Open Drawer 1     0.3226    0.5263    0.4000        57\n",
      "  Close Drawer 1     0.4583    0.5000    0.4783        66\n",
      "   Open Drawer 2     0.4286    0.3000    0.3529        60\n",
      "  Close Drawer 2     0.4035    0.5750    0.4742        40\n",
      "   Open Drawer 3     0.5421    0.5918    0.5659        98\n",
      "  Close Drawer 3     0.6250    0.4494    0.5229        89\n",
      "     Clean Table     0.8750    0.3289    0.4780       149\n",
      "  Drink from Cup     0.5814    0.6463    0.6122       475\n",
      "   Toggle Switch     0.7143    0.4430    0.5469       158\n",
      "\n",
      "        accuracy                         0.8947     14838\n",
      "       macro avg     0.6315    0.6020    0.6030     14838\n",
      "    weighted avg     0.8973    0.8947    0.8939     14838\n",
      "\n",
      "1th confusion matrix \n",
      "                  precision    recall  f1-score   support\n",
      "\n",
      "            Null     0.9423    0.9581    0.9501     12371\n",
      "     Open Door 1     0.6105    0.6905    0.6480        84\n",
      "     Open Door 2     0.8247    0.8881    0.8552       143\n",
      "    Close Door 1     0.7412    0.7079    0.7241        89\n",
      "    Close Door 2     0.8716    0.7661    0.8155       124\n",
      "     Open Fridge     0.7210    0.5853    0.6461       340\n",
      "    Close Fridge     0.6983    0.7253    0.7116       233\n",
      " Open Dishwasher     0.6014    0.6181    0.6096       144\n",
      "Close Dishwasher     0.4307    0.5000    0.4627       118\n",
      "   Open Drawer 1     0.3529    0.4211    0.3840        57\n",
      "  Close Drawer 1     0.4918    0.4545    0.4724        66\n",
      "   Open Drawer 2     0.3409    0.2500    0.2885        60\n",
      "  Close Drawer 2     0.4054    0.3750    0.3896        40\n",
      "   Open Drawer 3     0.6071    0.5204    0.5604        98\n",
      "  Close Drawer 3     0.5844    0.5056    0.5422        89\n",
      "     Clean Table     0.8235    0.3758    0.5161       149\n",
      "  Drink from Cup     0.6040    0.5684    0.5857       475\n",
      "   Toggle Switch     0.6614    0.5316    0.5895       158\n",
      "\n",
      "        accuracy                         0.8965     14838\n",
      "       macro avg     0.6285    0.5801    0.5973     14838\n",
      "    weighted avg     0.8937    0.8965    0.8938     14838\n",
      "\n",
      "2th confusion matrix \n",
      "                  precision    recall  f1-score   support\n",
      "\n",
      "            Null     0.9469    0.9514    0.9492     12371\n",
      "     Open Door 1     0.6200    0.7381    0.6739        84\n",
      "     Open Door 2     0.8252    0.8252    0.8252       143\n",
      "    Close Door 1     0.7467    0.6292    0.6829        89\n",
      "    Close Door 2     0.8596    0.7903    0.8235       124\n",
      "     Open Fridge     0.6935    0.6588    0.6757       340\n",
      "    Close Fridge     0.7260    0.6824    0.7035       233\n",
      " Open Dishwasher     0.6145    0.7083    0.6581       144\n",
      "Close Dishwasher     0.3841    0.4915    0.4312       118\n",
      "   Open Drawer 1     0.3226    0.5263    0.4000        57\n",
      "  Close Drawer 1     0.4583    0.5000    0.4783        66\n",
      "   Open Drawer 2     0.4286    0.3000    0.3529        60\n",
      "  Close Drawer 2     0.4035    0.5750    0.4742        40\n",
      "   Open Drawer 3     0.5421    0.5918    0.5659        98\n",
      "  Close Drawer 3     0.6250    0.4494    0.5229        89\n",
      "     Clean Table     0.8750    0.3289    0.4780       149\n",
      "  Drink from Cup     0.5814    0.6463    0.6122       475\n",
      "   Toggle Switch     0.7143    0.4430    0.5469       158\n",
      "\n",
      "        accuracy                         0.8947     14838\n",
      "       macro avg     0.6315    0.6020    0.6030     14838\n",
      "    weighted avg     0.8973    0.8947    0.8939     14838\n",
      "\n",
      "3th confusion matrix \n",
      "                  precision    recall  f1-score   support\n",
      "\n",
      "            Null     0.9423    0.9581    0.9501     12371\n",
      "     Open Door 1     0.6105    0.6905    0.6480        84\n",
      "     Open Door 2     0.8247    0.8881    0.8552       143\n",
      "    Close Door 1     0.7412    0.7079    0.7241        89\n",
      "    Close Door 2     0.8716    0.7661    0.8155       124\n",
      "     Open Fridge     0.7210    0.5853    0.6461       340\n",
      "    Close Fridge     0.6983    0.7253    0.7116       233\n",
      " Open Dishwasher     0.6014    0.6181    0.6096       144\n",
      "Close Dishwasher     0.4307    0.5000    0.4627       118\n",
      "   Open Drawer 1     0.3529    0.4211    0.3840        57\n",
      "  Close Drawer 1     0.4918    0.4545    0.4724        66\n",
      "   Open Drawer 2     0.3409    0.2500    0.2885        60\n",
      "  Close Drawer 2     0.4054    0.3750    0.3896        40\n",
      "   Open Drawer 3     0.6071    0.5204    0.5604        98\n",
      "  Close Drawer 3     0.5844    0.5056    0.5422        89\n",
      "     Clean Table     0.8235    0.3758    0.5161       149\n",
      "  Drink from Cup     0.6040    0.5684    0.5857       475\n",
      "   Toggle Switch     0.6614    0.5316    0.5895       158\n",
      "\n",
      "        accuracy                         0.8965     14838\n",
      "       macro avg     0.6285    0.5801    0.5973     14838\n",
      "    weighted avg     0.8937    0.8965    0.8938     14838\n",
      "\n",
      "4th confusion matrix \n",
      "                  precision    recall  f1-score   support\n",
      "\n",
      "            Null     0.9469    0.9514    0.9492     12371\n",
      "     Open Door 1     0.6200    0.7381    0.6739        84\n",
      "     Open Door 2     0.8252    0.8252    0.8252       143\n",
      "    Close Door 1     0.7467    0.6292    0.6829        89\n",
      "    Close Door 2     0.8596    0.7903    0.8235       124\n",
      "     Open Fridge     0.6935    0.6588    0.6757       340\n",
      "    Close Fridge     0.7260    0.6824    0.7035       233\n",
      " Open Dishwasher     0.6145    0.7083    0.6581       144\n",
      "Close Dishwasher     0.3841    0.4915    0.4312       118\n",
      "   Open Drawer 1     0.3226    0.5263    0.4000        57\n",
      "  Close Drawer 1     0.4583    0.5000    0.4783        66\n",
      "   Open Drawer 2     0.4286    0.3000    0.3529        60\n",
      "  Close Drawer 2     0.4035    0.5750    0.4742        40\n",
      "   Open Drawer 3     0.5421    0.5918    0.5659        98\n",
      "  Close Drawer 3     0.6250    0.4494    0.5229        89\n",
      "     Clean Table     0.8750    0.3289    0.4780       149\n",
      "  Drink from Cup     0.5814    0.6463    0.6122       475\n",
      "   Toggle Switch     0.7143    0.4430    0.5469       158\n",
      "\n",
      "        accuracy                         0.8947     14838\n",
      "       macro avg     0.6315    0.6020    0.6030     14838\n",
      "    weighted avg     0.8973    0.8947    0.8939     14838\n",
      "\n"
     ]
    },
    {
     "ename": "",
     "evalue": "",
     "output_type": "error",
     "traceback": [
      "\u001b[1;31mThe Kernel crashed while executing code in the the current cell or a previous cell. Please review the code in the cell(s) to identify a possible cause of the failure. Click <a href='https://aka.ms/vscodeJupyterKernelCrash'>here</a> for more info. View Jupyter <a href='command:jupyter.viewOutput'>log</a> for further details."
     ]
    }
   ],
   "source": [
    "for i, path in enumerate(opp_result_list):\n",
    "    result = pd.read_pickle(path)\n",
    "    conf_mat = result['conf_mat']\n",
    "    print(f'{i}th confusion matrix \\n{conf_mat}')"
   ]
  },
  {
   "cell_type": "code",
   "execution_count": null,
   "metadata": {},
   "outputs": [],
   "source": []
  }
 ],
 "metadata": {
  "kernelspec": {
   "display_name": "rl-harnas",
   "language": "python",
   "name": "python3"
  },
  "language_info": {
   "codemirror_mode": {
    "name": "ipython",
    "version": 3
   },
   "file_extension": ".py",
   "mimetype": "text/x-python",
   "name": "python",
   "nbconvert_exporter": "python",
   "pygments_lexer": "ipython3",
   "version": "3.9.16"
  },
  "orig_nbformat": 4
 },
 "nbformat": 4,
 "nbformat_minor": 2
}
