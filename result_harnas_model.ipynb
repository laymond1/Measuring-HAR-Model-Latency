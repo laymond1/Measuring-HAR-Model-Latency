{
 "cells": [
  {
   "cell_type": "code",
   "execution_count": 1,
   "metadata": {},
   "outputs": [],
   "source": [
    "import argparse\n",
    "import os\n",
    "import sys\n",
    "import math\n",
    "import torch\n",
    "import torch.nn as nn\n",
    "import pandas as pd\n",
    "\n",
    "from thop import profile\n",
    "\n",
    "import rl_harnas.genotypes as genotypes\n",
    "from rl_harnas.model_generator import get_spec\n",
    "\n",
    "from rl_harnas.nas_utils import AverageMeter\n",
    "\n",
    "from data_providers import UCIHARDataProvider, OPPDataProvider, KUHARDataProvider, UniMiBDataProvider, WISDMDataProvider"
   ]
  },
  {
   "attachments": {},
   "cell_type": "markdown",
   "metadata": {},
   "source": [
    "# RLNAS"
   ]
  },
  {
   "cell_type": "markdown",
   "metadata": {},
   "source": [
    "* cpu"
   ]
  },
  {
   "cell_type": "code",
   "execution_count": 1,
   "metadata": {},
   "outputs": [
    {
     "name": "stdout",
     "output_type": "stream",
     "text": [
      "RLNAS: 0.001778\n",
      "Experiment results saved to harnas.csv\n",
      "RLNAS: 0.001685\n",
      "Experiment results saved to harnas.csv\n",
      "RLNAS: 0.001830\n",
      "Experiment results saved to harnas.csv\n",
      "RLNAS: 0.001731\n",
      "Experiment results saved to harnas.csv\n",
      "RLNAS: 0.001774\n",
      "Experiment results saved to harnas.csv\n"
     ]
    }
   ],
   "source": [
    "for i in range(5):\n",
    "    ! python rl_harnas/measure_latency.py --hardware pc --device cpu --dataset uci --arch RLNAS --num-runs 100 --data_path ./ --config_file harnas.csv "
   ]
  },
  {
   "cell_type": "markdown",
   "metadata": {},
   "source": [
    "* gpu"
   ]
  },
  {
   "cell_type": "code",
   "execution_count": 2,
   "metadata": {},
   "outputs": [
    {
     "name": "stdout",
     "output_type": "stream",
     "text": [
      "RLNAS: 2.504682\n",
      "Experiment results saved to harnas.csv\n",
      "RLNAS: 2.188951\n",
      "Experiment results saved to harnas.csv\n",
      "RLNAS: 2.153836\n",
      "Experiment results saved to harnas.csv\n",
      "RLNAS: 2.163486\n",
      "Experiment results saved to harnas.csv\n",
      "RLNAS: 2.138327\n",
      "Experiment results saved to harnas.csv\n"
     ]
    }
   ],
   "source": [
    "for i in range(5):\n",
    "    ! python rl_harnas/measure_latency.py --hardware pc --device gpu --dataset uci --arch RLNAS --num-runs 100 --data_path ./ --config_file harnas.csv "
   ]
  },
  {
   "cell_type": "markdown",
   "metadata": {},
   "source": [
    "## Model Spec"
   ]
  },
  {
   "cell_type": "code",
   "execution_count": 4,
   "metadata": {},
   "outputs": [
    {
     "name": "stdout",
     "output_type": "stream",
     "text": [
      "Flops: 249901376.000000, Param size: 2745574.000000MB\n",
      "Flops: 354.363776, Param size: 2.745574MB\n",
      "model size: 10.485MB\n",
      "Experiment results saved to harnas_spec.csv\n"
     ]
    },
    {
     "name": "stderr",
     "output_type": "stream",
     "text": [
      "Unsupported operator aten::pad encountered 2 time(s)\n",
      "Unsupported operator aten::lstm encountered 1 time(s)\n"
     ]
    }
   ],
   "source": [
    "! python rl_harnas/measure_metrics.py --dataset uci --arch RLNAS --config_file harnas_spec.csv"
   ]
  },
  {
   "cell_type": "markdown",
   "metadata": {},
   "source": [
    "# EANAS"
   ]
  },
  {
   "cell_type": "markdown",
   "metadata": {},
   "source": [
    "* cpu"
   ]
  },
  {
   "cell_type": "code",
   "execution_count": 7,
   "metadata": {},
   "outputs": [
    {
     "name": "stdout",
     "output_type": "stream",
     "text": [
      "18 48\n",
      "EANAS: 0.001801\n",
      "Experiment results saved to harnas.csv\n",
      "18 48\n",
      "EANAS: 0.001809\n",
      "Experiment results saved to harnas.csv\n",
      "18 48\n",
      "EANAS: 0.001777\n",
      "Experiment results saved to harnas.csv\n",
      "18 48\n",
      "EANAS: 0.001624\n",
      "Experiment results saved to harnas.csv\n",
      "18 48\n",
      "EANAS: 0.001749\n",
      "Experiment results saved to harnas.csv\n"
     ]
    }
   ],
   "source": [
    "for i in range(5):\n",
    "    ! python ea_harnas/measure_latency.py --hardware pc --device cpu --dataset uci --arch EANAS --num-runs 100 --data_path ./ --config_file harnas.csv "
   ]
  },
  {
   "cell_type": "markdown",
   "metadata": {},
   "source": [
    "* gpu"
   ]
  },
  {
   "cell_type": "code",
   "execution_count": 6,
   "metadata": {},
   "outputs": [
    {
     "name": "stdout",
     "output_type": "stream",
     "text": [
      "18 48\n",
      "EANAS: 2.512614\n",
      "Experiment results saved to harnas.csv\n",
      "18 48\n",
      "EANAS: 2.433598\n",
      "Experiment results saved to harnas.csv\n",
      "18 48\n",
      "EANAS: 2.493131\n",
      "Experiment results saved to harnas.csv\n",
      "18 48\n",
      "EANAS: 2.432619\n",
      "Experiment results saved to harnas.csv\n",
      "18 48\n",
      "EANAS: 2.425080\n",
      "Experiment results saved to harnas.csv\n"
     ]
    }
   ],
   "source": [
    "for i in range(5):\n",
    "    ! python ea_harnas/measure_latency.py --hardware pc --device gpu --dataset uci --arch EANAS --num-runs 100 --data_path ./ --config_file harnas.csv "
   ]
  },
  {
   "cell_type": "markdown",
   "metadata": {},
   "source": [
    "## Model Spec"
   ]
  },
  {
   "cell_type": "code",
   "execution_count": 10,
   "metadata": {},
   "outputs": [
    {
     "name": "stdout",
     "output_type": "stream",
     "text": [
      "18 48\n",
      "Flops: 19250688.000000, Param size: 729462.000000MB\n",
      "Flops: 93.802496, Param size: 0.729462MB\n",
      "model size: 2.786MB\n",
      "Experiment results saved to harnas_spec.csv\n"
     ]
    },
    {
     "name": "stderr",
     "output_type": "stream",
     "text": [
      "Unsupported operator aten::max_pool2d encountered 2 time(s)\n",
      "Unsupported operator aten::add encountered 4 time(s)\n",
      "Unsupported operator aten::lstm encountered 1 time(s)\n"
     ]
    }
   ],
   "source": [
    "! python ea_harnas/measure_metrics.py --dataset uci --arch EANAS --config_file harnas_spec.csv"
   ]
  },
  {
   "cell_type": "markdown",
   "metadata": {},
   "source": [
    "# Mobile-DNAS"
   ]
  },
  {
   "cell_type": "markdown",
   "metadata": {},
   "source": [
    "* cpu"
   ]
  },
  {
   "cell_type": "code",
   "execution_count": 11,
   "metadata": {},
   "outputs": [
    {
     "name": "stdout",
     "output_type": "stream",
     "text": [
      "6 48\n",
      "OPPDNAS: 0.001794\n",
      "Experiment results saved to harnas.csv\n",
      "6 48\n",
      "OPPDNAS: 0.001636\n",
      "Experiment results saved to harnas.csv\n",
      "6 48\n",
      "OPPDNAS: 0.001782\n",
      "Experiment results saved to harnas.csv\n",
      "6 48\n",
      "OPPDNAS: 0.001723\n",
      "Experiment results saved to harnas.csv\n",
      "6 48\n",
      "OPPDNAS: 0.001781\n",
      "Experiment results saved to harnas.csv\n"
     ]
    }
   ],
   "source": [
    "for i in range(5):\n",
    "    ! python proposed_harnas/measure_latency.py --hardware pc --device cpu --dataset uci --arch OPPDNAS --num-runs 100 --data_path ./ --config_file harnas.csv "
   ]
  },
  {
   "cell_type": "markdown",
   "metadata": {},
   "source": [
    "* gpu"
   ]
  },
  {
   "cell_type": "code",
   "execution_count": 12,
   "metadata": {},
   "outputs": [
    {
     "name": "stdout",
     "output_type": "stream",
     "text": [
      "6 48\n",
      "OPPDNAS: 1.831477\n",
      "Experiment results saved to harnas.csv\n",
      "6 48\n",
      "OPPDNAS: 1.790599\n",
      "Experiment results saved to harnas.csv\n",
      "6 48\n",
      "OPPDNAS: 1.850642\n",
      "Experiment results saved to harnas.csv\n",
      "6 48\n",
      "OPPDNAS: 1.820622\n",
      "Experiment results saved to harnas.csv\n",
      "6 48\n",
      "OPPDNAS: 1.788445\n",
      "Experiment results saved to harnas.csv\n"
     ]
    }
   ],
   "source": [
    "for i in range(5):\n",
    "    ! python proposed_harnas/measure_latency.py --hardware pc --device gpu --dataset uci --arch OPPDNAS --num-runs 100 --data_path ./ --config_file harnas.csv "
   ]
  },
  {
   "cell_type": "markdown",
   "metadata": {},
   "source": [
    "## Model Spec"
   ]
  },
  {
   "cell_type": "code",
   "execution_count": 15,
   "metadata": {},
   "outputs": [
    {
     "name": "stdout",
     "output_type": "stream",
     "text": [
      "6 48\n",
      "Flops: 7828224.000000, Param size: 358790.000000MB\n",
      "Flops: 46.199552, Param size: 0.358790MB\n",
      "model size: 1.372MB\n",
      "Experiment results saved to harnas_spec.csv\n"
     ]
    },
    {
     "name": "stderr",
     "output_type": "stream",
     "text": [
      "Unsupported operator aten::avg_pool2d encountered 2 time(s)\n",
      "Unsupported operator aten::add encountered 4 time(s)\n",
      "Unsupported operator aten::lstm encountered 1 time(s)\n"
     ]
    }
   ],
   "source": [
    "! python proposed_harnas/measure_metrics.py --dataset uci --arch OPPDNAS --config_file harnas_spec.csv"
   ]
  },
  {
   "cell_type": "markdown",
   "metadata": {},
   "source": [
    "# 결과 결합"
   ]
  },
  {
   "cell_type": "code",
   "execution_count": 19,
   "metadata": {},
   "outputs": [],
   "source": [
    "import pandas as pd"
   ]
  },
  {
   "cell_type": "code",
   "execution_count": 20,
   "metadata": {},
   "outputs": [],
   "source": [
    "lat_df = pd.read_csv('harnas.csv')\n",
    "spec_df = pd.read_csv('harnas_spec.csv')"
   ]
  },
  {
   "cell_type": "code",
   "execution_count": 21,
   "metadata": {},
   "outputs": [
    {
     "data": {
      "text/html": [
       "<div>\n",
       "<style scoped>\n",
       "    .dataframe tbody tr th:only-of-type {\n",
       "        vertical-align: middle;\n",
       "    }\n",
       "\n",
       "    .dataframe tbody tr th {\n",
       "        vertical-align: top;\n",
       "    }\n",
       "\n",
       "    .dataframe thead th {\n",
       "        text-align: right;\n",
       "    }\n",
       "</style>\n",
       "<table border=\"1\" class=\"dataframe\">\n",
       "  <thead>\n",
       "    <tr style=\"text-align: right;\">\n",
       "      <th></th>\n",
       "      <th>dataset</th>\n",
       "      <th>batch</th>\n",
       "      <th>model</th>\n",
       "      <th>hardware</th>\n",
       "      <th>device</th>\n",
       "      <th>latency</th>\n",
       "    </tr>\n",
       "  </thead>\n",
       "  <tbody>\n",
       "    <tr>\n",
       "      <th>0</th>\n",
       "      <td>uci</td>\n",
       "      <td>1</td>\n",
       "      <td>RLNAS</td>\n",
       "      <td>pc</td>\n",
       "      <td>cpu</td>\n",
       "      <td>0.001778</td>\n",
       "    </tr>\n",
       "    <tr>\n",
       "      <th>1</th>\n",
       "      <td>uci</td>\n",
       "      <td>1</td>\n",
       "      <td>RLNAS</td>\n",
       "      <td>pc</td>\n",
       "      <td>cpu</td>\n",
       "      <td>0.001685</td>\n",
       "    </tr>\n",
       "    <tr>\n",
       "      <th>2</th>\n",
       "      <td>uci</td>\n",
       "      <td>1</td>\n",
       "      <td>RLNAS</td>\n",
       "      <td>pc</td>\n",
       "      <td>cpu</td>\n",
       "      <td>0.001830</td>\n",
       "    </tr>\n",
       "    <tr>\n",
       "      <th>3</th>\n",
       "      <td>uci</td>\n",
       "      <td>1</td>\n",
       "      <td>RLNAS</td>\n",
       "      <td>pc</td>\n",
       "      <td>cpu</td>\n",
       "      <td>0.001731</td>\n",
       "    </tr>\n",
       "    <tr>\n",
       "      <th>4</th>\n",
       "      <td>uci</td>\n",
       "      <td>1</td>\n",
       "      <td>RLNAS</td>\n",
       "      <td>pc</td>\n",
       "      <td>cpu</td>\n",
       "      <td>0.001774</td>\n",
       "    </tr>\n",
       "  </tbody>\n",
       "</table>\n",
       "</div>"
      ],
      "text/plain": [
       "  dataset  batch  model hardware device   latency\n",
       "0     uci      1  RLNAS       pc    cpu  0.001778\n",
       "1     uci      1  RLNAS       pc    cpu  0.001685\n",
       "2     uci      1  RLNAS       pc    cpu  0.001830\n",
       "3     uci      1  RLNAS       pc    cpu  0.001731\n",
       "4     uci      1  RLNAS       pc    cpu  0.001774"
      ]
     },
     "execution_count": 21,
     "metadata": {},
     "output_type": "execute_result"
    }
   ],
   "source": [
    "lat_df.head()"
   ]
  },
  {
   "cell_type": "code",
   "execution_count": 22,
   "metadata": {},
   "outputs": [
    {
     "data": {
      "text/html": [
       "<div>\n",
       "<style scoped>\n",
       "    .dataframe tbody tr th:only-of-type {\n",
       "        vertical-align: middle;\n",
       "    }\n",
       "\n",
       "    .dataframe tbody tr th {\n",
       "        vertical-align: top;\n",
       "    }\n",
       "\n",
       "    .dataframe thead th {\n",
       "        text-align: right;\n",
       "    }\n",
       "</style>\n",
       "<table border=\"1\" class=\"dataframe\">\n",
       "  <thead>\n",
       "    <tr style=\"text-align: right;\">\n",
       "      <th></th>\n",
       "      <th>dataset</th>\n",
       "      <th>Model</th>\n",
       "      <th>Params(M)</th>\n",
       "      <th>FLOPs(M)</th>\n",
       "      <th>ModelSize(MB)</th>\n",
       "    </tr>\n",
       "  </thead>\n",
       "  <tbody>\n",
       "    <tr>\n",
       "      <th>0</th>\n",
       "      <td>uci</td>\n",
       "      <td>RLNAS</td>\n",
       "      <td>2.745574</td>\n",
       "      <td>354.363776</td>\n",
       "      <td>10.484741</td>\n",
       "    </tr>\n",
       "    <tr>\n",
       "      <th>1</th>\n",
       "      <td>uci</td>\n",
       "      <td>EANAS</td>\n",
       "      <td>0.729462</td>\n",
       "      <td>93.802496</td>\n",
       "      <td>2.785980</td>\n",
       "    </tr>\n",
       "    <tr>\n",
       "      <th>2</th>\n",
       "      <td>uci</td>\n",
       "      <td>OPPDNAS</td>\n",
       "      <td>0.358790</td>\n",
       "      <td>46.199552</td>\n",
       "      <td>1.371834</td>\n",
       "    </tr>\n",
       "  </tbody>\n",
       "</table>\n",
       "</div>"
      ],
      "text/plain": [
       "  dataset    Model  Params(M)    FLOPs(M)  ModelSize(MB)\n",
       "0     uci    RLNAS   2.745574  354.363776      10.484741\n",
       "1     uci    EANAS   0.729462   93.802496       2.785980\n",
       "2     uci  OPPDNAS   0.358790   46.199552       1.371834"
      ]
     },
     "execution_count": 22,
     "metadata": {},
     "output_type": "execute_result"
    }
   ],
   "source": [
    "spec_df.head()"
   ]
  },
  {
   "cell_type": "markdown",
   "metadata": {},
   "source": [
    "# calculate latency mean & std"
   ]
  },
  {
   "cell_type": "markdown",
   "metadata": {},
   "source": [
    "mean"
   ]
  },
  {
   "cell_type": "code",
   "execution_count": 23,
   "metadata": {},
   "outputs": [
    {
     "name": "stderr",
     "output_type": "stream",
     "text": [
      "C:\\Users\\ai-ws\\AppData\\Local\\Temp\\ipykernel_37972\\3156294001.py:1: FutureWarning: The default value of numeric_only in DataFrameGroupBy.mean is deprecated. In a future version, numeric_only will default to False. Either specify numeric_only or select only columns which should be valid for the function.\n",
      "  test = lat_df.groupby(['model', 'device', 'batch']).mean()\n"
     ]
    },
    {
     "data": {
      "text/html": [
       "<div>\n",
       "<style scoped>\n",
       "    .dataframe tbody tr th:only-of-type {\n",
       "        vertical-align: middle;\n",
       "    }\n",
       "\n",
       "    .dataframe tbody tr th {\n",
       "        vertical-align: top;\n",
       "    }\n",
       "\n",
       "    .dataframe thead th {\n",
       "        text-align: right;\n",
       "    }\n",
       "</style>\n",
       "<table border=\"1\" class=\"dataframe\">\n",
       "  <thead>\n",
       "    <tr style=\"text-align: right;\">\n",
       "      <th></th>\n",
       "      <th></th>\n",
       "      <th></th>\n",
       "      <th>latency</th>\n",
       "    </tr>\n",
       "    <tr>\n",
       "      <th>model</th>\n",
       "      <th>device</th>\n",
       "      <th>batch</th>\n",
       "      <th></th>\n",
       "    </tr>\n",
       "  </thead>\n",
       "  <tbody>\n",
       "    <tr>\n",
       "      <th rowspan=\"2\" valign=\"top\">EANAS</th>\n",
       "      <th>cpu</th>\n",
       "      <th>1</th>\n",
       "      <td>0.001739</td>\n",
       "    </tr>\n",
       "    <tr>\n",
       "      <th>gpu</th>\n",
       "      <th>1</th>\n",
       "      <td>2.459408</td>\n",
       "    </tr>\n",
       "    <tr>\n",
       "      <th rowspan=\"2\" valign=\"top\">OPPDNAS</th>\n",
       "      <th>cpu</th>\n",
       "      <th>1</th>\n",
       "      <td>0.001724</td>\n",
       "    </tr>\n",
       "    <tr>\n",
       "      <th>gpu</th>\n",
       "      <th>1</th>\n",
       "      <td>1.816357</td>\n",
       "    </tr>\n",
       "    <tr>\n",
       "      <th rowspan=\"2\" valign=\"top\">RLNAS</th>\n",
       "      <th>cpu</th>\n",
       "      <th>1</th>\n",
       "      <td>0.001760</td>\n",
       "    </tr>\n",
       "    <tr>\n",
       "      <th>gpu</th>\n",
       "      <th>1</th>\n",
       "      <td>2.229857</td>\n",
       "    </tr>\n",
       "  </tbody>\n",
       "</table>\n",
       "</div>"
      ],
      "text/plain": [
       "                       latency\n",
       "model   device batch          \n",
       "EANAS   cpu    1      0.001739\n",
       "        gpu    1      2.459408\n",
       "OPPDNAS cpu    1      0.001724\n",
       "        gpu    1      1.816357\n",
       "RLNAS   cpu    1      0.001760\n",
       "        gpu    1      2.229857"
      ]
     },
     "execution_count": 23,
     "metadata": {},
     "output_type": "execute_result"
    }
   ],
   "source": [
    "test = lat_df.groupby(['model', 'device', 'batch']).mean()\n",
    "test"
   ]
  },
  {
   "cell_type": "code",
   "execution_count": 24,
   "metadata": {},
   "outputs": [
    {
     "data": {
      "text/html": [
       "<div>\n",
       "<style scoped>\n",
       "    .dataframe tbody tr th:only-of-type {\n",
       "        vertical-align: middle;\n",
       "    }\n",
       "\n",
       "    .dataframe tbody tr th {\n",
       "        vertical-align: top;\n",
       "    }\n",
       "\n",
       "    .dataframe thead th {\n",
       "        text-align: right;\n",
       "    }\n",
       "</style>\n",
       "<table border=\"1\" class=\"dataframe\">\n",
       "  <thead>\n",
       "    <tr style=\"text-align: right;\">\n",
       "      <th></th>\n",
       "      <th>model</th>\n",
       "      <th>device</th>\n",
       "      <th>batch</th>\n",
       "      <th>latency</th>\n",
       "    </tr>\n",
       "  </thead>\n",
       "  <tbody>\n",
       "    <tr>\n",
       "      <th>0</th>\n",
       "      <td>EANAS</td>\n",
       "      <td>cpu</td>\n",
       "      <td>1</td>\n",
       "      <td>0.001739</td>\n",
       "    </tr>\n",
       "    <tr>\n",
       "      <th>1</th>\n",
       "      <td>EANAS</td>\n",
       "      <td>gpu</td>\n",
       "      <td>1</td>\n",
       "      <td>2.459408</td>\n",
       "    </tr>\n",
       "    <tr>\n",
       "      <th>2</th>\n",
       "      <td>OPPDNAS</td>\n",
       "      <td>cpu</td>\n",
       "      <td>1</td>\n",
       "      <td>0.001724</td>\n",
       "    </tr>\n",
       "    <tr>\n",
       "      <th>3</th>\n",
       "      <td>OPPDNAS</td>\n",
       "      <td>gpu</td>\n",
       "      <td>1</td>\n",
       "      <td>1.816357</td>\n",
       "    </tr>\n",
       "    <tr>\n",
       "      <th>4</th>\n",
       "      <td>RLNAS</td>\n",
       "      <td>cpu</td>\n",
       "      <td>1</td>\n",
       "      <td>0.001760</td>\n",
       "    </tr>\n",
       "    <tr>\n",
       "      <th>5</th>\n",
       "      <td>RLNAS</td>\n",
       "      <td>gpu</td>\n",
       "      <td>1</td>\n",
       "      <td>2.229857</td>\n",
       "    </tr>\n",
       "  </tbody>\n",
       "</table>\n",
       "</div>"
      ],
      "text/plain": [
       "     model device  batch   latency\n",
       "0    EANAS    cpu      1  0.001739\n",
       "1    EANAS    gpu      1  2.459408\n",
       "2  OPPDNAS    cpu      1  0.001724\n",
       "3  OPPDNAS    gpu      1  1.816357\n",
       "4    RLNAS    cpu      1  0.001760\n",
       "5    RLNAS    gpu      1  2.229857"
      ]
     },
     "execution_count": 24,
     "metadata": {},
     "output_type": "execute_result"
    }
   ],
   "source": [
    "test = test.reset_index()\n",
    "test"
   ]
  },
  {
   "cell_type": "code",
   "execution_count": 25,
   "metadata": {},
   "outputs": [],
   "source": [
    "temp = test[test['device'] == 'cpu'].iloc[:, [0,2]].copy()\n",
    "temp.reset_index(drop=True, inplace=True)"
   ]
  },
  {
   "cell_type": "code",
   "execution_count": 26,
   "metadata": {},
   "outputs": [
    {
     "data": {
      "text/html": [
       "<div>\n",
       "<style scoped>\n",
       "    .dataframe tbody tr th:only-of-type {\n",
       "        vertical-align: middle;\n",
       "    }\n",
       "\n",
       "    .dataframe tbody tr th {\n",
       "        vertical-align: top;\n",
       "    }\n",
       "\n",
       "    .dataframe thead th {\n",
       "        text-align: right;\n",
       "    }\n",
       "</style>\n",
       "<table border=\"1\" class=\"dataframe\">\n",
       "  <thead>\n",
       "    <tr style=\"text-align: right;\">\n",
       "      <th></th>\n",
       "      <th>model</th>\n",
       "      <th>batch</th>\n",
       "      <th>PC:CPU(ms)</th>\n",
       "      <th>PC:GPU(ms)</th>\n",
       "    </tr>\n",
       "  </thead>\n",
       "  <tbody>\n",
       "    <tr>\n",
       "      <th>0</th>\n",
       "      <td>EANAS</td>\n",
       "      <td>1</td>\n",
       "      <td>0.001739</td>\n",
       "      <td>2.459408</td>\n",
       "    </tr>\n",
       "    <tr>\n",
       "      <th>1</th>\n",
       "      <td>OPPDNAS</td>\n",
       "      <td>1</td>\n",
       "      <td>0.001724</td>\n",
       "      <td>1.816357</td>\n",
       "    </tr>\n",
       "    <tr>\n",
       "      <th>2</th>\n",
       "      <td>RLNAS</td>\n",
       "      <td>1</td>\n",
       "      <td>0.001760</td>\n",
       "      <td>2.229857</td>\n",
       "    </tr>\n",
       "  </tbody>\n",
       "</table>\n",
       "</div>"
      ],
      "text/plain": [
       "     model  batch  PC:CPU(ms)  PC:GPU(ms)\n",
       "0    EANAS      1    0.001739    2.459408\n",
       "1  OPPDNAS      1    0.001724    1.816357\n",
       "2    RLNAS      1    0.001760    2.229857"
      ]
     },
     "execution_count": 26,
     "metadata": {},
     "output_type": "execute_result"
    }
   ],
   "source": [
    "temp['PC:CPU(ms)'] = test[test['device'] == 'cpu']['latency'].reset_index(drop=True)\n",
    "temp['PC:GPU(ms)'] = test[test['device'] == 'gpu']['latency'].reset_index(drop=True)\n",
    "temp"
   ]
  },
  {
   "cell_type": "code",
   "execution_count": 27,
   "metadata": {},
   "outputs": [
    {
     "data": {
      "text/html": [
       "<div>\n",
       "<style scoped>\n",
       "    .dataframe tbody tr th:only-of-type {\n",
       "        vertical-align: middle;\n",
       "    }\n",
       "\n",
       "    .dataframe tbody tr th {\n",
       "        vertical-align: top;\n",
       "    }\n",
       "\n",
       "    .dataframe thead th {\n",
       "        text-align: right;\n",
       "    }\n",
       "</style>\n",
       "<table border=\"1\" class=\"dataframe\">\n",
       "  <thead>\n",
       "    <tr style=\"text-align: right;\">\n",
       "      <th></th>\n",
       "      <th>Model</th>\n",
       "      <th>Batch</th>\n",
       "      <th>PC:CPU(ms)</th>\n",
       "      <th>PC:GPU(ms)</th>\n",
       "    </tr>\n",
       "  </thead>\n",
       "  <tbody>\n",
       "    <tr>\n",
       "      <th>0</th>\n",
       "      <td>EANAS</td>\n",
       "      <td>1</td>\n",
       "      <td>0.001739</td>\n",
       "      <td>2.459408</td>\n",
       "    </tr>\n",
       "    <tr>\n",
       "      <th>1</th>\n",
       "      <td>OPPDNAS</td>\n",
       "      <td>1</td>\n",
       "      <td>0.001724</td>\n",
       "      <td>1.816357</td>\n",
       "    </tr>\n",
       "    <tr>\n",
       "      <th>2</th>\n",
       "      <td>RLNAS</td>\n",
       "      <td>1</td>\n",
       "      <td>0.001760</td>\n",
       "      <td>2.229857</td>\n",
       "    </tr>\n",
       "  </tbody>\n",
       "</table>\n",
       "</div>"
      ],
      "text/plain": [
       "     Model  Batch  PC:CPU(ms)  PC:GPU(ms)\n",
       "0    EANAS      1    0.001739    2.459408\n",
       "1  OPPDNAS      1    0.001724    1.816357\n",
       "2    RLNAS      1    0.001760    2.229857"
      ]
     },
     "execution_count": 27,
     "metadata": {},
     "output_type": "execute_result"
    }
   ],
   "source": [
    "temp.columns = ['Model', 'Batch', 'PC:CPU(ms)', 'PC:GPU(ms)']\n",
    "temp"
   ]
  },
  {
   "cell_type": "code",
   "execution_count": 28,
   "metadata": {},
   "outputs": [
    {
     "data": {
      "text/html": [
       "<div>\n",
       "<style scoped>\n",
       "    .dataframe tbody tr th:only-of-type {\n",
       "        vertical-align: middle;\n",
       "    }\n",
       "\n",
       "    .dataframe tbody tr th {\n",
       "        vertical-align: top;\n",
       "    }\n",
       "\n",
       "    .dataframe thead th {\n",
       "        text-align: right;\n",
       "    }\n",
       "</style>\n",
       "<table border=\"1\" class=\"dataframe\">\n",
       "  <thead>\n",
       "    <tr style=\"text-align: right;\">\n",
       "      <th></th>\n",
       "      <th>dataset</th>\n",
       "      <th>Model</th>\n",
       "      <th>Params(M)</th>\n",
       "      <th>FLOPs(M)</th>\n",
       "      <th>ModelSize(MB)</th>\n",
       "      <th>Batch</th>\n",
       "      <th>PC:CPU(ms)</th>\n",
       "      <th>PC:GPU(ms)</th>\n",
       "    </tr>\n",
       "  </thead>\n",
       "  <tbody>\n",
       "    <tr>\n",
       "      <th>0</th>\n",
       "      <td>uci</td>\n",
       "      <td>RLNAS</td>\n",
       "      <td>2.745574</td>\n",
       "      <td>354.363776</td>\n",
       "      <td>10.484741</td>\n",
       "      <td>1</td>\n",
       "      <td>0.001760</td>\n",
       "      <td>2.229857</td>\n",
       "    </tr>\n",
       "    <tr>\n",
       "      <th>1</th>\n",
       "      <td>uci</td>\n",
       "      <td>EANAS</td>\n",
       "      <td>0.729462</td>\n",
       "      <td>93.802496</td>\n",
       "      <td>2.785980</td>\n",
       "      <td>1</td>\n",
       "      <td>0.001739</td>\n",
       "      <td>2.459408</td>\n",
       "    </tr>\n",
       "    <tr>\n",
       "      <th>2</th>\n",
       "      <td>uci</td>\n",
       "      <td>OPPDNAS</td>\n",
       "      <td>0.358790</td>\n",
       "      <td>46.199552</td>\n",
       "      <td>1.371834</td>\n",
       "      <td>1</td>\n",
       "      <td>0.001724</td>\n",
       "      <td>1.816357</td>\n",
       "    </tr>\n",
       "  </tbody>\n",
       "</table>\n",
       "</div>"
      ],
      "text/plain": [
       "  dataset    Model  Params(M)    FLOPs(M)  ModelSize(MB)  Batch  PC:CPU(ms)  \\\n",
       "0     uci    RLNAS   2.745574  354.363776      10.484741      1    0.001760   \n",
       "1     uci    EANAS   0.729462   93.802496       2.785980      1    0.001739   \n",
       "2     uci  OPPDNAS   0.358790   46.199552       1.371834      1    0.001724   \n",
       "\n",
       "   PC:GPU(ms)  \n",
       "0    2.229857  \n",
       "1    2.459408  \n",
       "2    1.816357  "
      ]
     },
     "execution_count": 28,
     "metadata": {},
     "output_type": "execute_result"
    }
   ],
   "source": [
    "result_df = pd.merge(spec_df, temp, on='Model', how='left')\n",
    "result_df"
   ]
  },
  {
   "cell_type": "markdown",
   "metadata": {},
   "source": [
    "* save result of vision model"
   ]
  },
  {
   "cell_type": "code",
   "execution_count": 29,
   "metadata": {},
   "outputs": [],
   "source": [
    "result_df.to_csv('result_harnas.csv', index=False)"
   ]
  },
  {
   "cell_type": "code",
   "execution_count": null,
   "metadata": {},
   "outputs": [],
   "source": []
  },
  {
   "cell_type": "code",
   "execution_count": null,
   "metadata": {},
   "outputs": [],
   "source": []
  }
 ],
 "metadata": {
  "kernelspec": {
   "display_name": "rl-harnas",
   "language": "python",
   "name": "python3"
  },
  "language_info": {
   "codemirror_mode": {
    "name": "ipython",
    "version": 3
   },
   "file_extension": ".py",
   "mimetype": "text/x-python",
   "name": "python",
   "nbconvert_exporter": "python",
   "pygments_lexer": "ipython3",
   "version": "3.9.15"
  },
  "orig_nbformat": 4
 },
 "nbformat": 4,
 "nbformat_minor": 2
}
