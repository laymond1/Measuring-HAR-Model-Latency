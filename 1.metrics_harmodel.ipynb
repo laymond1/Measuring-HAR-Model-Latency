{
 "cells": [
  {
   "cell_type": "markdown",
   "metadata": {},
   "source": [
    "# All Models"
   ]
  },
  {
   "cell_type": "code",
   "execution_count": 1,
   "metadata": {},
   "outputs": [],
   "source": [
    "model_list = ['RTWCNN', 'HARLSTM', 'HARBiLSTM', 'HARConvLSTM', 'ResNetTSC', 'FCNTSC', 'GTSNet']"
   ]
  },
  {
   "cell_type": "markdown",
   "metadata": {},
   "source": [
    "* cpu"
   ]
  },
  {
   "cell_type": "code",
   "execution_count": null,
   "metadata": {},
   "outputs": [],
   "source": [
    "for model in model_list:\n",
    "    ! python measure_models/measure_harmodel_metrics.py --dataset uci --arch $model --config_file model_spec.csv"
   ]
  },
  {
   "cell_type": "code",
   "execution_count": 5,
   "metadata": {},
   "outputs": [
    {
     "data": {
      "text/html": [
       "<div>\n",
       "<style scoped>\n",
       "    .dataframe tbody tr th:only-of-type {\n",
       "        vertical-align: middle;\n",
       "    }\n",
       "\n",
       "    .dataframe tbody tr th {\n",
       "        vertical-align: top;\n",
       "    }\n",
       "\n",
       "    .dataframe thead th {\n",
       "        text-align: right;\n",
       "    }\n",
       "</style>\n",
       "<table border=\"1\" class=\"dataframe\">\n",
       "  <thead>\n",
       "    <tr style=\"text-align: right;\">\n",
       "      <th></th>\n",
       "      <th>dataset</th>\n",
       "      <th>Model</th>\n",
       "      <th>Params(M)</th>\n",
       "      <th>FLOPs(M)</th>\n",
       "      <th>ModelSize(MB)</th>\n",
       "    </tr>\n",
       "  </thead>\n",
       "  <tbody>\n",
       "    <tr>\n",
       "      <th>0</th>\n",
       "      <td>uci</td>\n",
       "      <td>RTWCNN</td>\n",
       "      <td>0.101286</td>\n",
       "      <td>0.672768</td>\n",
       "      <td>0.386436</td>\n",
       "    </tr>\n",
       "    <tr>\n",
       "      <th>1</th>\n",
       "      <td>uci</td>\n",
       "      <td>HARLSTM</td>\n",
       "      <td>0.202502</td>\n",
       "      <td>26.084096</td>\n",
       "      <td>0.772499</td>\n",
       "    </tr>\n",
       "    <tr>\n",
       "      <th>2</th>\n",
       "      <td>uci</td>\n",
       "      <td>HARBiLSTM</td>\n",
       "      <td>0.536070</td>\n",
       "      <td>68.945408</td>\n",
       "      <td>2.044960</td>\n",
       "    </tr>\n",
       "    <tr>\n",
       "      <th>3</th>\n",
       "      <td>uci</td>\n",
       "      <td>HARConvLSTM</td>\n",
       "      <td>0.295814</td>\n",
       "      <td>37.995264</td>\n",
       "      <td>1.128456</td>\n",
       "    </tr>\n",
       "    <tr>\n",
       "      <th>4</th>\n",
       "      <td>uci</td>\n",
       "      <td>ResNetTSC</td>\n",
       "      <td>0.481542</td>\n",
       "      <td>61.866752</td>\n",
       "      <td>1.846855</td>\n",
       "    </tr>\n",
       "  </tbody>\n",
       "</table>\n",
       "</div>"
      ],
      "text/plain": [
       "  dataset        Model  Params(M)   FLOPs(M)  ModelSize(MB)\n",
       "0     uci       RTWCNN   0.101286   0.672768       0.386436\n",
       "1     uci      HARLSTM   0.202502  26.084096       0.772499\n",
       "2     uci    HARBiLSTM   0.536070  68.945408       2.044960\n",
       "3     uci  HARConvLSTM   0.295814  37.995264       1.128456\n",
       "4     uci    ResNetTSC   0.481542  61.866752       1.846855"
      ]
     },
     "execution_count": 5,
     "metadata": {},
     "output_type": "execute_result"
    }
   ],
   "source": [
    "import pandas as pd\n",
    "columns = ['dataset', 'Model', 'Params(M)',\t'FLOPs(M)',\t'ModelSize(MB)']\n",
    "df = pd.read_csv('model_spec.csv', header=None, names=columns)\n",
    "df.columns = columns\n",
    "df.head()"
   ]
  },
  {
   "cell_type": "code",
   "execution_count": 6,
   "metadata": {},
   "outputs": [],
   "source": [
    "df.to_csv('model_spec.csv', index=False)"
   ]
  },
  {
   "cell_type": "code",
   "execution_count": 7,
   "metadata": {},
   "outputs": [
    {
     "data": {
      "text/html": [
       "<div>\n",
       "<style scoped>\n",
       "    .dataframe tbody tr th:only-of-type {\n",
       "        vertical-align: middle;\n",
       "    }\n",
       "\n",
       "    .dataframe tbody tr th {\n",
       "        vertical-align: top;\n",
       "    }\n",
       "\n",
       "    .dataframe thead th {\n",
       "        text-align: right;\n",
       "    }\n",
       "</style>\n",
       "<table border=\"1\" class=\"dataframe\">\n",
       "  <thead>\n",
       "    <tr style=\"text-align: right;\">\n",
       "      <th></th>\n",
       "      <th>dataset</th>\n",
       "      <th>Model</th>\n",
       "      <th>Params(M)</th>\n",
       "      <th>FLOPs(M)</th>\n",
       "      <th>ModelSize(MB)</th>\n",
       "    </tr>\n",
       "  </thead>\n",
       "  <tbody>\n",
       "    <tr>\n",
       "      <th>0</th>\n",
       "      <td>uci</td>\n",
       "      <td>RTWCNN</td>\n",
       "      <td>0.101286</td>\n",
       "      <td>0.672768</td>\n",
       "      <td>0.386436</td>\n",
       "    </tr>\n",
       "    <tr>\n",
       "      <th>1</th>\n",
       "      <td>uci</td>\n",
       "      <td>HARLSTM</td>\n",
       "      <td>0.202502</td>\n",
       "      <td>26.084096</td>\n",
       "      <td>0.772499</td>\n",
       "    </tr>\n",
       "    <tr>\n",
       "      <th>2</th>\n",
       "      <td>uci</td>\n",
       "      <td>HARBiLSTM</td>\n",
       "      <td>0.536070</td>\n",
       "      <td>68.945408</td>\n",
       "      <td>2.044960</td>\n",
       "    </tr>\n",
       "    <tr>\n",
       "      <th>3</th>\n",
       "      <td>uci</td>\n",
       "      <td>HARConvLSTM</td>\n",
       "      <td>0.295814</td>\n",
       "      <td>37.995264</td>\n",
       "      <td>1.128456</td>\n",
       "    </tr>\n",
       "    <tr>\n",
       "      <th>4</th>\n",
       "      <td>uci</td>\n",
       "      <td>ResNetTSC</td>\n",
       "      <td>0.481542</td>\n",
       "      <td>61.866752</td>\n",
       "      <td>1.846855</td>\n",
       "    </tr>\n",
       "    <tr>\n",
       "      <th>5</th>\n",
       "      <td>uci</td>\n",
       "      <td>FCNTSC</td>\n",
       "      <td>0.269318</td>\n",
       "      <td>34.505472</td>\n",
       "      <td>1.031311</td>\n",
       "    </tr>\n",
       "  </tbody>\n",
       "</table>\n",
       "</div>"
      ],
      "text/plain": [
       "  dataset        Model  Params(M)   FLOPs(M)  ModelSize(MB)\n",
       "0     uci       RTWCNN   0.101286   0.672768       0.386436\n",
       "1     uci      HARLSTM   0.202502  26.084096       0.772499\n",
       "2     uci    HARBiLSTM   0.536070  68.945408       2.044960\n",
       "3     uci  HARConvLSTM   0.295814  37.995264       1.128456\n",
       "4     uci    ResNetTSC   0.481542  61.866752       1.846855\n",
       "5     uci       FCNTSC   0.269318  34.505472       1.031311"
      ]
     },
     "execution_count": 7,
     "metadata": {},
     "output_type": "execute_result"
    }
   ],
   "source": [
    "pd.read_csv('model_spec.csv')"
   ]
  }
 ],
 "metadata": {
  "kernelspec": {
   "display_name": "torch-1.8",
   "language": "python",
   "name": "python3"
  },
  "language_info": {
   "codemirror_mode": {
    "name": "ipython",
    "version": 3
   },
   "file_extension": ".py",
   "mimetype": "text/x-python",
   "name": "python",
   "nbconvert_exporter": "python",
   "pygments_lexer": "ipython3",
   "version": "3.8.17"
  },
  "orig_nbformat": 4
 },
 "nbformat": 4,
 "nbformat_minor": 2
}
